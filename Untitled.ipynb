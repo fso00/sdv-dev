{
 "cells": [
  {
   "cell_type": "code",
   "execution_count": 5,
   "id": "198c3f7d",
   "metadata": {},
   "outputs": [
    {
     "name": "stdout",
     "output_type": "stream",
     "text": [
      "The autoreload extension is already loaded. To reload it, use:\n",
      "  %reload_ext autoreload\n"
     ]
    },
    {
     "ename": "MultipleConstraintsErrors",
     "evalue": "[ConstraintsNotMetError([\"Data is not valid for the 'Positive' constraint:\\n\", '   a  b\\n0  3 -1\\n'])]",
     "output_type": "error",
     "traceback": [
      "\u001b[0;31m---------------------------------------------------------------------------\u001b[0m",
      "\u001b[0;31mMultipleConstraintsErrors\u001b[0m                 Traceback (most recent call last)",
      "Input \u001b[0;32mIn [5]\u001b[0m, in \u001b[0;36m<cell line: 19>\u001b[0;34m()\u001b[0m\n\u001b[1;32m     17\u001b[0m cnt4 \u001b[38;5;241m=\u001b[39m Unique(\u001b[38;5;124m'\u001b[39m\u001b[38;5;124ma\u001b[39m\u001b[38;5;124m'\u001b[39m)\n\u001b[1;32m     18\u001b[0m model \u001b[38;5;241m=\u001b[39m GaussianCopula(constraints\u001b[38;5;241m=\u001b[39m[cnt3])\n\u001b[0;32m---> 19\u001b[0m \u001b[43mmodel\u001b[49m\u001b[38;5;241;43m.\u001b[39;49m\u001b[43mfit\u001b[49m\u001b[43m(\u001b[49m\u001b[43mdata\u001b[49m\u001b[43m)\u001b[49m\n\u001b[1;32m     20\u001b[0m model\u001b[38;5;241m.\u001b[39msample(\u001b[38;5;241m5\u001b[39m)\n",
      "File \u001b[0;32m~/Desktop/SDV/sdv/tabular/base.py:147\u001b[0m, in \u001b[0;36mBaseTabularModel.fit\u001b[0;34m(self, data)\u001b[0m\n\u001b[1;32m    144\u001b[0m LOGGER\u001b[38;5;241m.\u001b[39mdebug(\u001b[38;5;124m'\u001b[39m\u001b[38;5;124mFitting \u001b[39m\u001b[38;5;132;01m%s\u001b[39;00m\u001b[38;5;124m to table \u001b[39m\u001b[38;5;132;01m%s\u001b[39;00m\u001b[38;5;124m; shape: \u001b[39m\u001b[38;5;132;01m%s\u001b[39;00m\u001b[38;5;124m'\u001b[39m, \u001b[38;5;28mself\u001b[39m\u001b[38;5;241m.\u001b[39m\u001b[38;5;18m__class__\u001b[39m\u001b[38;5;241m.\u001b[39m\u001b[38;5;18m__name__\u001b[39m,\n\u001b[1;32m    145\u001b[0m              \u001b[38;5;28mself\u001b[39m\u001b[38;5;241m.\u001b[39m_metadata\u001b[38;5;241m.\u001b[39mname, data\u001b[38;5;241m.\u001b[39mshape)\n\u001b[1;32m    146\u001b[0m \u001b[38;5;28;01mif\u001b[39;00m \u001b[38;5;129;01mnot\u001b[39;00m \u001b[38;5;28mself\u001b[39m\u001b[38;5;241m.\u001b[39m_metadata_fitted:\n\u001b[0;32m--> 147\u001b[0m     \u001b[38;5;28;43mself\u001b[39;49m\u001b[38;5;241;43m.\u001b[39;49m\u001b[43m_metadata\u001b[49m\u001b[38;5;241;43m.\u001b[39;49m\u001b[43mfit\u001b[49m\u001b[43m(\u001b[49m\u001b[43mdata\u001b[49m\u001b[43m)\u001b[49m\n\u001b[1;32m    149\u001b[0m \u001b[38;5;28mself\u001b[39m\u001b[38;5;241m.\u001b[39m_num_rows \u001b[38;5;241m=\u001b[39m \u001b[38;5;28mlen\u001b[39m(data)\n\u001b[1;32m    151\u001b[0m LOGGER\u001b[38;5;241m.\u001b[39mdebug(\u001b[38;5;124m'\u001b[39m\u001b[38;5;124mTransforming table \u001b[39m\u001b[38;5;132;01m%s\u001b[39;00m\u001b[38;5;124m; shape: \u001b[39m\u001b[38;5;132;01m%s\u001b[39;00m\u001b[38;5;124m'\u001b[39m, \u001b[38;5;28mself\u001b[39m\u001b[38;5;241m.\u001b[39m_metadata\u001b[38;5;241m.\u001b[39mname, data\u001b[38;5;241m.\u001b[39mshape)\n",
      "File \u001b[0;32m~/Desktop/SDV/sdv/metadata/table.py:593\u001b[0m, in \u001b[0;36mTable.fit\u001b[0;34m(self, data)\u001b[0m\n\u001b[1;32m    590\u001b[0m data \u001b[38;5;241m=\u001b[39m \u001b[38;5;28mself\u001b[39m\u001b[38;5;241m.\u001b[39m_anonymize(data)\n\u001b[1;32m    592\u001b[0m LOGGER\u001b[38;5;241m.\u001b[39minfo(\u001b[38;5;124m'\u001b[39m\u001b[38;5;124mFitting constraints for table \u001b[39m\u001b[38;5;132;01m%s\u001b[39;00m\u001b[38;5;124m'\u001b[39m, \u001b[38;5;28mself\u001b[39m\u001b[38;5;241m.\u001b[39mname)\n\u001b[0;32m--> 593\u001b[0m constrained \u001b[38;5;241m=\u001b[39m \u001b[38;5;28;43mself\u001b[39;49m\u001b[38;5;241;43m.\u001b[39;49m\u001b[43m_fit_transform_constraints\u001b[49m\u001b[43m(\u001b[49m\u001b[43mdata\u001b[49m\u001b[43m)\u001b[49m\n\u001b[1;32m    594\u001b[0m extra_columns \u001b[38;5;241m=\u001b[39m \u001b[38;5;28mset\u001b[39m(constrained\u001b[38;5;241m.\u001b[39mcolumns) \u001b[38;5;241m-\u001b[39m \u001b[38;5;28mset\u001b[39m(data\u001b[38;5;241m.\u001b[39mcolumns)\n\u001b[1;32m    596\u001b[0m LOGGER\u001b[38;5;241m.\u001b[39minfo(\u001b[38;5;124m'\u001b[39m\u001b[38;5;124mFitting HyperTransformer for table \u001b[39m\u001b[38;5;132;01m%s\u001b[39;00m\u001b[38;5;124m'\u001b[39m, \u001b[38;5;28mself\u001b[39m\u001b[38;5;241m.\u001b[39mname)\n",
      "File \u001b[0;32m~/Desktop/SDV/sdv/metadata/table.py:453\u001b[0m, in \u001b[0;36mTable._fit_transform_constraints\u001b[0;34m(self, data)\u001b[0m\n\u001b[1;32m    450\u001b[0m         errors\u001b[38;5;241m.\u001b[39mappend(e)\n\u001b[1;32m    452\u001b[0m \u001b[38;5;28;01mif\u001b[39;00m errors:\n\u001b[0;32m--> 453\u001b[0m     \u001b[38;5;28;01mraise\u001b[39;00m MultipleConstraintsErrors(errors)\n\u001b[1;32m    454\u001b[0m \u001b[38;5;28;01mreturn\u001b[39;00m data\n",
      "\u001b[0;31mMultipleConstraintsErrors\u001b[0m: [ConstraintsNotMetError([\"Data is not valid for the 'Positive' constraint:\\n\", '   a  b\\n0  3 -1\\n'])]"
     ]
    }
   ],
   "source": [
    "%load_ext autoreload\n",
    "%autoreload 2\n",
    "import sdv\n",
    "from sdv.constraints import Unique, OneHotEncoding, GreaterThan, Positive\n",
    "import pandas as pd\n",
    "import numpy as np\n",
    "from sdv.tabular import GaussianCopula\n",
    "\n",
    "data = pd.DataFrame({\n",
    "    'a': [3, 3],\n",
    "    'b': [-1, 2]\n",
    "})\n",
    "\n",
    "cnt1 = GreaterThan(low='c', high='h')\n",
    "cnt2 = GreaterThan(low='d', high='e')\n",
    "cnt3 = Positive('b')\n",
    "cnt4 = Unique('a')\n",
    "model = GaussianCopula(constraints=[cnt3])\n",
    "model.fit(data)\n",
    "model.sample(5)"
   ]
  },
  {
   "cell_type": "markdown",
   "id": "f267dad1",
   "metadata": {},
   "source": [
    "model.fit\n",
    "    Table.fit\n",
    "        Table._fit_transform_cnt -> Errors happen because can't fit/transform\n",
    "            cnt.fit_transform\n",
    "                cnt.fit\n",
    "                cnt.transform\n",
    "                    # Added: cnt._validate_data_on_cnt\n",
    "                    cnt._validate_cnt_cols\n",
    "    Table.transform\n",
    "        # Removed: Table._validate_data_on_cnt\n",
    "        Table._transform_cnt\n",
    "            cnt.transform\n",
    " \n",
    " Questions:\n",
    "     fit_columns_model,\n",
    "     handling_strategy"
   ]
  }
 ],
 "metadata": {
  "kernelspec": {
   "display_name": "Python 3 (ipykernel)",
   "language": "python",
   "name": "python3"
  },
  "language_info": {
   "codemirror_mode": {
    "name": "ipython",
    "version": 3
   },
   "file_extension": ".py",
   "mimetype": "text/x-python",
   "name": "python",
   "nbconvert_exporter": "python",
   "pygments_lexer": "ipython3",
   "version": "3.9.12"
  }
 },
 "nbformat": 4,
 "nbformat_minor": 5
}
