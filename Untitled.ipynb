{
 "cells": [
  {
   "cell_type": "code",
   "execution_count": 1,
   "id": "0d5f7b7d",
   "metadata": {},
   "outputs": [],
   "source": [
    "\"\"\"Single Table Metadata.\"\"\"\n",
    "\n",
    "import copy\n",
    "import json\n",
    "from pathlib import Path\n",
    "\n",
    "\n",
    "class SingleTableMetadata:\n",
    "    \"\"\"Single Table Metadata class.\"\"\"\n",
    "\n",
    "    SCHEMA_VERSION = 'SINGLE_TABLE_V1'\n",
    "    KEYS = ['columns', 'primary_key', 'alternate_keys', 'constraints', 'SCHEMA_VERSION']\n",
    "\n",
    "    def __init__(self):\n",
    "        self._columns = {}\n",
    "        self._primary_key = None\n",
    "        self._alternate_keys = []\n",
    "        self._constraints = []\n",
    "        self._version = self.SCHEMA_VERSION\n",
    "        self._metadata = {\n",
    "            'columns': self._columns,\n",
    "            'primary_key': self._primary_key,\n",
    "            'alternate_keys': self._alternate_keys,\n",
    "            'constraints': self._constraints,\n",
    "            'SCHEMA_VERSION': self.SCHEMA_VERSION\n",
    "        }\n",
    "\n",
    "    def to_dict(self):\n",
    "        \"\"\"Return a python ``dict`` representation of the ``SingleTableMetadata``.\"\"\"\n",
    "        metadata = {}\n",
    "        for key, value in self._metadata.items():\n",
    "            if value:\n",
    "                metadata[key] = value\n",
    "\n",
    "        return copy.deepcopy(metadata)\n",
    "\n",
    "    def _set_metadata_dict(self, metadata):\n",
    "        \"\"\"Set a ``metadata`` dictionary to the current instance.\"\"\"\n",
    "        self._metadata = {}\n",
    "        for key in self.KEYS:\n",
    "            value = copy.deepcopy(metadata.get(key))\n",
    "            if value:\n",
    "                self._metadata[key] = value\n",
    "                setattr(self, f'_{key}', value)\n",
    "            else:\n",
    "                self._metadata[key] = getattr(self, f'_{key}')\n",
    "\n",
    "    @classmethod\n",
    "    def _load_from_dict(cls, metadata):\n",
    "        \"\"\"Create a ``SingleTableMetadata`` instance from a python ``dict``.\"\"\"\n",
    "        instance = cls()\n",
    "        instance._set_metadata_dict(metadata)\n",
    "        return instance\n",
    "\n",
    "    @classmethod\n",
    "    def load_from_json(cls, filepath):\n",
    "        \"\"\"Create an instance from a ``json`` file.\n",
    "\n",
    "        Args:\n",
    "            filepath (str):\n",
    "                String that represents the ``path`` to the ``json`` file.\n",
    "\n",
    "        Raises:\n",
    "            - An ``Error`` if the path does not exist.\n",
    "            - An ``Error`` if the ``json`` file does not contain the ``SCHEMA_VERSION``.\n",
    "\n",
    "        Returns:\n",
    "            A ``SingleTableMetadata`` instance.\n",
    "        \"\"\"\n",
    "        filepath = Path(filepath)\n",
    "        if not filepath.exists():\n",
    "            raise ValueError(f'The filepath provided does not exist: {filepath}.')\n",
    "\n",
    "        with open(filepath, 'r', encoding='utf-8') as metadata_file:\n",
    "            metadata = json.load(metadata_file)\n",
    "\n",
    "        if 'SCHEMA_VERSION' not in metadata:\n",
    "            raise ValueError(\n",
    "                'This metadata file is incompatible with the ``SingleTableMetadata`` '\n",
    "                'class and version.'\n",
    "            )\n",
    "\n",
    "        return cls._load_from_dict(metadata)\n",
    "\n",
    "    def save_to_json(self, filepath):\n",
    "        \"\"\"Save the current ``SingleTableMetadata`` in to a ``json`` file.\n",
    "\n",
    "        Args:\n",
    "            filepath (str):\n",
    "                String that represent the ``path`` to the ``json`` file to be written.\n",
    "\n",
    "        Raises:\n",
    "            Raises an ``Error`` if the path already exists.\n",
    "        \"\"\"\n",
    "        filepath = Path(filepath)\n",
    "        if filepath.exists():\n",
    "            raise ValueError(\n",
    "                f\"A file named '{filepath.name}' already exists in this folder. Please specify \"\n",
    "                'a different filename.'\n",
    "            )\n",
    "\n",
    "        metadata = self.to_dict()\n",
    "        metadata['SCHEMA_VERSION'] = self.SCHEMA_VERSION\n",
    "        with open(filepath, 'w', encoding='utf-8') as metadata_file:\n",
    "            json.dump(metadata, metadata_file, indent=4)\n",
    "\n",
    "    def __repr__(self):\n",
    "        \"\"\"Pretty print the ``SingleTableMetadata```SingleTableMetadata``.\"\"\"\n",
    "        printed = json.dumps(self.to_dict(), indent=4)\n",
    "        return printed\n"
   ]
  },
  {
   "cell_type": "code",
   "execution_count": 2,
   "id": "cbbcdb20",
   "metadata": {},
   "outputs": [],
   "source": [
    "stm = SingleTableMetadata()"
   ]
  },
  {
   "cell_type": "code",
   "execution_count": 3,
   "id": "ba55847c",
   "metadata": {},
   "outputs": [],
   "source": [
    "stm.save_to_json('this.json')"
   ]
  },
  {
   "cell_type": "code",
   "execution_count": 4,
   "id": "55fcd84f",
   "metadata": {},
   "outputs": [
    {
     "data": {
      "text/plain": [
       "{\n",
       "    \"SCHEMA_VERSION\": \"SINGLE_TABLE_V1\"\n",
       "}"
      ]
     },
     "execution_count": 4,
     "metadata": {},
     "output_type": "execute_result"
    }
   ],
   "source": [
    "SingleTableMetadata.load_from_json('this.json')"
   ]
  },
  {
   "cell_type": "code",
   "execution_count": 5,
   "id": "0e0584be",
   "metadata": {},
   "outputs": [
    {
     "ename": "ValueError",
     "evalue": "A file named 'this.json' already exists in this folder. Please specify a different filename.",
     "output_type": "error",
     "traceback": [
      "\u001b[0;31m---------------------------------------------------------------------------\u001b[0m",
      "\u001b[0;31mValueError\u001b[0m                                Traceback (most recent call last)",
      "Input \u001b[0;32mIn [5]\u001b[0m, in \u001b[0;36m<cell line: 1>\u001b[0;34m()\u001b[0m\n\u001b[0;32m----> 1\u001b[0m \u001b[43mstm\u001b[49m\u001b[38;5;241;43m.\u001b[39;49m\u001b[43msave_to_json\u001b[49m\u001b[43m(\u001b[49m\u001b[38;5;124;43m'\u001b[39;49m\u001b[38;5;124;43mthis.json\u001b[39;49m\u001b[38;5;124;43m'\u001b[39;49m\u001b[43m)\u001b[49m\n",
      "Input \u001b[0;32mIn [1]\u001b[0m, in \u001b[0;36mSingleTableMetadata.save_to_json\u001b[0;34m(self, filepath)\u001b[0m\n\u001b[1;32m     95\u001b[0m filepath \u001b[38;5;241m=\u001b[39m Path(filepath)\n\u001b[1;32m     96\u001b[0m \u001b[38;5;28;01mif\u001b[39;00m filepath\u001b[38;5;241m.\u001b[39mexists():\n\u001b[0;32m---> 97\u001b[0m     \u001b[38;5;28;01mraise\u001b[39;00m \u001b[38;5;167;01mValueError\u001b[39;00m(\n\u001b[1;32m     98\u001b[0m         \u001b[38;5;124mf\u001b[39m\u001b[38;5;124m\"\u001b[39m\u001b[38;5;124mA file named \u001b[39m\u001b[38;5;124m'\u001b[39m\u001b[38;5;132;01m{\u001b[39;00mfilepath\u001b[38;5;241m.\u001b[39mname\u001b[38;5;132;01m}\u001b[39;00m\u001b[38;5;124m'\u001b[39m\u001b[38;5;124m already exists in this folder. Please specify \u001b[39m\u001b[38;5;124m\"\u001b[39m\n\u001b[1;32m     99\u001b[0m         \u001b[38;5;124m'\u001b[39m\u001b[38;5;124ma different filename.\u001b[39m\u001b[38;5;124m'\u001b[39m\n\u001b[1;32m    100\u001b[0m     )\n\u001b[1;32m    102\u001b[0m metadata \u001b[38;5;241m=\u001b[39m \u001b[38;5;28mself\u001b[39m\u001b[38;5;241m.\u001b[39mto_dict()\n\u001b[1;32m    103\u001b[0m metadata[\u001b[38;5;124m'\u001b[39m\u001b[38;5;124mSCHEMA_VERSION\u001b[39m\u001b[38;5;124m'\u001b[39m] \u001b[38;5;241m=\u001b[39m \u001b[38;5;28mself\u001b[39m\u001b[38;5;241m.\u001b[39mSCHEMA_VERSION\n",
      "\u001b[0;31mValueError\u001b[0m: A file named 'this.json' already exists in this folder. Please specify a different filename."
     ]
    }
   ],
   "source": [
    "stm.save_to_json('this.json')"
   ]
  },
  {
   "cell_type": "code",
   "execution_count": 7,
   "id": "e0fe9c4c",
   "metadata": {},
   "outputs": [
    {
     "ename": "ValueError",
     "evalue": "The filepath provided does not exist: th1s.json.",
     "output_type": "error",
     "traceback": [
      "\u001b[0;31m---------------------------------------------------------------------------\u001b[0m",
      "\u001b[0;31mValueError\u001b[0m                                Traceback (most recent call last)",
      "Input \u001b[0;32mIn [7]\u001b[0m, in \u001b[0;36m<cell line: 1>\u001b[0;34m()\u001b[0m\n\u001b[0;32m----> 1\u001b[0m \u001b[43mSingleTableMetadata\u001b[49m\u001b[38;5;241;43m.\u001b[39;49m\u001b[43mload_from_json\u001b[49m\u001b[43m(\u001b[49m\u001b[38;5;124;43m'\u001b[39;49m\u001b[38;5;124;43mth1s.json\u001b[39;49m\u001b[38;5;124;43m'\u001b[39;49m\u001b[43m)\u001b[49m\n",
      "Input \u001b[0;32mIn [1]\u001b[0m, in \u001b[0;36mSingleTableMetadata.load_from_json\u001b[0;34m(cls, filepath)\u001b[0m\n\u001b[1;32m     70\u001b[0m filepath \u001b[38;5;241m=\u001b[39m Path(filepath)\n\u001b[1;32m     71\u001b[0m \u001b[38;5;28;01mif\u001b[39;00m \u001b[38;5;129;01mnot\u001b[39;00m filepath\u001b[38;5;241m.\u001b[39mexists():\n\u001b[0;32m---> 72\u001b[0m     \u001b[38;5;28;01mraise\u001b[39;00m \u001b[38;5;167;01mValueError\u001b[39;00m(\u001b[38;5;124mf\u001b[39m\u001b[38;5;124m'\u001b[39m\u001b[38;5;124mThe filepath provided does not exist: \u001b[39m\u001b[38;5;132;01m{\u001b[39;00mfilepath\u001b[38;5;132;01m}\u001b[39;00m\u001b[38;5;124m.\u001b[39m\u001b[38;5;124m'\u001b[39m)\n\u001b[1;32m     74\u001b[0m \u001b[38;5;28;01mwith\u001b[39;00m \u001b[38;5;28mopen\u001b[39m(filepath, \u001b[38;5;124m'\u001b[39m\u001b[38;5;124mr\u001b[39m\u001b[38;5;124m'\u001b[39m, encoding\u001b[38;5;241m=\u001b[39m\u001b[38;5;124m'\u001b[39m\u001b[38;5;124mutf-8\u001b[39m\u001b[38;5;124m'\u001b[39m) \u001b[38;5;28;01mas\u001b[39;00m metadata_file:\n\u001b[1;32m     75\u001b[0m     metadata \u001b[38;5;241m=\u001b[39m json\u001b[38;5;241m.\u001b[39mload(metadata_file)\n",
      "\u001b[0;31mValueError\u001b[0m: The filepath provided does not exist: th1s.json."
     ]
    }
   ],
   "source": [
    "SingleTableMetadata.load_from_json('th1s.json')"
   ]
  },
  {
   "cell_type": "code",
   "execution_count": 8,
   "id": "ec3a88f2",
   "metadata": {},
   "outputs": [
    {
     "ename": "ValueError",
     "evalue": "This metadata file is incompatible with the ``SingleTableMetadata`` class and version.",
     "output_type": "error",
     "traceback": [
      "\u001b[0;31m---------------------------------------------------------------------------\u001b[0m",
      "\u001b[0;31mValueError\u001b[0m                                Traceback (most recent call last)",
      "Input \u001b[0;32mIn [8]\u001b[0m, in \u001b[0;36m<cell line: 1>\u001b[0;34m()\u001b[0m\n\u001b[0;32m----> 1\u001b[0m \u001b[43mSingleTableMetadata\u001b[49m\u001b[38;5;241;43m.\u001b[39;49m\u001b[43mload_from_json\u001b[49m\u001b[43m(\u001b[49m\u001b[38;5;124;43m'\u001b[39;49m\u001b[38;5;124;43mthis.json\u001b[39;49m\u001b[38;5;124;43m'\u001b[39;49m\u001b[43m)\u001b[49m\n",
      "Input \u001b[0;32mIn [1]\u001b[0m, in \u001b[0;36mSingleTableMetadata.load_from_json\u001b[0;34m(cls, filepath)\u001b[0m\n\u001b[1;32m     75\u001b[0m     metadata \u001b[38;5;241m=\u001b[39m json\u001b[38;5;241m.\u001b[39mload(metadata_file)\n\u001b[1;32m     77\u001b[0m \u001b[38;5;28;01mif\u001b[39;00m \u001b[38;5;124m'\u001b[39m\u001b[38;5;124mSCHEMA_VERSION\u001b[39m\u001b[38;5;124m'\u001b[39m \u001b[38;5;129;01mnot\u001b[39;00m \u001b[38;5;129;01min\u001b[39;00m metadata:\n\u001b[0;32m---> 78\u001b[0m     \u001b[38;5;28;01mraise\u001b[39;00m \u001b[38;5;167;01mValueError\u001b[39;00m(\n\u001b[1;32m     79\u001b[0m         \u001b[38;5;124m'\u001b[39m\u001b[38;5;124mThis metadata file is incompatible with the ``SingleTableMetadata`` \u001b[39m\u001b[38;5;124m'\u001b[39m\n\u001b[1;32m     80\u001b[0m         \u001b[38;5;124m'\u001b[39m\u001b[38;5;124mclass and version.\u001b[39m\u001b[38;5;124m'\u001b[39m\n\u001b[1;32m     81\u001b[0m     )\n\u001b[1;32m     83\u001b[0m \u001b[38;5;28;01mreturn\u001b[39;00m \u001b[38;5;28mcls\u001b[39m\u001b[38;5;241m.\u001b[39m_load_from_dict(metadata)\n",
      "\u001b[0;31mValueError\u001b[0m: This metadata file is incompatible with the ``SingleTableMetadata`` class and version."
     ]
    }
   ],
   "source": [
    "SingleTableMetadata.load_from_json('this.json')"
   ]
  },
  {
   "cell_type": "code",
   "execution_count": null,
   "id": "d2b01814",
   "metadata": {},
   "outputs": [],
   "source": []
  }
 ],
 "metadata": {
  "kernelspec": {
   "display_name": "Python 3 (ipykernel)",
   "language": "python",
   "name": "python3"
  },
  "language_info": {
   "codemirror_mode": {
    "name": "ipython",
    "version": 3
   },
   "file_extension": ".py",
   "mimetype": "text/x-python",
   "name": "python",
   "nbconvert_exporter": "python",
   "pygments_lexer": "ipython3",
   "version": "3.8.10"
  }
 },
 "nbformat": 4,
 "nbformat_minor": 5
}
