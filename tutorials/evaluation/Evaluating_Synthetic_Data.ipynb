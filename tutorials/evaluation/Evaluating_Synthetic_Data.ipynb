{
 "cells": [
  {
   "cell_type": "markdown",
   "metadata": {},
   "source": [
    "Evaluating Synthetic Data\n",
    "=========================\n",
    "\n",
    "A very common question when someone starts using **SDV** to generate\n",
    "synthetic data is: *\\\"How good is the data that I just generated?\\\"*\n",
    "\n",
    "In order to answer this question, **SDV** has a collection of metrics\n",
    "and tools that allow you to compare the *real* that you provided and the\n",
    "*synthetic* data that you generated using **SDV** or any other tool.\n",
    "\n",
    "In this guide we will show you how to perform this evaluation and how to\n",
    "explore the different metrics that exist.\n",
    "\n",
    "Using the SDV Evaluation Framework\n",
    "----------------------------------\n",
    "\n",
    "To evaluate the quality of synthetic data we essentially need two\n",
    "things: *real* data and *synthetic* data that pretends to resemble it.\n",
    "\n",
    "Let us start by loading a demo table and generate a synthetic replica of\n",
    "it using the `GaussianCopula` model."
   ]
  },
  {
   "cell_type": "code",
   "execution_count": 1,
   "metadata": {
    "attributes": {
     "classes": [
      ""
     ],
     "id": ""
    }
   },
   "outputs": [],
   "source": [
    "from sdv.demo import load_tabular_demo\n",
    "from sdv.tabular import GaussianCopula\n",
    "\n",
    "real_data = load_tabular_demo('student_placements')\n",
    "\n",
    "model = GaussianCopula()\n",
    "model.fit(real_data)\n",
    "synthetic_data = model.sample()"
   ]
  },
  {
   "cell_type": "markdown",
   "metadata": {},
   "source": [
    "After the previous steps we will have two tables:\n",
    "\n",
    "-   `real_data`: A table containing data about student placements"
   ]
  },
  {
   "cell_type": "code",
   "execution_count": 2,
   "metadata": {
    "attributes": {
     "classes": [
      ""
     ],
     "id": ""
    }
   },
   "outputs": [
    {
     "data": {
      "text/html": [
       "<div>\n",
       "<style scoped>\n",
       "    .dataframe tbody tr th:only-of-type {\n",
       "        vertical-align: middle;\n",
       "    }\n",
       "\n",
       "    .dataframe tbody tr th {\n",
       "        vertical-align: top;\n",
       "    }\n",
       "\n",
       "    .dataframe thead th {\n",
       "        text-align: right;\n",
       "    }\n",
       "</style>\n",
       "<table border=\"1\" class=\"dataframe\">\n",
       "  <thead>\n",
       "    <tr style=\"text-align: right;\">\n",
       "      <th></th>\n",
       "      <th>student_id</th>\n",
       "      <th>gender</th>\n",
       "      <th>second_perc</th>\n",
       "      <th>high_perc</th>\n",
       "      <th>high_spec</th>\n",
       "      <th>degree_perc</th>\n",
       "      <th>degree_type</th>\n",
       "      <th>work_experience</th>\n",
       "      <th>experience_years</th>\n",
       "      <th>employability_perc</th>\n",
       "      <th>mba_spec</th>\n",
       "      <th>mba_perc</th>\n",
       "      <th>salary</th>\n",
       "      <th>placed</th>\n",
       "      <th>start_date</th>\n",
       "      <th>end_date</th>\n",
       "      <th>duration</th>\n",
       "    </tr>\n",
       "  </thead>\n",
       "  <tbody>\n",
       "    <tr>\n",
       "      <th>0</th>\n",
       "      <td>17264</td>\n",
       "      <td>M</td>\n",
       "      <td>67.00</td>\n",
       "      <td>91.00</td>\n",
       "      <td>Commerce</td>\n",
       "      <td>58.00</td>\n",
       "      <td>Sci&amp;Tech</td>\n",
       "      <td>False</td>\n",
       "      <td>0</td>\n",
       "      <td>55.0</td>\n",
       "      <td>Mkt&amp;HR</td>\n",
       "      <td>58.80</td>\n",
       "      <td>27000.0</td>\n",
       "      <td>True</td>\n",
       "      <td>2020-07-23</td>\n",
       "      <td>2020-10-12</td>\n",
       "      <td>3.0</td>\n",
       "    </tr>\n",
       "    <tr>\n",
       "      <th>1</th>\n",
       "      <td>17265</td>\n",
       "      <td>M</td>\n",
       "      <td>79.33</td>\n",
       "      <td>78.33</td>\n",
       "      <td>Science</td>\n",
       "      <td>77.48</td>\n",
       "      <td>Sci&amp;Tech</td>\n",
       "      <td>True</td>\n",
       "      <td>1</td>\n",
       "      <td>86.5</td>\n",
       "      <td>Mkt&amp;Fin</td>\n",
       "      <td>66.28</td>\n",
       "      <td>20000.0</td>\n",
       "      <td>True</td>\n",
       "      <td>2020-01-11</td>\n",
       "      <td>2020-04-09</td>\n",
       "      <td>3.0</td>\n",
       "    </tr>\n",
       "    <tr>\n",
       "      <th>2</th>\n",
       "      <td>17266</td>\n",
       "      <td>M</td>\n",
       "      <td>65.00</td>\n",
       "      <td>68.00</td>\n",
       "      <td>Arts</td>\n",
       "      <td>64.00</td>\n",
       "      <td>Comm&amp;Mgmt</td>\n",
       "      <td>False</td>\n",
       "      <td>0</td>\n",
       "      <td>75.0</td>\n",
       "      <td>Mkt&amp;Fin</td>\n",
       "      <td>57.80</td>\n",
       "      <td>25000.0</td>\n",
       "      <td>True</td>\n",
       "      <td>2020-01-26</td>\n",
       "      <td>2020-07-13</td>\n",
       "      <td>6.0</td>\n",
       "    </tr>\n",
       "    <tr>\n",
       "      <th>3</th>\n",
       "      <td>17267</td>\n",
       "      <td>M</td>\n",
       "      <td>56.00</td>\n",
       "      <td>52.00</td>\n",
       "      <td>Science</td>\n",
       "      <td>52.00</td>\n",
       "      <td>Sci&amp;Tech</td>\n",
       "      <td>False</td>\n",
       "      <td>0</td>\n",
       "      <td>66.0</td>\n",
       "      <td>Mkt&amp;HR</td>\n",
       "      <td>59.43</td>\n",
       "      <td>NaN</td>\n",
       "      <td>False</td>\n",
       "      <td>NaT</td>\n",
       "      <td>NaT</td>\n",
       "      <td>NaN</td>\n",
       "    </tr>\n",
       "    <tr>\n",
       "      <th>4</th>\n",
       "      <td>17268</td>\n",
       "      <td>M</td>\n",
       "      <td>85.80</td>\n",
       "      <td>73.60</td>\n",
       "      <td>Commerce</td>\n",
       "      <td>73.30</td>\n",
       "      <td>Comm&amp;Mgmt</td>\n",
       "      <td>False</td>\n",
       "      <td>0</td>\n",
       "      <td>96.8</td>\n",
       "      <td>Mkt&amp;Fin</td>\n",
       "      <td>55.50</td>\n",
       "      <td>42500.0</td>\n",
       "      <td>True</td>\n",
       "      <td>2020-07-04</td>\n",
       "      <td>2020-09-27</td>\n",
       "      <td>3.0</td>\n",
       "    </tr>\n",
       "  </tbody>\n",
       "</table>\n",
       "</div>"
      ],
      "text/plain": [
       "   student_id gender  second_perc  high_perc high_spec  degree_perc  \\\n",
       "0       17264      M        67.00      91.00  Commerce        58.00   \n",
       "1       17265      M        79.33      78.33   Science        77.48   \n",
       "2       17266      M        65.00      68.00      Arts        64.00   \n",
       "3       17267      M        56.00      52.00   Science        52.00   \n",
       "4       17268      M        85.80      73.60  Commerce        73.30   \n",
       "\n",
       "  degree_type  work_experience  experience_years  employability_perc mba_spec  \\\n",
       "0    Sci&Tech            False                 0                55.0   Mkt&HR   \n",
       "1    Sci&Tech             True                 1                86.5  Mkt&Fin   \n",
       "2   Comm&Mgmt            False                 0                75.0  Mkt&Fin   \n",
       "3    Sci&Tech            False                 0                66.0   Mkt&HR   \n",
       "4   Comm&Mgmt            False                 0                96.8  Mkt&Fin   \n",
       "\n",
       "   mba_perc   salary  placed start_date   end_date duration  \n",
       "0     58.80  27000.0    True 2020-07-23 2020-10-12      3.0  \n",
       "1     66.28  20000.0    True 2020-01-11 2020-04-09      3.0  \n",
       "2     57.80  25000.0    True 2020-01-26 2020-07-13      6.0  \n",
       "3     59.43      NaN   False        NaT        NaT      NaN  \n",
       "4     55.50  42500.0    True 2020-07-04 2020-09-27      3.0  "
      ]
     },
     "execution_count": 2,
     "metadata": {},
     "output_type": "execute_result"
    }
   ],
   "source": [
    "real_data.head()"
   ]
  },
  {
   "cell_type": "markdown",
   "metadata": {},
   "source": [
    "-   `synthetic_data`: A synthetically generated table that contains data\n",
    "    in the same format and with similar statistical properties as the\n",
    "    `real_data`."
   ]
  },
  {
   "cell_type": "code",
   "execution_count": 3,
   "metadata": {
    "attributes": {
     "classes": [
      ""
     ],
     "id": ""
    }
   },
   "outputs": [
    {
     "data": {
      "text/html": [
       "<div>\n",
       "<style scoped>\n",
       "    .dataframe tbody tr th:only-of-type {\n",
       "        vertical-align: middle;\n",
       "    }\n",
       "\n",
       "    .dataframe tbody tr th {\n",
       "        vertical-align: top;\n",
       "    }\n",
       "\n",
       "    .dataframe thead th {\n",
       "        text-align: right;\n",
       "    }\n",
       "</style>\n",
       "<table border=\"1\" class=\"dataframe\">\n",
       "  <thead>\n",
       "    <tr style=\"text-align: right;\">\n",
       "      <th></th>\n",
       "      <th>student_id</th>\n",
       "      <th>gender</th>\n",
       "      <th>second_perc</th>\n",
       "      <th>high_perc</th>\n",
       "      <th>high_spec</th>\n",
       "      <th>degree_perc</th>\n",
       "      <th>degree_type</th>\n",
       "      <th>work_experience</th>\n",
       "      <th>experience_years</th>\n",
       "      <th>employability_perc</th>\n",
       "      <th>mba_spec</th>\n",
       "      <th>mba_perc</th>\n",
       "      <th>salary</th>\n",
       "      <th>placed</th>\n",
       "      <th>start_date</th>\n",
       "      <th>end_date</th>\n",
       "      <th>duration</th>\n",
       "    </tr>\n",
       "  </thead>\n",
       "  <tbody>\n",
       "    <tr>\n",
       "      <th>0</th>\n",
       "      <td>17318</td>\n",
       "      <td>M</td>\n",
       "      <td>66.725348</td>\n",
       "      <td>76.408487</td>\n",
       "      <td>Commerce</td>\n",
       "      <td>83.328878</td>\n",
       "      <td>Sci&amp;Tech</td>\n",
       "      <td>False</td>\n",
       "      <td>0</td>\n",
       "      <td>52.696034</td>\n",
       "      <td>Mkt&amp;Fin</td>\n",
       "      <td>60.457128</td>\n",
       "      <td>22813.692400</td>\n",
       "      <td>True</td>\n",
       "      <td>2020-01-23</td>\n",
       "      <td>2020-08-07</td>\n",
       "      <td>3.0</td>\n",
       "    </tr>\n",
       "    <tr>\n",
       "      <th>1</th>\n",
       "      <td>17372</td>\n",
       "      <td>M</td>\n",
       "      <td>76.784298</td>\n",
       "      <td>87.042473</td>\n",
       "      <td>Science</td>\n",
       "      <td>76.970188</td>\n",
       "      <td>Sci&amp;Tech</td>\n",
       "      <td>False</td>\n",
       "      <td>0</td>\n",
       "      <td>88.015070</td>\n",
       "      <td>Mkt&amp;HR</td>\n",
       "      <td>65.517693</td>\n",
       "      <td>31675.910373</td>\n",
       "      <td>True</td>\n",
       "      <td>2020-04-18</td>\n",
       "      <td>2020-06-08</td>\n",
       "      <td>3.0</td>\n",
       "    </tr>\n",
       "    <tr>\n",
       "      <th>2</th>\n",
       "      <td>17295</td>\n",
       "      <td>M</td>\n",
       "      <td>59.617900</td>\n",
       "      <td>70.617668</td>\n",
       "      <td>Science</td>\n",
       "      <td>59.230593</td>\n",
       "      <td>Others</td>\n",
       "      <td>False</td>\n",
       "      <td>1</td>\n",
       "      <td>73.284359</td>\n",
       "      <td>Mkt&amp;HR</td>\n",
       "      <td>59.098228</td>\n",
       "      <td>27119.865890</td>\n",
       "      <td>True</td>\n",
       "      <td>2020-01-19</td>\n",
       "      <td>2020-06-11</td>\n",
       "      <td>3.0</td>\n",
       "    </tr>\n",
       "    <tr>\n",
       "      <th>3</th>\n",
       "      <td>17385</td>\n",
       "      <td>M</td>\n",
       "      <td>60.103062</td>\n",
       "      <td>57.080626</td>\n",
       "      <td>Science</td>\n",
       "      <td>53.581154</td>\n",
       "      <td>Sci&amp;Tech</td>\n",
       "      <td>False</td>\n",
       "      <td>1</td>\n",
       "      <td>93.783054</td>\n",
       "      <td>Mkt&amp;HR</td>\n",
       "      <td>51.683411</td>\n",
       "      <td>22638.231970</td>\n",
       "      <td>True</td>\n",
       "      <td>2020-02-22</td>\n",
       "      <td>2020-07-27</td>\n",
       "      <td>3.0</td>\n",
       "    </tr>\n",
       "    <tr>\n",
       "      <th>4</th>\n",
       "      <td>17352</td>\n",
       "      <td>F</td>\n",
       "      <td>75.981981</td>\n",
       "      <td>70.013769</td>\n",
       "      <td>Commerce</td>\n",
       "      <td>75.515250</td>\n",
       "      <td>Comm&amp;Mgmt</td>\n",
       "      <td>False</td>\n",
       "      <td>0</td>\n",
       "      <td>85.463569</td>\n",
       "      <td>Mkt&amp;Fin</td>\n",
       "      <td>62.936807</td>\n",
       "      <td>28316.094709</td>\n",
       "      <td>True</td>\n",
       "      <td>2020-01-18</td>\n",
       "      <td>2020-07-30</td>\n",
       "      <td>3.0</td>\n",
       "    </tr>\n",
       "  </tbody>\n",
       "</table>\n",
       "</div>"
      ],
      "text/plain": [
       "   student_id gender  second_perc  high_perc high_spec  degree_perc  \\\n",
       "0       17318      M    66.725348  76.408487  Commerce    83.328878   \n",
       "1       17372      M    76.784298  87.042473   Science    76.970188   \n",
       "2       17295      M    59.617900  70.617668   Science    59.230593   \n",
       "3       17385      M    60.103062  57.080626   Science    53.581154   \n",
       "4       17352      F    75.981981  70.013769  Commerce    75.515250   \n",
       "\n",
       "  degree_type  work_experience  experience_years  employability_perc mba_spec  \\\n",
       "0    Sci&Tech            False                 0           52.696034  Mkt&Fin   \n",
       "1    Sci&Tech            False                 0           88.015070   Mkt&HR   \n",
       "2      Others            False                 1           73.284359   Mkt&HR   \n",
       "3    Sci&Tech            False                 1           93.783054   Mkt&HR   \n",
       "4   Comm&Mgmt            False                 0           85.463569  Mkt&Fin   \n",
       "\n",
       "    mba_perc        salary  placed start_date   end_date duration  \n",
       "0  60.457128  22813.692400    True 2020-01-23 2020-08-07      3.0  \n",
       "1  65.517693  31675.910373    True 2020-04-18 2020-06-08      3.0  \n",
       "2  59.098228  27119.865890    True 2020-01-19 2020-06-11      3.0  \n",
       "3  51.683411  22638.231970    True 2020-02-22 2020-07-27      3.0  \n",
       "4  62.936807  28316.094709    True 2020-01-18 2020-07-30      3.0  "
      ]
     },
     "execution_count": 3,
     "metadata": {},
     "output_type": "execute_result"
    }
   ],
   "source": [
    "synthetic_data.head()"
   ]
  },
  {
   "cell_type": "markdown",
   "metadata": {},
   "source": [
    "<div class=\"alert alert-info\">\n",
    "\n",
    "**Note**\n",
    "\n",
    "For more details about this process, please visit the\n",
    "[gaussian_copula](gaussian_copula.ipynb) guide.\n",
    "\n",
    "</div>\n",
    "\n",
    "### Computing an overall score\n",
    "\n",
    "The simplest way to see how similar the two tables are is to import the\n",
    "`sdv.evaluation.evaluate` function and run it passing both the\n",
    "`synthetic_data` and the `real_data` tables."
   ]
  },
  {
   "cell_type": "code",
   "execution_count": 4,
   "metadata": {
    "attributes": {
     "classes": [
      ""
     ],
     "id": ""
    }
   },
   "outputs": [
    {
     "data": {
      "text/plain": [
       "0.49143637293841225"
      ]
     },
     "execution_count": 4,
     "metadata": {},
     "output_type": "execute_result"
    }
   ],
   "source": [
    "from sdv.evaluation import evaluate\n",
    "\n",
    "evaluate(synthetic_data, real_data)"
   ]
  },
  {
   "cell_type": "markdown",
   "metadata": {},
   "source": [
    "The output of this function call will be a number between 0 and 1 that\n",
    "will indicate how similar the two tables are, being 0 the worst and 1\n",
    "the best possible score.\n",
    "\n",
    "### How was the obtained score computed?\n",
    "\n",
    "The `evaluate` function applies a collection of pre-configured metric\n",
    "functions and returns the average of the scores that the data obtained\n",
    "on each one of them, after normalizing them to the 0-1 range.\n",
    "In most scenarios this can be enough to get an idea\n",
    "about the similarity of the two tables, but you might want to explore\n",
    "the metrics in more detail.\n",
    "\n",
    "In order to see the different metrics that were applied you can pass and\n",
    "additional argument `aggregate=False`, which will make the `evaluate`\n",
    "function return a dictionary with the scores that each one of the\n",
    "metrics functions returned:"
   ]
  },
  {
   "cell_type": "code",
   "execution_count": 5,
   "metadata": {
    "attributes": {
     "classes": [
      ""
     ],
     "id": ""
    }
   },
   "outputs": [
    {
     "data": {
      "text/html": [
       "<div>\n",
       "<style scoped>\n",
       "    .dataframe tbody tr th:only-of-type {\n",
       "        vertical-align: middle;\n",
       "    }\n",
       "\n",
       "    .dataframe tbody tr th {\n",
       "        vertical-align: top;\n",
       "    }\n",
       "\n",
       "    .dataframe thead th {\n",
       "        text-align: right;\n",
       "    }\n",
       "</style>\n",
       "<table border=\"1\" class=\"dataframe\">\n",
       "  <thead>\n",
       "    <tr style=\"text-align: right;\">\n",
       "      <th></th>\n",
       "      <th>metric</th>\n",
       "      <th>name</th>\n",
       "      <th>score</th>\n",
       "      <th>min_value</th>\n",
       "      <th>max_value</th>\n",
       "      <th>goal</th>\n",
       "    </tr>\n",
       "  </thead>\n",
       "  <tbody>\n",
       "    <tr>\n",
       "      <th>1</th>\n",
       "      <td>LogisticDetection</td>\n",
       "      <td>LogisticRegression Detection</td>\n",
       "      <td>0.395674</td>\n",
       "      <td>0.0</td>\n",
       "      <td>1.0</td>\n",
       "      <td>MAXIMIZE</td>\n",
       "    </tr>\n",
       "    <tr>\n",
       "      <th>2</th>\n",
       "      <td>SVCDetection</td>\n",
       "      <td>SVC Detection</td>\n",
       "      <td>0.351723</td>\n",
       "      <td>0.0</td>\n",
       "      <td>1.0</td>\n",
       "      <td>MAXIMIZE</td>\n",
       "    </tr>\n",
       "    <tr>\n",
       "      <th>11</th>\n",
       "      <td>GMLogLikelihood</td>\n",
       "      <td>GaussianMixture Log Likelihood</td>\n",
       "      <td>-82.657300</td>\n",
       "      <td>-inf</td>\n",
       "      <td>inf</td>\n",
       "      <td>MAXIMIZE</td>\n",
       "    </tr>\n",
       "    <tr>\n",
       "      <th>12</th>\n",
       "      <td>CSTest</td>\n",
       "      <td>Chi-Squared</td>\n",
       "      <td>0.909491</td>\n",
       "      <td>0.0</td>\n",
       "      <td>1.0</td>\n",
       "      <td>MAXIMIZE</td>\n",
       "    </tr>\n",
       "    <tr>\n",
       "      <th>13</th>\n",
       "      <td>KSTest</td>\n",
       "      <td>Inverted Kolmogorov-Smirnov D statistic</td>\n",
       "      <td>0.918605</td>\n",
       "      <td>0.0</td>\n",
       "      <td>1.0</td>\n",
       "      <td>MAXIMIZE</td>\n",
       "    </tr>\n",
       "    <tr>\n",
       "      <th>14</th>\n",
       "      <td>KSTestExtended</td>\n",
       "      <td>Inverted Kolmogorov-Smirnov D statistic</td>\n",
       "      <td>0.920698</td>\n",
       "      <td>0.0</td>\n",
       "      <td>1.0</td>\n",
       "      <td>MAXIMIZE</td>\n",
       "    </tr>\n",
       "    <tr>\n",
       "      <th>15</th>\n",
       "      <td>ContinuousKLDivergence</td>\n",
       "      <td>Continuous Kullback–Leibler Divergence</td>\n",
       "      <td>0.544900</td>\n",
       "      <td>0.0</td>\n",
       "      <td>1.0</td>\n",
       "      <td>MAXIMIZE</td>\n",
       "    </tr>\n",
       "    <tr>\n",
       "      <th>16</th>\n",
       "      <td>DiscreteKLDivergence</td>\n",
       "      <td>Discrete Kullback–Leibler Divergence</td>\n",
       "      <td>0.832816</td>\n",
       "      <td>0.0</td>\n",
       "      <td>1.0</td>\n",
       "      <td>MAXIMIZE</td>\n",
       "    </tr>\n",
       "  </tbody>\n",
       "</table>\n",
       "</div>"
      ],
      "text/plain": [
       "                    metric                                     name  \\\n",
       "1        LogisticDetection             LogisticRegression Detection   \n",
       "2             SVCDetection                            SVC Detection   \n",
       "11         GMLogLikelihood           GaussianMixture Log Likelihood   \n",
       "12                  CSTest                              Chi-Squared   \n",
       "13                  KSTest  Inverted Kolmogorov-Smirnov D statistic   \n",
       "14          KSTestExtended  Inverted Kolmogorov-Smirnov D statistic   \n",
       "15  ContinuousKLDivergence   Continuous Kullback–Leibler Divergence   \n",
       "16    DiscreteKLDivergence     Discrete Kullback–Leibler Divergence   \n",
       "\n",
       "        score  min_value  max_value      goal  \n",
       "1    0.395674        0.0        1.0  MAXIMIZE  \n",
       "2    0.351723        0.0        1.0  MAXIMIZE  \n",
       "11 -82.657300       -inf        inf  MAXIMIZE  \n",
       "12   0.909491        0.0        1.0  MAXIMIZE  \n",
       "13   0.918605        0.0        1.0  MAXIMIZE  \n",
       "14   0.920698        0.0        1.0  MAXIMIZE  \n",
       "15   0.544900        0.0        1.0  MAXIMIZE  \n",
       "16   0.832816        0.0        1.0  MAXIMIZE  "
      ]
     },
     "execution_count": 5,
     "metadata": {},
     "output_type": "execute_result"
    }
   ],
   "source": [
    "evaluate(synthetic_data, real_data, aggregate=False)"
   ]
  },
  {
   "cell_type": "markdown",
   "metadata": {},
   "source": [
    "### Can I control which metrics are applied?\n",
    "\n",
    "By default, the `evaluate` function will apply all the metrics that are\n",
    "included within the SDV Evaluation framework. However, the list of\n",
    "metrics that are applied can be controlled by passing a list with the\n",
    "names of the metrics that you want to apply.\n",
    "\n",
    "For example, if you were interested on obtaining only the `CSTest` and\n",
    "`KSTest` metrics you can call the `evaluate` function as follows:"
   ]
  },
  {
   "cell_type": "code",
   "execution_count": 6,
   "metadata": {
    "attributes": {
     "classes": [
      ""
     ],
     "id": ""
    }
   },
   "outputs": [
    {
     "data": {
      "text/plain": [
       "0.9140476536783428"
      ]
     },
     "execution_count": 6,
     "metadata": {},
     "output_type": "execute_result"
    }
   ],
   "source": [
    "evaluate(synthetic_data, real_data, metrics=['CSTest', 'KSTest'])"
   ]
  },
  {
   "cell_type": "markdown",
   "metadata": {},
   "source": [
    "Or, if we want to see the scores separately:"
   ]
  },
  {
   "cell_type": "code",
   "execution_count": 7,
   "metadata": {
    "attributes": {
     "classes": [
      ""
     ],
     "id": ""
    }
   },
   "outputs": [
    {
     "data": {
      "text/html": [
       "<div>\n",
       "<style scoped>\n",
       "    .dataframe tbody tr th:only-of-type {\n",
       "        vertical-align: middle;\n",
       "    }\n",
       "\n",
       "    .dataframe tbody tr th {\n",
       "        vertical-align: top;\n",
       "    }\n",
       "\n",
       "    .dataframe thead th {\n",
       "        text-align: right;\n",
       "    }\n",
       "</style>\n",
       "<table border=\"1\" class=\"dataframe\">\n",
       "  <thead>\n",
       "    <tr style=\"text-align: right;\">\n",
       "      <th></th>\n",
       "      <th>metric</th>\n",
       "      <th>name</th>\n",
       "      <th>score</th>\n",
       "      <th>min_value</th>\n",
       "      <th>max_value</th>\n",
       "      <th>goal</th>\n",
       "    </tr>\n",
       "  </thead>\n",
       "  <tbody>\n",
       "    <tr>\n",
       "      <th>0</th>\n",
       "      <td>CSTest</td>\n",
       "      <td>Chi-Squared</td>\n",
       "      <td>0.909491</td>\n",
       "      <td>0.0</td>\n",
       "      <td>1.0</td>\n",
       "      <td>MAXIMIZE</td>\n",
       "    </tr>\n",
       "    <tr>\n",
       "      <th>1</th>\n",
       "      <td>KSTest</td>\n",
       "      <td>Inverted Kolmogorov-Smirnov D statistic</td>\n",
       "      <td>0.918605</td>\n",
       "      <td>0.0</td>\n",
       "      <td>1.0</td>\n",
       "      <td>MAXIMIZE</td>\n",
       "    </tr>\n",
       "  </tbody>\n",
       "</table>\n",
       "</div>"
      ],
      "text/plain": [
       "   metric                                     name     score  min_value  \\\n",
       "0  CSTest                              Chi-Squared  0.909491        0.0   \n",
       "1  KSTest  Inverted Kolmogorov-Smirnov D statistic  0.918605        0.0   \n",
       "\n",
       "   max_value      goal  \n",
       "0        1.0  MAXIMIZE  \n",
       "1        1.0  MAXIMIZE  "
      ]
     },
     "execution_count": 7,
     "metadata": {},
     "output_type": "execute_result"
    }
   ],
   "source": [
    "evaluate(synthetic_data, real_data, metrics=['CSTest', 'KSTest'], aggregate=False)"
   ]
  },
  {
   "cell_type": "markdown",
   "metadata": {},
   "source": [
    "The complete list of possible metrics is:\n",
    "\n",
    "-   `cstest`: This metric compares the distributions of all the\n",
    "    categorical columns of the table by using a Chi-squared test and\n",
    "    returns the average of the `p-values` obtained across all the\n",
    "    columns. If the tables that you are evaluating do not contain any\n",
    "    categorical columns the result will be `nan`.\n",
    "-   `kstest`: This metric compares the distributions of all the\n",
    "    numerical columns of the table with a two-sample Kolmogorov-Smirnov\n",
    "    test using the empirical CDF and returns the average of the\n",
    "    KS statistic values obtained across all the columns. If the tables\n",
    "    that you are evaluating do not contain any numerical columns the result\n",
    "    will be `nan`.\n",
    "-   `logistic_detection`: This metric tries to use a Logistic Regression\n",
    "    classifier to detect whether each row is real or synthetic and then\n",
    "    evaluates its performance using an Area under the ROC curve metric.\n",
    "    The returned score is 1 minus the ROC AUC score obtained by the\n",
    "    classifier.\n",
    "-   `svc_detection`: This metric tries to use an Support Vector\n",
    "    Classifier to detect whether each row is real or synthetic and then\n",
    "    evaluates its performance using an Area under the ROC curve metric.\n",
    "    The returned score is 1 minus the ROC AUC score obtained by the\n",
    "    classifier."
   ]
  }
 ],
 "metadata": {
  "kernelspec": {
   "display_name": "Python 3",
   "language": "python",
   "name": "python3"
  },
  "language_info": {
   "codemirror_mode": {
    "name": "ipython",
    "version": 3
   },
   "file_extension": ".py",
   "mimetype": "text/x-python",
   "name": "python",
   "nbconvert_exporter": "python",
   "pygments_lexer": "ipython3",
   "version": "3.8.8"
  }
 },
 "nbformat": 4,
 "nbformat_minor": 4
}
