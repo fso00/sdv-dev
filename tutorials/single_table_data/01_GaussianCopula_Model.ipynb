{
 "cells": [
  {
   "cell_type": "markdown",
   "metadata": {},
   "source": [
    "GaussianCopula Model\n",
    "====================\n",
    "\n",
    "In this guide we will go through a series of steps that will let you\n",
    "discover functionalities of the `GaussianCopula` model, including how\n",
    "to:\n",
    "\n",
    "-   Create an instance of a `GaussianCopula`.\n",
    "-   Fit the instance to your data.\n",
    "-   Generate synthetic versions of your data.\n",
    "-   Use `GaussianCopula` to anonymize PII information.\n",
    "-   Customize the data transformations to improve the learning process.\n",
    "-   Specify the column distributions to improve the output quality.\n",
    "\n",
    "What is GaussianCopula?\n",
    "-----------------------\n",
    "\n",
    "The `sdv.tabular.GaussianCopula` model is based on [copula\n",
    "funtions](https://en.wikipedia.org/wiki/Copula_%28probability_theory%29).\n",
    "\n",
    "In mathematical terms, a *copula* is a distribution over the unit cube\n",
    "${\\displaystyle [0,1]^{d}}$ which is constructed from a multivariate\n",
    "normal distribution over ${\\displaystyle \\mathbb {R} ^{d}}$ by using the\n",
    "probability integral transform. Intuitively, a *copula* is a\n",
    "mathematical function that allows us to describe the joint distribution\n",
    "of multiple random variables by analyzing the dependencies between their\n",
    "marginal distributions.\n",
    "\n",
    "Let\\'s now discover how to learn a dataset and later on generate\n",
    "synthetic data with the same format and statistical properties by using\n",
    "the `GaussianCopula` model.\n",
    "\n",
    "Quick Usage\n",
    "-----------\n",
    "\n",
    "We will start by loading one of our demo datasets, the\n",
    "`student_placements`, which contains information about MBA students that\n",
    "applied for placements during the year 2020."
   ]
  },
  {
   "cell_type": "code",
   "execution_count": 1,
   "metadata": {
    "attributes": {
     "classes": [
      ""
     ],
     "id": ""
    }
   },
   "outputs": [
    {
     "data": {
      "text/html": [
       "<div>\n",
       "<style scoped>\n",
       "    .dataframe tbody tr th:only-of-type {\n",
       "        vertical-align: middle;\n",
       "    }\n",
       "\n",
       "    .dataframe tbody tr th {\n",
       "        vertical-align: top;\n",
       "    }\n",
       "\n",
       "    .dataframe thead th {\n",
       "        text-align: right;\n",
       "    }\n",
       "</style>\n",
       "<table border=\"1\" class=\"dataframe\">\n",
       "  <thead>\n",
       "    <tr style=\"text-align: right;\">\n",
       "      <th></th>\n",
       "      <th>student_id</th>\n",
       "      <th>gender</th>\n",
       "      <th>second_perc</th>\n",
       "      <th>high_perc</th>\n",
       "      <th>high_spec</th>\n",
       "      <th>degree_perc</th>\n",
       "      <th>degree_type</th>\n",
       "      <th>work_experience</th>\n",
       "      <th>experience_years</th>\n",
       "      <th>employability_perc</th>\n",
       "      <th>mba_spec</th>\n",
       "      <th>mba_perc</th>\n",
       "      <th>salary</th>\n",
       "      <th>placed</th>\n",
       "      <th>start_date</th>\n",
       "      <th>end_date</th>\n",
       "      <th>duration</th>\n",
       "    </tr>\n",
       "  </thead>\n",
       "  <tbody>\n",
       "    <tr>\n",
       "      <th>0</th>\n",
       "      <td>17264</td>\n",
       "      <td>M</td>\n",
       "      <td>67.00</td>\n",
       "      <td>91.00</td>\n",
       "      <td>Commerce</td>\n",
       "      <td>58.00</td>\n",
       "      <td>Sci&amp;Tech</td>\n",
       "      <td>False</td>\n",
       "      <td>0</td>\n",
       "      <td>55.0</td>\n",
       "      <td>Mkt&amp;HR</td>\n",
       "      <td>58.80</td>\n",
       "      <td>27000.0</td>\n",
       "      <td>True</td>\n",
       "      <td>2020-07-23</td>\n",
       "      <td>2020-10-12</td>\n",
       "      <td>3.0</td>\n",
       "    </tr>\n",
       "    <tr>\n",
       "      <th>1</th>\n",
       "      <td>17265</td>\n",
       "      <td>M</td>\n",
       "      <td>79.33</td>\n",
       "      <td>78.33</td>\n",
       "      <td>Science</td>\n",
       "      <td>77.48</td>\n",
       "      <td>Sci&amp;Tech</td>\n",
       "      <td>True</td>\n",
       "      <td>1</td>\n",
       "      <td>86.5</td>\n",
       "      <td>Mkt&amp;Fin</td>\n",
       "      <td>66.28</td>\n",
       "      <td>20000.0</td>\n",
       "      <td>True</td>\n",
       "      <td>2020-01-11</td>\n",
       "      <td>2020-04-09</td>\n",
       "      <td>3.0</td>\n",
       "    </tr>\n",
       "    <tr>\n",
       "      <th>2</th>\n",
       "      <td>17266</td>\n",
       "      <td>M</td>\n",
       "      <td>65.00</td>\n",
       "      <td>68.00</td>\n",
       "      <td>Arts</td>\n",
       "      <td>64.00</td>\n",
       "      <td>Comm&amp;Mgmt</td>\n",
       "      <td>False</td>\n",
       "      <td>0</td>\n",
       "      <td>75.0</td>\n",
       "      <td>Mkt&amp;Fin</td>\n",
       "      <td>57.80</td>\n",
       "      <td>25000.0</td>\n",
       "      <td>True</td>\n",
       "      <td>2020-01-26</td>\n",
       "      <td>2020-07-13</td>\n",
       "      <td>6.0</td>\n",
       "    </tr>\n",
       "    <tr>\n",
       "      <th>3</th>\n",
       "      <td>17267</td>\n",
       "      <td>M</td>\n",
       "      <td>56.00</td>\n",
       "      <td>52.00</td>\n",
       "      <td>Science</td>\n",
       "      <td>52.00</td>\n",
       "      <td>Sci&amp;Tech</td>\n",
       "      <td>False</td>\n",
       "      <td>0</td>\n",
       "      <td>66.0</td>\n",
       "      <td>Mkt&amp;HR</td>\n",
       "      <td>59.43</td>\n",
       "      <td>NaN</td>\n",
       "      <td>False</td>\n",
       "      <td>NaT</td>\n",
       "      <td>NaT</td>\n",
       "      <td>NaN</td>\n",
       "    </tr>\n",
       "    <tr>\n",
       "      <th>4</th>\n",
       "      <td>17268</td>\n",
       "      <td>M</td>\n",
       "      <td>85.80</td>\n",
       "      <td>73.60</td>\n",
       "      <td>Commerce</td>\n",
       "      <td>73.30</td>\n",
       "      <td>Comm&amp;Mgmt</td>\n",
       "      <td>False</td>\n",
       "      <td>0</td>\n",
       "      <td>96.8</td>\n",
       "      <td>Mkt&amp;Fin</td>\n",
       "      <td>55.50</td>\n",
       "      <td>42500.0</td>\n",
       "      <td>True</td>\n",
       "      <td>2020-07-04</td>\n",
       "      <td>2020-09-27</td>\n",
       "      <td>3.0</td>\n",
       "    </tr>\n",
       "  </tbody>\n",
       "</table>\n",
       "</div>"
      ],
      "text/plain": [
       "   student_id gender  second_perc  high_perc high_spec  degree_perc  \\\n",
       "0       17264      M        67.00      91.00  Commerce        58.00   \n",
       "1       17265      M        79.33      78.33   Science        77.48   \n",
       "2       17266      M        65.00      68.00      Arts        64.00   \n",
       "3       17267      M        56.00      52.00   Science        52.00   \n",
       "4       17268      M        85.80      73.60  Commerce        73.30   \n",
       "\n",
       "  degree_type  work_experience  experience_years  employability_perc mba_spec  \\\n",
       "0    Sci&Tech            False                 0                55.0   Mkt&HR   \n",
       "1    Sci&Tech             True                 1                86.5  Mkt&Fin   \n",
       "2   Comm&Mgmt            False                 0                75.0  Mkt&Fin   \n",
       "3    Sci&Tech            False                 0                66.0   Mkt&HR   \n",
       "4   Comm&Mgmt            False                 0                96.8  Mkt&Fin   \n",
       "\n",
       "   mba_perc   salary  placed start_date   end_date duration  \n",
       "0     58.80  27000.0    True 2020-07-23 2020-10-12      3.0  \n",
       "1     66.28  20000.0    True 2020-01-11 2020-04-09      3.0  \n",
       "2     57.80  25000.0    True 2020-01-26 2020-07-13      6.0  \n",
       "3     59.43      NaN   False        NaT        NaT      NaN  \n",
       "4     55.50  42500.0    True 2020-07-04 2020-09-27      3.0  "
      ]
     },
     "execution_count": 1,
     "metadata": {},
     "output_type": "execute_result"
    }
   ],
   "source": [
    "from sdv.demo import load_tabular_demo\n",
    "\n",
    "data = load_tabular_demo('student_placements')\n",
    "data.head()"
   ]
  },
  {
   "cell_type": "markdown",
   "metadata": {},
   "source": [
    "As you can see, this table contains information about students which\n",
    "includes, among other things:\n",
    "\n",
    "-   Their id and gender\n",
    "-   Their grades and specializations\n",
    "-   Their work experience\n",
    "-   The salary that they where offered\n",
    "-   The duration and dates of their placement\n",
    "\n",
    "You will notice that there is data with the following characteristics:\n",
    "\n",
    "-   There are float, integer, boolean, categorical and datetime values.\n",
    "-   There are some variables that have missing data. In particular, all\n",
    "    the data related to the placement details is missing in the rows\n",
    "    where the student was not placed.\n",
    "\n",
    "Let us use the `GaussianCopula` to learn this data and then sample\n",
    "synthetic data about new students to see how well de model captures the\n",
    "characteristics indicated above. In order to do this you will need to:\n",
    "\n",
    "-   Import the `sdv.tabular.GaussianCopula` class and create an instance\n",
    "    of it.\n",
    "-   Call its `fit` method passing our table.\n",
    "-   Call its `sample` method indicating the number of synthetic rows\n",
    "    that you want to generate."
   ]
  },
  {
   "cell_type": "code",
   "execution_count": 2,
   "metadata": {
    "attributes": {
     "classes": [
      ""
     ],
     "id": ""
    }
   },
   "outputs": [],
   "source": [
    "from sdv.tabular import GaussianCopula\n",
    "\n",
    "model = GaussianCopula()\n",
    "model.fit(data)"
   ]
  },
  {
   "cell_type": "markdown",
   "metadata": {},
   "source": [
    "<div class=\"alert alert-info\">\n",
    "\n",
    "**Note**\n",
    "\n",
    "Notice that the model `fitting` process took care of transforming the\n",
    "different fields using the appropriate [Reversible Data\n",
    "Transforms](http://github.com/sdv-dev/RDT) to ensure that the data has a\n",
    "format that the `GaussianMultivariate` model can handle.\n",
    "\n",
    "</div>\n",
    "\n",
    "### Generate synthetic data from the model\n",
    "\n",
    "Once the modeling has finished you are ready to generate new synthetic\n",
    "data by calling the `sample` method from your model passing the number\n",
    "of rows that we want to generate."
   ]
  },
  {
   "cell_type": "code",
   "execution_count": 3,
   "metadata": {
    "attributes": {
     "classes": [
      ""
     ],
     "id": ""
    }
   },
   "outputs": [],
   "source": [
    "new_data = model.sample(200)"
   ]
  },
  {
   "cell_type": "markdown",
   "metadata": {},
   "source": [
    "This will return a table identical to the one which the model was fitted\n",
    "on, but filled with new data which resembles the original one."
   ]
  },
  {
   "cell_type": "code",
   "execution_count": 4,
   "metadata": {
    "attributes": {
     "classes": [
      ""
     ],
     "id": ""
    }
   },
   "outputs": [
    {
     "data": {
      "text/html": [
       "<div>\n",
       "<style scoped>\n",
       "    .dataframe tbody tr th:only-of-type {\n",
       "        vertical-align: middle;\n",
       "    }\n",
       "\n",
       "    .dataframe tbody tr th {\n",
       "        vertical-align: top;\n",
       "    }\n",
       "\n",
       "    .dataframe thead th {\n",
       "        text-align: right;\n",
       "    }\n",
       "</style>\n",
       "<table border=\"1\" class=\"dataframe\">\n",
       "  <thead>\n",
       "    <tr style=\"text-align: right;\">\n",
       "      <th></th>\n",
       "      <th>student_id</th>\n",
       "      <th>gender</th>\n",
       "      <th>second_perc</th>\n",
       "      <th>high_perc</th>\n",
       "      <th>high_spec</th>\n",
       "      <th>degree_perc</th>\n",
       "      <th>degree_type</th>\n",
       "      <th>work_experience</th>\n",
       "      <th>experience_years</th>\n",
       "      <th>employability_perc</th>\n",
       "      <th>mba_spec</th>\n",
       "      <th>mba_perc</th>\n",
       "      <th>salary</th>\n",
       "      <th>placed</th>\n",
       "      <th>start_date</th>\n",
       "      <th>end_date</th>\n",
       "      <th>duration</th>\n",
       "    </tr>\n",
       "  </thead>\n",
       "  <tbody>\n",
       "    <tr>\n",
       "      <th>0</th>\n",
       "      <td>17337</td>\n",
       "      <td>M</td>\n",
       "      <td>69.789970</td>\n",
       "      <td>64.038437</td>\n",
       "      <td>Science</td>\n",
       "      <td>60.195540</td>\n",
       "      <td>Comm&amp;Mgmt</td>\n",
       "      <td>False</td>\n",
       "      <td>0</td>\n",
       "      <td>93.824616</td>\n",
       "      <td>Mkt&amp;HR</td>\n",
       "      <td>67.513484</td>\n",
       "      <td>NaN</td>\n",
       "      <td>False</td>\n",
       "      <td>NaT</td>\n",
       "      <td>NaT</td>\n",
       "      <td>3.0</td>\n",
       "    </tr>\n",
       "    <tr>\n",
       "      <th>1</th>\n",
       "      <td>17420</td>\n",
       "      <td>M</td>\n",
       "      <td>80.407529</td>\n",
       "      <td>69.814132</td>\n",
       "      <td>Science</td>\n",
       "      <td>67.650940</td>\n",
       "      <td>Sci&amp;Tech</td>\n",
       "      <td>False</td>\n",
       "      <td>0</td>\n",
       "      <td>78.946370</td>\n",
       "      <td>Mkt&amp;Fin</td>\n",
       "      <td>62.415265</td>\n",
       "      <td>19487.606350</td>\n",
       "      <td>True</td>\n",
       "      <td>2020-01-05</td>\n",
       "      <td>2020-08-17</td>\n",
       "      <td>12.0</td>\n",
       "    </tr>\n",
       "    <tr>\n",
       "      <th>2</th>\n",
       "      <td>17441</td>\n",
       "      <td>M</td>\n",
       "      <td>78.921113</td>\n",
       "      <td>49.006094</td>\n",
       "      <td>Science</td>\n",
       "      <td>65.458268</td>\n",
       "      <td>Sci&amp;Tech</td>\n",
       "      <td>False</td>\n",
       "      <td>1</td>\n",
       "      <td>68.347128</td>\n",
       "      <td>Mkt&amp;Fin</td>\n",
       "      <td>65.706497</td>\n",
       "      <td>27714.793049</td>\n",
       "      <td>True</td>\n",
       "      <td>2020-01-04</td>\n",
       "      <td>2020-06-26</td>\n",
       "      <td>12.0</td>\n",
       "    </tr>\n",
       "    <tr>\n",
       "      <th>3</th>\n",
       "      <td>17389</td>\n",
       "      <td>M</td>\n",
       "      <td>62.244812</td>\n",
       "      <td>75.188275</td>\n",
       "      <td>Commerce</td>\n",
       "      <td>57.815927</td>\n",
       "      <td>Comm&amp;Mgmt</td>\n",
       "      <td>False</td>\n",
       "      <td>1</td>\n",
       "      <td>91.614327</td>\n",
       "      <td>Mkt&amp;Fin</td>\n",
       "      <td>59.393779</td>\n",
       "      <td>34718.637666</td>\n",
       "      <td>True</td>\n",
       "      <td>2020-01-25</td>\n",
       "      <td>2020-08-09</td>\n",
       "      <td>3.0</td>\n",
       "    </tr>\n",
       "    <tr>\n",
       "      <th>4</th>\n",
       "      <td>17401</td>\n",
       "      <td>M</td>\n",
       "      <td>65.093664</td>\n",
       "      <td>72.541197</td>\n",
       "      <td>Commerce</td>\n",
       "      <td>67.749592</td>\n",
       "      <td>Comm&amp;Mgmt</td>\n",
       "      <td>False</td>\n",
       "      <td>1</td>\n",
       "      <td>51.735485</td>\n",
       "      <td>Mkt&amp;Fin</td>\n",
       "      <td>61.138014</td>\n",
       "      <td>34227.722701</td>\n",
       "      <td>True</td>\n",
       "      <td>2020-01-10</td>\n",
       "      <td>2020-07-31</td>\n",
       "      <td>12.0</td>\n",
       "    </tr>\n",
       "  </tbody>\n",
       "</table>\n",
       "</div>"
      ],
      "text/plain": [
       "   student_id gender  second_perc  high_perc high_spec  degree_perc  \\\n",
       "0       17337      M    69.789970  64.038437   Science    60.195540   \n",
       "1       17420      M    80.407529  69.814132   Science    67.650940   \n",
       "2       17441      M    78.921113  49.006094   Science    65.458268   \n",
       "3       17389      M    62.244812  75.188275  Commerce    57.815927   \n",
       "4       17401      M    65.093664  72.541197  Commerce    67.749592   \n",
       "\n",
       "  degree_type  work_experience  experience_years  employability_perc mba_spec  \\\n",
       "0   Comm&Mgmt            False                 0           93.824616   Mkt&HR   \n",
       "1    Sci&Tech            False                 0           78.946370  Mkt&Fin   \n",
       "2    Sci&Tech            False                 1           68.347128  Mkt&Fin   \n",
       "3   Comm&Mgmt            False                 1           91.614327  Mkt&Fin   \n",
       "4   Comm&Mgmt            False                 1           51.735485  Mkt&Fin   \n",
       "\n",
       "    mba_perc        salary  placed start_date   end_date duration  \n",
       "0  67.513484           NaN   False        NaT        NaT      3.0  \n",
       "1  62.415265  19487.606350    True 2020-01-05 2020-08-17     12.0  \n",
       "2  65.706497  27714.793049    True 2020-01-04 2020-06-26     12.0  \n",
       "3  59.393779  34718.637666    True 2020-01-25 2020-08-09      3.0  \n",
       "4  61.138014  34227.722701    True 2020-01-10 2020-07-31     12.0  "
      ]
     },
     "execution_count": 4,
     "metadata": {},
     "output_type": "execute_result"
    }
   ],
   "source": [
    "new_data.head()"
   ]
  },
  {
   "cell_type": "markdown",
   "metadata": {},
   "source": [
    "<div class=\"alert alert-info\">\n",
    "\n",
    "**Note**\n",
    "\n",
    "You can control the number of rows by specifying the number of `samples`\n",
    "in the `model.sample(<num_rows>)`. To test, try `model.sample(10000)`.\n",
    "Note that the original table only had \\~200 rows.\n",
    "\n",
    "</div>\n",
    "\n",
    "### Save and Load the model\n",
    "\n",
    "In many scenarios it will be convenient to generate synthetic versions\n",
    "of your data directly in systems that do not have access to the original\n",
    "data source. For example, if you may want to generate testing data on\n",
    "the fly inside a testing environment that does not have access to your\n",
    "production database. In these scenarios, fitting the model with real\n",
    "data every time that you need to generate new data is feasible, so you\n",
    "will need to fit a model in your production environment, save the fitted\n",
    "model into a file, send this file to the testing environment and then\n",
    "load it there to be able to `sample` from it.\n",
    "\n",
    "Let\\'s see how this process works.\n",
    "\n",
    "#### Save and share the model\n",
    "\n",
    "Once you have fitted the model, all you need to do is call its `save`\n",
    "method passing the name of the file in which you want to save the model.\n",
    "Note that the extension of the filename is not relevant, but we will be\n",
    "using the `.pkl` extension to highlight that the serialization protocol\n",
    "used is [pickle](https://docs.python.org/3/library/pickle.html)."
   ]
  },
  {
   "cell_type": "code",
   "execution_count": 5,
   "metadata": {
    "attributes": {
     "classes": [
      ""
     ],
     "id": ""
    }
   },
   "outputs": [],
   "source": [
    "model.save('my_model.pkl')"
   ]
  },
  {
   "cell_type": "markdown",
   "metadata": {},
   "source": [
    "This will have created a file called `my_model.pkl` in the same\n",
    "directory in which you are running SDV.\n",
    "\n",
    "<div class=\"alert alert-info\">\n",
    "\n",
    "**Important**\n",
    "\n",
    "If you inspect the generated file you will notice that its size is much\n",
    "smaller than the size of the data that you used to generate it. This is\n",
    "because the serialized model contains **no information about the\n",
    "original data**, other than the parameters it needs to generate\n",
    "synthetic versions of it. This means that you can safely share this\n",
    "`my_model.pkl` file without the risk of disclosing any of your real\n",
    "data!\n",
    "\n",
    "</div>\n",
    "\n",
    "#### Load the model and generate new data\n",
    "\n",
    "The file you just generated can be send over to the system where the\n",
    "synthetic data will be generated. Once it is there, you can load it\n",
    "using the `GaussianCopula.load` method, and then you are ready to sample\n",
    "new data from the loaded instance:"
   ]
  },
  {
   "cell_type": "code",
   "execution_count": 6,
   "metadata": {
    "attributes": {
     "classes": [
      ""
     ],
     "id": ""
    }
   },
   "outputs": [],
   "source": [
    "loaded = GaussianCopula.load('my_model.pkl')\n",
    "new_data = loaded.sample(200)"
   ]
  },
  {
   "cell_type": "markdown",
   "metadata": {},
   "source": [
    "<div class=\"alert alert-warning\">\n",
    "\n",
    "**Warning**\n",
    "\n",
    "Notice that the system where the model is loaded needs to also have\n",
    "`sdv` installed, otherwise it will not be able to load the model and use\n",
    "it.\n",
    "\n",
    "</div>\n",
    "\n",
    "### Specifying the Primary Key of the table\n",
    "\n",
    "One of the first things that you may have noticed when looking that demo\n",
    "data is that there is a `student_id` column which acts as the primary\n",
    "key of the table, and which is supposed to have unique values. Indeed,\n",
    "if we look at the number of times that each value appears, we see that\n",
    "all of them appear at most once:"
   ]
  },
  {
   "cell_type": "code",
   "execution_count": 7,
   "metadata": {
    "attributes": {
     "classes": [
      ""
     ],
     "id": ""
    }
   },
   "outputs": [
    {
     "data": {
      "text/plain": [
       "1"
      ]
     },
     "execution_count": 7,
     "metadata": {},
     "output_type": "execute_result"
    }
   ],
   "source": [
    "data.student_id.value_counts().max()"
   ]
  },
  {
   "cell_type": "markdown",
   "metadata": {},
   "source": [
    "However, if we look at the synthetic data that we generated, we observe\n",
    "that there are some values that appear more than once:"
   ]
  },
  {
   "cell_type": "code",
   "execution_count": 8,
   "metadata": {
    "attributes": {
     "classes": [
      ""
     ],
     "id": ""
    }
   },
   "outputs": [
    {
     "data": {
      "text/html": [
       "<div>\n",
       "<style scoped>\n",
       "    .dataframe tbody tr th:only-of-type {\n",
       "        vertical-align: middle;\n",
       "    }\n",
       "\n",
       "    .dataframe tbody tr th {\n",
       "        vertical-align: top;\n",
       "    }\n",
       "\n",
       "    .dataframe thead th {\n",
       "        text-align: right;\n",
       "    }\n",
       "</style>\n",
       "<table border=\"1\" class=\"dataframe\">\n",
       "  <thead>\n",
       "    <tr style=\"text-align: right;\">\n",
       "      <th></th>\n",
       "      <th>student_id</th>\n",
       "      <th>gender</th>\n",
       "      <th>second_perc</th>\n",
       "      <th>high_perc</th>\n",
       "      <th>high_spec</th>\n",
       "      <th>degree_perc</th>\n",
       "      <th>degree_type</th>\n",
       "      <th>work_experience</th>\n",
       "      <th>experience_years</th>\n",
       "      <th>employability_perc</th>\n",
       "      <th>mba_spec</th>\n",
       "      <th>mba_perc</th>\n",
       "      <th>salary</th>\n",
       "      <th>placed</th>\n",
       "      <th>start_date</th>\n",
       "      <th>end_date</th>\n",
       "      <th>duration</th>\n",
       "    </tr>\n",
       "  </thead>\n",
       "  <tbody>\n",
       "    <tr>\n",
       "      <th>9</th>\n",
       "      <td>17342</td>\n",
       "      <td>M</td>\n",
       "      <td>54.935234</td>\n",
       "      <td>50.998979</td>\n",
       "      <td>Commerce</td>\n",
       "      <td>63.217345</td>\n",
       "      <td>Comm&amp;Mgmt</td>\n",
       "      <td>False</td>\n",
       "      <td>1</td>\n",
       "      <td>67.490972</td>\n",
       "      <td>Mkt&amp;Fin</td>\n",
       "      <td>58.090133</td>\n",
       "      <td>24239.401450</td>\n",
       "      <td>True</td>\n",
       "      <td>2020-06-25</td>\n",
       "      <td>2020-07-16</td>\n",
       "      <td>3.0</td>\n",
       "    </tr>\n",
       "    <tr>\n",
       "      <th>20</th>\n",
       "      <td>17342</td>\n",
       "      <td>F</td>\n",
       "      <td>64.978227</td>\n",
       "      <td>86.288348</td>\n",
       "      <td>Commerce</td>\n",
       "      <td>68.818606</td>\n",
       "      <td>Comm&amp;Mgmt</td>\n",
       "      <td>False</td>\n",
       "      <td>1</td>\n",
       "      <td>54.830549</td>\n",
       "      <td>Mkt&amp;HR</td>\n",
       "      <td>70.101596</td>\n",
       "      <td>21793.406963</td>\n",
       "      <td>True</td>\n",
       "      <td>2020-08-15</td>\n",
       "      <td>2020-11-10</td>\n",
       "      <td>3.0</td>\n",
       "    </tr>\n",
       "    <tr>\n",
       "      <th>57</th>\n",
       "      <td>17342</td>\n",
       "      <td>M</td>\n",
       "      <td>52.931981</td>\n",
       "      <td>55.143197</td>\n",
       "      <td>Commerce</td>\n",
       "      <td>61.656104</td>\n",
       "      <td>Comm&amp;Mgmt</td>\n",
       "      <td>False</td>\n",
       "      <td>0</td>\n",
       "      <td>67.581991</td>\n",
       "      <td>Mkt&amp;HR</td>\n",
       "      <td>56.707284</td>\n",
       "      <td>26179.886704</td>\n",
       "      <td>True</td>\n",
       "      <td>2020-01-15</td>\n",
       "      <td>2020-08-08</td>\n",
       "      <td>NaN</td>\n",
       "    </tr>\n",
       "    <tr>\n",
       "      <th>82</th>\n",
       "      <td>17342</td>\n",
       "      <td>F</td>\n",
       "      <td>85.296822</td>\n",
       "      <td>87.708795</td>\n",
       "      <td>Science</td>\n",
       "      <td>75.801693</td>\n",
       "      <td>Comm&amp;Mgmt</td>\n",
       "      <td>False</td>\n",
       "      <td>2</td>\n",
       "      <td>88.828341</td>\n",
       "      <td>Mkt&amp;Fin</td>\n",
       "      <td>71.943917</td>\n",
       "      <td>31704.913129</td>\n",
       "      <td>True</td>\n",
       "      <td>2020-09-07</td>\n",
       "      <td>2020-12-05</td>\n",
       "      <td>3.0</td>\n",
       "    </tr>\n",
       "  </tbody>\n",
       "</table>\n",
       "</div>"
      ],
      "text/plain": [
       "    student_id gender  second_perc  high_perc high_spec  degree_perc  \\\n",
       "9        17342      M    54.935234  50.998979  Commerce    63.217345   \n",
       "20       17342      F    64.978227  86.288348  Commerce    68.818606   \n",
       "57       17342      M    52.931981  55.143197  Commerce    61.656104   \n",
       "82       17342      F    85.296822  87.708795   Science    75.801693   \n",
       "\n",
       "   degree_type  work_experience  experience_years  employability_perc  \\\n",
       "9    Comm&Mgmt            False                 1           67.490972   \n",
       "20   Comm&Mgmt            False                 1           54.830549   \n",
       "57   Comm&Mgmt            False                 0           67.581991   \n",
       "82   Comm&Mgmt            False                 2           88.828341   \n",
       "\n",
       "   mba_spec   mba_perc        salary  placed start_date   end_date duration  \n",
       "9   Mkt&Fin  58.090133  24239.401450    True 2020-06-25 2020-07-16      3.0  \n",
       "20   Mkt&HR  70.101596  21793.406963    True 2020-08-15 2020-11-10      3.0  \n",
       "57   Mkt&HR  56.707284  26179.886704    True 2020-01-15 2020-08-08      NaN  \n",
       "82  Mkt&Fin  71.943917  31704.913129    True 2020-09-07 2020-12-05      3.0  "
      ]
     },
     "execution_count": 8,
     "metadata": {},
     "output_type": "execute_result"
    }
   ],
   "source": [
    "new_data[new_data.student_id == new_data.student_id.value_counts().index[0]]"
   ]
  },
  {
   "cell_type": "markdown",
   "metadata": {},
   "source": [
    "This happens because the model was not notified at any point about the\n",
    "fact that the `student_id` had to be unique, so when it generates new\n",
    "data it will provoke collisions sooner or later. In order to solve this,\n",
    "we can pass the argument `primary_key` to our model when we create it,\n",
    "indicating the name of the column that is the index of the table."
   ]
  },
  {
   "cell_type": "code",
   "execution_count": 9,
   "metadata": {
    "attributes": {
     "classes": [
      ""
     ],
     "id": ""
    }
   },
   "outputs": [
    {
     "data": {
      "text/html": [
       "<div>\n",
       "<style scoped>\n",
       "    .dataframe tbody tr th:only-of-type {\n",
       "        vertical-align: middle;\n",
       "    }\n",
       "\n",
       "    .dataframe tbody tr th {\n",
       "        vertical-align: top;\n",
       "    }\n",
       "\n",
       "    .dataframe thead th {\n",
       "        text-align: right;\n",
       "    }\n",
       "</style>\n",
       "<table border=\"1\" class=\"dataframe\">\n",
       "  <thead>\n",
       "    <tr style=\"text-align: right;\">\n",
       "      <th></th>\n",
       "      <th>student_id</th>\n",
       "      <th>gender</th>\n",
       "      <th>second_perc</th>\n",
       "      <th>high_perc</th>\n",
       "      <th>high_spec</th>\n",
       "      <th>degree_perc</th>\n",
       "      <th>degree_type</th>\n",
       "      <th>work_experience</th>\n",
       "      <th>experience_years</th>\n",
       "      <th>employability_perc</th>\n",
       "      <th>mba_spec</th>\n",
       "      <th>mba_perc</th>\n",
       "      <th>salary</th>\n",
       "      <th>placed</th>\n",
       "      <th>start_date</th>\n",
       "      <th>end_date</th>\n",
       "      <th>duration</th>\n",
       "    </tr>\n",
       "  </thead>\n",
       "  <tbody>\n",
       "    <tr>\n",
       "      <th>0</th>\n",
       "      <td>0</td>\n",
       "      <td>M</td>\n",
       "      <td>59.285820</td>\n",
       "      <td>51.436204</td>\n",
       "      <td>Science</td>\n",
       "      <td>70.018347</td>\n",
       "      <td>Comm&amp;Mgmt</td>\n",
       "      <td>False</td>\n",
       "      <td>0</td>\n",
       "      <td>72.896522</td>\n",
       "      <td>Mkt&amp;HR</td>\n",
       "      <td>58.278380</td>\n",
       "      <td>25245.916219</td>\n",
       "      <td>True</td>\n",
       "      <td>2020-02-08</td>\n",
       "      <td>2020-11-06</td>\n",
       "      <td>NaN</td>\n",
       "    </tr>\n",
       "    <tr>\n",
       "      <th>1</th>\n",
       "      <td>1</td>\n",
       "      <td>M</td>\n",
       "      <td>80.217829</td>\n",
       "      <td>59.131302</td>\n",
       "      <td>Science</td>\n",
       "      <td>70.515980</td>\n",
       "      <td>Comm&amp;Mgmt</td>\n",
       "      <td>False</td>\n",
       "      <td>0</td>\n",
       "      <td>86.150661</td>\n",
       "      <td>Mkt&amp;Fin</td>\n",
       "      <td>61.402338</td>\n",
       "      <td>28905.201262</td>\n",
       "      <td>True</td>\n",
       "      <td>2020-03-10</td>\n",
       "      <td>2020-11-02</td>\n",
       "      <td>12.0</td>\n",
       "    </tr>\n",
       "    <tr>\n",
       "      <th>2</th>\n",
       "      <td>2</td>\n",
       "      <td>M</td>\n",
       "      <td>81.522978</td>\n",
       "      <td>105.011861</td>\n",
       "      <td>Commerce</td>\n",
       "      <td>78.196524</td>\n",
       "      <td>Comm&amp;Mgmt</td>\n",
       "      <td>False</td>\n",
       "      <td>1</td>\n",
       "      <td>68.391053</td>\n",
       "      <td>Mkt&amp;Fin</td>\n",
       "      <td>61.221647</td>\n",
       "      <td>24391.784609</td>\n",
       "      <td>True</td>\n",
       "      <td>2020-01-02</td>\n",
       "      <td>2020-09-26</td>\n",
       "      <td>12.0</td>\n",
       "    </tr>\n",
       "    <tr>\n",
       "      <th>3</th>\n",
       "      <td>3</td>\n",
       "      <td>F</td>\n",
       "      <td>86.123675</td>\n",
       "      <td>76.522714</td>\n",
       "      <td>Science</td>\n",
       "      <td>68.948388</td>\n",
       "      <td>Comm&amp;Mgmt</td>\n",
       "      <td>False</td>\n",
       "      <td>1</td>\n",
       "      <td>95.522609</td>\n",
       "      <td>Mkt&amp;Fin</td>\n",
       "      <td>62.157783</td>\n",
       "      <td>32237.319412</td>\n",
       "      <td>True</td>\n",
       "      <td>2020-01-18</td>\n",
       "      <td>2020-06-01</td>\n",
       "      <td>3.0</td>\n",
       "    </tr>\n",
       "    <tr>\n",
       "      <th>4</th>\n",
       "      <td>4</td>\n",
       "      <td>M</td>\n",
       "      <td>61.954142</td>\n",
       "      <td>63.993530</td>\n",
       "      <td>Commerce</td>\n",
       "      <td>64.836083</td>\n",
       "      <td>Comm&amp;Mgmt</td>\n",
       "      <td>False</td>\n",
       "      <td>1</td>\n",
       "      <td>58.541540</td>\n",
       "      <td>Mkt&amp;Fin</td>\n",
       "      <td>70.311581</td>\n",
       "      <td>22688.038051</td>\n",
       "      <td>True</td>\n",
       "      <td>2020-04-15</td>\n",
       "      <td>2020-10-20</td>\n",
       "      <td>3.0</td>\n",
       "    </tr>\n",
       "  </tbody>\n",
       "</table>\n",
       "</div>"
      ],
      "text/plain": [
       "   student_id gender  second_perc   high_perc high_spec  degree_perc  \\\n",
       "0           0      M    59.285820   51.436204   Science    70.018347   \n",
       "1           1      M    80.217829   59.131302   Science    70.515980   \n",
       "2           2      M    81.522978  105.011861  Commerce    78.196524   \n",
       "3           3      F    86.123675   76.522714   Science    68.948388   \n",
       "4           4      M    61.954142   63.993530  Commerce    64.836083   \n",
       "\n",
       "  degree_type  work_experience  experience_years  employability_perc mba_spec  \\\n",
       "0   Comm&Mgmt            False                 0           72.896522   Mkt&HR   \n",
       "1   Comm&Mgmt            False                 0           86.150661  Mkt&Fin   \n",
       "2   Comm&Mgmt            False                 1           68.391053  Mkt&Fin   \n",
       "3   Comm&Mgmt            False                 1           95.522609  Mkt&Fin   \n",
       "4   Comm&Mgmt            False                 1           58.541540  Mkt&Fin   \n",
       "\n",
       "    mba_perc        salary  placed start_date   end_date duration  \n",
       "0  58.278380  25245.916219    True 2020-02-08 2020-11-06      NaN  \n",
       "1  61.402338  28905.201262    True 2020-03-10 2020-11-02     12.0  \n",
       "2  61.221647  24391.784609    True 2020-01-02 2020-09-26     12.0  \n",
       "3  62.157783  32237.319412    True 2020-01-18 2020-06-01      3.0  \n",
       "4  70.311581  22688.038051    True 2020-04-15 2020-10-20      3.0  "
      ]
     },
     "execution_count": 9,
     "metadata": {},
     "output_type": "execute_result"
    }
   ],
   "source": [
    "model = GaussianCopula(\n",
    "    primary_key='student_id'\n",
    ")\n",
    "model.fit(data)\n",
    "new_data = model.sample(200)\n",
    "new_data.head()"
   ]
  },
  {
   "cell_type": "markdown",
   "metadata": {},
   "source": [
    "As a result, the model will learn that this column must be unique and\n",
    "generate a unique sequence of values for the column:"
   ]
  },
  {
   "cell_type": "code",
   "execution_count": 10,
   "metadata": {
    "attributes": {
     "classes": [
      ""
     ],
     "id": ""
    }
   },
   "outputs": [
    {
     "data": {
      "text/plain": [
       "1"
      ]
     },
     "execution_count": 10,
     "metadata": {},
     "output_type": "execute_result"
    }
   ],
   "source": [
    "new_data.student_id.value_counts().max()"
   ]
  },
  {
   "cell_type": "markdown",
   "metadata": {},
   "source": [
    "### Anonymizing Personally Identifiable Information (PII)\n",
    "\n",
    "There will be many cases where the data will contain Personally\n",
    "Identifiable Information which we cannot disclose. In these cases, we\n",
    "will want our Tabular Models to replace the information within these\n",
    "fields with fake, simulated data that looks similar to the real one but\n",
    "does not contain any of the original values.\n",
    "\n",
    "Let\\'s load a new dataset that contains a PII field, the\n",
    "`student_placements_pii` demo, and try to generate synthetic versions of\n",
    "it that do not contain any of the PII fields.\n",
    "\n",
    "<div class=\"alert alert-info\">\n",
    "\n",
    "**Note**\n",
    "\n",
    "The `student_placements_pii` dataset is a modified version of the\n",
    "`student_placements` dataset with one new field, `address`, which\n",
    "contains PII information about the students. Notice that this additional\n",
    "`address` field has been simulated and does not correspond to data from\n",
    "the real users.\n",
    "\n",
    "</div>"
   ]
  },
  {
   "cell_type": "code",
   "execution_count": 11,
   "metadata": {
    "attributes": {
     "classes": [
      ""
     ],
     "id": ""
    }
   },
   "outputs": [
    {
     "data": {
      "text/html": [
       "<div>\n",
       "<style scoped>\n",
       "    .dataframe tbody tr th:only-of-type {\n",
       "        vertical-align: middle;\n",
       "    }\n",
       "\n",
       "    .dataframe tbody tr th {\n",
       "        vertical-align: top;\n",
       "    }\n",
       "\n",
       "    .dataframe thead th {\n",
       "        text-align: right;\n",
       "    }\n",
       "</style>\n",
       "<table border=\"1\" class=\"dataframe\">\n",
       "  <thead>\n",
       "    <tr style=\"text-align: right;\">\n",
       "      <th></th>\n",
       "      <th>student_id</th>\n",
       "      <th>address</th>\n",
       "      <th>gender</th>\n",
       "      <th>second_perc</th>\n",
       "      <th>high_perc</th>\n",
       "      <th>high_spec</th>\n",
       "      <th>degree_perc</th>\n",
       "      <th>degree_type</th>\n",
       "      <th>work_experience</th>\n",
       "      <th>experience_years</th>\n",
       "      <th>employability_perc</th>\n",
       "      <th>mba_spec</th>\n",
       "      <th>mba_perc</th>\n",
       "      <th>salary</th>\n",
       "      <th>placed</th>\n",
       "      <th>start_date</th>\n",
       "      <th>end_date</th>\n",
       "      <th>duration</th>\n",
       "    </tr>\n",
       "  </thead>\n",
       "  <tbody>\n",
       "    <tr>\n",
       "      <th>0</th>\n",
       "      <td>17264</td>\n",
       "      <td>70304 Baker Turnpike\\nEricborough, MS 15086</td>\n",
       "      <td>M</td>\n",
       "      <td>67.00</td>\n",
       "      <td>91.00</td>\n",
       "      <td>Commerce</td>\n",
       "      <td>58.00</td>\n",
       "      <td>Sci&amp;Tech</td>\n",
       "      <td>False</td>\n",
       "      <td>0</td>\n",
       "      <td>55.0</td>\n",
       "      <td>Mkt&amp;HR</td>\n",
       "      <td>58.80</td>\n",
       "      <td>27000.0</td>\n",
       "      <td>True</td>\n",
       "      <td>2020-07-23</td>\n",
       "      <td>2020-10-12</td>\n",
       "      <td>3.0</td>\n",
       "    </tr>\n",
       "    <tr>\n",
       "      <th>1</th>\n",
       "      <td>17265</td>\n",
       "      <td>805 Herrera Avenue Apt. 134\\nMaryview, NJ 36510</td>\n",
       "      <td>M</td>\n",
       "      <td>79.33</td>\n",
       "      <td>78.33</td>\n",
       "      <td>Science</td>\n",
       "      <td>77.48</td>\n",
       "      <td>Sci&amp;Tech</td>\n",
       "      <td>True</td>\n",
       "      <td>1</td>\n",
       "      <td>86.5</td>\n",
       "      <td>Mkt&amp;Fin</td>\n",
       "      <td>66.28</td>\n",
       "      <td>20000.0</td>\n",
       "      <td>True</td>\n",
       "      <td>2020-01-11</td>\n",
       "      <td>2020-04-09</td>\n",
       "      <td>3.0</td>\n",
       "    </tr>\n",
       "    <tr>\n",
       "      <th>2</th>\n",
       "      <td>17266</td>\n",
       "      <td>3702 Bradley Island\\nNorth Victor, FL 12268</td>\n",
       "      <td>M</td>\n",
       "      <td>65.00</td>\n",
       "      <td>68.00</td>\n",
       "      <td>Arts</td>\n",
       "      <td>64.00</td>\n",
       "      <td>Comm&amp;Mgmt</td>\n",
       "      <td>False</td>\n",
       "      <td>0</td>\n",
       "      <td>75.0</td>\n",
       "      <td>Mkt&amp;Fin</td>\n",
       "      <td>57.80</td>\n",
       "      <td>25000.0</td>\n",
       "      <td>True</td>\n",
       "      <td>2020-01-26</td>\n",
       "      <td>2020-07-13</td>\n",
       "      <td>6.0</td>\n",
       "    </tr>\n",
       "    <tr>\n",
       "      <th>3</th>\n",
       "      <td>17267</td>\n",
       "      <td>Unit 0879 Box 3878\\nDPO AP 42663</td>\n",
       "      <td>M</td>\n",
       "      <td>56.00</td>\n",
       "      <td>52.00</td>\n",
       "      <td>Science</td>\n",
       "      <td>52.00</td>\n",
       "      <td>Sci&amp;Tech</td>\n",
       "      <td>False</td>\n",
       "      <td>0</td>\n",
       "      <td>66.0</td>\n",
       "      <td>Mkt&amp;HR</td>\n",
       "      <td>59.43</td>\n",
       "      <td>NaN</td>\n",
       "      <td>False</td>\n",
       "      <td>NaT</td>\n",
       "      <td>NaT</td>\n",
       "      <td>NaN</td>\n",
       "    </tr>\n",
       "    <tr>\n",
       "      <th>4</th>\n",
       "      <td>17268</td>\n",
       "      <td>96493 Kelly Canyon Apt. 145\\nEast Steven, NC 3...</td>\n",
       "      <td>M</td>\n",
       "      <td>85.80</td>\n",
       "      <td>73.60</td>\n",
       "      <td>Commerce</td>\n",
       "      <td>73.30</td>\n",
       "      <td>Comm&amp;Mgmt</td>\n",
       "      <td>False</td>\n",
       "      <td>0</td>\n",
       "      <td>96.8</td>\n",
       "      <td>Mkt&amp;Fin</td>\n",
       "      <td>55.50</td>\n",
       "      <td>42500.0</td>\n",
       "      <td>True</td>\n",
       "      <td>2020-07-04</td>\n",
       "      <td>2020-09-27</td>\n",
       "      <td>3.0</td>\n",
       "    </tr>\n",
       "  </tbody>\n",
       "</table>\n",
       "</div>"
      ],
      "text/plain": [
       "   student_id                                            address gender  \\\n",
       "0       17264        70304 Baker Turnpike\\nEricborough, MS 15086      M   \n",
       "1       17265    805 Herrera Avenue Apt. 134\\nMaryview, NJ 36510      M   \n",
       "2       17266        3702 Bradley Island\\nNorth Victor, FL 12268      M   \n",
       "3       17267                   Unit 0879 Box 3878\\nDPO AP 42663      M   \n",
       "4       17268  96493 Kelly Canyon Apt. 145\\nEast Steven, NC 3...      M   \n",
       "\n",
       "   second_perc  high_perc high_spec  degree_perc degree_type  work_experience  \\\n",
       "0        67.00      91.00  Commerce        58.00    Sci&Tech            False   \n",
       "1        79.33      78.33   Science        77.48    Sci&Tech             True   \n",
       "2        65.00      68.00      Arts        64.00   Comm&Mgmt            False   \n",
       "3        56.00      52.00   Science        52.00    Sci&Tech            False   \n",
       "4        85.80      73.60  Commerce        73.30   Comm&Mgmt            False   \n",
       "\n",
       "   experience_years  employability_perc mba_spec  mba_perc   salary  placed  \\\n",
       "0                 0                55.0   Mkt&HR     58.80  27000.0    True   \n",
       "1                 1                86.5  Mkt&Fin     66.28  20000.0    True   \n",
       "2                 0                75.0  Mkt&Fin     57.80  25000.0    True   \n",
       "3                 0                66.0   Mkt&HR     59.43      NaN   False   \n",
       "4                 0                96.8  Mkt&Fin     55.50  42500.0    True   \n",
       "\n",
       "  start_date   end_date duration  \n",
       "0 2020-07-23 2020-10-12      3.0  \n",
       "1 2020-01-11 2020-04-09      3.0  \n",
       "2 2020-01-26 2020-07-13      6.0  \n",
       "3        NaT        NaT      NaN  \n",
       "4 2020-07-04 2020-09-27      3.0  "
      ]
     },
     "execution_count": 11,
     "metadata": {},
     "output_type": "execute_result"
    }
   ],
   "source": [
    "data_pii = load_tabular_demo('student_placements_pii')\n",
    "data_pii.head()"
   ]
  },
  {
   "cell_type": "markdown",
   "metadata": {},
   "source": [
    "If we use our tabular model on this new data we will see how the\n",
    "synthetic data that it generates discloses the addresses from the real\n",
    "students:"
   ]
  },
  {
   "cell_type": "code",
   "execution_count": 12,
   "metadata": {
    "attributes": {
     "classes": [
      ""
     ],
     "id": ""
    }
   },
   "outputs": [
    {
     "data": {
      "text/html": [
       "<div>\n",
       "<style scoped>\n",
       "    .dataframe tbody tr th:only-of-type {\n",
       "        vertical-align: middle;\n",
       "    }\n",
       "\n",
       "    .dataframe tbody tr th {\n",
       "        vertical-align: top;\n",
       "    }\n",
       "\n",
       "    .dataframe thead th {\n",
       "        text-align: right;\n",
       "    }\n",
       "</style>\n",
       "<table border=\"1\" class=\"dataframe\">\n",
       "  <thead>\n",
       "    <tr style=\"text-align: right;\">\n",
       "      <th></th>\n",
       "      <th>student_id</th>\n",
       "      <th>address</th>\n",
       "      <th>gender</th>\n",
       "      <th>second_perc</th>\n",
       "      <th>high_perc</th>\n",
       "      <th>high_spec</th>\n",
       "      <th>degree_perc</th>\n",
       "      <th>degree_type</th>\n",
       "      <th>work_experience</th>\n",
       "      <th>experience_years</th>\n",
       "      <th>employability_perc</th>\n",
       "      <th>mba_spec</th>\n",
       "      <th>mba_perc</th>\n",
       "      <th>salary</th>\n",
       "      <th>placed</th>\n",
       "      <th>start_date</th>\n",
       "      <th>end_date</th>\n",
       "      <th>duration</th>\n",
       "    </tr>\n",
       "  </thead>\n",
       "  <tbody>\n",
       "    <tr>\n",
       "      <th>0</th>\n",
       "      <td>0</td>\n",
       "      <td>083 Robinson Points Suite 667\\nLake Stephaniem...</td>\n",
       "      <td>F</td>\n",
       "      <td>85.935322</td>\n",
       "      <td>98.582751</td>\n",
       "      <td>Science</td>\n",
       "      <td>81.648512</td>\n",
       "      <td>Comm&amp;Mgmt</td>\n",
       "      <td>False</td>\n",
       "      <td>1</td>\n",
       "      <td>79.867980</td>\n",
       "      <td>Mkt&amp;HR</td>\n",
       "      <td>76.212098</td>\n",
       "      <td>28861.934214</td>\n",
       "      <td>True</td>\n",
       "      <td>2020-01-30</td>\n",
       "      <td>2020-05-21</td>\n",
       "      <td>3.0</td>\n",
       "    </tr>\n",
       "    <tr>\n",
       "      <th>1</th>\n",
       "      <td>1</td>\n",
       "      <td>USCGC Stanley\\nFPO AP 68120</td>\n",
       "      <td>M</td>\n",
       "      <td>80.399116</td>\n",
       "      <td>67.368546</td>\n",
       "      <td>Science</td>\n",
       "      <td>72.143746</td>\n",
       "      <td>Sci&amp;Tech</td>\n",
       "      <td>False</td>\n",
       "      <td>0</td>\n",
       "      <td>73.015046</td>\n",
       "      <td>Mkt&amp;Fin</td>\n",
       "      <td>71.128408</td>\n",
       "      <td>NaN</td>\n",
       "      <td>False</td>\n",
       "      <td>NaT</td>\n",
       "      <td>NaT</td>\n",
       "      <td>NaN</td>\n",
       "    </tr>\n",
       "    <tr>\n",
       "      <th>2</th>\n",
       "      <td>2</td>\n",
       "      <td>9596 Ross Rue\\nMillerfurt, MS 36652</td>\n",
       "      <td>F</td>\n",
       "      <td>58.583000</td>\n",
       "      <td>61.031097</td>\n",
       "      <td>Commerce</td>\n",
       "      <td>65.119900</td>\n",
       "      <td>Comm&amp;Mgmt</td>\n",
       "      <td>False</td>\n",
       "      <td>0</td>\n",
       "      <td>79.680340</td>\n",
       "      <td>Mkt&amp;Fin</td>\n",
       "      <td>54.757321</td>\n",
       "      <td>20864.566961</td>\n",
       "      <td>True</td>\n",
       "      <td>2020-01-15</td>\n",
       "      <td>2020-08-30</td>\n",
       "      <td>NaN</td>\n",
       "    </tr>\n",
       "    <tr>\n",
       "      <th>3</th>\n",
       "      <td>3</td>\n",
       "      <td>0530 James Trafficway Apt. 877\\nDavidshire, DE...</td>\n",
       "      <td>M</td>\n",
       "      <td>67.936266</td>\n",
       "      <td>57.966665</td>\n",
       "      <td>Science</td>\n",
       "      <td>68.313390</td>\n",
       "      <td>Comm&amp;Mgmt</td>\n",
       "      <td>False</td>\n",
       "      <td>1</td>\n",
       "      <td>64.947355</td>\n",
       "      <td>Mkt&amp;Fin</td>\n",
       "      <td>67.588410</td>\n",
       "      <td>34702.149010</td>\n",
       "      <td>True</td>\n",
       "      <td>2020-03-01</td>\n",
       "      <td>2020-09-14</td>\n",
       "      <td>3.0</td>\n",
       "    </tr>\n",
       "    <tr>\n",
       "      <th>4</th>\n",
       "      <td>4</td>\n",
       "      <td>2707 Maria Parkways Apt. 743\\nAlisonview, TN 8...</td>\n",
       "      <td>M</td>\n",
       "      <td>70.319181</td>\n",
       "      <td>45.647446</td>\n",
       "      <td>Commerce</td>\n",
       "      <td>61.387215</td>\n",
       "      <td>Sci&amp;Tech</td>\n",
       "      <td>False</td>\n",
       "      <td>0</td>\n",
       "      <td>64.859144</td>\n",
       "      <td>Mkt&amp;HR</td>\n",
       "      <td>62.109222</td>\n",
       "      <td>NaN</td>\n",
       "      <td>False</td>\n",
       "      <td>NaT</td>\n",
       "      <td>NaT</td>\n",
       "      <td>NaN</td>\n",
       "    </tr>\n",
       "  </tbody>\n",
       "</table>\n",
       "</div>"
      ],
      "text/plain": [
       "   student_id                                            address gender  \\\n",
       "0           0  083 Robinson Points Suite 667\\nLake Stephaniem...      F   \n",
       "1           1                        USCGC Stanley\\nFPO AP 68120      M   \n",
       "2           2                9596 Ross Rue\\nMillerfurt, MS 36652      F   \n",
       "3           3  0530 James Trafficway Apt. 877\\nDavidshire, DE...      M   \n",
       "4           4  2707 Maria Parkways Apt. 743\\nAlisonview, TN 8...      M   \n",
       "\n",
       "   second_perc  high_perc high_spec  degree_perc degree_type  work_experience  \\\n",
       "0    85.935322  98.582751   Science    81.648512   Comm&Mgmt            False   \n",
       "1    80.399116  67.368546   Science    72.143746    Sci&Tech            False   \n",
       "2    58.583000  61.031097  Commerce    65.119900   Comm&Mgmt            False   \n",
       "3    67.936266  57.966665   Science    68.313390   Comm&Mgmt            False   \n",
       "4    70.319181  45.647446  Commerce    61.387215    Sci&Tech            False   \n",
       "\n",
       "   experience_years  employability_perc mba_spec   mba_perc        salary  \\\n",
       "0                 1           79.867980   Mkt&HR  76.212098  28861.934214   \n",
       "1                 0           73.015046  Mkt&Fin  71.128408           NaN   \n",
       "2                 0           79.680340  Mkt&Fin  54.757321  20864.566961   \n",
       "3                 1           64.947355  Mkt&Fin  67.588410  34702.149010   \n",
       "4                 0           64.859144   Mkt&HR  62.109222           NaN   \n",
       "\n",
       "   placed start_date   end_date duration  \n",
       "0    True 2020-01-30 2020-05-21      3.0  \n",
       "1   False        NaT        NaT      NaN  \n",
       "2    True 2020-01-15 2020-08-30      NaN  \n",
       "3    True 2020-03-01 2020-09-14      3.0  \n",
       "4   False        NaT        NaT      NaN  "
      ]
     },
     "execution_count": 12,
     "metadata": {},
     "output_type": "execute_result"
    }
   ],
   "source": [
    "model = GaussianCopula(\n",
    "    primary_key='student_id',\n",
    ")\n",
    "model.fit(data_pii)\n",
    "new_data_pii = model.sample(200)\n",
    "new_data_pii.head()"
   ]
  },
  {
   "cell_type": "markdown",
   "metadata": {},
   "source": [
    "More specifically, we can see how all the addresses that have been\n",
    "generated actually come from the original dataset:"
   ]
  },
  {
   "cell_type": "code",
   "execution_count": 13,
   "metadata": {
    "attributes": {
     "classes": [
      ""
     ],
     "id": ""
    }
   },
   "outputs": [
    {
     "data": {
      "text/plain": [
       "200"
      ]
     },
     "execution_count": 13,
     "metadata": {},
     "output_type": "execute_result"
    }
   ],
   "source": [
    "new_data_pii.address.isin(data_pii.address).sum()"
   ]
  },
  {
   "cell_type": "markdown",
   "metadata": {},
   "source": [
    "In order to solve this, we can pass an additional argument\n",
    "`anonymize_fields` to our model when we create the instance. This\n",
    "`anonymize_fields` argument will need to be a dictionary that contains:\n",
    "\n",
    "-   The name of the field that we want to anonymize.\n",
    "-   The category of the field that we want to use when we generate fake\n",
    "    values for it.\n",
    "\n",
    "The list complete list of possible categories can be seen in the [Faker\n",
    "Providers](https://faker.readthedocs.io/en/master/providers.html) page,\n",
    "and it contains a huge list of concepts such as:\n",
    "\n",
    "-   name\n",
    "-   address\n",
    "-   country\n",
    "-   city\n",
    "-   ssn\n",
    "-   credit_card_number\n",
    "-   credit_card_expire\n",
    "-   credit_card_security_code\n",
    "-   email\n",
    "-   telephone\n",
    "-   \\...\n",
    "\n",
    "In this case, since the field is an e-mail address, we will pass a\n",
    "dictionary indicating the category `address`"
   ]
  },
  {
   "cell_type": "code",
   "execution_count": 14,
   "metadata": {
    "attributes": {
     "classes": [
      ""
     ],
     "id": ""
    }
   },
   "outputs": [],
   "source": [
    "model = GaussianCopula(\n",
    "    primary_key='student_id',\n",
    "    anonymize_fields={\n",
    "        'address': 'address'\n",
    "    }\n",
    ")\n",
    "model.fit(data_pii)"
   ]
  },
  {
   "cell_type": "markdown",
   "metadata": {},
   "source": [
    "As a result, we can see how the real `address` values have been replaced\n",
    "by other fake addresses:"
   ]
  },
  {
   "cell_type": "code",
   "execution_count": 15,
   "metadata": {
    "attributes": {
     "classes": [
      ""
     ],
     "id": ""
    }
   },
   "outputs": [
    {
     "data": {
      "text/html": [
       "<div>\n",
       "<style scoped>\n",
       "    .dataframe tbody tr th:only-of-type {\n",
       "        vertical-align: middle;\n",
       "    }\n",
       "\n",
       "    .dataframe tbody tr th {\n",
       "        vertical-align: top;\n",
       "    }\n",
       "\n",
       "    .dataframe thead th {\n",
       "        text-align: right;\n",
       "    }\n",
       "</style>\n",
       "<table border=\"1\" class=\"dataframe\">\n",
       "  <thead>\n",
       "    <tr style=\"text-align: right;\">\n",
       "      <th></th>\n",
       "      <th>student_id</th>\n",
       "      <th>address</th>\n",
       "      <th>gender</th>\n",
       "      <th>second_perc</th>\n",
       "      <th>high_perc</th>\n",
       "      <th>high_spec</th>\n",
       "      <th>degree_perc</th>\n",
       "      <th>degree_type</th>\n",
       "      <th>work_experience</th>\n",
       "      <th>experience_years</th>\n",
       "      <th>employability_perc</th>\n",
       "      <th>mba_spec</th>\n",
       "      <th>mba_perc</th>\n",
       "      <th>salary</th>\n",
       "      <th>placed</th>\n",
       "      <th>start_date</th>\n",
       "      <th>end_date</th>\n",
       "      <th>duration</th>\n",
       "    </tr>\n",
       "  </thead>\n",
       "  <tbody>\n",
       "    <tr>\n",
       "      <th>0</th>\n",
       "      <td>0</td>\n",
       "      <td>Unit 9421 Box 6790\\nDPO AP 25631</td>\n",
       "      <td>F</td>\n",
       "      <td>78.567210</td>\n",
       "      <td>70.739672</td>\n",
       "      <td>Commerce</td>\n",
       "      <td>66.224840</td>\n",
       "      <td>Comm&amp;Mgmt</td>\n",
       "      <td>False</td>\n",
       "      <td>0</td>\n",
       "      <td>61.706921</td>\n",
       "      <td>Mkt&amp;Fin</td>\n",
       "      <td>70.376477</td>\n",
       "      <td>19601.198115</td>\n",
       "      <td>True</td>\n",
       "      <td>2020-07-24</td>\n",
       "      <td>2020-10-19</td>\n",
       "      <td>3.0</td>\n",
       "    </tr>\n",
       "    <tr>\n",
       "      <th>1</th>\n",
       "      <td>1</td>\n",
       "      <td>2961 Brittney Skyway\\nNew Christopher, WV 39619</td>\n",
       "      <td>F</td>\n",
       "      <td>54.019661</td>\n",
       "      <td>54.765118</td>\n",
       "      <td>Commerce</td>\n",
       "      <td>64.941286</td>\n",
       "      <td>Comm&amp;Mgmt</td>\n",
       "      <td>False</td>\n",
       "      <td>0</td>\n",
       "      <td>51.802028</td>\n",
       "      <td>Mkt&amp;Fin</td>\n",
       "      <td>55.097331</td>\n",
       "      <td>NaN</td>\n",
       "      <td>False</td>\n",
       "      <td>NaT</td>\n",
       "      <td>NaT</td>\n",
       "      <td>NaN</td>\n",
       "    </tr>\n",
       "    <tr>\n",
       "      <th>2</th>\n",
       "      <td>2</td>\n",
       "      <td>309 Johnson Curve\\nThorntonchester, PA 95019</td>\n",
       "      <td>M</td>\n",
       "      <td>66.075709</td>\n",
       "      <td>60.371285</td>\n",
       "      <td>Arts</td>\n",
       "      <td>52.565584</td>\n",
       "      <td>Comm&amp;Mgmt</td>\n",
       "      <td>False</td>\n",
       "      <td>0</td>\n",
       "      <td>52.451236</td>\n",
       "      <td>Mkt&amp;HR</td>\n",
       "      <td>60.449231</td>\n",
       "      <td>31565.575297</td>\n",
       "      <td>True</td>\n",
       "      <td>2020-10-06</td>\n",
       "      <td>2020-10-23</td>\n",
       "      <td>3.0</td>\n",
       "    </tr>\n",
       "    <tr>\n",
       "      <th>3</th>\n",
       "      <td>3</td>\n",
       "      <td>92459 Rachel Plaza Apt. 888\\nTimothyshire, MN ...</td>\n",
       "      <td>F</td>\n",
       "      <td>84.960162</td>\n",
       "      <td>67.059118</td>\n",
       "      <td>Commerce</td>\n",
       "      <td>70.881221</td>\n",
       "      <td>Sci&amp;Tech</td>\n",
       "      <td>False</td>\n",
       "      <td>-1</td>\n",
       "      <td>81.836955</td>\n",
       "      <td>Mkt&amp;Fin</td>\n",
       "      <td>75.897712</td>\n",
       "      <td>29110.801048</td>\n",
       "      <td>True</td>\n",
       "      <td>2020-06-21</td>\n",
       "      <td>2020-08-24</td>\n",
       "      <td>3.0</td>\n",
       "    </tr>\n",
       "    <tr>\n",
       "      <th>4</th>\n",
       "      <td>4</td>\n",
       "      <td>56141 Collins Fall\\nGarrettport, KY 68955</td>\n",
       "      <td>M</td>\n",
       "      <td>82.845914</td>\n",
       "      <td>68.623577</td>\n",
       "      <td>Commerce</td>\n",
       "      <td>72.939803</td>\n",
       "      <td>Comm&amp;Mgmt</td>\n",
       "      <td>False</td>\n",
       "      <td>1</td>\n",
       "      <td>72.939252</td>\n",
       "      <td>Mkt&amp;Fin</td>\n",
       "      <td>60.121786</td>\n",
       "      <td>25567.357453</td>\n",
       "      <td>True</td>\n",
       "      <td>2020-03-12</td>\n",
       "      <td>2020-09-27</td>\n",
       "      <td>3.0</td>\n",
       "    </tr>\n",
       "  </tbody>\n",
       "</table>\n",
       "</div>"
      ],
      "text/plain": [
       "   student_id                                            address gender  \\\n",
       "0           0                   Unit 9421 Box 6790\\nDPO AP 25631      F   \n",
       "1           1    2961 Brittney Skyway\\nNew Christopher, WV 39619      F   \n",
       "2           2       309 Johnson Curve\\nThorntonchester, PA 95019      M   \n",
       "3           3  92459 Rachel Plaza Apt. 888\\nTimothyshire, MN ...      F   \n",
       "4           4          56141 Collins Fall\\nGarrettport, KY 68955      M   \n",
       "\n",
       "   second_perc  high_perc high_spec  degree_perc degree_type  work_experience  \\\n",
       "0    78.567210  70.739672  Commerce    66.224840   Comm&Mgmt            False   \n",
       "1    54.019661  54.765118  Commerce    64.941286   Comm&Mgmt            False   \n",
       "2    66.075709  60.371285      Arts    52.565584   Comm&Mgmt            False   \n",
       "3    84.960162  67.059118  Commerce    70.881221    Sci&Tech            False   \n",
       "4    82.845914  68.623577  Commerce    72.939803   Comm&Mgmt            False   \n",
       "\n",
       "   experience_years  employability_perc mba_spec   mba_perc        salary  \\\n",
       "0                 0           61.706921  Mkt&Fin  70.376477  19601.198115   \n",
       "1                 0           51.802028  Mkt&Fin  55.097331           NaN   \n",
       "2                 0           52.451236   Mkt&HR  60.449231  31565.575297   \n",
       "3                -1           81.836955  Mkt&Fin  75.897712  29110.801048   \n",
       "4                 1           72.939252  Mkt&Fin  60.121786  25567.357453   \n",
       "\n",
       "   placed start_date   end_date duration  \n",
       "0    True 2020-07-24 2020-10-19      3.0  \n",
       "1   False        NaT        NaT      NaN  \n",
       "2    True 2020-10-06 2020-10-23      3.0  \n",
       "3    True 2020-06-21 2020-08-24      3.0  \n",
       "4    True 2020-03-12 2020-09-27      3.0  "
      ]
     },
     "execution_count": 15,
     "metadata": {},
     "output_type": "execute_result"
    }
   ],
   "source": [
    "new_data_pii = model.sample(200)\n",
    "new_data_pii.head()"
   ]
  },
  {
   "cell_type": "markdown",
   "metadata": {},
   "source": [
    "Which means that none of the original addresses can be found in the\n",
    "sampled data:"
   ]
  },
  {
   "cell_type": "code",
   "execution_count": 16,
   "metadata": {
    "attributes": {
     "classes": [
      ""
     ],
     "id": ""
    }
   },
   "outputs": [
    {
     "data": {
      "text/plain": [
       "0"
      ]
     },
     "execution_count": 16,
     "metadata": {},
     "output_type": "execute_result"
    }
   ],
   "source": [
    "data_pii.address.isin(new_data_pii.address).sum()"
   ]
  },
  {
   "cell_type": "markdown",
   "metadata": {},
   "source": [
    "Advanced Usage\n",
    "--------------\n",
    "\n",
    "Now that we have discovered the basics, let\\'s go over a few more\n",
    "advanced usage examples and see the different arguments that we can pass\n",
    "to our `GaussianCopula` Model in order to customize it to our needs.\n",
    "\n",
    "### How to set transforms to use?\n",
    "\n",
    "One thing that you may have noticed when executing the previous steps is\n",
    "that the fitting process took much longer on the\n",
    "`student_placements_pii` dataset than it took on the previous version\n",
    "that did not contain the student `address`. This happens because the\n",
    "`address` field is interpreted as a categorical variable, which the\n",
    "`GaussianCopula` [one-hot\n",
    "encoded](https://en.wikipedia.org/wiki/One-hot) generating 215 new\n",
    "columns that it had to learn afterwards.\n",
    "\n",
    "This transformation, which in this case was very inefficient, happens\n",
    "because the Tabular Models apply [Reversible Data\n",
    "Transforms](https://github.com/sdv-dev/RDT) under the hood to transform\n",
    "all the non-numerical variables, which the underlying models cannot\n",
    "handle, into numerical representations which they can properly work\n",
    "with. In the case of the `GaussianCopula`, the default transformation is\n",
    "a One-Hot encoding, which can work very well with variables that have a\n",
    "little number of different values, but which is very inefficient in\n",
    "cases where there is a large number of values.\n",
    "\n",
    "For this reason, the Tabular Models have an additional argument called\n",
    "`field_transformers` that let you select which transformer to apply to\n",
    "each column. This `field_transformers` argument must be passed as a\n",
    "`dict` which contains the name of the fields for which we want to use a\n",
    "transformer different than the default, and the name of the transformer\n",
    "that we want to use.\n",
    "\n",
    "Possible transformer names are:\n",
    "\n",
    "-   `integer`: Uses a `NumericalTransformer` of dtype `int`.\n",
    "-   `float`: Uses a `NumericalTransformer` of dtype `float`.\n",
    "-   `categorical`: Uses a `CategoricalTransformer` without gaussian\n",
    "    noise.\n",
    "-   `categorical_fuzzy`: Uses a `CategoricalTransformer` adding gaussian\n",
    "    noise.\n",
    "-   `one_hot_encoding`: Uses a `OneHotEncodingTransformer`.\n",
    "-   `label_encoding`: Uses a `LabelEncodingTransformer`.\n",
    "-   `boolean`: Uses a `BooleanTransformer`.\n",
    "-   `datetime`: Uses a `DatetimeTransformer`.\n",
    "\n",
    "**NOTE**: For additional details about each one of the transformers,\n",
    "please visit [RDT](https://github.com/sdv-dev/RDT)\n",
    "\n",
    "Let\\'s now try to improve the previous fitting process by changing the\n",
    "transformer that we use for the `address` field to something other than\n",
    "the default. As an example, we will use the `label_encoding`\n",
    "transformer, which instead of generating one column for each possible\n",
    "value, it just replaces each value with a unique integer value."
   ]
  },
  {
   "cell_type": "code",
   "execution_count": 17,
   "metadata": {
    "attributes": {
     "classes": [
      ""
     ],
     "id": ""
    }
   },
   "outputs": [
    {
     "data": {
      "text/html": [
       "<div>\n",
       "<style scoped>\n",
       "    .dataframe tbody tr th:only-of-type {\n",
       "        vertical-align: middle;\n",
       "    }\n",
       "\n",
       "    .dataframe tbody tr th {\n",
       "        vertical-align: top;\n",
       "    }\n",
       "\n",
       "    .dataframe thead th {\n",
       "        text-align: right;\n",
       "    }\n",
       "</style>\n",
       "<table border=\"1\" class=\"dataframe\">\n",
       "  <thead>\n",
       "    <tr style=\"text-align: right;\">\n",
       "      <th></th>\n",
       "      <th>student_id</th>\n",
       "      <th>address</th>\n",
       "      <th>gender</th>\n",
       "      <th>second_perc</th>\n",
       "      <th>high_perc</th>\n",
       "      <th>high_spec</th>\n",
       "      <th>degree_perc</th>\n",
       "      <th>degree_type</th>\n",
       "      <th>work_experience</th>\n",
       "      <th>experience_years</th>\n",
       "      <th>employability_perc</th>\n",
       "      <th>mba_spec</th>\n",
       "      <th>mba_perc</th>\n",
       "      <th>salary</th>\n",
       "      <th>placed</th>\n",
       "      <th>start_date</th>\n",
       "      <th>end_date</th>\n",
       "      <th>duration</th>\n",
       "    </tr>\n",
       "  </thead>\n",
       "  <tbody>\n",
       "    <tr>\n",
       "      <th>0</th>\n",
       "      <td>0</td>\n",
       "      <td>494 Joshua Roads Suite 816\\nNorth Tammy, UT 50196</td>\n",
       "      <td>F</td>\n",
       "      <td>66.119834</td>\n",
       "      <td>69.682024</td>\n",
       "      <td>Commerce</td>\n",
       "      <td>66.289450</td>\n",
       "      <td>Comm&amp;Mgmt</td>\n",
       "      <td>False</td>\n",
       "      <td>1</td>\n",
       "      <td>69.791491</td>\n",
       "      <td>Mkt&amp;HR</td>\n",
       "      <td>62.677883</td>\n",
       "      <td>27761.366042</td>\n",
       "      <td>True</td>\n",
       "      <td>2020-01-04</td>\n",
       "      <td>2020-06-21</td>\n",
       "      <td>12.0</td>\n",
       "    </tr>\n",
       "    <tr>\n",
       "      <th>1</th>\n",
       "      <td>1</td>\n",
       "      <td>2404 Robert Corners\\nEast Billyborough, ID 06118</td>\n",
       "      <td>F</td>\n",
       "      <td>65.280233</td>\n",
       "      <td>59.918817</td>\n",
       "      <td>Commerce</td>\n",
       "      <td>52.393899</td>\n",
       "      <td>Comm&amp;Mgmt</td>\n",
       "      <td>False</td>\n",
       "      <td>-1</td>\n",
       "      <td>75.491336</td>\n",
       "      <td>Mkt&amp;Fin</td>\n",
       "      <td>60.600810</td>\n",
       "      <td>NaN</td>\n",
       "      <td>False</td>\n",
       "      <td>NaT</td>\n",
       "      <td>NaT</td>\n",
       "      <td>NaN</td>\n",
       "    </tr>\n",
       "    <tr>\n",
       "      <th>2</th>\n",
       "      <td>2</td>\n",
       "      <td>270 James Squares\\nNew Rodneyfurt, RI 42259</td>\n",
       "      <td>F</td>\n",
       "      <td>56.446967</td>\n",
       "      <td>64.353512</td>\n",
       "      <td>Commerce</td>\n",
       "      <td>57.418023</td>\n",
       "      <td>Others</td>\n",
       "      <td>False</td>\n",
       "      <td>-1</td>\n",
       "      <td>69.459774</td>\n",
       "      <td>Mkt&amp;HR</td>\n",
       "      <td>54.690364</td>\n",
       "      <td>NaN</td>\n",
       "      <td>False</td>\n",
       "      <td>NaT</td>\n",
       "      <td>NaT</td>\n",
       "      <td>NaN</td>\n",
       "    </tr>\n",
       "    <tr>\n",
       "      <th>3</th>\n",
       "      <td>3</td>\n",
       "      <td>6022 Hall Keys Apt. 561\\nNorth Michael, SD 89572</td>\n",
       "      <td>F</td>\n",
       "      <td>60.789935</td>\n",
       "      <td>48.172919</td>\n",
       "      <td>Commerce</td>\n",
       "      <td>67.240422</td>\n",
       "      <td>Comm&amp;Mgmt</td>\n",
       "      <td>False</td>\n",
       "      <td>0</td>\n",
       "      <td>63.348592</td>\n",
       "      <td>Mkt&amp;Fin</td>\n",
       "      <td>58.961898</td>\n",
       "      <td>NaN</td>\n",
       "      <td>False</td>\n",
       "      <td>NaT</td>\n",
       "      <td>NaT</td>\n",
       "      <td>NaN</td>\n",
       "    </tr>\n",
       "    <tr>\n",
       "      <th>4</th>\n",
       "      <td>4</td>\n",
       "      <td>3824 Parker Shoals\\nNew Michaelport, ID 30949</td>\n",
       "      <td>F</td>\n",
       "      <td>62.889699</td>\n",
       "      <td>53.295041</td>\n",
       "      <td>Science</td>\n",
       "      <td>65.061032</td>\n",
       "      <td>Sci&amp;Tech</td>\n",
       "      <td>False</td>\n",
       "      <td>0</td>\n",
       "      <td>66.474387</td>\n",
       "      <td>Mkt&amp;Fin</td>\n",
       "      <td>73.248770</td>\n",
       "      <td>NaN</td>\n",
       "      <td>False</td>\n",
       "      <td>NaT</td>\n",
       "      <td>NaT</td>\n",
       "      <td>NaN</td>\n",
       "    </tr>\n",
       "  </tbody>\n",
       "</table>\n",
       "</div>"
      ],
      "text/plain": [
       "   student_id                                            address gender  \\\n",
       "0           0  494 Joshua Roads Suite 816\\nNorth Tammy, UT 50196      F   \n",
       "1           1   2404 Robert Corners\\nEast Billyborough, ID 06118      F   \n",
       "2           2        270 James Squares\\nNew Rodneyfurt, RI 42259      F   \n",
       "3           3   6022 Hall Keys Apt. 561\\nNorth Michael, SD 89572      F   \n",
       "4           4      3824 Parker Shoals\\nNew Michaelport, ID 30949      F   \n",
       "\n",
       "   second_perc  high_perc high_spec  degree_perc degree_type  work_experience  \\\n",
       "0    66.119834  69.682024  Commerce    66.289450   Comm&Mgmt            False   \n",
       "1    65.280233  59.918817  Commerce    52.393899   Comm&Mgmt            False   \n",
       "2    56.446967  64.353512  Commerce    57.418023      Others            False   \n",
       "3    60.789935  48.172919  Commerce    67.240422   Comm&Mgmt            False   \n",
       "4    62.889699  53.295041   Science    65.061032    Sci&Tech            False   \n",
       "\n",
       "   experience_years  employability_perc mba_spec   mba_perc        salary  \\\n",
       "0                 1           69.791491   Mkt&HR  62.677883  27761.366042   \n",
       "1                -1           75.491336  Mkt&Fin  60.600810           NaN   \n",
       "2                -1           69.459774   Mkt&HR  54.690364           NaN   \n",
       "3                 0           63.348592  Mkt&Fin  58.961898           NaN   \n",
       "4                 0           66.474387  Mkt&Fin  73.248770           NaN   \n",
       "\n",
       "   placed start_date   end_date duration  \n",
       "0    True 2020-01-04 2020-06-21     12.0  \n",
       "1   False        NaT        NaT      NaN  \n",
       "2   False        NaT        NaT      NaN  \n",
       "3   False        NaT        NaT      NaN  \n",
       "4   False        NaT        NaT      NaN  "
      ]
     },
     "execution_count": 17,
     "metadata": {},
     "output_type": "execute_result"
    }
   ],
   "source": [
    "model = GaussianCopula(\n",
    "    primary_key='student_id',\n",
    "    anonymize_fields={\n",
    "        'address': 'address'\n",
    "    },\n",
    "    field_transformers={\n",
    "        'address': 'label_encoding'\n",
    "    }\n",
    ")\n",
    "model.fit(data_pii)\n",
    "new_data_pii = model.sample(200)\n",
    "new_data_pii.head()"
   ]
  },
  {
   "cell_type": "markdown",
   "metadata": {},
   "source": [
    "### Exploring the Probability Distributions\n",
    "\n",
    "During the previous steps, every time we fitted the `GaussianCopula` it\n",
    "performed the following operations:\n",
    "\n",
    "1.  Learn the format and data types of the passed data\n",
    "2.  Transform the non-numerical and null data using [Reversible Data\n",
    "    Transforms](https://github.com/sdv-dev/RDT) to obtain a fully\n",
    "    numerical representation of the data from which we can learn the\n",
    "    probability distributions.\n",
    "3.  Learn the probability distribution of each column from the table\n",
    "4.  Transform the values of each numerical column by converting them to\n",
    "    their marginal distribution CDF values and then applying an inverse\n",
    "    CDF transformation of a standard normal on them.\n",
    "5.  Learn the correlations of the newly generated random variables.\n",
    "\n",
    "After this, when we used the model to generate new data for our table\n",
    "using the `sample` method, it did:\n",
    "\n",
    "5.  Sample from a Multivariate Standard Normal distribution with the\n",
    "    learned correlations.\n",
    "6.  Revert the sampled values by computing their standard normal CDF and\n",
    "    then applying the inverse CDF of their marginal distributions.\n",
    "7.  Revert the RDT transformations to go back to the original data\n",
    "    format.\n",
    "\n",
    "As you can see, during these steps the *Marginal Probability\n",
    "Distributions* have a very important role, since the `GaussianCopula`\n",
    "had to learn and reproduce the individual distributions of each column\n",
    "in our table. We can explore the distributions which the\n",
    "`GaussianCopula` used to model each column using its `get_distributions`\n",
    "method:"
   ]
  },
  {
   "cell_type": "code",
   "execution_count": 18,
   "metadata": {
    "attributes": {
     "classes": [
      ""
     ],
     "id": ""
    }
   },
   "outputs": [],
   "source": [
    "model = GaussianCopula(\n",
    "    primary_key='student_id'\n",
    ")\n",
    "model.fit(data)\n",
    "distributions = model.get_distributions()"
   ]
  },
  {
   "cell_type": "markdown",
   "metadata": {},
   "source": [
    "This will return us a `dict` which contains the name of the distribution\n",
    "class used for each column:"
   ]
  },
  {
   "cell_type": "code",
   "execution_count": 19,
   "metadata": {
    "attributes": {
     "classes": [
      ""
     ],
     "id": ""
    }
   },
   "outputs": [
    {
     "data": {
      "text/plain": [
       "{'gender#0': 'copulas.univariate.gaussian.GaussianUnivariate',\n",
       " 'gender#1': 'copulas.univariate.gaussian.GaussianUnivariate',\n",
       " 'second_perc': 'copulas.univariate.truncated_gaussian.TruncatedGaussian',\n",
       " 'high_perc': 'copulas.univariate.log_laplace.LogLaplace',\n",
       " 'high_spec#0': 'copulas.univariate.gaussian.GaussianUnivariate',\n",
       " 'high_spec#1': 'copulas.univariate.gamma.GammaUnivariate',\n",
       " 'high_spec#2': 'copulas.univariate.gaussian.GaussianUnivariate',\n",
       " 'degree_perc': 'copulas.univariate.student_t.StudentTUnivariate',\n",
       " 'degree_type#0': 'copulas.univariate.student_t.StudentTUnivariate',\n",
       " 'degree_type#1': 'copulas.univariate.gaussian.GaussianUnivariate',\n",
       " 'degree_type#2': 'copulas.univariate.gaussian.GaussianUnivariate',\n",
       " 'work_experience': 'copulas.univariate.student_t.StudentTUnivariate',\n",
       " 'experience_years': 'copulas.univariate.gaussian.GaussianUnivariate',\n",
       " 'employability_perc': 'copulas.univariate.truncated_gaussian.TruncatedGaussian',\n",
       " 'mba_spec#0': 'copulas.univariate.gamma.GammaUnivariate',\n",
       " 'mba_spec#1': 'copulas.univariate.gaussian.GaussianUnivariate',\n",
       " 'mba_perc': 'copulas.univariate.gamma.GammaUnivariate',\n",
       " 'salary#0': 'copulas.univariate.gamma.GammaUnivariate',\n",
       " 'salary#1': 'copulas.univariate.gaussian.GaussianUnivariate',\n",
       " 'placed': 'copulas.univariate.gamma.GammaUnivariate',\n",
       " 'start_date#0': 'copulas.univariate.gamma.GammaUnivariate',\n",
       " 'start_date#1': 'copulas.univariate.gaussian.GaussianUnivariate',\n",
       " 'end_date#0': 'copulas.univariate.gamma.GammaUnivariate',\n",
       " 'end_date#1': 'copulas.univariate.gaussian.GaussianUnivariate',\n",
       " 'duration#0': 'copulas.univariate.gaussian.GaussianUnivariate',\n",
       " 'duration#1': 'copulas.univariate.gaussian.GaussianUnivariate',\n",
       " 'duration#2': 'copulas.univariate.student_t.StudentTUnivariate',\n",
       " 'duration#3': 'copulas.univariate.gaussian.GaussianUnivariate'}"
      ]
     },
     "execution_count": 19,
     "metadata": {},
     "output_type": "execute_result"
    }
   ],
   "source": [
    "distributions"
   ]
  },
  {
   "cell_type": "markdown",
   "metadata": {},
   "source": [
    "<div class=\"alert alert-info\">\n",
    "\n",
    "**Note**\n",
    "\n",
    "In this list we will see multiple distributions for each one of the\n",
    "columns that we have in our data. This is because the RDT\n",
    "transformations used to encode the data numerically often use more than\n",
    "one column to represent each one of the input variables.\n",
    "\n",
    "</div>\n",
    "\n",
    "Let\\'s explore the individual distribution of one of the columns in our\n",
    "data to better understand how the `GaussianCopula` processed them and\n",
    "see if we can improve the results by manually specifying a different\n",
    "distribution. For example, let\\'s explore the `experience_years` column\n",
    "by looking at the frequency of its values within the original data:"
   ]
  },
  {
   "cell_type": "code",
   "execution_count": 20,
   "metadata": {
    "attributes": {
     "classes": [
      ""
     ],
     "id": ""
    }
   },
   "outputs": [
    {
     "data": {
      "text/plain": [
       "0    141\n",
       "1     65\n",
       "2      8\n",
       "3      1\n",
       "Name: experience_years, dtype: int64"
      ]
     },
     "execution_count": 20,
     "metadata": {},
     "output_type": "execute_result"
    }
   ],
   "source": [
    "data.experience_years.value_counts()"
   ]
  },
  {
   "cell_type": "code",
   "execution_count": 21,
   "metadata": {
    "attributes": {
     "classes": [
      ""
     ],
     "id": ""
    }
   },
   "outputs": [
    {
     "data": {
      "image/png": "[encoded data removed]",
      "text/plain": [
       "<Figure size 432x288 with 1 Axes>"
      ]
     },
     "metadata": {
      "needs_background": "light"
     },
     "output_type": "display_data"
    }
   ],
   "source": [
    "data.experience_years.hist();"
   ]
  },
  {
   "cell_type": "markdown",
   "metadata": {},
   "source": [
    "By observing the data we can see that the behavior of the values in this\n",
    "column is very similar to a Gamma or even some types of Beta\n",
    "distribution, where the majority of the values are 0 and the frequency\n",
    "decreases as the values increase.\n",
    "\n",
    "Was the `GaussianCopula` able to capture this distribution on its own?"
   ]
  },
  {
   "cell_type": "code",
   "execution_count": 22,
   "metadata": {
    "attributes": {
     "classes": [
      ""
     ],
     "id": ""
    }
   },
   "outputs": [
    {
     "data": {
      "text/plain": [
       "'copulas.univariate.gaussian.GaussianUnivariate'"
      ]
     },
     "execution_count": 22,
     "metadata": {},
     "output_type": "execute_result"
    }
   ],
   "source": [
    "distributions['experience_years']"
   ]
  },
  {
   "cell_type": "markdown",
   "metadata": {},
   "source": [
    "It seems that the it was not, as it rather thought that the behavior was\n",
    "closer to a Gaussian distribution. And, as a result, we can see how the\n",
    "generated values now contain negative values which are invalid for this\n",
    "column:"
   ]
  },
  {
   "cell_type": "code",
   "execution_count": 23,
   "metadata": {
    "attributes": {
     "classes": [
      ""
     ],
     "id": ""
    }
   },
   "outputs": [
    {
     "data": {
      "text/plain": [
       " 0    113\n",
       " 1     72\n",
       "-1     10\n",
       " 2      5\n",
       "Name: experience_years, dtype: int64"
      ]
     },
     "execution_count": 23,
     "metadata": {},
     "output_type": "execute_result"
    }
   ],
   "source": [
    "new_data.experience_years.value_counts()"
   ]
  },
  {
   "cell_type": "code",
   "execution_count": 24,
   "metadata": {
    "attributes": {
     "classes": [
      ""
     ],
     "id": ""
    }
   },
   "outputs": [
    {
     "data": {
      "image/png": "[encoded data removed]",
      "text/plain": [
       "<Figure size 432x288 with 1 Axes>"
      ]
     },
     "metadata": {
      "needs_background": "light"
     },
     "output_type": "display_data"
    }
   ],
   "source": [
    "new_data.experience_years.hist();"
   ]
  },
  {
   "cell_type": "markdown",
   "metadata": {},
   "source": [
    "Let\\'s see how we can improve this situation by passing the\n",
    "`GaussianCopula` the exact distribution that we want it to use for this\n",
    "column.\n",
    "\n",
    "### Setting distributions for individual variables\n",
    "\n",
    "The `GaussianCopula` class offers the possibility to indicate which\n",
    "distribution to use for each one of the columns in the table, in order\n",
    "to solve situations like the one that we just described. In order to do\n",
    "this, we need to pass a `field_distributions` argument with `dict` that\n",
    "indicates the distribution that we want to use for each column.\n",
    "\n",
    "Possible values for the distribution argument are:\n",
    "\n",
    "-   `univariate`: Let `copulas` select the optimal univariate\n",
    "    distribution. This may result in non-parametric models being used.\n",
    "-   `parametric`: Let `copulas` select the optimal univariate\n",
    "    distribution, but restrict the selection to parametric distributions\n",
    "    only.\n",
    "-   `bounded`: Let `copulas` select the optimal univariate distribution,\n",
    "    but restrict the selection to bounded distributions only. This may\n",
    "    result in non-parametric models being used.\n",
    "-   `semi_bounded`: Let `copulas` select the optimal univariate\n",
    "    distribution, but restrict the selection to semi-bounded\n",
    "    distributions only. This may result in non-parametric models being\n",
    "    used.\n",
    "-   `parametric_bounded`: Let `copulas` select the optimal univariate\n",
    "    distribution, but restrict the selection to parametric and bounded\n",
    "    distributions only.\n",
    "-   `parametric_semi_bounded`: Let `copulas` select the optimal\n",
    "    univariate distribution, but restrict the selection to parametric\n",
    "    and semi-bounded distributions only.\n",
    "-   `gaussian`: Use a Gaussian distribution.\n",
    "-   `gamma`: Use a Gamma distribution.\n",
    "-   `beta`: Use a Beta distribution.\n",
    "-   `student_t`: Use a Student T distribution.\n",
    "-   `gaussian_kde`: Use a GaussianKDE distribution. This model is\n",
    "    non-parametric, so using this will make `get_parameters` unusable.\n",
    "-   `truncated_gaussian`: Use a Truncated Gaussian distribution.\n",
    "\n",
    "Let\\'s see what happens if we make the `GaussianCopula` use the `gamma`\n",
    "distribution for our column."
   ]
  },
  {
   "cell_type": "code",
   "execution_count": 25,
   "metadata": {
    "attributes": {
     "classes": [
      ""
     ],
     "id": ""
    }
   },
   "outputs": [],
   "source": [
    "from sdv.tabular import GaussianCopula\n",
    "\n",
    "model = GaussianCopula(\n",
    "    primary_key='student_id',\n",
    "    field_distributions={\n",
    "        'experience_years': 'gamma'\n",
    "    }\n",
    ")\n",
    "model.fit(data)"
   ]
  },
  {
   "cell_type": "markdown",
   "metadata": {},
   "source": [
    "After this, we can see how the `GaussianCopula` used the indicated\n",
    "distribution for the `experience_years` column"
   ]
  },
  {
   "cell_type": "code",
   "execution_count": 26,
   "metadata": {
    "attributes": {
     "classes": [
      ""
     ],
     "id": ""
    }
   },
   "outputs": [
    {
     "data": {
      "text/plain": [
       "'copulas.univariate.gamma.GammaUnivariate'"
      ]
     },
     "execution_count": 26,
     "metadata": {},
     "output_type": "execute_result"
    }
   ],
   "source": [
    "model.get_distributions()['experience_years']"
   ]
  },
  {
   "cell_type": "markdown",
   "metadata": {},
   "source": [
    "And, as a result, now we can see how the generated data now have a\n",
    "behavior which is closer to the original data and always stays within\n",
    "the valid values range."
   ]
  },
  {
   "cell_type": "code",
   "execution_count": 27,
   "metadata": {
    "attributes": {
     "classes": [
      ""
     ],
     "id": ""
    }
   },
   "outputs": [
    {
     "data": {
      "text/plain": [
       "0    197\n",
       "1     17\n",
       "2      1\n",
       "Name: experience_years, dtype: int64"
      ]
     },
     "execution_count": 27,
     "metadata": {},
     "output_type": "execute_result"
    }
   ],
   "source": [
    "new_data = model.sample(len(data))\n",
    "new_data.experience_years.value_counts()"
   ]
  },
  {
   "cell_type": "code",
   "execution_count": 28,
   "metadata": {
    "attributes": {
     "classes": [
      ""
     ],
     "id": ""
    }
   },
   "outputs": [
    {
     "data": {
      "image/png": "[encoded data removed]",
      "text/plain": [
       "<Figure size 432x288 with 1 Axes>"
      ]
     },
     "metadata": {
      "needs_background": "light"
     },
     "output_type": "display_data"
    }
   ],
   "source": [
    "new_data.experience_years.hist();"
   ]
  },
  {
   "cell_type": "markdown",
   "metadata": {},
   "source": [
    "<div class=\"alert alert-info\">\n",
    "\n",
    "**Note**\n",
    "\n",
    "Even though there are situations like the one show above where manually\n",
    "choosing a distribution seems to give better results, in most cases the\n",
    "`GaussianCopula` will be able to find the optimal distribution on its\n",
    "own, making this manual search of the marginal distributions necessary\n",
    "on very little occasions.\n",
    "\n",
    "</div>\n",
    "\n",
    "### How do I specify constraints?\n",
    "\n",
    "If you look closely at the data you may notice that some properties were\n",
    "not completely captured by the model. For example, you may have seen\n",
    "that sometimes the model produces an `experience_years` number greater\n",
    "than `0` while also indicating that `work_experience` is `False`. These\n",
    "type of properties are what we call `Constraints` and can also be\n",
    "handled using `SDV`. For further details about them please visit the\n",
    "[Handling Constraints](04_Handling_Constraints.ipynb) guide.\n",
    "\n",
    "### Can I evaluate the Synthetic Data?\n",
    "\n",
    "A very common question when someone starts using **SDV** to generate\n",
    "synthetic data is: *\\\"How good is the data that I just generated?\\\"*\n",
    "\n",
    "In order to answer this question, **SDV** has a collection of metrics\n",
    "and tools that allow you to compare the *real* that you provided and the\n",
    "*synthetic* data that you generated using **SDV** or any other tool.\n",
    "\n",
    "You can read more about this in the [Evaluating Synthetic Data Generators](\n",
    "05_Evaluating_Synthetic_Data_Generators.ipynb) guide."
   ]
  }
 ],
 "metadata": {
  "kernelspec": {
   "display_name": "Python 3",
   "language": "python",
   "name": "python3"
  },
  "language_info": {
   "codemirror_mode": {
    "name": "ipython",
    "version": 3
   },
   "file_extension": ".py",
   "mimetype": "text/x-python",
   "name": "python",
   "nbconvert_exporter": "python",
   "pygments_lexer": "ipython3",
   "version": "3.8.6"
  }
 },
 "nbformat": 4,
 "nbformat_minor": 4
}
