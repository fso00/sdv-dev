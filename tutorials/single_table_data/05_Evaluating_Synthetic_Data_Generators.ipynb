{
 "cells": [
  {
   "cell_type": "markdown",
   "metadata": {},
   "source": [
    "# Evaluating Synthetic Data Generators\n",
    "\n",
    "A very common question when someone starts using **SDV** to generate\n",
    "synthetic data is: _\"How good is the data that I just generated?\"_\n",
    "\n",
    "In order to answer this question, **SDV** has a collection of metrics and tools\n",
    "that allow you to compare the _real_ that you provided and the _synthetic_ data\n",
    "that you generated using **SDV** or any other tool and compute a series of\n",
    "scores that indicate how similar they are.\n",
    "\n",
    "In this guide we will show you how to perform this evaluation and how to explore\n",
    "the different metrics that exist.\n",
    "\n",
    "## Using the SDV Evaluation Framework\n",
    "\n",
    "In order to be able to evaluate the quality of synthetic data we essentially need\n",
    "two things: _real_ data and _synthetic_ data that pretends to resemble it.\n",
    "\n",
    "Let us start by loading a demo table and generate a synthetic replica of it\n",
    "using the `GaussianCopula` model."
   ]
  },
  {
   "cell_type": "code",
   "execution_count": 1,
   "metadata": {
    "nbsphinx": "hidden"
   },
   "outputs": [],
   "source": [
    "# Setup logging and warnings - change ERROR to INFO for increased verbosity\n",
    "import logging\n",
    "logging.basicConfig(level=logging.ERROR)\n",
    "\n",
    "logging.getLogger().setLevel(level=logging.ERROR)\n",
    "logging.getLogger('sdv').setLevel(level=logging.ERROR)\n",
    "\n",
    "import warnings\n",
    "warnings.simplefilter(\"ignore\")"
   ]
  },
  {
   "cell_type": "code",
   "execution_count": 2,
   "metadata": {},
   "outputs": [],
   "source": [
    "from sdv.demo import load_tabular_demo\n",
    "from sdv.tabular import GaussianCopula\n",
    "\n",
    "real_data = load_tabular_demo('student_placements')\n",
    "\n",
    "model = GaussianCopula()\n",
    "model.fit(real_data)\n",
    "synthetic_data = model.sample()"
   ]
  },
  {
   "cell_type": "markdown",
   "metadata": {},
   "source": [
    "After the previous steps we will have two tables:\n",
    "\n",
    "- `real_data`: A table containing data about student placements"
   ]
  },
  {
   "cell_type": "code",
   "execution_count": 3,
   "metadata": {},
   "outputs": [
    {
     "data": {
      "text/html": [
       "<div>\n",
       "<style scoped>\n",
       "    .dataframe tbody tr th:only-of-type {\n",
       "        vertical-align: middle;\n",
       "    }\n",
       "\n",
       "    .dataframe tbody tr th {\n",
       "        vertical-align: top;\n",
       "    }\n",
       "\n",
       "    .dataframe thead th {\n",
       "        text-align: right;\n",
       "    }\n",
       "</style>\n",
       "<table border=\"1\" class=\"dataframe\">\n",
       "  <thead>\n",
       "    <tr style=\"text-align: right;\">\n",
       "      <th></th>\n",
       "      <th>student_id</th>\n",
       "      <th>gender</th>\n",
       "      <th>second_perc</th>\n",
       "      <th>high_perc</th>\n",
       "      <th>high_spec</th>\n",
       "      <th>degree_perc</th>\n",
       "      <th>degree_type</th>\n",
       "      <th>work_experience</th>\n",
       "      <th>experience_years</th>\n",
       "      <th>employability_perc</th>\n",
       "      <th>mba_spec</th>\n",
       "      <th>mba_perc</th>\n",
       "      <th>salary</th>\n",
       "      <th>placed</th>\n",
       "      <th>start_date</th>\n",
       "      <th>end_date</th>\n",
       "      <th>duration</th>\n",
       "    </tr>\n",
       "  </thead>\n",
       "  <tbody>\n",
       "    <tr>\n",
       "      <th>0</th>\n",
       "      <td>17264</td>\n",
       "      <td>M</td>\n",
       "      <td>67.00</td>\n",
       "      <td>91.00</td>\n",
       "      <td>Commerce</td>\n",
       "      <td>58.00</td>\n",
       "      <td>Sci&amp;Tech</td>\n",
       "      <td>False</td>\n",
       "      <td>0</td>\n",
       "      <td>55.0</td>\n",
       "      <td>Mkt&amp;HR</td>\n",
       "      <td>58.80</td>\n",
       "      <td>27000.0</td>\n",
       "      <td>True</td>\n",
       "      <td>2020-07-23</td>\n",
       "      <td>2020-10-12</td>\n",
       "      <td>3.0</td>\n",
       "    </tr>\n",
       "    <tr>\n",
       "      <th>1</th>\n",
       "      <td>17265</td>\n",
       "      <td>M</td>\n",
       "      <td>79.33</td>\n",
       "      <td>78.33</td>\n",
       "      <td>Science</td>\n",
       "      <td>77.48</td>\n",
       "      <td>Sci&amp;Tech</td>\n",
       "      <td>True</td>\n",
       "      <td>1</td>\n",
       "      <td>86.5</td>\n",
       "      <td>Mkt&amp;Fin</td>\n",
       "      <td>66.28</td>\n",
       "      <td>20000.0</td>\n",
       "      <td>True</td>\n",
       "      <td>2020-01-11</td>\n",
       "      <td>2020-04-09</td>\n",
       "      <td>3.0</td>\n",
       "    </tr>\n",
       "    <tr>\n",
       "      <th>2</th>\n",
       "      <td>17266</td>\n",
       "      <td>M</td>\n",
       "      <td>65.00</td>\n",
       "      <td>68.00</td>\n",
       "      <td>Arts</td>\n",
       "      <td>64.00</td>\n",
       "      <td>Comm&amp;Mgmt</td>\n",
       "      <td>False</td>\n",
       "      <td>0</td>\n",
       "      <td>75.0</td>\n",
       "      <td>Mkt&amp;Fin</td>\n",
       "      <td>57.80</td>\n",
       "      <td>25000.0</td>\n",
       "      <td>True</td>\n",
       "      <td>2020-01-26</td>\n",
       "      <td>2020-07-13</td>\n",
       "      <td>6.0</td>\n",
       "    </tr>\n",
       "    <tr>\n",
       "      <th>3</th>\n",
       "      <td>17267</td>\n",
       "      <td>M</td>\n",
       "      <td>56.00</td>\n",
       "      <td>52.00</td>\n",
       "      <td>Science</td>\n",
       "      <td>52.00</td>\n",
       "      <td>Sci&amp;Tech</td>\n",
       "      <td>False</td>\n",
       "      <td>0</td>\n",
       "      <td>66.0</td>\n",
       "      <td>Mkt&amp;HR</td>\n",
       "      <td>59.43</td>\n",
       "      <td>NaN</td>\n",
       "      <td>False</td>\n",
       "      <td>NaT</td>\n",
       "      <td>NaT</td>\n",
       "      <td>NaN</td>\n",
       "    </tr>\n",
       "    <tr>\n",
       "      <th>4</th>\n",
       "      <td>17268</td>\n",
       "      <td>M</td>\n",
       "      <td>85.80</td>\n",
       "      <td>73.60</td>\n",
       "      <td>Commerce</td>\n",
       "      <td>73.30</td>\n",
       "      <td>Comm&amp;Mgmt</td>\n",
       "      <td>False</td>\n",
       "      <td>0</td>\n",
       "      <td>96.8</td>\n",
       "      <td>Mkt&amp;Fin</td>\n",
       "      <td>55.50</td>\n",
       "      <td>42500.0</td>\n",
       "      <td>True</td>\n",
       "      <td>2020-07-04</td>\n",
       "      <td>2020-09-27</td>\n",
       "      <td>3.0</td>\n",
       "    </tr>\n",
       "  </tbody>\n",
       "</table>\n",
       "</div>"
      ],
      "text/plain": [
       "   student_id gender  second_perc  high_perc high_spec  degree_perc  \\\n",
       "0       17264      M        67.00      91.00  Commerce        58.00   \n",
       "1       17265      M        79.33      78.33   Science        77.48   \n",
       "2       17266      M        65.00      68.00      Arts        64.00   \n",
       "3       17267      M        56.00      52.00   Science        52.00   \n",
       "4       17268      M        85.80      73.60  Commerce        73.30   \n",
       "\n",
       "  degree_type  work_experience  experience_years  employability_perc mba_spec  \\\n",
       "0    Sci&Tech            False                 0                55.0   Mkt&HR   \n",
       "1    Sci&Tech             True                 1                86.5  Mkt&Fin   \n",
       "2   Comm&Mgmt            False                 0                75.0  Mkt&Fin   \n",
       "3    Sci&Tech            False                 0                66.0   Mkt&HR   \n",
       "4   Comm&Mgmt            False                 0                96.8  Mkt&Fin   \n",
       "\n",
       "   mba_perc   salary  placed start_date   end_date duration  \n",
       "0     58.80  27000.0    True 2020-07-23 2020-10-12      3.0  \n",
       "1     66.28  20000.0    True 2020-01-11 2020-04-09      3.0  \n",
       "2     57.80  25000.0    True 2020-01-26 2020-07-13      6.0  \n",
       "3     59.43      NaN   False        NaT        NaT      NaN  \n",
       "4     55.50  42500.0    True 2020-07-04 2020-09-27      3.0  "
      ]
     },
     "execution_count": 3,
     "metadata": {},
     "output_type": "execute_result"
    }
   ],
   "source": [
    "real_data.head()"
   ]
  },
  {
   "cell_type": "markdown",
   "metadata": {},
   "source": [
    "- `synthetic_data`: A synthetically generated table that contains data in the\n",
    "  same format and with similar statistical properties as the `real_data`.  "
   ]
  },
  {
   "cell_type": "code",
   "execution_count": 4,
   "metadata": {},
   "outputs": [
    {
     "data": {
      "text/html": [
       "<div>\n",
       "<style scoped>\n",
       "    .dataframe tbody tr th:only-of-type {\n",
       "        vertical-align: middle;\n",
       "    }\n",
       "\n",
       "    .dataframe tbody tr th {\n",
       "        vertical-align: top;\n",
       "    }\n",
       "\n",
       "    .dataframe thead th {\n",
       "        text-align: right;\n",
       "    }\n",
       "</style>\n",
       "<table border=\"1\" class=\"dataframe\">\n",
       "  <thead>\n",
       "    <tr style=\"text-align: right;\">\n",
       "      <th></th>\n",
       "      <th>student_id</th>\n",
       "      <th>gender</th>\n",
       "      <th>second_perc</th>\n",
       "      <th>high_perc</th>\n",
       "      <th>high_spec</th>\n",
       "      <th>degree_perc</th>\n",
       "      <th>degree_type</th>\n",
       "      <th>work_experience</th>\n",
       "      <th>experience_years</th>\n",
       "      <th>employability_perc</th>\n",
       "      <th>mba_spec</th>\n",
       "      <th>mba_perc</th>\n",
       "      <th>salary</th>\n",
       "      <th>placed</th>\n",
       "      <th>start_date</th>\n",
       "      <th>end_date</th>\n",
       "      <th>duration</th>\n",
       "    </tr>\n",
       "  </thead>\n",
       "  <tbody>\n",
       "    <tr>\n",
       "      <th>0</th>\n",
       "      <td>17289</td>\n",
       "      <td>M</td>\n",
       "      <td>71.043275</td>\n",
       "      <td>65.596746</td>\n",
       "      <td>Science</td>\n",
       "      <td>66.154880</td>\n",
       "      <td>Sci&amp;Tech</td>\n",
       "      <td>False</td>\n",
       "      <td>0</td>\n",
       "      <td>59.676346</td>\n",
       "      <td>Mkt&amp;Fin</td>\n",
       "      <td>72.167106</td>\n",
       "      <td>NaN</td>\n",
       "      <td>False</td>\n",
       "      <td>NaT</td>\n",
       "      <td>NaT</td>\n",
       "      <td>3.0</td>\n",
       "    </tr>\n",
       "    <tr>\n",
       "      <th>1</th>\n",
       "      <td>17456</td>\n",
       "      <td>F</td>\n",
       "      <td>68.972675</td>\n",
       "      <td>67.636077</td>\n",
       "      <td>Science</td>\n",
       "      <td>72.105033</td>\n",
       "      <td>Comm&amp;Mgmt</td>\n",
       "      <td>False</td>\n",
       "      <td>0</td>\n",
       "      <td>93.091771</td>\n",
       "      <td>Mkt&amp;Fin</td>\n",
       "      <td>72.902805</td>\n",
       "      <td>30574.131054</td>\n",
       "      <td>True</td>\n",
       "      <td>2020-04-22 03:21:03.285731328</td>\n",
       "      <td>2020-10-16 19:37:20.150722048</td>\n",
       "      <td>3.0</td>\n",
       "    </tr>\n",
       "    <tr>\n",
       "      <th>2</th>\n",
       "      <td>17275</td>\n",
       "      <td>F</td>\n",
       "      <td>82.401161</td>\n",
       "      <td>66.447492</td>\n",
       "      <td>Science</td>\n",
       "      <td>67.663266</td>\n",
       "      <td>Sci&amp;Tech</td>\n",
       "      <td>False</td>\n",
       "      <td>1</td>\n",
       "      <td>64.064089</td>\n",
       "      <td>Mkt&amp;HR</td>\n",
       "      <td>62.209602</td>\n",
       "      <td>31171.007086</td>\n",
       "      <td>True</td>\n",
       "      <td>2020-05-14 09:00:55.651516160</td>\n",
       "      <td>2020-08-11 06:14:06.541445632</td>\n",
       "      <td>3.0</td>\n",
       "    </tr>\n",
       "    <tr>\n",
       "      <th>3</th>\n",
       "      <td>17451</td>\n",
       "      <td>M</td>\n",
       "      <td>82.445156</td>\n",
       "      <td>72.090023</td>\n",
       "      <td>Science</td>\n",
       "      <td>68.648009</td>\n",
       "      <td>Comm&amp;Mgmt</td>\n",
       "      <td>False</td>\n",
       "      <td>1</td>\n",
       "      <td>83.277989</td>\n",
       "      <td>Mkt&amp;HR</td>\n",
       "      <td>64.435476</td>\n",
       "      <td>27798.642877</td>\n",
       "      <td>True</td>\n",
       "      <td>2020-03-22 12:45:32.649371392</td>\n",
       "      <td>2020-09-20 05:00:42.626356736</td>\n",
       "      <td>3.0</td>\n",
       "    </tr>\n",
       "    <tr>\n",
       "      <th>4</th>\n",
       "      <td>17293</td>\n",
       "      <td>F</td>\n",
       "      <td>73.962380</td>\n",
       "      <td>71.040811</td>\n",
       "      <td>Science</td>\n",
       "      <td>80.141950</td>\n",
       "      <td>Sci&amp;Tech</td>\n",
       "      <td>False</td>\n",
       "      <td>0</td>\n",
       "      <td>53.361144</td>\n",
       "      <td>Mkt&amp;HR</td>\n",
       "      <td>64.375579</td>\n",
       "      <td>25492.739664</td>\n",
       "      <td>True</td>\n",
       "      <td>2020-04-09 06:14:39.522265088</td>\n",
       "      <td>2020-11-25 15:00:49.246789120</td>\n",
       "      <td>3.0</td>\n",
       "    </tr>\n",
       "  </tbody>\n",
       "</table>\n",
       "</div>"
      ],
      "text/plain": [
       "   student_id gender  second_perc  high_perc high_spec  degree_perc  \\\n",
       "0       17289      M    71.043275  65.596746   Science    66.154880   \n",
       "1       17456      F    68.972675  67.636077   Science    72.105033   \n",
       "2       17275      F    82.401161  66.447492   Science    67.663266   \n",
       "3       17451      M    82.445156  72.090023   Science    68.648009   \n",
       "4       17293      F    73.962380  71.040811   Science    80.141950   \n",
       "\n",
       "  degree_type  work_experience  experience_years  employability_perc mba_spec  \\\n",
       "0    Sci&Tech            False                 0           59.676346  Mkt&Fin   \n",
       "1   Comm&Mgmt            False                 0           93.091771  Mkt&Fin   \n",
       "2    Sci&Tech            False                 1           64.064089   Mkt&HR   \n",
       "3   Comm&Mgmt            False                 1           83.277989   Mkt&HR   \n",
       "4    Sci&Tech            False                 0           53.361144   Mkt&HR   \n",
       "\n",
       "    mba_perc        salary  placed                    start_date  \\\n",
       "0  72.167106           NaN   False                           NaT   \n",
       "1  72.902805  30574.131054    True 2020-04-22 03:21:03.285731328   \n",
       "2  62.209602  31171.007086    True 2020-05-14 09:00:55.651516160   \n",
       "3  64.435476  27798.642877    True 2020-03-22 12:45:32.649371392   \n",
       "4  64.375579  25492.739664    True 2020-04-09 06:14:39.522265088   \n",
       "\n",
       "                       end_date duration  \n",
       "0                           NaT      3.0  \n",
       "1 2020-10-16 19:37:20.150722048      3.0  \n",
       "2 2020-08-11 06:14:06.541445632      3.0  \n",
       "3 2020-09-20 05:00:42.626356736      3.0  \n",
       "4 2020-11-25 15:00:49.246789120      3.0  "
      ]
     },
     "execution_count": 4,
     "metadata": {},
     "output_type": "execute_result"
    }
   ],
   "source": [
    "synthetic_data.head()"
   ]
  },
  {
   "cell_type": "markdown",
   "metadata": {},
   "source": [
    ".. note:: For more details about this process, please visit the :ref:`gaussian_copula` guide."
   ]
  },
  {
   "cell_type": "markdown",
   "metadata": {},
   "source": [
    "### Computing an overall score\n",
    "\n",
    "The simplest way to see how similar the two tables are is to import the `sdv.evaluation.evaluate`\n",
    "function and run it passing both the `synthetic_data` and the `real_data` tables."
   ]
  },
  {
   "cell_type": "code",
   "execution_count": 5,
   "metadata": {},
   "outputs": [
    {
     "data": {
      "text/plain": [
       "0.7301232811530844"
      ]
     },
     "execution_count": 5,
     "metadata": {},
     "output_type": "execute_result"
    }
   ],
   "source": [
    "from sdv.evaluation import evaluate\n",
    "\n",
    "evaluate(synthetic_data, real_data)"
   ]
  },
  {
   "cell_type": "markdown",
   "metadata": {},
   "source": [
    "The output of this function call will be a number between 0 and 1 that will\n",
    "indicate us how similar the two tables are, being 0 the worst and 1 the best\n",
    "possible score."
   ]
  },
  {
   "cell_type": "markdown",
   "metadata": {},
   "source": [
    "### How was the obtained score computed?\n",
    "\n",
    "The `evaluate` function applies a collection of pre-configured metric functions and returns\n",
    "the average of the scores that the data obtained on each one of them. In most scenarios this\n",
    "can be enough to get an idea about the similarity of the two tables, but you might want to\n",
    "explore the metrics in more detail.\n",
    "\n",
    "In order to see the different metrics that were applied you can pass and additional argument\n",
    "`aggregate=False`, which will make the `evaluate` function return a dictionary with the scores\n",
    "that each one of the metrics functions returned:"
   ]
  },
  {
   "cell_type": "code",
   "execution_count": 6,
   "metadata": {},
   "outputs": [
    {
     "data": {
      "text/plain": [
       "{'cstest': 0.8738863767138708,\n",
       " 'kstest': 0.4899793678776011,\n",
       " 'logistic_detection': 0.764000282559555,\n",
       " 'svc_detection': 0.7709655567147742}"
      ]
     },
     "execution_count": 6,
     "metadata": {},
     "output_type": "execute_result"
    }
   ],
   "source": [
    "evaluate(synthetic_data, real_data, aggregate=False)"
   ]
  },
  {
   "cell_type": "markdown",
   "metadata": {},
   "source": [
    "### Can I control which metrics are applied?\n",
    "\n",
    "By default, the `evaluate` function will apply all the metrics that are included within\n",
    "the SDV Evaluation framework. However, the list of metrics that are applied can be controlled\n",
    "by passing a list with the names of the metrics that you want to apply.\n",
    "\n",
    "For example, if you were interested on obtaining only the `cstest` and `kstest` metrics\n",
    "you can call the `evaluate` function as follows:"
   ]
  },
  {
   "cell_type": "code",
   "execution_count": 7,
   "metadata": {},
   "outputs": [
    {
     "data": {
      "text/plain": [
       "0.681932872295736"
      ]
     },
     "execution_count": 7,
     "metadata": {},
     "output_type": "execute_result"
    }
   ],
   "source": [
    "evaluate(synthetic_data, real_data, metrics=['cstest', 'kstest'])"
   ]
  },
  {
   "cell_type": "markdown",
   "metadata": {},
   "source": [
    "Or, if we want to see the scores separately:"
   ]
  },
  {
   "cell_type": "code",
   "execution_count": 8,
   "metadata": {},
   "outputs": [
    {
     "data": {
      "text/plain": [
       "{'cstest': 0.8738863767138708, 'kstest': 0.4899793678776011}"
      ]
     },
     "execution_count": 8,
     "metadata": {},
     "output_type": "execute_result"
    }
   ],
   "source": [
    "evaluate(synthetic_data, real_data, metrics=['cstest', 'kstest'], aggregate=False)"
   ]
  },
  {
   "cell_type": "markdown",
   "metadata": {},
   "source": [
    "The complete list of possible metrics is:\n",
    "\n",
    "* `cstest`: This metric compares the distributions of all the categorical\n",
    "  columns of the table by using a Chi-squared test and returns the average of\n",
    "  the `p-values` obtained across all the columns. If the tables that you are\n",
    "  evaluating do not contain any categorical columns the result will be `nan`.\n",
    "* `kstest`: This metric compares the distributions of all the numerical columns\n",
    "  of the table with a two-sample Kolmogorov–Smirnov test using the empirical CDF\n",
    "  and returns the average of the `p-values` obtained across all the columns.\n",
    "  If the tables that you are evaluating do not contain any numerical columns the\n",
    "  result will be `nan`.\n",
    "* `logistic_detection`: This metric tries to use a Logistic Regression classifier\n",
    "  to detect whether each row is real or synthetic and then evaluates its performance\n",
    "  using an Area under the ROC curve metric.\n",
    "* `svc_detection`: This metric tries to use an Support Vector Classifier\n",
    "  to detect whether each row is real or synthetic and then evaluates its performance\n",
    "  using an Area under the ROC curve metric."
   ]
  }
 ],
 "metadata": {
  "kernelspec": {
   "display_name": "Python 3",
   "language": "python",
   "name": "python3"
  },
  "language_info": {
   "codemirror_mode": {
    "name": "ipython",
    "version": 3
   },
   "file_extension": ".py",
   "mimetype": "text/x-python",
   "name": "python",
   "nbconvert_exporter": "python",
   "pygments_lexer": "ipython3",
   "version": "3.6.9"
  }
 },
 "nbformat": 4,
 "nbformat_minor": 4
}
