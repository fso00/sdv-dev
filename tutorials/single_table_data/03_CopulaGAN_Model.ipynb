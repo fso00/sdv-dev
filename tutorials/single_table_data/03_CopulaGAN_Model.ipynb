{
 "cells": [
  {
   "cell_type": "markdown",
   "metadata": {},
   "source": [
    "CopulaGAN Model\n",
    "===============\n",
    "\n",
    "In this guide we will go through a series of steps that will let you\n",
    "discover functionalities of the `CopulaGAN` model, including how to:\n",
    "\n",
    "-   Create an instance of `CopulaGAN`.\n",
    "-   Fit the instance to your data.\n",
    "-   Generate synthetic versions of your data.\n",
    "-   Use `CopulaGAN` to anonymize PII information.\n",
    "-   Customize the data transformations to improve the learning process.\n",
    "-   Specify the column distributions to improve the output quality.\n",
    "-   Specify hyperparameters to improve the output quality.\n",
    "\n",
    "What is CopulaGAN?\n",
    "------------------\n",
    "\n",
    "The `sdv.tabular.CopulaGAN` model is a variation of the CTGAN model which\n",
    "takes advantage of the CDF based transformation that the GaussianCopulas\n",
    "apply to make the underlying CTGAN model task of learning the data easier.\n",
    "\n",
    "Let\\'s now discover how to learn a dataset and later on generate\n",
    "synthetic data with the same format and statistical properties by using\n",
    "the `CopulaGAN` class from SDV.\n",
    "\n",
    "Quick Usage\n",
    "-----------\n",
    "\n",
    "We will start by loading one of our demo datasets, the\n",
    "`student_placements`, which contains information about MBA students that\n",
    "applied for placements during the year 2020.\n",
    "\n",
    "<div class=\"alert alert-warning\">\n",
    "\n",
    "**Warning**\n",
    "\n",
    "In order to follow this guide you need to have `ctgan` installed on your\n",
    "system. If you have not done it yet, please install `ctgan` now by\n",
    "executing the command `pip install sdv[ctgan]` in a terminal.\n",
    "\n",
    "</div>"
   ]
  },
  {
   "cell_type": "code",
   "execution_count": 1,
   "metadata": {
    "attributes": {
     "classes": [
      ""
     ],
     "id": ""
    }
   },
   "outputs": [
    {
     "data": {
      "text/html": [
       "<div>\n",
       "<style scoped>\n",
       "    .dataframe tbody tr th:only-of-type {\n",
       "        vertical-align: middle;\n",
       "    }\n",
       "\n",
       "    .dataframe tbody tr th {\n",
       "        vertical-align: top;\n",
       "    }\n",
       "\n",
       "    .dataframe thead th {\n",
       "        text-align: right;\n",
       "    }\n",
       "</style>\n",
       "<table border=\"1\" class=\"dataframe\">\n",
       "  <thead>\n",
       "    <tr style=\"text-align: right;\">\n",
       "      <th></th>\n",
       "      <th>0</th>\n",
       "      <th>1</th>\n",
       "      <th>2</th>\n",
       "      <th>3</th>\n",
       "      <th>4</th>\n",
       "    </tr>\n",
       "  </thead>\n",
       "  <tbody>\n",
       "    <tr>\n",
       "      <th>student_id</th>\n",
       "      <td>17264</td>\n",
       "      <td>17265</td>\n",
       "      <td>17266</td>\n",
       "      <td>17267</td>\n",
       "      <td>17268</td>\n",
       "    </tr>\n",
       "    <tr>\n",
       "      <th>gender</th>\n",
       "      <td>M</td>\n",
       "      <td>M</td>\n",
       "      <td>M</td>\n",
       "      <td>M</td>\n",
       "      <td>M</td>\n",
       "    </tr>\n",
       "    <tr>\n",
       "      <th>second_perc</th>\n",
       "      <td>67</td>\n",
       "      <td>79.33</td>\n",
       "      <td>65</td>\n",
       "      <td>56</td>\n",
       "      <td>85.8</td>\n",
       "    </tr>\n",
       "    <tr>\n",
       "      <th>high_perc</th>\n",
       "      <td>91</td>\n",
       "      <td>78.33</td>\n",
       "      <td>68</td>\n",
       "      <td>52</td>\n",
       "      <td>73.6</td>\n",
       "    </tr>\n",
       "    <tr>\n",
       "      <th>high_spec</th>\n",
       "      <td>Commerce</td>\n",
       "      <td>Science</td>\n",
       "      <td>Arts</td>\n",
       "      <td>Science</td>\n",
       "      <td>Commerce</td>\n",
       "    </tr>\n",
       "    <tr>\n",
       "      <th>degree_perc</th>\n",
       "      <td>58</td>\n",
       "      <td>77.48</td>\n",
       "      <td>64</td>\n",
       "      <td>52</td>\n",
       "      <td>73.3</td>\n",
       "    </tr>\n",
       "    <tr>\n",
       "      <th>degree_type</th>\n",
       "      <td>Sci&amp;Tech</td>\n",
       "      <td>Sci&amp;Tech</td>\n",
       "      <td>Comm&amp;Mgmt</td>\n",
       "      <td>Sci&amp;Tech</td>\n",
       "      <td>Comm&amp;Mgmt</td>\n",
       "    </tr>\n",
       "    <tr>\n",
       "      <th>work_experience</th>\n",
       "      <td>False</td>\n",
       "      <td>True</td>\n",
       "      <td>False</td>\n",
       "      <td>False</td>\n",
       "      <td>False</td>\n",
       "    </tr>\n",
       "    <tr>\n",
       "      <th>experience_years</th>\n",
       "      <td>0</td>\n",
       "      <td>1</td>\n",
       "      <td>0</td>\n",
       "      <td>0</td>\n",
       "      <td>0</td>\n",
       "    </tr>\n",
       "    <tr>\n",
       "      <th>employability_perc</th>\n",
       "      <td>55</td>\n",
       "      <td>86.5</td>\n",
       "      <td>75</td>\n",
       "      <td>66</td>\n",
       "      <td>96.8</td>\n",
       "    </tr>\n",
       "    <tr>\n",
       "      <th>mba_spec</th>\n",
       "      <td>Mkt&amp;HR</td>\n",
       "      <td>Mkt&amp;Fin</td>\n",
       "      <td>Mkt&amp;Fin</td>\n",
       "      <td>Mkt&amp;HR</td>\n",
       "      <td>Mkt&amp;Fin</td>\n",
       "    </tr>\n",
       "    <tr>\n",
       "      <th>mba_perc</th>\n",
       "      <td>58.8</td>\n",
       "      <td>66.28</td>\n",
       "      <td>57.8</td>\n",
       "      <td>59.43</td>\n",
       "      <td>55.5</td>\n",
       "    </tr>\n",
       "    <tr>\n",
       "      <th>salary</th>\n",
       "      <td>27000</td>\n",
       "      <td>20000</td>\n",
       "      <td>25000</td>\n",
       "      <td>NaN</td>\n",
       "      <td>42500</td>\n",
       "    </tr>\n",
       "    <tr>\n",
       "      <th>placed</th>\n",
       "      <td>True</td>\n",
       "      <td>True</td>\n",
       "      <td>True</td>\n",
       "      <td>False</td>\n",
       "      <td>True</td>\n",
       "    </tr>\n",
       "    <tr>\n",
       "      <th>start_date</th>\n",
       "      <td>2020-07-23 00:00:00</td>\n",
       "      <td>2020-01-11 00:00:00</td>\n",
       "      <td>2020-01-26 00:00:00</td>\n",
       "      <td>NaT</td>\n",
       "      <td>2020-07-04 00:00:00</td>\n",
       "    </tr>\n",
       "    <tr>\n",
       "      <th>end_date</th>\n",
       "      <td>2020-10-12 00:00:00</td>\n",
       "      <td>2020-04-09 00:00:00</td>\n",
       "      <td>2020-07-13 00:00:00</td>\n",
       "      <td>NaT</td>\n",
       "      <td>2020-09-27 00:00:00</td>\n",
       "    </tr>\n",
       "    <tr>\n",
       "      <th>duration</th>\n",
       "      <td>3.0</td>\n",
       "      <td>3.0</td>\n",
       "      <td>6.0</td>\n",
       "      <td>NaN</td>\n",
       "      <td>3.0</td>\n",
       "    </tr>\n",
       "  </tbody>\n",
       "</table>\n",
       "</div>"
      ],
      "text/plain": [
       "                                      0                    1  \\\n",
       "student_id                        17264                17265   \n",
       "gender                                M                    M   \n",
       "second_perc                          67                79.33   \n",
       "high_perc                            91                78.33   \n",
       "high_spec                      Commerce              Science   \n",
       "degree_perc                          58                77.48   \n",
       "degree_type                    Sci&Tech             Sci&Tech   \n",
       "work_experience                   False                 True   \n",
       "experience_years                      0                    1   \n",
       "employability_perc                   55                 86.5   \n",
       "mba_spec                         Mkt&HR              Mkt&Fin   \n",
       "mba_perc                           58.8                66.28   \n",
       "salary                            27000                20000   \n",
       "placed                             True                 True   \n",
       "start_date          2020-07-23 00:00:00  2020-01-11 00:00:00   \n",
       "end_date            2020-10-12 00:00:00  2020-04-09 00:00:00   \n",
       "duration                            3.0                  3.0   \n",
       "\n",
       "                                      2         3                    4  \n",
       "student_id                        17266     17267                17268  \n",
       "gender                                M         M                    M  \n",
       "second_perc                          65        56                 85.8  \n",
       "high_perc                            68        52                 73.6  \n",
       "high_spec                          Arts   Science             Commerce  \n",
       "degree_perc                          64        52                 73.3  \n",
       "degree_type                   Comm&Mgmt  Sci&Tech            Comm&Mgmt  \n",
       "work_experience                   False     False                False  \n",
       "experience_years                      0         0                    0  \n",
       "employability_perc                   75        66                 96.8  \n",
       "mba_spec                        Mkt&Fin    Mkt&HR              Mkt&Fin  \n",
       "mba_perc                           57.8     59.43                 55.5  \n",
       "salary                            25000       NaN                42500  \n",
       "placed                             True     False                 True  \n",
       "start_date          2020-01-26 00:00:00       NaT  2020-07-04 00:00:00  \n",
       "end_date            2020-07-13 00:00:00       NaT  2020-09-27 00:00:00  \n",
       "duration                            6.0       NaN                  3.0  "
      ]
     },
     "execution_count": 1,
     "metadata": {},
     "output_type": "execute_result"
    }
   ],
   "source": [
    "from sdv.demo import load_tabular_demo\n",
    "\n",
    "data = load_tabular_demo('student_placements')\n",
    "data.head().T"
   ]
  },
  {
   "cell_type": "markdown",
   "metadata": {},
   "source": [
    "As you can see, this table contains information about students which\n",
    "includes, among other things:\n",
    "\n",
    "-   Their id and gender\n",
    "-   Their grades and specializations\n",
    "-   Their work experience\n",
    "-   The salary that they where offered\n",
    "-   The duration and dates of their placement\n",
    "\n",
    "You will notice that there is data with the following characteristics:\n",
    "\n",
    "-   There are float, integer, boolean, categorical and datetime values.\n",
    "-   There are some variables that have missing data. In particular, all\n",
    "    the data related to the placement details is missing in the rows\n",
    "    where the student was not placed.\n",
    "\n",
    "Let us use `CopulaGAN` to learn this data and then sample synthetic data\n",
    "about new students to see how well de model captures the characteristics\n",
    "indicated above. In order to do this you will need to:\n",
    "\n",
    "-   Import the `sdv.tabular.CopulaGAN` class and create an instance of\n",
    "    it.\n",
    "-   Call its `fit` method passing our table.\n",
    "-   Call its `sample` method indicating the number of synthetic rows\n",
    "    that you want to generate."
   ]
  },
  {
   "cell_type": "code",
   "execution_count": 2,
   "metadata": {
    "attributes": {
     "classes": [
      ""
     ],
     "id": ""
    }
   },
   "outputs": [],
   "source": [
    "from sdv.tabular import CopulaGAN\n",
    "\n",
    "model = CopulaGAN()\n",
    "model.fit(data)"
   ]
  },
  {
   "cell_type": "markdown",
   "metadata": {},
   "source": [
    "<div class=\"alert alert-info\">\n",
    "\n",
    "**Note**\n",
    "\n",
    "Notice that the model `fitting` process took care of transforming the\n",
    "different fields using the appropriate [Reversible Data\n",
    "Transforms](http://github.com/sdv-dev/RDT) to ensure that the data has a\n",
    "format that the underlying CTGANSynthesizer class can handle.\n",
    "\n",
    "</div>\n",
    "\n",
    "### Generate synthetic data from the model\n",
    "\n",
    "Once the modeling has finished you are ready to generate new synthetic\n",
    "data by calling the `sample` method from your model passing the number\n",
    "of rows that we want to generate."
   ]
  },
  {
   "cell_type": "code",
   "execution_count": 3,
   "metadata": {
    "attributes": {
     "classes": [
      ""
     ],
     "id": ""
    }
   },
   "outputs": [],
   "source": [
    "new_data = model.sample(200)"
   ]
  },
  {
   "cell_type": "markdown",
   "metadata": {},
   "source": [
    "This will return a table identical to the one which the model was fitted\n",
    "on, but filled with new data which resembles the original one."
   ]
  },
  {
   "cell_type": "code",
   "execution_count": 4,
   "metadata": {
    "attributes": {
     "classes": [
      ""
     ],
     "id": ""
    }
   },
   "outputs": [
    {
     "data": {
      "text/html": [
       "<div>\n",
       "<style scoped>\n",
       "    .dataframe tbody tr th:only-of-type {\n",
       "        vertical-align: middle;\n",
       "    }\n",
       "\n",
       "    .dataframe tbody tr th {\n",
       "        vertical-align: top;\n",
       "    }\n",
       "\n",
       "    .dataframe thead th {\n",
       "        text-align: right;\n",
       "    }\n",
       "</style>\n",
       "<table border=\"1\" class=\"dataframe\">\n",
       "  <thead>\n",
       "    <tr style=\"text-align: right;\">\n",
       "      <th></th>\n",
       "      <th>student_id</th>\n",
       "      <th>gender</th>\n",
       "      <th>second_perc</th>\n",
       "      <th>high_perc</th>\n",
       "      <th>high_spec</th>\n",
       "      <th>degree_perc</th>\n",
       "      <th>degree_type</th>\n",
       "      <th>work_experience</th>\n",
       "      <th>experience_years</th>\n",
       "      <th>employability_perc</th>\n",
       "      <th>mba_spec</th>\n",
       "      <th>mba_perc</th>\n",
       "      <th>salary</th>\n",
       "      <th>placed</th>\n",
       "      <th>start_date</th>\n",
       "      <th>end_date</th>\n",
       "      <th>duration</th>\n",
       "    </tr>\n",
       "  </thead>\n",
       "  <tbody>\n",
       "    <tr>\n",
       "      <th>0</th>\n",
       "      <td>17478</td>\n",
       "      <td>M</td>\n",
       "      <td>58.349357</td>\n",
       "      <td>72.066976</td>\n",
       "      <td>Science</td>\n",
       "      <td>71.309813</td>\n",
       "      <td>Comm&amp;Mgmt</td>\n",
       "      <td>False</td>\n",
       "      <td>1</td>\n",
       "      <td>95.626726</td>\n",
       "      <td>Mkt&amp;Fin</td>\n",
       "      <td>61.698908</td>\n",
       "      <td>31075.669205</td>\n",
       "      <td>True</td>\n",
       "      <td>NaT</td>\n",
       "      <td>NaT</td>\n",
       "      <td>12.0</td>\n",
       "    </tr>\n",
       "    <tr>\n",
       "      <th>1</th>\n",
       "      <td>17477</td>\n",
       "      <td>F</td>\n",
       "      <td>84.949898</td>\n",
       "      <td>47.076550</td>\n",
       "      <td>Science</td>\n",
       "      <td>60.600255</td>\n",
       "      <td>Others</td>\n",
       "      <td>False</td>\n",
       "      <td>0</td>\n",
       "      <td>68.044457</td>\n",
       "      <td>Mkt&amp;Fin</td>\n",
       "      <td>52.746502</td>\n",
       "      <td>28688.529936</td>\n",
       "      <td>True</td>\n",
       "      <td>2020-02-28 03:45:23.218834432</td>\n",
       "      <td>2020-04-26 12:06:16.929432064</td>\n",
       "      <td>NaN</td>\n",
       "    </tr>\n",
       "    <tr>\n",
       "      <th>2</th>\n",
       "      <td>17438</td>\n",
       "      <td>M</td>\n",
       "      <td>56.295414</td>\n",
       "      <td>63.806672</td>\n",
       "      <td>Science</td>\n",
       "      <td>51.286904</td>\n",
       "      <td>Comm&amp;Mgmt</td>\n",
       "      <td>False</td>\n",
       "      <td>0</td>\n",
       "      <td>73.701302</td>\n",
       "      <td>Mkt&amp;HR</td>\n",
       "      <td>51.086839</td>\n",
       "      <td>NaN</td>\n",
       "      <td>False</td>\n",
       "      <td>2020-01-23 04:00:35.205986816</td>\n",
       "      <td>2020-11-11 05:36:33.354015488</td>\n",
       "      <td>3.0</td>\n",
       "    </tr>\n",
       "    <tr>\n",
       "      <th>3</th>\n",
       "      <td>17294</td>\n",
       "      <td>F</td>\n",
       "      <td>51.463708</td>\n",
       "      <td>79.144221</td>\n",
       "      <td>Arts</td>\n",
       "      <td>89.586209</td>\n",
       "      <td>Comm&amp;Mgmt</td>\n",
       "      <td>False</td>\n",
       "      <td>0</td>\n",
       "      <td>65.472608</td>\n",
       "      <td>Mkt&amp;Fin</td>\n",
       "      <td>66.461267</td>\n",
       "      <td>NaN</td>\n",
       "      <td>False</td>\n",
       "      <td>2020-01-15 05:50:47.414880000</td>\n",
       "      <td>NaT</td>\n",
       "      <td>3.0</td>\n",
       "    </tr>\n",
       "    <tr>\n",
       "      <th>4</th>\n",
       "      <td>17349</td>\n",
       "      <td>M</td>\n",
       "      <td>68.025625</td>\n",
       "      <td>92.539327</td>\n",
       "      <td>Arts</td>\n",
       "      <td>72.357349</td>\n",
       "      <td>Comm&amp;Mgmt</td>\n",
       "      <td>False</td>\n",
       "      <td>0</td>\n",
       "      <td>72.822732</td>\n",
       "      <td>Mkt&amp;HR</td>\n",
       "      <td>56.398946</td>\n",
       "      <td>22539.416321</td>\n",
       "      <td>True</td>\n",
       "      <td>NaT</td>\n",
       "      <td>2020-09-09 16:03:18.419148288</td>\n",
       "      <td>3.0</td>\n",
       "    </tr>\n",
       "  </tbody>\n",
       "</table>\n",
       "</div>"
      ],
      "text/plain": [
       "   student_id gender  second_perc  high_perc high_spec  degree_perc  \\\n",
       "0       17478      M    58.349357  72.066976   Science    71.309813   \n",
       "1       17477      F    84.949898  47.076550   Science    60.600255   \n",
       "2       17438      M    56.295414  63.806672   Science    51.286904   \n",
       "3       17294      F    51.463708  79.144221      Arts    89.586209   \n",
       "4       17349      M    68.025625  92.539327      Arts    72.357349   \n",
       "\n",
       "  degree_type  work_experience  experience_years  employability_perc mba_spec  \\\n",
       "0   Comm&Mgmt            False                 1           95.626726  Mkt&Fin   \n",
       "1      Others            False                 0           68.044457  Mkt&Fin   \n",
       "2   Comm&Mgmt            False                 0           73.701302   Mkt&HR   \n",
       "3   Comm&Mgmt            False                 0           65.472608  Mkt&Fin   \n",
       "4   Comm&Mgmt            False                 0           72.822732   Mkt&HR   \n",
       "\n",
       "    mba_perc        salary  placed                    start_date  \\\n",
       "0  61.698908  31075.669205    True                           NaT   \n",
       "1  52.746502  28688.529936    True 2020-02-28 03:45:23.218834432   \n",
       "2  51.086839           NaN   False 2020-01-23 04:00:35.205986816   \n",
       "3  66.461267           NaN   False 2020-01-15 05:50:47.414880000   \n",
       "4  56.398946  22539.416321    True                           NaT   \n",
       "\n",
       "                       end_date duration  \n",
       "0                           NaT     12.0  \n",
       "1 2020-04-26 12:06:16.929432064      NaN  \n",
       "2 2020-11-11 05:36:33.354015488      3.0  \n",
       "3                           NaT      3.0  \n",
       "4 2020-09-09 16:03:18.419148288      3.0  "
      ]
     },
     "execution_count": 4,
     "metadata": {},
     "output_type": "execute_result"
    }
   ],
   "source": [
    "new_data.head()"
   ]
  },
  {
   "cell_type": "markdown",
   "metadata": {},
   "source": [
    "<div class=\"alert alert-info\">\n",
    "\n",
    "**Note**\n",
    "\n",
    "You can control the number of rows by specifying the number of `samples`\n",
    "in the `model.sample(<num_rows>)`. To test, try `model.sample(10000)`.\n",
    "Note that the original table only had \\~200 rows.\n",
    "\n",
    "</div>\n",
    "\n",
    "### Save and Load the model\n",
    "\n",
    "In many scenarios it will be convenient to generate synthetic versions\n",
    "of your data directly in systems that do not have access to the original\n",
    "data source. For example, if you may want to generate testing data on\n",
    "the fly inside a testing environment that does not have access to your\n",
    "production database. In these scenarios, fitting the model with real\n",
    "data every time that you need to generate new data is feasible, so you\n",
    "will need to fit a model in your production environment, save the fitted\n",
    "model into a file, send this file to the testing environment and then\n",
    "load it there to be able to `sample` from it.\n",
    "\n",
    "Let\\'s see how this process works.\n",
    "\n",
    "#### Save and share the model\n",
    "\n",
    "Once you have fitted the model, all you need to do is call its `save`\n",
    "method passing the name of the file in which you want to save the model.\n",
    "Note that the extension of the filename is not relevant, but we will be\n",
    "using the `.pkl` extension to highlight that the serialization protocol\n",
    "used is [pickle](https://docs.python.org/3/library/pickle.html)."
   ]
  },
  {
   "cell_type": "code",
   "execution_count": 5,
   "metadata": {
    "attributes": {
     "classes": [
      ""
     ],
     "id": ""
    }
   },
   "outputs": [],
   "source": [
    "model.save('my_model.pkl')"
   ]
  },
  {
   "cell_type": "markdown",
   "metadata": {},
   "source": [
    "This will have created a file called `my_model.pkl` in the same\n",
    "directory in which you are running SDV.\n",
    "\n",
    "<div class=\"alert alert-info\">\n",
    "\n",
    "**Important**\n",
    "\n",
    "If you inspect the generated file you will notice that its size is much\n",
    "smaller than the size of the data that you used to generate it. This is\n",
    "because the serialized model contains **no information about the\n",
    "original data**, other than the parameters it needs to generate\n",
    "synthetic versions of it. This means that you can safely share this\n",
    "`my_model.pkl` file without the risc of disclosing any of your real\n",
    "data!\n",
    "\n",
    "</div>\n",
    "\n",
    "#### Load the model and generate new data\n",
    "\n",
    "The file you just generated can be send over to the system where the\n",
    "synthetic data will be generated. Once it is there, you can load it\n",
    "using the `CopulaGAN.load` method, and then you are ready to sample new\n",
    "data from the loaded instance:"
   ]
  },
  {
   "cell_type": "code",
   "execution_count": 6,
   "metadata": {
    "attributes": {
     "classes": [
      ""
     ],
     "id": ""
    }
   },
   "outputs": [],
   "source": [
    "loaded = CopulaGAN.load('my_model.pkl')\n",
    "new_data = loaded.sample(200)"
   ]
  },
  {
   "cell_type": "markdown",
   "metadata": {},
   "source": [
    "<div class=\"alert alert-warning\">\n",
    "\n",
    "**Warning**\n",
    "\n",
    "Notice that the system where the model is loaded needs to also have\n",
    "`sdv` and `ctgan` installed, otherwise it will not be able to load the\n",
    "model and use it.\n",
    "\n",
    "</div>\n",
    "\n",
    "### Specifying the Primary Key of the table\n",
    "\n",
    "One of the first things that you may have noticed when looking that demo\n",
    "data is that there is a `student_id` column which acts as the primary\n",
    "key of the table, and which is supposed to have unique values. Indeed,\n",
    "if we look at the number of times that each value appears, we see that\n",
    "all of them appear at most once:"
   ]
  },
  {
   "cell_type": "code",
   "execution_count": 7,
   "metadata": {
    "attributes": {
     "classes": [
      ""
     ],
     "id": ""
    }
   },
   "outputs": [
    {
     "data": {
      "text/plain": [
       "1"
      ]
     },
     "execution_count": 7,
     "metadata": {},
     "output_type": "execute_result"
    }
   ],
   "source": [
    "data.student_id.value_counts().max()"
   ]
  },
  {
   "cell_type": "markdown",
   "metadata": {},
   "source": [
    "However, if we look at the synthetic data that we generated, we observe\n",
    "that there are some values that appear more than once:"
   ]
  },
  {
   "cell_type": "code",
   "execution_count": 8,
   "metadata": {
    "attributes": {
     "classes": [
      ""
     ],
     "id": ""
    }
   },
   "outputs": [
    {
     "data": {
      "text/plain": [
       "16"
      ]
     },
     "execution_count": 8,
     "metadata": {},
     "output_type": "execute_result"
    }
   ],
   "source": [
    "new_data.student_id.value_counts().max()"
   ]
  },
  {
   "cell_type": "code",
   "execution_count": 9,
   "metadata": {
    "attributes": {
     "classes": [
      ""
     ],
     "id": ""
    }
   },
   "outputs": [
    {
     "data": {
      "text/html": [
       "<div>\n",
       "<style scoped>\n",
       "    .dataframe tbody tr th:only-of-type {\n",
       "        vertical-align: middle;\n",
       "    }\n",
       "\n",
       "    .dataframe tbody tr th {\n",
       "        vertical-align: top;\n",
       "    }\n",
       "\n",
       "    .dataframe thead th {\n",
       "        text-align: right;\n",
       "    }\n",
       "</style>\n",
       "<table border=\"1\" class=\"dataframe\">\n",
       "  <thead>\n",
       "    <tr style=\"text-align: right;\">\n",
       "      <th></th>\n",
       "      <th>student_id</th>\n",
       "      <th>gender</th>\n",
       "      <th>second_perc</th>\n",
       "      <th>high_perc</th>\n",
       "      <th>high_spec</th>\n",
       "      <th>degree_perc</th>\n",
       "      <th>degree_type</th>\n",
       "      <th>work_experience</th>\n",
       "      <th>experience_years</th>\n",
       "      <th>employability_perc</th>\n",
       "      <th>mba_spec</th>\n",
       "      <th>mba_perc</th>\n",
       "      <th>salary</th>\n",
       "      <th>placed</th>\n",
       "      <th>start_date</th>\n",
       "      <th>end_date</th>\n",
       "      <th>duration</th>\n",
       "    </tr>\n",
       "  </thead>\n",
       "  <tbody>\n",
       "    <tr>\n",
       "      <th>4</th>\n",
       "      <td>17477</td>\n",
       "      <td>F</td>\n",
       "      <td>69.568433</td>\n",
       "      <td>42.666189</td>\n",
       "      <td>Commerce</td>\n",
       "      <td>67.220948</td>\n",
       "      <td>Sci&amp;Tech</td>\n",
       "      <td>True</td>\n",
       "      <td>1</td>\n",
       "      <td>97.612419</td>\n",
       "      <td>Mkt&amp;Fin</td>\n",
       "      <td>49.195276</td>\n",
       "      <td>NaN</td>\n",
       "      <td>False</td>\n",
       "      <td>NaT</td>\n",
       "      <td>2020-07-03 14:38:30.559742976</td>\n",
       "      <td>NaN</td>\n",
       "    </tr>\n",
       "    <tr>\n",
       "      <th>68</th>\n",
       "      <td>17477</td>\n",
       "      <td>M</td>\n",
       "      <td>61.896368</td>\n",
       "      <td>63.751509</td>\n",
       "      <td>Commerce</td>\n",
       "      <td>55.179672</td>\n",
       "      <td>Comm&amp;Mgmt</td>\n",
       "      <td>False</td>\n",
       "      <td>1</td>\n",
       "      <td>81.569208</td>\n",
       "      <td>Mkt&amp;Fin</td>\n",
       "      <td>57.763847</td>\n",
       "      <td>27222.325095</td>\n",
       "      <td>True</td>\n",
       "      <td>2020-03-21 21:27:41.919601920</td>\n",
       "      <td>2020-08-06 14:02:07.729082624</td>\n",
       "      <td>3.0</td>\n",
       "    </tr>\n",
       "    <tr>\n",
       "      <th>80</th>\n",
       "      <td>17477</td>\n",
       "      <td>F</td>\n",
       "      <td>54.921665</td>\n",
       "      <td>59.195054</td>\n",
       "      <td>Arts</td>\n",
       "      <td>73.006676</td>\n",
       "      <td>Comm&amp;Mgmt</td>\n",
       "      <td>False</td>\n",
       "      <td>1</td>\n",
       "      <td>89.171940</td>\n",
       "      <td>Mkt&amp;Fin</td>\n",
       "      <td>61.101398</td>\n",
       "      <td>19477.635622</td>\n",
       "      <td>False</td>\n",
       "      <td>2020-02-04 19:34:39.921948928</td>\n",
       "      <td>NaT</td>\n",
       "      <td>3.0</td>\n",
       "    </tr>\n",
       "    <tr>\n",
       "      <th>88</th>\n",
       "      <td>17477</td>\n",
       "      <td>M</td>\n",
       "      <td>43.123843</td>\n",
       "      <td>61.758334</td>\n",
       "      <td>Science</td>\n",
       "      <td>52.485533</td>\n",
       "      <td>Comm&amp;Mgmt</td>\n",
       "      <td>False</td>\n",
       "      <td>0</td>\n",
       "      <td>57.009253</td>\n",
       "      <td>Mkt&amp;Fin</td>\n",
       "      <td>58.649823</td>\n",
       "      <td>29902.404021</td>\n",
       "      <td>True</td>\n",
       "      <td>2020-02-02 14:26:32.183540224</td>\n",
       "      <td>NaT</td>\n",
       "      <td>3.0</td>\n",
       "    </tr>\n",
       "    <tr>\n",
       "      <th>92</th>\n",
       "      <td>17477</td>\n",
       "      <td>M</td>\n",
       "      <td>45.649062</td>\n",
       "      <td>111.699407</td>\n",
       "      <td>Commerce</td>\n",
       "      <td>75.767473</td>\n",
       "      <td>Comm&amp;Mgmt</td>\n",
       "      <td>False</td>\n",
       "      <td>1</td>\n",
       "      <td>83.935161</td>\n",
       "      <td>Mkt&amp;Fin</td>\n",
       "      <td>64.564248</td>\n",
       "      <td>33095.781809</td>\n",
       "      <td>True</td>\n",
       "      <td>NaT</td>\n",
       "      <td>2020-08-31 21:23:33.002551552</td>\n",
       "      <td>NaN</td>\n",
       "    </tr>\n",
       "    <tr>\n",
       "      <th>98</th>\n",
       "      <td>17477</td>\n",
       "      <td>M</td>\n",
       "      <td>62.625651</td>\n",
       "      <td>48.103770</td>\n",
       "      <td>Arts</td>\n",
       "      <td>72.024405</td>\n",
       "      <td>Comm&amp;Mgmt</td>\n",
       "      <td>False</td>\n",
       "      <td>1</td>\n",
       "      <td>97.621328</td>\n",
       "      <td>Mkt&amp;Fin</td>\n",
       "      <td>56.371006</td>\n",
       "      <td>27261.622173</td>\n",
       "      <td>True</td>\n",
       "      <td>2020-03-28 08:33:52.967468544</td>\n",
       "      <td>2020-02-18 20:05:30.315223296</td>\n",
       "      <td>6.0</td>\n",
       "    </tr>\n",
       "    <tr>\n",
       "      <th>111</th>\n",
       "      <td>17477</td>\n",
       "      <td>M</td>\n",
       "      <td>41.427342</td>\n",
       "      <td>42.907760</td>\n",
       "      <td>Science</td>\n",
       "      <td>56.147019</td>\n",
       "      <td>Sci&amp;Tech</td>\n",
       "      <td>False</td>\n",
       "      <td>0</td>\n",
       "      <td>97.192578</td>\n",
       "      <td>Mkt&amp;Fin</td>\n",
       "      <td>54.489209</td>\n",
       "      <td>27208.242015</td>\n",
       "      <td>True</td>\n",
       "      <td>NaT</td>\n",
       "      <td>2020-07-01 12:05:56.041180672</td>\n",
       "      <td>NaN</td>\n",
       "    </tr>\n",
       "    <tr>\n",
       "      <th>125</th>\n",
       "      <td>17477</td>\n",
       "      <td>M</td>\n",
       "      <td>40.956041</td>\n",
       "      <td>65.470408</td>\n",
       "      <td>Arts</td>\n",
       "      <td>70.526296</td>\n",
       "      <td>Comm&amp;Mgmt</td>\n",
       "      <td>False</td>\n",
       "      <td>0</td>\n",
       "      <td>63.972246</td>\n",
       "      <td>Mkt&amp;Fin</td>\n",
       "      <td>53.853514</td>\n",
       "      <td>NaN</td>\n",
       "      <td>True</td>\n",
       "      <td>2020-02-20 11:33:26.263427328</td>\n",
       "      <td>2020-09-13 11:13:06.944844544</td>\n",
       "      <td>NaN</td>\n",
       "    </tr>\n",
       "    <tr>\n",
       "      <th>128</th>\n",
       "      <td>17477</td>\n",
       "      <td>F</td>\n",
       "      <td>68.362216</td>\n",
       "      <td>61.379839</td>\n",
       "      <td>Science</td>\n",
       "      <td>57.029793</td>\n",
       "      <td>Sci&amp;Tech</td>\n",
       "      <td>False</td>\n",
       "      <td>1</td>\n",
       "      <td>84.399148</td>\n",
       "      <td>Mkt&amp;HR</td>\n",
       "      <td>53.787963</td>\n",
       "      <td>29418.795982</td>\n",
       "      <td>True</td>\n",
       "      <td>2020-02-20 23:32:48.726467584</td>\n",
       "      <td>NaT</td>\n",
       "      <td>NaN</td>\n",
       "    </tr>\n",
       "    <tr>\n",
       "      <th>139</th>\n",
       "      <td>17477</td>\n",
       "      <td>M</td>\n",
       "      <td>56.940509</td>\n",
       "      <td>54.403550</td>\n",
       "      <td>Commerce</td>\n",
       "      <td>56.232538</td>\n",
       "      <td>Comm&amp;Mgmt</td>\n",
       "      <td>False</td>\n",
       "      <td>0</td>\n",
       "      <td>81.982030</td>\n",
       "      <td>Mkt&amp;Fin</td>\n",
       "      <td>61.417149</td>\n",
       "      <td>31582.692238</td>\n",
       "      <td>False</td>\n",
       "      <td>2020-08-11 14:20:47.008518144</td>\n",
       "      <td>2021-01-25 05:45:30.371835648</td>\n",
       "      <td>12.0</td>\n",
       "    </tr>\n",
       "    <tr>\n",
       "      <th>154</th>\n",
       "      <td>17477</td>\n",
       "      <td>M</td>\n",
       "      <td>44.058069</td>\n",
       "      <td>67.807983</td>\n",
       "      <td>Science</td>\n",
       "      <td>72.706132</td>\n",
       "      <td>Comm&amp;Mgmt</td>\n",
       "      <td>False</td>\n",
       "      <td>1</td>\n",
       "      <td>80.578104</td>\n",
       "      <td>Mkt&amp;Fin</td>\n",
       "      <td>56.607738</td>\n",
       "      <td>NaN</td>\n",
       "      <td>True</td>\n",
       "      <td>2020-02-08 12:13:55.340351488</td>\n",
       "      <td>2020-08-12 20:25:38.255613440</td>\n",
       "      <td>3.0</td>\n",
       "    </tr>\n",
       "    <tr>\n",
       "      <th>181</th>\n",
       "      <td>17477</td>\n",
       "      <td>F</td>\n",
       "      <td>49.398392</td>\n",
       "      <td>78.317234</td>\n",
       "      <td>Commerce</td>\n",
       "      <td>54.361907</td>\n",
       "      <td>Comm&amp;Mgmt</td>\n",
       "      <td>False</td>\n",
       "      <td>1</td>\n",
       "      <td>51.692240</td>\n",
       "      <td>Mkt&amp;Fin</td>\n",
       "      <td>55.405513</td>\n",
       "      <td>30553.916090</td>\n",
       "      <td>False</td>\n",
       "      <td>2020-02-16 22:37:22.099300608</td>\n",
       "      <td>NaT</td>\n",
       "      <td>NaN</td>\n",
       "    </tr>\n",
       "    <tr>\n",
       "      <th>183</th>\n",
       "      <td>17477</td>\n",
       "      <td>M</td>\n",
       "      <td>53.958634</td>\n",
       "      <td>100.301627</td>\n",
       "      <td>Commerce</td>\n",
       "      <td>72.952547</td>\n",
       "      <td>Comm&amp;Mgmt</td>\n",
       "      <td>False</td>\n",
       "      <td>0</td>\n",
       "      <td>77.042733</td>\n",
       "      <td>Mkt&amp;Fin</td>\n",
       "      <td>56.162936</td>\n",
       "      <td>30905.307634</td>\n",
       "      <td>True</td>\n",
       "      <td>2020-01-24 05:05:24.335033088</td>\n",
       "      <td>2020-08-08 23:42:22.327778048</td>\n",
       "      <td>3.0</td>\n",
       "    </tr>\n",
       "    <tr>\n",
       "      <th>186</th>\n",
       "      <td>17477</td>\n",
       "      <td>M</td>\n",
       "      <td>53.661260</td>\n",
       "      <td>113.848311</td>\n",
       "      <td>Science</td>\n",
       "      <td>50.456856</td>\n",
       "      <td>Comm&amp;Mgmt</td>\n",
       "      <td>False</td>\n",
       "      <td>1</td>\n",
       "      <td>85.580174</td>\n",
       "      <td>Mkt&amp;Fin</td>\n",
       "      <td>57.422881</td>\n",
       "      <td>NaN</td>\n",
       "      <td>True</td>\n",
       "      <td>2020-01-29 23:56:09.700975360</td>\n",
       "      <td>NaT</td>\n",
       "      <td>6.0</td>\n",
       "    </tr>\n",
       "    <tr>\n",
       "      <th>189</th>\n",
       "      <td>17477</td>\n",
       "      <td>M</td>\n",
       "      <td>87.228477</td>\n",
       "      <td>80.839679</td>\n",
       "      <td>Science</td>\n",
       "      <td>55.027547</td>\n",
       "      <td>Comm&amp;Mgmt</td>\n",
       "      <td>False</td>\n",
       "      <td>0</td>\n",
       "      <td>95.666834</td>\n",
       "      <td>Mkt&amp;Fin</td>\n",
       "      <td>54.082430</td>\n",
       "      <td>29520.732373</td>\n",
       "      <td>True</td>\n",
       "      <td>2020-01-08 02:29:29.363105024</td>\n",
       "      <td>2020-08-01 02:58:17.389768192</td>\n",
       "      <td>NaN</td>\n",
       "    </tr>\n",
       "    <tr>\n",
       "      <th>192</th>\n",
       "      <td>17477</td>\n",
       "      <td>M</td>\n",
       "      <td>45.117187</td>\n",
       "      <td>58.819811</td>\n",
       "      <td>Science</td>\n",
       "      <td>77.949542</td>\n",
       "      <td>Comm&amp;Mgmt</td>\n",
       "      <td>False</td>\n",
       "      <td>0</td>\n",
       "      <td>66.752596</td>\n",
       "      <td>Mkt&amp;Fin</td>\n",
       "      <td>57.424800</td>\n",
       "      <td>28892.777509</td>\n",
       "      <td>True</td>\n",
       "      <td>2020-01-14 15:55:15.405425408</td>\n",
       "      <td>2020-07-28 08:56:25.696106752</td>\n",
       "      <td>3.0</td>\n",
       "    </tr>\n",
       "  </tbody>\n",
       "</table>\n",
       "</div>"
      ],
      "text/plain": [
       "     student_id gender  second_perc   high_perc high_spec  degree_perc  \\\n",
       "4         17477      F    69.568433   42.666189  Commerce    67.220948   \n",
       "68        17477      M    61.896368   63.751509  Commerce    55.179672   \n",
       "80        17477      F    54.921665   59.195054      Arts    73.006676   \n",
       "88        17477      M    43.123843   61.758334   Science    52.485533   \n",
       "92        17477      M    45.649062  111.699407  Commerce    75.767473   \n",
       "98        17477      M    62.625651   48.103770      Arts    72.024405   \n",
       "111       17477      M    41.427342   42.907760   Science    56.147019   \n",
       "125       17477      M    40.956041   65.470408      Arts    70.526296   \n",
       "128       17477      F    68.362216   61.379839   Science    57.029793   \n",
       "139       17477      M    56.940509   54.403550  Commerce    56.232538   \n",
       "154       17477      M    44.058069   67.807983   Science    72.706132   \n",
       "181       17477      F    49.398392   78.317234  Commerce    54.361907   \n",
       "183       17477      M    53.958634  100.301627  Commerce    72.952547   \n",
       "186       17477      M    53.661260  113.848311   Science    50.456856   \n",
       "189       17477      M    87.228477   80.839679   Science    55.027547   \n",
       "192       17477      M    45.117187   58.819811   Science    77.949542   \n",
       "\n",
       "    degree_type  work_experience  experience_years  employability_perc  \\\n",
       "4      Sci&Tech             True                 1           97.612419   \n",
       "68    Comm&Mgmt            False                 1           81.569208   \n",
       "80    Comm&Mgmt            False                 1           89.171940   \n",
       "88    Comm&Mgmt            False                 0           57.009253   \n",
       "92    Comm&Mgmt            False                 1           83.935161   \n",
       "98    Comm&Mgmt            False                 1           97.621328   \n",
       "111    Sci&Tech            False                 0           97.192578   \n",
       "125   Comm&Mgmt            False                 0           63.972246   \n",
       "128    Sci&Tech            False                 1           84.399148   \n",
       "139   Comm&Mgmt            False                 0           81.982030   \n",
       "154   Comm&Mgmt            False                 1           80.578104   \n",
       "181   Comm&Mgmt            False                 1           51.692240   \n",
       "183   Comm&Mgmt            False                 0           77.042733   \n",
       "186   Comm&Mgmt            False                 1           85.580174   \n",
       "189   Comm&Mgmt            False                 0           95.666834   \n",
       "192   Comm&Mgmt            False                 0           66.752596   \n",
       "\n",
       "    mba_spec   mba_perc        salary  placed                    start_date  \\\n",
       "4    Mkt&Fin  49.195276           NaN   False                           NaT   \n",
       "68   Mkt&Fin  57.763847  27222.325095    True 2020-03-21 21:27:41.919601920   \n",
       "80   Mkt&Fin  61.101398  19477.635622   False 2020-02-04 19:34:39.921948928   \n",
       "88   Mkt&Fin  58.649823  29902.404021    True 2020-02-02 14:26:32.183540224   \n",
       "92   Mkt&Fin  64.564248  33095.781809    True                           NaT   \n",
       "98   Mkt&Fin  56.371006  27261.622173    True 2020-03-28 08:33:52.967468544   \n",
       "111  Mkt&Fin  54.489209  27208.242015    True                           NaT   \n",
       "125  Mkt&Fin  53.853514           NaN    True 2020-02-20 11:33:26.263427328   \n",
       "128   Mkt&HR  53.787963  29418.795982    True 2020-02-20 23:32:48.726467584   \n",
       "139  Mkt&Fin  61.417149  31582.692238   False 2020-08-11 14:20:47.008518144   \n",
       "154  Mkt&Fin  56.607738           NaN    True 2020-02-08 12:13:55.340351488   \n",
       "181  Mkt&Fin  55.405513  30553.916090   False 2020-02-16 22:37:22.099300608   \n",
       "183  Mkt&Fin  56.162936  30905.307634    True 2020-01-24 05:05:24.335033088   \n",
       "186  Mkt&Fin  57.422881           NaN    True 2020-01-29 23:56:09.700975360   \n",
       "189  Mkt&Fin  54.082430  29520.732373    True 2020-01-08 02:29:29.363105024   \n",
       "192  Mkt&Fin  57.424800  28892.777509    True 2020-01-14 15:55:15.405425408   \n",
       "\n",
       "                         end_date duration  \n",
       "4   2020-07-03 14:38:30.559742976      NaN  \n",
       "68  2020-08-06 14:02:07.729082624      3.0  \n",
       "80                            NaT      3.0  \n",
       "88                            NaT      3.0  \n",
       "92  2020-08-31 21:23:33.002551552      NaN  \n",
       "98  2020-02-18 20:05:30.315223296      6.0  \n",
       "111 2020-07-01 12:05:56.041180672      NaN  \n",
       "125 2020-09-13 11:13:06.944844544      NaN  \n",
       "128                           NaT      NaN  \n",
       "139 2021-01-25 05:45:30.371835648     12.0  \n",
       "154 2020-08-12 20:25:38.255613440      3.0  \n",
       "181                           NaT      NaN  \n",
       "183 2020-08-08 23:42:22.327778048      3.0  \n",
       "186                           NaT      6.0  \n",
       "189 2020-08-01 02:58:17.389768192      NaN  \n",
       "192 2020-07-28 08:56:25.696106752      3.0  "
      ]
     },
     "execution_count": 9,
     "metadata": {},
     "output_type": "execute_result"
    }
   ],
   "source": [
    "new_data[new_data.student_id == new_data.student_id.value_counts().index[0]]"
   ]
  },
  {
   "cell_type": "markdown",
   "metadata": {},
   "source": [
    "This happens because the model was not notified at any point about the\n",
    "fact that the `student_id` had to be unique, so when it generates new\n",
    "data it will provoke collisions sooner or later. In order to solve this,\n",
    "we can pass the argument `primary_key` to our model when we create it,\n",
    "indicating the name of the column that is the index of the table."
   ]
  },
  {
   "cell_type": "code",
   "execution_count": 10,
   "metadata": {
    "attributes": {
     "classes": [
      ""
     ],
     "id": ""
    }
   },
   "outputs": [],
   "source": [
    "model = CopulaGAN(\n",
    "    primary_key='student_id'\n",
    ")\n",
    "model.fit(data)\n",
    "new_data = model.sample(200)"
   ]
  },
  {
   "cell_type": "markdown",
   "metadata": {},
   "source": [
    "As a result, the model will learn that this column must be unique and\n",
    "generate a unique sequence of values for the column:"
   ]
  },
  {
   "cell_type": "code",
   "execution_count": 11,
   "metadata": {
    "attributes": {
     "classes": [
      ""
     ],
     "id": ""
    }
   },
   "outputs": [
    {
     "data": {
      "text/html": [
       "<div>\n",
       "<style scoped>\n",
       "    .dataframe tbody tr th:only-of-type {\n",
       "        vertical-align: middle;\n",
       "    }\n",
       "\n",
       "    .dataframe tbody tr th {\n",
       "        vertical-align: top;\n",
       "    }\n",
       "\n",
       "    .dataframe thead th {\n",
       "        text-align: right;\n",
       "    }\n",
       "</style>\n",
       "<table border=\"1\" class=\"dataframe\">\n",
       "  <thead>\n",
       "    <tr style=\"text-align: right;\">\n",
       "      <th></th>\n",
       "      <th>student_id</th>\n",
       "      <th>gender</th>\n",
       "      <th>second_perc</th>\n",
       "      <th>high_perc</th>\n",
       "      <th>high_spec</th>\n",
       "      <th>degree_perc</th>\n",
       "      <th>degree_type</th>\n",
       "      <th>work_experience</th>\n",
       "      <th>experience_years</th>\n",
       "      <th>employability_perc</th>\n",
       "      <th>mba_spec</th>\n",
       "      <th>mba_perc</th>\n",
       "      <th>salary</th>\n",
       "      <th>placed</th>\n",
       "      <th>start_date</th>\n",
       "      <th>end_date</th>\n",
       "      <th>duration</th>\n",
       "    </tr>\n",
       "  </thead>\n",
       "  <tbody>\n",
       "    <tr>\n",
       "      <th>0</th>\n",
       "      <td>0</td>\n",
       "      <td>F</td>\n",
       "      <td>62.703951</td>\n",
       "      <td>46.616019</td>\n",
       "      <td>Commerce</td>\n",
       "      <td>42.477053</td>\n",
       "      <td>Comm&amp;Mgmt</td>\n",
       "      <td>False</td>\n",
       "      <td>0</td>\n",
       "      <td>50.627326</td>\n",
       "      <td>Mkt&amp;HR</td>\n",
       "      <td>56.533365</td>\n",
       "      <td>NaN</td>\n",
       "      <td>True</td>\n",
       "      <td>2020-01-01 04:45:13.222515712</td>\n",
       "      <td>2020-06-15 13:41:35.363738368</td>\n",
       "      <td>12.0</td>\n",
       "    </tr>\n",
       "    <tr>\n",
       "      <th>1</th>\n",
       "      <td>1</td>\n",
       "      <td>M</td>\n",
       "      <td>68.285818</td>\n",
       "      <td>66.353426</td>\n",
       "      <td>Commerce</td>\n",
       "      <td>53.006720</td>\n",
       "      <td>Comm&amp;Mgmt</td>\n",
       "      <td>False</td>\n",
       "      <td>1</td>\n",
       "      <td>52.630391</td>\n",
       "      <td>Mkt&amp;Fin</td>\n",
       "      <td>62.392999</td>\n",
       "      <td>24511.539721</td>\n",
       "      <td>True</td>\n",
       "      <td>2020-04-09 07:36:25.213079552</td>\n",
       "      <td>NaT</td>\n",
       "      <td>3.0</td>\n",
       "    </tr>\n",
       "    <tr>\n",
       "      <th>2</th>\n",
       "      <td>2</td>\n",
       "      <td>F</td>\n",
       "      <td>50.465128</td>\n",
       "      <td>64.641321</td>\n",
       "      <td>Commerce</td>\n",
       "      <td>53.181606</td>\n",
       "      <td>Comm&amp;Mgmt</td>\n",
       "      <td>True</td>\n",
       "      <td>1</td>\n",
       "      <td>66.547934</td>\n",
       "      <td>Mkt&amp;Fin</td>\n",
       "      <td>52.798618</td>\n",
       "      <td>25999.512744</td>\n",
       "      <td>True</td>\n",
       "      <td>2020-03-21 01:14:42.221969920</td>\n",
       "      <td>2020-09-17 15:21:55.429949952</td>\n",
       "      <td>3.0</td>\n",
       "    </tr>\n",
       "    <tr>\n",
       "      <th>3</th>\n",
       "      <td>3</td>\n",
       "      <td>F</td>\n",
       "      <td>59.597232</td>\n",
       "      <td>56.730156</td>\n",
       "      <td>Commerce</td>\n",
       "      <td>42.652532</td>\n",
       "      <td>Comm&amp;Mgmt</td>\n",
       "      <td>False</td>\n",
       "      <td>1</td>\n",
       "      <td>52.220302</td>\n",
       "      <td>Mkt&amp;HR</td>\n",
       "      <td>52.675040</td>\n",
       "      <td>NaN</td>\n",
       "      <td>False</td>\n",
       "      <td>2020-08-30 06:41:09.683958272</td>\n",
       "      <td>NaT</td>\n",
       "      <td>NaN</td>\n",
       "    </tr>\n",
       "    <tr>\n",
       "      <th>4</th>\n",
       "      <td>4</td>\n",
       "      <td>M</td>\n",
       "      <td>72.591361</td>\n",
       "      <td>74.409284</td>\n",
       "      <td>Science</td>\n",
       "      <td>50.291497</td>\n",
       "      <td>Sci&amp;Tech</td>\n",
       "      <td>False</td>\n",
       "      <td>0</td>\n",
       "      <td>78.163525</td>\n",
       "      <td>Mkt&amp;Fin</td>\n",
       "      <td>62.749193</td>\n",
       "      <td>26208.281270</td>\n",
       "      <td>True</td>\n",
       "      <td>2020-01-20 04:17:21.552928768</td>\n",
       "      <td>2020-07-14 20:19:11.380539392</td>\n",
       "      <td>3.0</td>\n",
       "    </tr>\n",
       "  </tbody>\n",
       "</table>\n",
       "</div>"
      ],
      "text/plain": [
       "   student_id gender  second_perc  high_perc high_spec  degree_perc  \\\n",
       "0           0      F    62.703951  46.616019  Commerce    42.477053   \n",
       "1           1      M    68.285818  66.353426  Commerce    53.006720   \n",
       "2           2      F    50.465128  64.641321  Commerce    53.181606   \n",
       "3           3      F    59.597232  56.730156  Commerce    42.652532   \n",
       "4           4      M    72.591361  74.409284   Science    50.291497   \n",
       "\n",
       "  degree_type  work_experience  experience_years  employability_perc mba_spec  \\\n",
       "0   Comm&Mgmt            False                 0           50.627326   Mkt&HR   \n",
       "1   Comm&Mgmt            False                 1           52.630391  Mkt&Fin   \n",
       "2   Comm&Mgmt             True                 1           66.547934  Mkt&Fin   \n",
       "3   Comm&Mgmt            False                 1           52.220302   Mkt&HR   \n",
       "4    Sci&Tech            False                 0           78.163525  Mkt&Fin   \n",
       "\n",
       "    mba_perc        salary  placed                    start_date  \\\n",
       "0  56.533365           NaN    True 2020-01-01 04:45:13.222515712   \n",
       "1  62.392999  24511.539721    True 2020-04-09 07:36:25.213079552   \n",
       "2  52.798618  25999.512744    True 2020-03-21 01:14:42.221969920   \n",
       "3  52.675040           NaN   False 2020-08-30 06:41:09.683958272   \n",
       "4  62.749193  26208.281270    True 2020-01-20 04:17:21.552928768   \n",
       "\n",
       "                       end_date duration  \n",
       "0 2020-06-15 13:41:35.363738368     12.0  \n",
       "1                           NaT      3.0  \n",
       "2 2020-09-17 15:21:55.429949952      3.0  \n",
       "3                           NaT      NaN  \n",
       "4 2020-07-14 20:19:11.380539392      3.0  "
      ]
     },
     "execution_count": 11,
     "metadata": {},
     "output_type": "execute_result"
    }
   ],
   "source": [
    "new_data.head()"
   ]
  },
  {
   "cell_type": "code",
   "execution_count": 12,
   "metadata": {
    "attributes": {
     "classes": [
      ""
     ],
     "id": ""
    }
   },
   "outputs": [
    {
     "data": {
      "text/plain": [
       "1"
      ]
     },
     "execution_count": 12,
     "metadata": {},
     "output_type": "execute_result"
    }
   ],
   "source": [
    "new_data.student_id.value_counts().max()"
   ]
  },
  {
   "cell_type": "markdown",
   "metadata": {},
   "source": [
    "### Anonymizing Personally Identifiable Information (PII)\n",
    "\n",
    "There will be many cases where the data will contain Personally\n",
    "Identifiable Information which we cannot disclose. In these cases, we\n",
    "will want our Tabular Models to replace the information within these\n",
    "fields with fake, simulated data that looks similar to the real one but\n",
    "does not contain any of the original values.\n",
    "\n",
    "Let\\'s load a new dataset that contains a PII field, the\n",
    "`student_placements_pii` demo, and try to generate synthetic versions of\n",
    "it that do not contain any of the PII fields.\n",
    "\n",
    "<div class=\"alert alert-info\">\n",
    "\n",
    "**Note**\n",
    "\n",
    "The `student_placements_pii` dataset is a modified version of the\n",
    "`student_placements` dataset with one new field, `address`, which\n",
    "contains PII information about the students. Notice that this additional\n",
    "`address` field has been simulated and does not correspond to data from\n",
    "the real users.\n",
    "\n",
    "</div>"
   ]
  },
  {
   "cell_type": "code",
   "execution_count": 13,
   "metadata": {
    "attributes": {
     "classes": [
      ""
     ],
     "id": ""
    }
   },
   "outputs": [
    {
     "data": {
      "text/html": [
       "<div>\n",
       "<style scoped>\n",
       "    .dataframe tbody tr th:only-of-type {\n",
       "        vertical-align: middle;\n",
       "    }\n",
       "\n",
       "    .dataframe tbody tr th {\n",
       "        vertical-align: top;\n",
       "    }\n",
       "\n",
       "    .dataframe thead th {\n",
       "        text-align: right;\n",
       "    }\n",
       "</style>\n",
       "<table border=\"1\" class=\"dataframe\">\n",
       "  <thead>\n",
       "    <tr style=\"text-align: right;\">\n",
       "      <th></th>\n",
       "      <th>0</th>\n",
       "      <th>1</th>\n",
       "      <th>2</th>\n",
       "      <th>3</th>\n",
       "      <th>4</th>\n",
       "    </tr>\n",
       "  </thead>\n",
       "  <tbody>\n",
       "    <tr>\n",
       "      <th>student_id</th>\n",
       "      <td>17264</td>\n",
       "      <td>17265</td>\n",
       "      <td>17266</td>\n",
       "      <td>17267</td>\n",
       "      <td>17268</td>\n",
       "    </tr>\n",
       "    <tr>\n",
       "      <th>address</th>\n",
       "      <td>70304 Baker Turnpike\\nEricborough, MS 15086</td>\n",
       "      <td>805 Herrera Avenue Apt. 134\\nMaryview, NJ 36510</td>\n",
       "      <td>3702 Bradley Island\\nNorth Victor, FL 12268</td>\n",
       "      <td>Unit 0879 Box 3878\\nDPO AP 42663</td>\n",
       "      <td>96493 Kelly Canyon Apt. 145\\nEast Steven, NC 3...</td>\n",
       "    </tr>\n",
       "    <tr>\n",
       "      <th>gender</th>\n",
       "      <td>M</td>\n",
       "      <td>M</td>\n",
       "      <td>M</td>\n",
       "      <td>M</td>\n",
       "      <td>M</td>\n",
       "    </tr>\n",
       "    <tr>\n",
       "      <th>second_perc</th>\n",
       "      <td>67</td>\n",
       "      <td>79.33</td>\n",
       "      <td>65</td>\n",
       "      <td>56</td>\n",
       "      <td>85.8</td>\n",
       "    </tr>\n",
       "    <tr>\n",
       "      <th>high_perc</th>\n",
       "      <td>91</td>\n",
       "      <td>78.33</td>\n",
       "      <td>68</td>\n",
       "      <td>52</td>\n",
       "      <td>73.6</td>\n",
       "    </tr>\n",
       "    <tr>\n",
       "      <th>high_spec</th>\n",
       "      <td>Commerce</td>\n",
       "      <td>Science</td>\n",
       "      <td>Arts</td>\n",
       "      <td>Science</td>\n",
       "      <td>Commerce</td>\n",
       "    </tr>\n",
       "    <tr>\n",
       "      <th>degree_perc</th>\n",
       "      <td>58</td>\n",
       "      <td>77.48</td>\n",
       "      <td>64</td>\n",
       "      <td>52</td>\n",
       "      <td>73.3</td>\n",
       "    </tr>\n",
       "    <tr>\n",
       "      <th>degree_type</th>\n",
       "      <td>Sci&amp;Tech</td>\n",
       "      <td>Sci&amp;Tech</td>\n",
       "      <td>Comm&amp;Mgmt</td>\n",
       "      <td>Sci&amp;Tech</td>\n",
       "      <td>Comm&amp;Mgmt</td>\n",
       "    </tr>\n",
       "    <tr>\n",
       "      <th>work_experience</th>\n",
       "      <td>False</td>\n",
       "      <td>True</td>\n",
       "      <td>False</td>\n",
       "      <td>False</td>\n",
       "      <td>False</td>\n",
       "    </tr>\n",
       "    <tr>\n",
       "      <th>experience_years</th>\n",
       "      <td>0</td>\n",
       "      <td>1</td>\n",
       "      <td>0</td>\n",
       "      <td>0</td>\n",
       "      <td>0</td>\n",
       "    </tr>\n",
       "    <tr>\n",
       "      <th>employability_perc</th>\n",
       "      <td>55</td>\n",
       "      <td>86.5</td>\n",
       "      <td>75</td>\n",
       "      <td>66</td>\n",
       "      <td>96.8</td>\n",
       "    </tr>\n",
       "    <tr>\n",
       "      <th>mba_spec</th>\n",
       "      <td>Mkt&amp;HR</td>\n",
       "      <td>Mkt&amp;Fin</td>\n",
       "      <td>Mkt&amp;Fin</td>\n",
       "      <td>Mkt&amp;HR</td>\n",
       "      <td>Mkt&amp;Fin</td>\n",
       "    </tr>\n",
       "    <tr>\n",
       "      <th>mba_perc</th>\n",
       "      <td>58.8</td>\n",
       "      <td>66.28</td>\n",
       "      <td>57.8</td>\n",
       "      <td>59.43</td>\n",
       "      <td>55.5</td>\n",
       "    </tr>\n",
       "    <tr>\n",
       "      <th>salary</th>\n",
       "      <td>27000</td>\n",
       "      <td>20000</td>\n",
       "      <td>25000</td>\n",
       "      <td>NaN</td>\n",
       "      <td>42500</td>\n",
       "    </tr>\n",
       "    <tr>\n",
       "      <th>placed</th>\n",
       "      <td>True</td>\n",
       "      <td>True</td>\n",
       "      <td>True</td>\n",
       "      <td>False</td>\n",
       "      <td>True</td>\n",
       "    </tr>\n",
       "    <tr>\n",
       "      <th>start_date</th>\n",
       "      <td>2020-07-23 00:00:00</td>\n",
       "      <td>2020-01-11 00:00:00</td>\n",
       "      <td>2020-01-26 00:00:00</td>\n",
       "      <td>NaT</td>\n",
       "      <td>2020-07-04 00:00:00</td>\n",
       "    </tr>\n",
       "    <tr>\n",
       "      <th>end_date</th>\n",
       "      <td>2020-10-12 00:00:00</td>\n",
       "      <td>2020-04-09 00:00:00</td>\n",
       "      <td>2020-07-13 00:00:00</td>\n",
       "      <td>NaT</td>\n",
       "      <td>2020-09-27 00:00:00</td>\n",
       "    </tr>\n",
       "    <tr>\n",
       "      <th>duration</th>\n",
       "      <td>3.0</td>\n",
       "      <td>3.0</td>\n",
       "      <td>6.0</td>\n",
       "      <td>NaN</td>\n",
       "      <td>3.0</td>\n",
       "    </tr>\n",
       "  </tbody>\n",
       "</table>\n",
       "</div>"
      ],
      "text/plain": [
       "                                                              0  \\\n",
       "student_id                                                17264   \n",
       "address             70304 Baker Turnpike\\nEricborough, MS 15086   \n",
       "gender                                                        M   \n",
       "second_perc                                                  67   \n",
       "high_perc                                                    91   \n",
       "high_spec                                              Commerce   \n",
       "degree_perc                                                  58   \n",
       "degree_type                                            Sci&Tech   \n",
       "work_experience                                           False   \n",
       "experience_years                                              0   \n",
       "employability_perc                                           55   \n",
       "mba_spec                                                 Mkt&HR   \n",
       "mba_perc                                                   58.8   \n",
       "salary                                                    27000   \n",
       "placed                                                     True   \n",
       "start_date                                  2020-07-23 00:00:00   \n",
       "end_date                                    2020-10-12 00:00:00   \n",
       "duration                                                    3.0   \n",
       "\n",
       "                                                                  1  \\\n",
       "student_id                                                    17265   \n",
       "address             805 Herrera Avenue Apt. 134\\nMaryview, NJ 36510   \n",
       "gender                                                            M   \n",
       "second_perc                                                   79.33   \n",
       "high_perc                                                     78.33   \n",
       "high_spec                                                   Science   \n",
       "degree_perc                                                   77.48   \n",
       "degree_type                                                Sci&Tech   \n",
       "work_experience                                                True   \n",
       "experience_years                                                  1   \n",
       "employability_perc                                             86.5   \n",
       "mba_spec                                                    Mkt&Fin   \n",
       "mba_perc                                                      66.28   \n",
       "salary                                                        20000   \n",
       "placed                                                         True   \n",
       "start_date                                      2020-01-11 00:00:00   \n",
       "end_date                                        2020-04-09 00:00:00   \n",
       "duration                                                        3.0   \n",
       "\n",
       "                                                              2  \\\n",
       "student_id                                                17266   \n",
       "address             3702 Bradley Island\\nNorth Victor, FL 12268   \n",
       "gender                                                        M   \n",
       "second_perc                                                  65   \n",
       "high_perc                                                    68   \n",
       "high_spec                                                  Arts   \n",
       "degree_perc                                                  64   \n",
       "degree_type                                           Comm&Mgmt   \n",
       "work_experience                                           False   \n",
       "experience_years                                              0   \n",
       "employability_perc                                           75   \n",
       "mba_spec                                                Mkt&Fin   \n",
       "mba_perc                                                   57.8   \n",
       "salary                                                    25000   \n",
       "placed                                                     True   \n",
       "start_date                                  2020-01-26 00:00:00   \n",
       "end_date                                    2020-07-13 00:00:00   \n",
       "duration                                                    6.0   \n",
       "\n",
       "                                                   3  \\\n",
       "student_id                                     17267   \n",
       "address             Unit 0879 Box 3878\\nDPO AP 42663   \n",
       "gender                                             M   \n",
       "second_perc                                       56   \n",
       "high_perc                                         52   \n",
       "high_spec                                    Science   \n",
       "degree_perc                                       52   \n",
       "degree_type                                 Sci&Tech   \n",
       "work_experience                                False   \n",
       "experience_years                                   0   \n",
       "employability_perc                                66   \n",
       "mba_spec                                      Mkt&HR   \n",
       "mba_perc                                       59.43   \n",
       "salary                                           NaN   \n",
       "placed                                         False   \n",
       "start_date                                       NaT   \n",
       "end_date                                         NaT   \n",
       "duration                                         NaN   \n",
       "\n",
       "                                                                    4  \n",
       "student_id                                                      17268  \n",
       "address             96493 Kelly Canyon Apt. 145\\nEast Steven, NC 3...  \n",
       "gender                                                              M  \n",
       "second_perc                                                      85.8  \n",
       "high_perc                                                        73.6  \n",
       "high_spec                                                    Commerce  \n",
       "degree_perc                                                      73.3  \n",
       "degree_type                                                 Comm&Mgmt  \n",
       "work_experience                                                 False  \n",
       "experience_years                                                    0  \n",
       "employability_perc                                               96.8  \n",
       "mba_spec                                                      Mkt&Fin  \n",
       "mba_perc                                                         55.5  \n",
       "salary                                                          42500  \n",
       "placed                                                           True  \n",
       "start_date                                        2020-07-04 00:00:00  \n",
       "end_date                                          2020-09-27 00:00:00  \n",
       "duration                                                          3.0  "
      ]
     },
     "execution_count": 13,
     "metadata": {},
     "output_type": "execute_result"
    }
   ],
   "source": [
    "data_pii = load_tabular_demo('student_placements_pii')\n",
    "data_pii.head().T"
   ]
  },
  {
   "cell_type": "markdown",
   "metadata": {},
   "source": [
    "If we use our tabular model on this new data we will see how the\n",
    "synthetic data that it generates discloses the addresses from the real\n",
    "students:"
   ]
  },
  {
   "cell_type": "code",
   "execution_count": 14,
   "metadata": {
    "attributes": {
     "classes": [
      ""
     ],
     "id": ""
    }
   },
   "outputs": [
    {
     "data": {
      "text/html": [
       "<div>\n",
       "<style scoped>\n",
       "    .dataframe tbody tr th:only-of-type {\n",
       "        vertical-align: middle;\n",
       "    }\n",
       "\n",
       "    .dataframe tbody tr th {\n",
       "        vertical-align: top;\n",
       "    }\n",
       "\n",
       "    .dataframe thead th {\n",
       "        text-align: right;\n",
       "    }\n",
       "</style>\n",
       "<table border=\"1\" class=\"dataframe\">\n",
       "  <thead>\n",
       "    <tr style=\"text-align: right;\">\n",
       "      <th></th>\n",
       "      <th>student_id</th>\n",
       "      <th>address</th>\n",
       "      <th>gender</th>\n",
       "      <th>second_perc</th>\n",
       "      <th>high_perc</th>\n",
       "      <th>high_spec</th>\n",
       "      <th>degree_perc</th>\n",
       "      <th>degree_type</th>\n",
       "      <th>work_experience</th>\n",
       "      <th>experience_years</th>\n",
       "      <th>employability_perc</th>\n",
       "      <th>mba_spec</th>\n",
       "      <th>mba_perc</th>\n",
       "      <th>salary</th>\n",
       "      <th>placed</th>\n",
       "      <th>start_date</th>\n",
       "      <th>end_date</th>\n",
       "      <th>duration</th>\n",
       "    </tr>\n",
       "  </thead>\n",
       "  <tbody>\n",
       "    <tr>\n",
       "      <th>0</th>\n",
       "      <td>0</td>\n",
       "      <td>081 Carrie Square Apt. 439\\nJohnsontown, NM 66991</td>\n",
       "      <td>F</td>\n",
       "      <td>60.414066</td>\n",
       "      <td>64.605725</td>\n",
       "      <td>Commerce</td>\n",
       "      <td>64.640464</td>\n",
       "      <td>Sci&amp;Tech</td>\n",
       "      <td>True</td>\n",
       "      <td>0</td>\n",
       "      <td>96.074783</td>\n",
       "      <td>Mkt&amp;Fin</td>\n",
       "      <td>54.861964</td>\n",
       "      <td>27566.233775</td>\n",
       "      <td>True</td>\n",
       "      <td>2020-02-04 00:41:05.993721600</td>\n",
       "      <td>2020-10-21 18:06:38.553177344</td>\n",
       "      <td>NaN</td>\n",
       "    </tr>\n",
       "    <tr>\n",
       "      <th>1</th>\n",
       "      <td>1</td>\n",
       "      <td>USCGC Stanley\\nFPO AP 68120</td>\n",
       "      <td>M</td>\n",
       "      <td>81.423028</td>\n",
       "      <td>90.055212</td>\n",
       "      <td>Science</td>\n",
       "      <td>65.929578</td>\n",
       "      <td>Comm&amp;Mgmt</td>\n",
       "      <td>False</td>\n",
       "      <td>1</td>\n",
       "      <td>55.313072</td>\n",
       "      <td>Mkt&amp;HR</td>\n",
       "      <td>68.272402</td>\n",
       "      <td>NaN</td>\n",
       "      <td>True</td>\n",
       "      <td>NaT</td>\n",
       "      <td>2020-09-17 10:48:30.014404608</td>\n",
       "      <td>NaN</td>\n",
       "    </tr>\n",
       "    <tr>\n",
       "      <th>2</th>\n",
       "      <td>2</td>\n",
       "      <td>2120 Kelsey Glens Apt. 004\\nNew Markland, CA 7...</td>\n",
       "      <td>M</td>\n",
       "      <td>41.322060</td>\n",
       "      <td>64.588782</td>\n",
       "      <td>Commerce</td>\n",
       "      <td>68.008581</td>\n",
       "      <td>Comm&amp;Mgmt</td>\n",
       "      <td>False</td>\n",
       "      <td>0</td>\n",
       "      <td>97.556121</td>\n",
       "      <td>Mkt&amp;HR</td>\n",
       "      <td>52.670053</td>\n",
       "      <td>27337.182819</td>\n",
       "      <td>True</td>\n",
       "      <td>2020-07-03 05:34:03.700446976</td>\n",
       "      <td>2020-10-23 19:05:24.574052608</td>\n",
       "      <td>NaN</td>\n",
       "    </tr>\n",
       "    <tr>\n",
       "      <th>3</th>\n",
       "      <td>3</td>\n",
       "      <td>253 Karen Fort\\nNew Rachel, ND 46975</td>\n",
       "      <td>F</td>\n",
       "      <td>55.013747</td>\n",
       "      <td>61.194863</td>\n",
       "      <td>Science</td>\n",
       "      <td>64.830253</td>\n",
       "      <td>Comm&amp;Mgmt</td>\n",
       "      <td>False</td>\n",
       "      <td>1</td>\n",
       "      <td>78.662554</td>\n",
       "      <td>Mkt&amp;HR</td>\n",
       "      <td>55.801953</td>\n",
       "      <td>29099.413707</td>\n",
       "      <td>True</td>\n",
       "      <td>2020-01-19 08:49:09.373024768</td>\n",
       "      <td>2020-07-25 08:04:46.354112256</td>\n",
       "      <td>6.0</td>\n",
       "    </tr>\n",
       "    <tr>\n",
       "      <th>4</th>\n",
       "      <td>4</td>\n",
       "      <td>9596 Ross Rue\\nMillerfurt, MS 36652</td>\n",
       "      <td>M</td>\n",
       "      <td>49.493226</td>\n",
       "      <td>63.848446</td>\n",
       "      <td>Commerce</td>\n",
       "      <td>66.368613</td>\n",
       "      <td>Comm&amp;Mgmt</td>\n",
       "      <td>False</td>\n",
       "      <td>0</td>\n",
       "      <td>95.184187</td>\n",
       "      <td>Mkt&amp;HR</td>\n",
       "      <td>50.290919</td>\n",
       "      <td>22341.535901</td>\n",
       "      <td>True</td>\n",
       "      <td>2020-02-03 16:47:02.377349376</td>\n",
       "      <td>2020-08-08 03:58:19.652045056</td>\n",
       "      <td>3.0</td>\n",
       "    </tr>\n",
       "  </tbody>\n",
       "</table>\n",
       "</div>"
      ],
      "text/plain": [
       "   student_id                                            address gender  \\\n",
       "0           0  081 Carrie Square Apt. 439\\nJohnsontown, NM 66991      F   \n",
       "1           1                        USCGC Stanley\\nFPO AP 68120      M   \n",
       "2           2  2120 Kelsey Glens Apt. 004\\nNew Markland, CA 7...      M   \n",
       "3           3               253 Karen Fort\\nNew Rachel, ND 46975      F   \n",
       "4           4                9596 Ross Rue\\nMillerfurt, MS 36652      M   \n",
       "\n",
       "   second_perc  high_perc high_spec  degree_perc degree_type  work_experience  \\\n",
       "0    60.414066  64.605725  Commerce    64.640464    Sci&Tech             True   \n",
       "1    81.423028  90.055212   Science    65.929578   Comm&Mgmt            False   \n",
       "2    41.322060  64.588782  Commerce    68.008581   Comm&Mgmt            False   \n",
       "3    55.013747  61.194863   Science    64.830253   Comm&Mgmt            False   \n",
       "4    49.493226  63.848446  Commerce    66.368613   Comm&Mgmt            False   \n",
       "\n",
       "   experience_years  employability_perc mba_spec   mba_perc        salary  \\\n",
       "0                 0           96.074783  Mkt&Fin  54.861964  27566.233775   \n",
       "1                 1           55.313072   Mkt&HR  68.272402           NaN   \n",
       "2                 0           97.556121   Mkt&HR  52.670053  27337.182819   \n",
       "3                 1           78.662554   Mkt&HR  55.801953  29099.413707   \n",
       "4                 0           95.184187   Mkt&HR  50.290919  22341.535901   \n",
       "\n",
       "   placed                    start_date                      end_date duration  \n",
       "0    True 2020-02-04 00:41:05.993721600 2020-10-21 18:06:38.553177344      NaN  \n",
       "1    True                           NaT 2020-09-17 10:48:30.014404608      NaN  \n",
       "2    True 2020-07-03 05:34:03.700446976 2020-10-23 19:05:24.574052608      NaN  \n",
       "3    True 2020-01-19 08:49:09.373024768 2020-07-25 08:04:46.354112256      6.0  \n",
       "4    True 2020-02-03 16:47:02.377349376 2020-08-08 03:58:19.652045056      3.0  "
      ]
     },
     "execution_count": 14,
     "metadata": {},
     "output_type": "execute_result"
    }
   ],
   "source": [
    "model = CopulaGAN(\n",
    "    primary_key='student_id',\n",
    ")\n",
    "model.fit(data_pii)\n",
    "new_data_pii = model.sample(200)\n",
    "new_data_pii.head()"
   ]
  },
  {
   "cell_type": "code",
   "execution_count": 15,
   "metadata": {
    "attributes": {
     "classes": [
      ""
     ],
     "id": ""
    }
   },
   "outputs": [
    {
     "data": {
      "text/plain": [
       "200"
      ]
     },
     "execution_count": 15,
     "metadata": {},
     "output_type": "execute_result"
    }
   ],
   "source": [
    "new_data_pii.address.isin(data_pii.address).sum()"
   ]
  },
  {
   "cell_type": "markdown",
   "metadata": {},
   "source": [
    "In order to solve this, we can pass an additional argument\n",
    "`anonymize_fields` to our model when we create the instance. This\n",
    "`anonymize_fields` argument will need to be a dictionary that contains:\n",
    "\n",
    "-   The name of the field that we want to anonymize.\n",
    "-   The category of the field that we want to use when we generate fake\n",
    "    values for it.\n",
    "\n",
    "The list complete list of possible categories can be seen in the [Faker\n",
    "Providers](https://faker.readthedocs.io/en/master/providers.html) page,\n",
    "and it contains a huge list of concepts such as:\n",
    "\n",
    "-   name\n",
    "-   address\n",
    "-   country\n",
    "-   city\n",
    "-   ssn\n",
    "-   credit_card_number\n",
    "-   credit_card_expire\n",
    "-   credit_card_security_code\n",
    "-   email\n",
    "-   telephone\n",
    "-   \\...\n",
    "\n",
    "In this case, since the field is an e-mail address, we will pass a\n",
    "dictionary indicating the category `address`"
   ]
  },
  {
   "cell_type": "code",
   "execution_count": 16,
   "metadata": {
    "attributes": {
     "classes": [
      ""
     ],
     "id": ""
    }
   },
   "outputs": [],
   "source": [
    "model = CopulaGAN(\n",
    "    primary_key='student_id',\n",
    "    anonymize_fields={\n",
    "        'address': 'address'\n",
    "    }\n",
    ")\n",
    "model.fit(data_pii)"
   ]
  },
  {
   "cell_type": "markdown",
   "metadata": {},
   "source": [
    "As a result, we can see how the real `address` values have been replaced\n",
    "by other fake addresses that were not taken from the real data that we\n",
    "learned."
   ]
  },
  {
   "cell_type": "code",
   "execution_count": 17,
   "metadata": {
    "attributes": {
     "classes": [
      ""
     ],
     "id": ""
    }
   },
   "outputs": [
    {
     "data": {
      "text/html": [
       "<div>\n",
       "<style scoped>\n",
       "    .dataframe tbody tr th:only-of-type {\n",
       "        vertical-align: middle;\n",
       "    }\n",
       "\n",
       "    .dataframe tbody tr th {\n",
       "        vertical-align: top;\n",
       "    }\n",
       "\n",
       "    .dataframe thead th {\n",
       "        text-align: right;\n",
       "    }\n",
       "</style>\n",
       "<table border=\"1\" class=\"dataframe\">\n",
       "  <thead>\n",
       "    <tr style=\"text-align: right;\">\n",
       "      <th></th>\n",
       "      <th>student_id</th>\n",
       "      <th>address</th>\n",
       "      <th>gender</th>\n",
       "      <th>second_perc</th>\n",
       "      <th>high_perc</th>\n",
       "      <th>high_spec</th>\n",
       "      <th>degree_perc</th>\n",
       "      <th>degree_type</th>\n",
       "      <th>work_experience</th>\n",
       "      <th>experience_years</th>\n",
       "      <th>employability_perc</th>\n",
       "      <th>mba_spec</th>\n",
       "      <th>mba_perc</th>\n",
       "      <th>salary</th>\n",
       "      <th>placed</th>\n",
       "      <th>start_date</th>\n",
       "      <th>end_date</th>\n",
       "      <th>duration</th>\n",
       "    </tr>\n",
       "  </thead>\n",
       "  <tbody>\n",
       "    <tr>\n",
       "      <th>0</th>\n",
       "      <td>0</td>\n",
       "      <td>2312 Jenkins Route\\nLake Ashleyshire, NM 55459</td>\n",
       "      <td>F</td>\n",
       "      <td>74.644173</td>\n",
       "      <td>56.869112</td>\n",
       "      <td>Science</td>\n",
       "      <td>82.365335</td>\n",
       "      <td>Comm&amp;Mgmt</td>\n",
       "      <td>False</td>\n",
       "      <td>0</td>\n",
       "      <td>68.340702</td>\n",
       "      <td>Mkt&amp;HR</td>\n",
       "      <td>59.605998</td>\n",
       "      <td>NaN</td>\n",
       "      <td>True</td>\n",
       "      <td>2020-03-08 14:07:19.863785984</td>\n",
       "      <td>2020-06-30 15:02:36.935849728</td>\n",
       "      <td>NaN</td>\n",
       "    </tr>\n",
       "    <tr>\n",
       "      <th>1</th>\n",
       "      <td>1</td>\n",
       "      <td>852 Jennifer Forest\\nEast David, KS 03442</td>\n",
       "      <td>F</td>\n",
       "      <td>45.254533</td>\n",
       "      <td>70.783556</td>\n",
       "      <td>Science</td>\n",
       "      <td>58.325999</td>\n",
       "      <td>Comm&amp;Mgmt</td>\n",
       "      <td>False</td>\n",
       "      <td>0</td>\n",
       "      <td>51.134493</td>\n",
       "      <td>Mkt&amp;Fin</td>\n",
       "      <td>69.732905</td>\n",
       "      <td>27770.640764</td>\n",
       "      <td>True</td>\n",
       "      <td>2020-04-04 05:39:58.130247936</td>\n",
       "      <td>2020-08-15 21:09:31.563425792</td>\n",
       "      <td>12.0</td>\n",
       "    </tr>\n",
       "    <tr>\n",
       "      <th>2</th>\n",
       "      <td>2</td>\n",
       "      <td>46332 Hannah Point Suite 130\\nSouth Christophe...</td>\n",
       "      <td>F</td>\n",
       "      <td>77.745656</td>\n",
       "      <td>60.451404</td>\n",
       "      <td>Science</td>\n",
       "      <td>82.727076</td>\n",
       "      <td>Others</td>\n",
       "      <td>False</td>\n",
       "      <td>0</td>\n",
       "      <td>58.351780</td>\n",
       "      <td>Mkt&amp;Fin</td>\n",
       "      <td>58.251196</td>\n",
       "      <td>26086.145367</td>\n",
       "      <td>True</td>\n",
       "      <td>2020-03-28 18:14:22.953305344</td>\n",
       "      <td>2020-06-10 08:01:14.456957440</td>\n",
       "      <td>3.0</td>\n",
       "    </tr>\n",
       "    <tr>\n",
       "      <th>3</th>\n",
       "      <td>3</td>\n",
       "      <td>0703 Jason Square Suite 941\\nNew Vickiehaven, ...</td>\n",
       "      <td>F</td>\n",
       "      <td>69.730379</td>\n",
       "      <td>62.834321</td>\n",
       "      <td>Science</td>\n",
       "      <td>62.253799</td>\n",
       "      <td>Others</td>\n",
       "      <td>False</td>\n",
       "      <td>1</td>\n",
       "      <td>60.289206</td>\n",
       "      <td>Mkt&amp;HR</td>\n",
       "      <td>74.417743</td>\n",
       "      <td>NaN</td>\n",
       "      <td>True</td>\n",
       "      <td>2020-01-29 18:28:34.149401344</td>\n",
       "      <td>2020-06-18 20:23:45.004136960</td>\n",
       "      <td>12.0</td>\n",
       "    </tr>\n",
       "    <tr>\n",
       "      <th>4</th>\n",
       "      <td>4</td>\n",
       "      <td>5406 Michelle Drive Suite 527\\nLake Stephanief...</td>\n",
       "      <td>M</td>\n",
       "      <td>69.189006</td>\n",
       "      <td>77.312733</td>\n",
       "      <td>Commerce</td>\n",
       "      <td>66.665898</td>\n",
       "      <td>Sci&amp;Tech</td>\n",
       "      <td>False</td>\n",
       "      <td>0</td>\n",
       "      <td>51.128636</td>\n",
       "      <td>Mkt&amp;HR</td>\n",
       "      <td>61.865669</td>\n",
       "      <td>NaN</td>\n",
       "      <td>True</td>\n",
       "      <td>2020-03-23 16:53:46.939589376</td>\n",
       "      <td>2021-01-30 15:37:04.992101888</td>\n",
       "      <td>NaN</td>\n",
       "    </tr>\n",
       "  </tbody>\n",
       "</table>\n",
       "</div>"
      ],
      "text/plain": [
       "   student_id                                            address gender  \\\n",
       "0           0     2312 Jenkins Route\\nLake Ashleyshire, NM 55459      F   \n",
       "1           1          852 Jennifer Forest\\nEast David, KS 03442      F   \n",
       "2           2  46332 Hannah Point Suite 130\\nSouth Christophe...      F   \n",
       "3           3  0703 Jason Square Suite 941\\nNew Vickiehaven, ...      F   \n",
       "4           4  5406 Michelle Drive Suite 527\\nLake Stephanief...      M   \n",
       "\n",
       "   second_perc  high_perc high_spec  degree_perc degree_type  work_experience  \\\n",
       "0    74.644173  56.869112   Science    82.365335   Comm&Mgmt            False   \n",
       "1    45.254533  70.783556   Science    58.325999   Comm&Mgmt            False   \n",
       "2    77.745656  60.451404   Science    82.727076      Others            False   \n",
       "3    69.730379  62.834321   Science    62.253799      Others            False   \n",
       "4    69.189006  77.312733  Commerce    66.665898    Sci&Tech            False   \n",
       "\n",
       "   experience_years  employability_perc mba_spec   mba_perc        salary  \\\n",
       "0                 0           68.340702   Mkt&HR  59.605998           NaN   \n",
       "1                 0           51.134493  Mkt&Fin  69.732905  27770.640764   \n",
       "2                 0           58.351780  Mkt&Fin  58.251196  26086.145367   \n",
       "3                 1           60.289206   Mkt&HR  74.417743           NaN   \n",
       "4                 0           51.128636   Mkt&HR  61.865669           NaN   \n",
       "\n",
       "   placed                    start_date                      end_date duration  \n",
       "0    True 2020-03-08 14:07:19.863785984 2020-06-30 15:02:36.935849728      NaN  \n",
       "1    True 2020-04-04 05:39:58.130247936 2020-08-15 21:09:31.563425792     12.0  \n",
       "2    True 2020-03-28 18:14:22.953305344 2020-06-10 08:01:14.456957440      3.0  \n",
       "3    True 2020-01-29 18:28:34.149401344 2020-06-18 20:23:45.004136960     12.0  \n",
       "4    True 2020-03-23 16:53:46.939589376 2021-01-30 15:37:04.992101888      NaN  "
      ]
     },
     "execution_count": 17,
     "metadata": {},
     "output_type": "execute_result"
    }
   ],
   "source": [
    "new_data_pii = model.sample(200)\n",
    "new_data_pii.head()"
   ]
  },
  {
   "cell_type": "code",
   "execution_count": 18,
   "metadata": {
    "attributes": {
     "classes": [
      ""
     ],
     "id": ""
    }
   },
   "outputs": [
    {
     "data": {
      "text/plain": [
       "0"
      ]
     },
     "execution_count": 18,
     "metadata": {},
     "output_type": "execute_result"
    }
   ],
   "source": [
    "new_data_pii.address.isin(data_pii.address).sum()"
   ]
  },
  {
   "cell_type": "markdown",
   "metadata": {},
   "source": [
    "Advanced Usage\n",
    "--------------\n",
    "\n",
    "Now that we have discovered the basics, let\\'s go over a few more\n",
    "advanced usage examples and see the different arguments that we can pass\n",
    "to our `CopulaGAN` Model in order to customize it to our needs.\n",
    "\n",
    "### Exploring the Probability Distributions\n",
    "\n",
    "During the previous steps, every time we fitted the `CopulaGAN` it\n",
    "performed the following operations:\n",
    "\n",
    "1.  Learn the format and data types of the passed data\n",
    "2.  Transform the non-numerical and null data using [Reversible Data\n",
    "    Transforms](https://github.com/sdv-dev/RDT) to obtain a fully\n",
    "    numerical representation of the data from which we can learn the\n",
    "    probability distributions.\n",
    "3.  Learn the probability distribution of each column from the table\n",
    "4.  Learn the correlation between the marginal probabilities using a\n",
    "    Gaussian Copula.\n",
    "\n",
    "After this, when we used the model to generate new data for our table\n",
    "using the `sample` method, it did:\n",
    "\n",
    "5.  Sample from a Multivariate Standard Normal distribution with the\n",
    "    learned correlations.\n",
    "6.  Reverse the sampled probabilities using the marginal distributions.\n",
    "7.  Reverse the RDT transformations to go back to the original data\n",
    "    format.\n",
    "\n",
    "As you can see, during these steps the *Marginal Probability\n",
    "Distributions* have a very important role, since the `CopulaGAN` had to\n",
    "learn and reproduce the individual distributions of each column in our\n",
    "table. We can explore the distributions which the `CopulaGAN` used to\n",
    "model each column using its `get_distributions` method:"
   ]
  },
  {
   "cell_type": "code",
   "execution_count": 19,
   "metadata": {
    "attributes": {
     "classes": [
      ""
     ],
     "id": ""
    }
   },
   "outputs": [],
   "source": [
    "model = CopulaGAN(\n",
    "    primary_key='student_id'\n",
    ")\n",
    "model.fit(data)\n",
    "distributions = model.get_distributions()"
   ]
  },
  {
   "cell_type": "markdown",
   "metadata": {},
   "source": [
    "This will return us a `dict` which contains the name of the distribution\n",
    "class used for each column:"
   ]
  },
  {
   "cell_type": "code",
   "execution_count": 20,
   "metadata": {
    "attributes": {
     "classes": [
      ""
     ],
     "id": ""
    }
   },
   "outputs": [
    {
     "data": {
      "text/plain": [
       "{'second_perc': 'copulas.univariate.truncated_gaussian.TruncatedGaussian',\n",
       " 'high_perc': 'copulas.univariate.log_laplace.LogLaplace',\n",
       " 'degree_perc': 'copulas.univariate.student_t.StudentTUnivariate',\n",
       " 'work_experience': 'copulas.univariate.student_t.StudentTUnivariate',\n",
       " 'experience_years': 'copulas.univariate.gaussian.GaussianUnivariate',\n",
       " 'employability_perc': 'copulas.univariate.truncated_gaussian.TruncatedGaussian',\n",
       " 'mba_perc': 'copulas.univariate.gamma.GammaUnivariate',\n",
       " 'salary#0': 'copulas.univariate.gamma.GammaUnivariate',\n",
       " 'salary#1': 'copulas.univariate.gaussian.GaussianUnivariate',\n",
       " 'placed': 'copulas.univariate.gamma.GammaUnivariate',\n",
       " 'start_date#0': 'copulas.univariate.gamma.GammaUnivariate',\n",
       " 'start_date#1': 'copulas.univariate.gaussian.GaussianUnivariate',\n",
       " 'end_date#0': 'copulas.univariate.gamma.GammaUnivariate',\n",
       " 'end_date#1': 'copulas.univariate.gaussian.GaussianUnivariate'}"
      ]
     },
     "execution_count": 20,
     "metadata": {},
     "output_type": "execute_result"
    }
   ],
   "source": [
    "distributions"
   ]
  },
  {
   "cell_type": "markdown",
   "metadata": {},
   "source": [
    "<div class=\"alert alert-info\">\n",
    "\n",
    "**Note**\n",
    "\n",
    "In this list we will see multiple distributions for each one of the\n",
    "columns that we have in our data. This is because the RDT\n",
    "transformations used to encode the data numerically often use more than\n",
    "one column to represent each one of the input variables.\n",
    "\n",
    "</div>\n",
    "\n",
    "Let\\'s explore the individual distribution of one of the columns in our\n",
    "data to better understand how the `CopulaGAN` processed them and see if\n",
    "we can improve the results by manually specifying a different\n",
    "distribution. For example, let\\'s explore the `experience_years` column\n",
    "by looking at the frequency of its values within the original data:"
   ]
  },
  {
   "cell_type": "code",
   "execution_count": 21,
   "metadata": {
    "attributes": {
     "classes": [
      ""
     ],
     "id": ""
    }
   },
   "outputs": [
    {
     "data": {
      "text/plain": [
       "0    141\n",
       "1     65\n",
       "2      8\n",
       "3      1\n",
       "Name: experience_years, dtype: int64"
      ]
     },
     "execution_count": 21,
     "metadata": {},
     "output_type": "execute_result"
    }
   ],
   "source": [
    "data.experience_years.value_counts()"
   ]
  },
  {
   "cell_type": "code",
   "execution_count": 22,
   "metadata": {
    "attributes": {
     "classes": [
      ""
     ],
     "id": ""
    }
   },
   "outputs": [
    {
     "data": {
      "image/png": "[encoded data removed]",
      "text/plain": [
       "<Figure size 432x288 with 1 Axes>"
      ]
     },
     "metadata": {
      "needs_background": "light"
     },
     "output_type": "display_data"
    }
   ],
   "source": [
    "data.experience_years.hist();"
   ]
  },
  {
   "cell_type": "markdown",
   "metadata": {},
   "source": [
    "By observing the data we can see that the behavior of the values in this\n",
    "column is very similar to a Gamma or even some types of Beta\n",
    "distribution, where the majority of the values are 0 and the frequency\n",
    "decreases as the values increase.\n",
    "\n",
    "Was the `CopulaGAN` able to capture this distribution on its own?"
   ]
  },
  {
   "cell_type": "code",
   "execution_count": 23,
   "metadata": {
    "attributes": {
     "classes": [
      ""
     ],
     "id": ""
    }
   },
   "outputs": [
    {
     "data": {
      "text/plain": [
       "'copulas.univariate.gaussian.GaussianUnivariate'"
      ]
     },
     "execution_count": 23,
     "metadata": {},
     "output_type": "execute_result"
    }
   ],
   "source": [
    "distributions['experience_years']"
   ]
  },
  {
   "cell_type": "markdown",
   "metadata": {},
   "source": [
    "It seems that the it was not, as it rather thought that the behavior was\n",
    "closer to a Gaussian distribution. And, as a result, we can see how the\n",
    "generated values now contain negative values which are invalid for this\n",
    "column:"
   ]
  },
  {
   "cell_type": "code",
   "execution_count": 24,
   "metadata": {
    "attributes": {
     "classes": [
      ""
     ],
     "id": ""
    }
   },
   "outputs": [
    {
     "data": {
      "text/plain": [
       "1    106\n",
       "0     91\n",
       "3      2\n",
       "4      1\n",
       "Name: experience_years, dtype: int64"
      ]
     },
     "execution_count": 24,
     "metadata": {},
     "output_type": "execute_result"
    }
   ],
   "source": [
    "new_data.experience_years.value_counts()"
   ]
  },
  {
   "cell_type": "code",
   "execution_count": 25,
   "metadata": {
    "attributes": {
     "classes": [
      ""
     ],
     "id": ""
    }
   },
   "outputs": [
    {
     "data": {
      "image/png": "[encoded data removed]",
      "text/plain": [
       "<Figure size 432x288 with 1 Axes>"
      ]
     },
     "metadata": {
      "needs_background": "light"
     },
     "output_type": "display_data"
    }
   ],
   "source": [
    "new_data.experience_years.hist();"
   ]
  },
  {
   "cell_type": "markdown",
   "metadata": {},
   "source": [
    "Let\\'s see how we can improve this situation by passing the `CopulaGAN`\n",
    "the exact distribution that we want it to use for this column.\n",
    "\n",
    "### Setting distributions for indvidual variables\n",
    "\n",
    "The `CopulaGAN` class offers the possibility to indicate which\n",
    "distribution to use for each one of the columns in the table, in order\n",
    "to solve situations like the one that we just described. In order to do\n",
    "this, we need to pass a `distributions` argument with `dict` that\n",
    "indicates, the distribution that we want to use for each column.\n",
    "\n",
    "Possible values for the distribution argument are:\n",
    "\n",
    "-   `univariate`: Let `copulas` select the optimal univariate\n",
    "    distribution. This may result in non-parametric models being used.\n",
    "-   `parametric`: Let `copulas` select the optimal univariate\n",
    "    distribution, but restrict the selection to parametric distributions\n",
    "    only.\n",
    "-   `bounded`: Let `copulas` select the optimal univariate distribution,\n",
    "    but restrict the selection to bounded distributions only. This may\n",
    "    result in non-parametric models being used.\n",
    "-   `semi_bounded`: Let `copulas` select the optimal univariate\n",
    "    distribution, but restrict the selection to semi-bounded\n",
    "    distributions only. This may result in non-parametric models being\n",
    "    used.\n",
    "-   `parametric_bounded`: Let `copulas` select the optimal univariate\n",
    "    distribution, but restrict the selection to parametric and bounded\n",
    "    distributions only.\n",
    "-   `parametric_semi_bounded`: Let `copulas` select the optimal\n",
    "    univariate distribution, but restrict the selection to parametric\n",
    "    and semi-bounded distributions only.\n",
    "-   `gaussian`: Use a Gaussian distribution.\n",
    "-   `gamma`: Use a Gamma distribution.\n",
    "-   `beta`: Use a Beta distribution.\n",
    "-   `student_t`: Use a Student T distribution.\n",
    "-   `gussian_kde`: Use a GaussianKDE distribution. This model is\n",
    "    non-parametric, so using this will make `get_parameters` unusable.\n",
    "-   `truncated_gaussian`: Use a Truncated Gaussian distribution.\n",
    "\n",
    "Let\\'s see what happens if we make the `CopulaGAN` use the `beta`\n",
    "distribution for our column."
   ]
  },
  {
   "cell_type": "code",
   "execution_count": 26,
   "metadata": {
    "attributes": {
     "classes": [
      ""
     ],
     "id": ""
    }
   },
   "outputs": [],
   "source": [
    "model = CopulaGAN(\n",
    "    primary_key='student_id',\n",
    "    field_distributions={\n",
    "        'experience_years': 'gamma'\n",
    "    }\n",
    ")\n",
    "model.fit(data)"
   ]
  },
  {
   "cell_type": "markdown",
   "metadata": {},
   "source": [
    "After this, we can see how the `CopulaGAN` used the indicated\n",
    "distribution for the `experience_years` column"
   ]
  },
  {
   "cell_type": "code",
   "execution_count": 27,
   "metadata": {
    "attributes": {
     "classes": [
      ""
     ],
     "id": ""
    }
   },
   "outputs": [
    {
     "data": {
      "text/plain": [
       "'copulas.univariate.gamma.GammaUnivariate'"
      ]
     },
     "execution_count": 27,
     "metadata": {},
     "output_type": "execute_result"
    }
   ],
   "source": [
    "model.get_distributions()['experience_years']"
   ]
  },
  {
   "cell_type": "markdown",
   "metadata": {},
   "source": [
    "And, as a result, now we can see how the generated data now have a\n",
    "behavior which is closer to the original data and always stays within\n",
    "the valid values range."
   ]
  },
  {
   "cell_type": "code",
   "execution_count": 28,
   "metadata": {
    "attributes": {
     "classes": [
      ""
     ],
     "id": ""
    }
   },
   "outputs": [
    {
     "data": {
      "text/plain": [
       "0    115\n",
       "1     52\n",
       "2     33\n",
       "4      8\n",
       "3      7\n",
       "Name: experience_years, dtype: int64"
      ]
     },
     "execution_count": 28,
     "metadata": {},
     "output_type": "execute_result"
    }
   ],
   "source": [
    "new_data = model.sample(len(data))\n",
    "new_data.experience_years.value_counts()"
   ]
  },
  {
   "cell_type": "code",
   "execution_count": 29,
   "metadata": {
    "attributes": {
     "classes": [
      ""
     ],
     "id": ""
    }
   },
   "outputs": [
    {
     "data": {
      "image/png": "[encoded data removed]",
      "text/plain": [
       "<Figure size 432x288 with 1 Axes>"
      ]
     },
     "metadata": {
      "needs_background": "light"
     },
     "output_type": "display_data"
    }
   ],
   "source": [
    "new_data.experience_years.hist();"
   ]
  },
  {
   "cell_type": "markdown",
   "metadata": {},
   "source": [
    "<div class=\"alert alert-info\">\n",
    "\n",
    "**Note**\n",
    "\n",
    "Even though there are situations like the one show above where manually\n",
    "choosing a distribution seems to give better results, in most cases the\n",
    "`CopulaGAN` will be able to find the optimal distribution on its own,\n",
    "making this manual search of the marginal distributions necessary on\n",
    "very little occasions.\n",
    "\n",
    "</div>\n",
    "\n",
    "### How to modify the CopulaGAN Hyperparameters?\n",
    "\n",
    "A part from the common Tabular Model arguments, `CopulaGAN` has a number\n",
    "of additional hyperparameters that control its learning behavior and can\n",
    "impact on the performance of the model, both in terms of quality of the\n",
    "generated data and computational time.\n",
    "\n",
    "-   `epochs` and `batch_size`: these arguments control the number of\n",
    "    iterations that the model will perform to optimize its parameters,\n",
    "    as well as the number of samples used in each step. Its default\n",
    "    values are `300` and `500` respectively, and `batch_size` needs to\n",
    "    always be a value which is multiple of `10`."
   ]
  },
  {
   "cell_type": "markdown",
   "metadata": {},
   "source": [
    "These hyperparameters have a very direct effect in time the training\n",
    "process lasts but also on the performance of the data, so for new\n",
    "datasets, you might want to start by setting a low value on both of\n",
    "them to see how long the training process takes on your data and\n",
    "later on increase the number to acceptable values in order to\n",
    "improve the performance."
   ]
  },
  {
   "cell_type": "markdown",
   "metadata": {},
   "source": [
    "-   `log_frequency`: Whether to use log frequency of categorical levels\n",
    "    in conditional sampling. It defaults to `True`."
   ]
  },
  {
   "cell_type": "markdown",
   "metadata": {},
   "source": [
    "This argument affects how the model processes the frequencies of the\n",
    "categorical values that are used to condition the rest of the\n",
    "values. In some cases, changing it to `False` could lead to better\n",
    "performance."
   ]
  },
  {
   "cell_type": "markdown",
   "metadata": {},
   "source": [
    "-   `embedding_dim` (int): Size of the random sample passed to the\n",
    "    Generator. Defaults to 128.\n",
    "\n",
    "-   `gen_dim` (tuple or list of ints): Size of the output samples for\n",
    "    each one of the Residuals. A Resiudal Layer will be created for each\n",
    "    one of the values provided. Defaults to (256, 256).\n",
    "\n",
    "-   `dis_dim` (tuple or list of ints): Size of the output samples for\n",
    "    each one of the Discriminator Layers. A Linear Layer will be created\n",
    "    for each one of the values provided. Defaults to (256, 256).\n",
    "\n",
    "-   `l2scale`: Weight Decay of the Adam Optimizer used to optimize the\n",
    "    Neural Networks. Defaults to `1e-6`.\n",
    "\n",
    "-   `verbose`: Whether to print fit progress on stdout. Defaults to\n",
    "    `False`.\n",
    "\n",
    "<div class=\"alert alert-warning\">\n",
    "\n",
    "**Warning**\n",
    "\n",
    "Notice that the value that you set on the `batch_size` argument must\n",
    "always be a multiple of `10`!\n",
    "\n",
    "</div>\n",
    "\n",
    "As an example, we will try to fit the `CopulaGAN` model slightly\n",
    "increasing the number of epochs, reducing the `batch_size`, adding one\n",
    "additional layer to the models involved and using a smaller wright\n",
    "decay.\n",
    "\n",
    "Before we start, we will evaluate the quality of the previously\n",
    "generated data using the `sdv.evaluation.evaluate` function"
   ]
  },
  {
   "cell_type": "code",
   "execution_count": 30,
   "metadata": {
    "attributes": {
     "classes": [
      ""
     ],
     "id": ""
    }
   },
   "outputs": [
    {
     "data": {
      "text/plain": [
       "0.7281661506052615"
      ]
     },
     "execution_count": 30,
     "metadata": {},
     "output_type": "execute_result"
    }
   ],
   "source": [
    "from sdv.evaluation import evaluate\n",
    "\n",
    "evaluate(new_data, data)"
   ]
  },
  {
   "cell_type": "markdown",
   "metadata": {},
   "source": [
    "Afterwards, we create a new instance of the `CopulaGAN` model with the\n",
    "hyperparameter values that we want to use"
   ]
  },
  {
   "cell_type": "code",
   "execution_count": 31,
   "metadata": {
    "attributes": {
     "classes": [
      ""
     ],
     "id": ""
    }
   },
   "outputs": [],
   "source": [
    "model = CopulaGAN(\n",
    "    primary_key='student_id',\n",
    "    epochs=500,\n",
    "    batch_size=100,\n",
    "    gen_dim=(256, 256, 256),\n",
    "    dis_dim=(256, 256, 256),\n",
    "    l2scale=1e-07\n",
    ")"
   ]
  },
  {
   "cell_type": "markdown",
   "metadata": {},
   "source": [
    "And fit to our data."
   ]
  },
  {
   "cell_type": "code",
   "execution_count": 32,
   "metadata": {
    "attributes": {
     "classes": [
      ""
     ],
     "id": ""
    }
   },
   "outputs": [],
   "source": [
    "model.fit(data)"
   ]
  },
  {
   "cell_type": "markdown",
   "metadata": {},
   "source": [
    "Finally, we are ready to generate new data and evaluate the results."
   ]
  },
  {
   "cell_type": "code",
   "execution_count": 33,
   "metadata": {
    "attributes": {
     "classes": [
      ""
     ],
     "id": ""
    }
   },
   "outputs": [
    {
     "data": {
      "text/plain": [
       "0.7260857465186651"
      ]
     },
     "execution_count": 33,
     "metadata": {},
     "output_type": "execute_result"
    }
   ],
   "source": [
    "new_data = model.sample(len(data))\n",
    "new_data.head().T\n",
    "evaluate(new_data, data)"
   ]
  },
  {
   "cell_type": "markdown",
   "metadata": {},
   "source": [
    "As we can see, in this case these modifications changed the obtained\n",
    "results slightly, but they did neither introduce dramatic changes in the\n",
    "performance.\n",
    "\n",
    "### How do I specify constraints?\n",
    "\n",
    "If you look closely at the data you may notice that some properties were\n",
    "not completely captured by the model. For example, you may have seen\n",
    "that sometimes the model produces an `experience_years` number greater\n",
    "than `0` while also indicating that `work_experience` is `False`. These\n",
    "type of properties are what we call `Constraints` and can also be\n",
    "handled using `SDV`. For further details about them please visit the\n",
    "[Handling Constraints](04_Handling_Constraints.ipynb) tutorial.\n",
    "\n",
    "### Can I evaluate the Synthetic Data?\n",
    "\n",
    "A very common question when someone starts using **SDV** to generate\n",
    "synthetic data is: *\\\"How good is the data that I just generated?\\\"*\n",
    "\n",
    "In order to answer this question, **SDV** has a collection of metrics\n",
    "and tools that allow you to compare the *real* that you provided and the\n",
    "*synthetic* data that you generated using **SDV** or any other tool.\n",
    "\n",
    "You can read more about this in the [Evaluating Synthetic Data Generators](05_Evaluating_Synthetic_Data_Generators.ipynb) tutorial."
   ]
  }
 ],
 "metadata": {
  "kernelspec": {
   "display_name": "Python 3",
   "language": "python",
   "name": "python3"
  },
  "language_info": {
   "codemirror_mode": {
    "name": "ipython",
    "version": 3
   },
   "file_extension": ".py",
   "mimetype": "text/x-python",
   "name": "python",
   "nbconvert_exporter": "python",
   "pygments_lexer": "ipython3",
   "version": "3.6.9"
  }
 },
 "nbformat": 4,
 "nbformat_minor": 4
}
