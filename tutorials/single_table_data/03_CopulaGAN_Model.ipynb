{
 "cells": [
  {
   "cell_type": "markdown",
   "metadata": {},
   "source": [
    "CopulaGAN Model\n",
    "===============\n",
    "\n",
    "In this guide we will go through a series of steps that will let you\n",
    "discover functionalities of the `CopulaGAN` model, including how to:\n",
    "\n",
    "-   Create an instance of `CopulaGAN`.\n",
    "-   Fit the instance to your data.\n",
    "-   Generate synthetic versions of your data.\n",
    "-   Use `CopulaGAN` to anonymize PII information.\n",
    "-   Customize the data transformations to improve the learning process.\n",
    "-   Specify the column distributions to improve the output quality.\n",
    "-   Specify hyperparameters to improve the output quality.\n",
    "\n",
    "What is CopulaGAN?\n",
    "------------------\n",
    "\n",
    "The `sdv.tabular.CopulaGAN` model is a variation of the\n",
    "[ctgan](ctgan.ipynb) which takes advantage of the CDF\n",
    "based transformation that the GaussianCopulas apply to make the\n",
    "underlying CTGAN model task of learning the data easier.\n",
    "\n",
    "Let\\'s now discover how to learn a dataset and later on generate\n",
    "synthetic data with the same format and statistical properties by using\n",
    "the `CopulaGAN` class from SDV.\n",
    "\n",
    "Quick Usage\n",
    "-----------\n",
    "\n",
    "We will start by loading one of our demo datasets, the\n",
    "`student_placements`, which contains information about MBA students that\n",
    "applied for placements during the year 2020.\n",
    "\n",
    "<div class=\"alert alert-warning\">\n",
    "\n",
    "**Warning**\n",
    "\n",
    "In order to follow this guide you need to have `ctgan` installed on your\n",
    "system. If you have not done it yet, please install `ctgan` now by\n",
    "executing the command `pip install sdv` in a terminal.\n",
    "\n",
    "</div>"
   ]
  },
  {
   "cell_type": "code",
   "execution_count": 1,
   "metadata": {
    "attributes": {
     "classes": [
      ""
     ],
     "id": ""
    }
   },
   "outputs": [
    {
     "data": {
      "text/html": [
       "<div>\n",
       "<style scoped>\n",
       "    .dataframe tbody tr th:only-of-type {\n",
       "        vertical-align: middle;\n",
       "    }\n",
       "\n",
       "    .dataframe tbody tr th {\n",
       "        vertical-align: top;\n",
       "    }\n",
       "\n",
       "    .dataframe thead th {\n",
       "        text-align: right;\n",
       "    }\n",
       "</style>\n",
       "<table border=\"1\" class=\"dataframe\">\n",
       "  <thead>\n",
       "    <tr style=\"text-align: right;\">\n",
       "      <th></th>\n",
       "      <th>student_id</th>\n",
       "      <th>gender</th>\n",
       "      <th>second_perc</th>\n",
       "      <th>high_perc</th>\n",
       "      <th>high_spec</th>\n",
       "      <th>degree_perc</th>\n",
       "      <th>degree_type</th>\n",
       "      <th>work_experience</th>\n",
       "      <th>experience_years</th>\n",
       "      <th>employability_perc</th>\n",
       "      <th>mba_spec</th>\n",
       "      <th>mba_perc</th>\n",
       "      <th>salary</th>\n",
       "      <th>placed</th>\n",
       "      <th>start_date</th>\n",
       "      <th>end_date</th>\n",
       "      <th>duration</th>\n",
       "    </tr>\n",
       "  </thead>\n",
       "  <tbody>\n",
       "    <tr>\n",
       "      <th>0</th>\n",
       "      <td>17264</td>\n",
       "      <td>M</td>\n",
       "      <td>67.00</td>\n",
       "      <td>91.00</td>\n",
       "      <td>Commerce</td>\n",
       "      <td>58.00</td>\n",
       "      <td>Sci&amp;Tech</td>\n",
       "      <td>False</td>\n",
       "      <td>0</td>\n",
       "      <td>55.0</td>\n",
       "      <td>Mkt&amp;HR</td>\n",
       "      <td>58.80</td>\n",
       "      <td>27000.0</td>\n",
       "      <td>True</td>\n",
       "      <td>2020-07-23</td>\n",
       "      <td>2020-10-12</td>\n",
       "      <td>3.0</td>\n",
       "    </tr>\n",
       "    <tr>\n",
       "      <th>1</th>\n",
       "      <td>17265</td>\n",
       "      <td>M</td>\n",
       "      <td>79.33</td>\n",
       "      <td>78.33</td>\n",
       "      <td>Science</td>\n",
       "      <td>77.48</td>\n",
       "      <td>Sci&amp;Tech</td>\n",
       "      <td>True</td>\n",
       "      <td>1</td>\n",
       "      <td>86.5</td>\n",
       "      <td>Mkt&amp;Fin</td>\n",
       "      <td>66.28</td>\n",
       "      <td>20000.0</td>\n",
       "      <td>True</td>\n",
       "      <td>2020-01-11</td>\n",
       "      <td>2020-04-09</td>\n",
       "      <td>3.0</td>\n",
       "    </tr>\n",
       "    <tr>\n",
       "      <th>2</th>\n",
       "      <td>17266</td>\n",
       "      <td>M</td>\n",
       "      <td>65.00</td>\n",
       "      <td>68.00</td>\n",
       "      <td>Arts</td>\n",
       "      <td>64.00</td>\n",
       "      <td>Comm&amp;Mgmt</td>\n",
       "      <td>False</td>\n",
       "      <td>0</td>\n",
       "      <td>75.0</td>\n",
       "      <td>Mkt&amp;Fin</td>\n",
       "      <td>57.80</td>\n",
       "      <td>25000.0</td>\n",
       "      <td>True</td>\n",
       "      <td>2020-01-26</td>\n",
       "      <td>2020-07-13</td>\n",
       "      <td>6.0</td>\n",
       "    </tr>\n",
       "    <tr>\n",
       "      <th>3</th>\n",
       "      <td>17267</td>\n",
       "      <td>M</td>\n",
       "      <td>56.00</td>\n",
       "      <td>52.00</td>\n",
       "      <td>Science</td>\n",
       "      <td>52.00</td>\n",
       "      <td>Sci&amp;Tech</td>\n",
       "      <td>False</td>\n",
       "      <td>0</td>\n",
       "      <td>66.0</td>\n",
       "      <td>Mkt&amp;HR</td>\n",
       "      <td>59.43</td>\n",
       "      <td>NaN</td>\n",
       "      <td>False</td>\n",
       "      <td>NaT</td>\n",
       "      <td>NaT</td>\n",
       "      <td>NaN</td>\n",
       "    </tr>\n",
       "    <tr>\n",
       "      <th>4</th>\n",
       "      <td>17268</td>\n",
       "      <td>M</td>\n",
       "      <td>85.80</td>\n",
       "      <td>73.60</td>\n",
       "      <td>Commerce</td>\n",
       "      <td>73.30</td>\n",
       "      <td>Comm&amp;Mgmt</td>\n",
       "      <td>False</td>\n",
       "      <td>0</td>\n",
       "      <td>96.8</td>\n",
       "      <td>Mkt&amp;Fin</td>\n",
       "      <td>55.50</td>\n",
       "      <td>42500.0</td>\n",
       "      <td>True</td>\n",
       "      <td>2020-07-04</td>\n",
       "      <td>2020-09-27</td>\n",
       "      <td>3.0</td>\n",
       "    </tr>\n",
       "  </tbody>\n",
       "</table>\n",
       "</div>"
      ],
      "text/plain": [
       "   student_id gender  second_perc  high_perc high_spec  degree_perc  \\\n",
       "0       17264      M        67.00      91.00  Commerce        58.00   \n",
       "1       17265      M        79.33      78.33   Science        77.48   \n",
       "2       17266      M        65.00      68.00      Arts        64.00   \n",
       "3       17267      M        56.00      52.00   Science        52.00   \n",
       "4       17268      M        85.80      73.60  Commerce        73.30   \n",
       "\n",
       "  degree_type  work_experience  experience_years  employability_perc mba_spec  \\\n",
       "0    Sci&Tech            False                 0                55.0   Mkt&HR   \n",
       "1    Sci&Tech             True                 1                86.5  Mkt&Fin   \n",
       "2   Comm&Mgmt            False                 0                75.0  Mkt&Fin   \n",
       "3    Sci&Tech            False                 0                66.0   Mkt&HR   \n",
       "4   Comm&Mgmt            False                 0                96.8  Mkt&Fin   \n",
       "\n",
       "   mba_perc   salary  placed start_date   end_date duration  \n",
       "0     58.80  27000.0    True 2020-07-23 2020-10-12      3.0  \n",
       "1     66.28  20000.0    True 2020-01-11 2020-04-09      3.0  \n",
       "2     57.80  25000.0    True 2020-01-26 2020-07-13      6.0  \n",
       "3     59.43      NaN   False        NaT        NaT      NaN  \n",
       "4     55.50  42500.0    True 2020-07-04 2020-09-27      3.0  "
      ]
     },
     "execution_count": 1,
     "metadata": {},
     "output_type": "execute_result"
    }
   ],
   "source": [
    "from sdv.demo import load_tabular_demo\n",
    "\n",
    "data = load_tabular_demo('student_placements')\n",
    "data.head()"
   ]
  },
  {
   "cell_type": "markdown",
   "metadata": {},
   "source": [
    "As you can see, this table contains information about students which\n",
    "includes, among other things:\n",
    "\n",
    "-   Their id and gender\n",
    "-   Their grades and specializations\n",
    "-   Their work experience\n",
    "-   The salary that they where offered\n",
    "-   The duration and dates of their placement\n",
    "\n",
    "You will notice that there is data with the following characteristics:\n",
    "\n",
    "-   There are float, integer, boolean, categorical and datetime values.\n",
    "-   There are some variables that have missing data. In particular, all\n",
    "    the data related to the placement details is missing in the rows\n",
    "    where the student was not placed.\n",
    "\n",
    "Let us use `CopulaGAN` to learn this data and then sample synthetic data\n",
    "about new students to see how well de model captures the characteristics\n",
    "indicated above. In order to do this you will need to:\n",
    "\n",
    "-   Import the `sdv.tabular.CopulaGAN` class and create an instance of\n",
    "    it.\n",
    "-   Call its `fit` method passing our table.\n",
    "-   Call its `sample` method indicating the number of synthetic rows\n",
    "    that you want to generate."
   ]
  },
  {
   "cell_type": "code",
   "execution_count": 2,
   "metadata": {
    "attributes": {
     "classes": [
      ""
     ],
     "id": ""
    }
   },
   "outputs": [],
   "source": [
    "from sdv.tabular import CopulaGAN\n",
    "\n",
    "model = CopulaGAN()\n",
    "model.fit(data)"
   ]
  },
  {
   "cell_type": "markdown",
   "metadata": {},
   "source": [
    "<div class=\"alert alert-info\">\n",
    "\n",
    "**Note**\n",
    "\n",
    "Notice that the model `fitting` process took care of transforming the\n",
    "different fields using the appropriate [Reversible Data\n",
    "Transforms](http://github.com/sdv-dev/RDT) to ensure that the data has a\n",
    "format that the underlying CTGANSynthesizer class can handle.\n",
    "\n",
    "</div>\n",
    "\n",
    "### Generate synthetic data from the model\n",
    "\n",
    "Once the modeling has finished you are ready to generate new synthetic\n",
    "data by calling the `sample` method from your model passing the number\n",
    "of rows that we want to generate."
   ]
  },
  {
   "cell_type": "code",
   "execution_count": 3,
   "metadata": {
    "attributes": {
     "classes": [
      ""
     ],
     "id": ""
    }
   },
   "outputs": [],
   "source": [
    "new_data = model.sample(200)"
   ]
  },
  {
   "cell_type": "markdown",
   "metadata": {},
   "source": [
    "This will return a table identical to the one which the model was fitted\n",
    "on, but filled with new data which resembles the original one."
   ]
  },
  {
   "cell_type": "code",
   "execution_count": 4,
   "metadata": {
    "attributes": {
     "classes": [
      ""
     ],
     "id": ""
    }
   },
   "outputs": [
    {
     "data": {
      "text/html": [
       "<div>\n",
       "<style scoped>\n",
       "    .dataframe tbody tr th:only-of-type {\n",
       "        vertical-align: middle;\n",
       "    }\n",
       "\n",
       "    .dataframe tbody tr th {\n",
       "        vertical-align: top;\n",
       "    }\n",
       "\n",
       "    .dataframe thead th {\n",
       "        text-align: right;\n",
       "    }\n",
       "</style>\n",
       "<table border=\"1\" class=\"dataframe\">\n",
       "  <thead>\n",
       "    <tr style=\"text-align: right;\">\n",
       "      <th></th>\n",
       "      <th>student_id</th>\n",
       "      <th>gender</th>\n",
       "      <th>second_perc</th>\n",
       "      <th>high_perc</th>\n",
       "      <th>high_spec</th>\n",
       "      <th>degree_perc</th>\n",
       "      <th>degree_type</th>\n",
       "      <th>work_experience</th>\n",
       "      <th>experience_years</th>\n",
       "      <th>employability_perc</th>\n",
       "      <th>mba_spec</th>\n",
       "      <th>mba_perc</th>\n",
       "      <th>salary</th>\n",
       "      <th>placed</th>\n",
       "      <th>start_date</th>\n",
       "      <th>end_date</th>\n",
       "      <th>duration</th>\n",
       "    </tr>\n",
       "  </thead>\n",
       "  <tbody>\n",
       "    <tr>\n",
       "      <th>0</th>\n",
       "      <td>17306</td>\n",
       "      <td>F</td>\n",
       "      <td>77.505798</td>\n",
       "      <td>81.371240</td>\n",
       "      <td>Science</td>\n",
       "      <td>54.828843</td>\n",
       "      <td>Comm&amp;Mgmt</td>\n",
       "      <td>False</td>\n",
       "      <td>1</td>\n",
       "      <td>91.829876</td>\n",
       "      <td>Mkt&amp;HR</td>\n",
       "      <td>82.883061</td>\n",
       "      <td>29578.771658</td>\n",
       "      <td>True</td>\n",
       "      <td>NaT</td>\n",
       "      <td>2020-07-26</td>\n",
       "      <td>12.0</td>\n",
       "    </tr>\n",
       "    <tr>\n",
       "      <th>1</th>\n",
       "      <td>17264</td>\n",
       "      <td>M</td>\n",
       "      <td>70.116421</td>\n",
       "      <td>104.637602</td>\n",
       "      <td>Science</td>\n",
       "      <td>49.380512</td>\n",
       "      <td>Comm&amp;Mgmt</td>\n",
       "      <td>False</td>\n",
       "      <td>0</td>\n",
       "      <td>63.693386</td>\n",
       "      <td>Mkt&amp;Fin</td>\n",
       "      <td>69.895462</td>\n",
       "      <td>29328.174526</td>\n",
       "      <td>True</td>\n",
       "      <td>NaT</td>\n",
       "      <td>2020-03-16</td>\n",
       "      <td>6.0</td>\n",
       "    </tr>\n",
       "    <tr>\n",
       "      <th>2</th>\n",
       "      <td>17291</td>\n",
       "      <td>M</td>\n",
       "      <td>88.128586</td>\n",
       "      <td>73.011531</td>\n",
       "      <td>Commerce</td>\n",
       "      <td>57.210937</td>\n",
       "      <td>Comm&amp;Mgmt</td>\n",
       "      <td>True</td>\n",
       "      <td>0</td>\n",
       "      <td>55.088983</td>\n",
       "      <td>Mkt&amp;Fin</td>\n",
       "      <td>62.253486</td>\n",
       "      <td>23984.190215</td>\n",
       "      <td>False</td>\n",
       "      <td>2020-02-25</td>\n",
       "      <td>2020-06-26</td>\n",
       "      <td>12.0</td>\n",
       "    </tr>\n",
       "    <tr>\n",
       "      <th>3</th>\n",
       "      <td>17351</td>\n",
       "      <td>F</td>\n",
       "      <td>62.921889</td>\n",
       "      <td>69.035454</td>\n",
       "      <td>Science</td>\n",
       "      <td>49.436722</td>\n",
       "      <td>Comm&amp;Mgmt</td>\n",
       "      <td>True</td>\n",
       "      <td>0</td>\n",
       "      <td>88.085749</td>\n",
       "      <td>Mkt&amp;HR</td>\n",
       "      <td>59.482944</td>\n",
       "      <td>21744.982323</td>\n",
       "      <td>True</td>\n",
       "      <td>2020-01-13</td>\n",
       "      <td>2020-07-17</td>\n",
       "      <td>3.0</td>\n",
       "    </tr>\n",
       "    <tr>\n",
       "      <th>4</th>\n",
       "      <td>17280</td>\n",
       "      <td>M</td>\n",
       "      <td>86.321468</td>\n",
       "      <td>67.592647</td>\n",
       "      <td>Science</td>\n",
       "      <td>47.809550</td>\n",
       "      <td>Comm&amp;Mgmt</td>\n",
       "      <td>False</td>\n",
       "      <td>1</td>\n",
       "      <td>97.603132</td>\n",
       "      <td>Mkt&amp;HR</td>\n",
       "      <td>73.005850</td>\n",
       "      <td>18499.283581</td>\n",
       "      <td>True</td>\n",
       "      <td>NaT</td>\n",
       "      <td>2020-06-13</td>\n",
       "      <td>3.0</td>\n",
       "    </tr>\n",
       "  </tbody>\n",
       "</table>\n",
       "</div>"
      ],
      "text/plain": [
       "   student_id gender  second_perc   high_perc high_spec  degree_perc  \\\n",
       "0       17306      F    77.505798   81.371240   Science    54.828843   \n",
       "1       17264      M    70.116421  104.637602   Science    49.380512   \n",
       "2       17291      M    88.128586   73.011531  Commerce    57.210937   \n",
       "3       17351      F    62.921889   69.035454   Science    49.436722   \n",
       "4       17280      M    86.321468   67.592647   Science    47.809550   \n",
       "\n",
       "  degree_type  work_experience  experience_years  employability_perc mba_spec  \\\n",
       "0   Comm&Mgmt            False                 1           91.829876   Mkt&HR   \n",
       "1   Comm&Mgmt            False                 0           63.693386  Mkt&Fin   \n",
       "2   Comm&Mgmt             True                 0           55.088983  Mkt&Fin   \n",
       "3   Comm&Mgmt             True                 0           88.085749   Mkt&HR   \n",
       "4   Comm&Mgmt            False                 1           97.603132   Mkt&HR   \n",
       "\n",
       "    mba_perc        salary  placed start_date   end_date duration  \n",
       "0  82.883061  29578.771658    True        NaT 2020-07-26     12.0  \n",
       "1  69.895462  29328.174526    True        NaT 2020-03-16      6.0  \n",
       "2  62.253486  23984.190215   False 2020-02-25 2020-06-26     12.0  \n",
       "3  59.482944  21744.982323    True 2020-01-13 2020-07-17      3.0  \n",
       "4  73.005850  18499.283581    True        NaT 2020-06-13      3.0  "
      ]
     },
     "execution_count": 4,
     "metadata": {},
     "output_type": "execute_result"
    }
   ],
   "source": [
    "new_data.head()"
   ]
  },
  {
   "cell_type": "markdown",
   "metadata": {},
   "source": [
    "<div class=\"alert alert-info\">\n",
    "\n",
    "**Note**\n",
    "\n",
    "You can control the number of rows by specifying the number of `samples`\n",
    "in the `model.sample(<num_rows>)`. To test, try `model.sample(10000)`.\n",
    "Note that the original table only had \\~200 rows.\n",
    "\n",
    "</div>\n",
    "\n",
    "### Save and Load the model\n",
    "\n",
    "In many scenarios it will be convenient to generate synthetic versions\n",
    "of your data directly in systems that do not have access to the original\n",
    "data source. For example, if you may want to generate testing data on\n",
    "the fly inside a testing environment that does not have access to your\n",
    "production database. In these scenarios, fitting the model with real\n",
    "data every time that you need to generate new data is feasible, so you\n",
    "will need to fit a model in your production environment, save the fitted\n",
    "model into a file, send this file to the testing environment and then\n",
    "load it there to be able to `sample` from it.\n",
    "\n",
    "Let\\'s see how this process works.\n",
    "\n",
    "#### Save and share the model\n",
    "\n",
    "Once you have fitted the model, all you need to do is call its `save`\n",
    "method passing the name of the file in which you want to save the model.\n",
    "Note that the extension of the filename is not relevant, but we will be\n",
    "using the `.pkl` extension to highlight that the serialization protocol\n",
    "used is [pickle](https://docs.python.org/3/library/pickle.html)."
   ]
  },
  {
   "cell_type": "code",
   "execution_count": 5,
   "metadata": {
    "attributes": {
     "classes": [
      ""
     ],
     "id": ""
    }
   },
   "outputs": [],
   "source": [
    "model.save('my_model.pkl')"
   ]
  },
  {
   "cell_type": "markdown",
   "metadata": {},
   "source": [
    "This will have created a file called `my_model.pkl` in the same\n",
    "directory in which you are running SDV.\n",
    "\n",
    "<div class=\"alert alert-info\">\n",
    "\n",
    "**Important**\n",
    "\n",
    "If you inspect the generated file you will notice that its size is much\n",
    "smaller than the size of the data that you used to generate it. This is\n",
    "because the serialized model contains **no information about the\n",
    "original data**, other than the parameters it needs to generate\n",
    "synthetic versions of it. This means that you can safely share this\n",
    "`my_model.pkl` file without the risc of disclosing any of your real\n",
    "data!\n",
    "\n",
    "</div>\n",
    "\n",
    "#### Load the model and generate new data\n",
    "\n",
    "The file you just generated can be send over to the system where the\n",
    "synthetic data will be generated. Once it is there, you can load it\n",
    "using the `CopulaGAN.load` method, and then you are ready to sample new\n",
    "data from the loaded instance:"
   ]
  },
  {
   "cell_type": "code",
   "execution_count": 6,
   "metadata": {
    "attributes": {
     "classes": [
      ""
     ],
     "id": ""
    }
   },
   "outputs": [],
   "source": [
    "loaded = CopulaGAN.load('my_model.pkl')\n",
    "new_data = loaded.sample(200)"
   ]
  },
  {
   "cell_type": "markdown",
   "metadata": {},
   "source": [
    "<div class=\"alert alert-warning\">\n",
    "\n",
    "**Warning**\n",
    "\n",
    "Notice that the system where the model is loaded needs to also have\n",
    "`sdv` and `ctgan` installed, otherwise it will not be able to load the\n",
    "model and use it.\n",
    "\n",
    "</div>\n",
    "\n",
    "### Specifying the Primary Key of the table\n",
    "\n",
    "One of the first things that you may have noticed when looking that demo\n",
    "data is that there is a `student_id` column which acts as the primary\n",
    "key of the table, and which is supposed to have unique values. Indeed,\n",
    "if we look at the number of times that each value appears, we see that\n",
    "all of them appear at most once:"
   ]
  },
  {
   "cell_type": "code",
   "execution_count": 7,
   "metadata": {
    "attributes": {
     "classes": [
      ""
     ],
     "id": ""
    }
   },
   "outputs": [
    {
     "data": {
      "text/plain": [
       "1"
      ]
     },
     "execution_count": 7,
     "metadata": {},
     "output_type": "execute_result"
    }
   ],
   "source": [
    "data.student_id.value_counts().max()"
   ]
  },
  {
   "cell_type": "markdown",
   "metadata": {},
   "source": [
    "However, if we look at the synthetic data that we generated, we observe\n",
    "that there are some values that appear more than once:"
   ]
  },
  {
   "cell_type": "code",
   "execution_count": 8,
   "metadata": {
    "attributes": {
     "classes": [
      ""
     ],
     "id": ""
    }
   },
   "outputs": [
    {
     "data": {
      "text/html": [
       "<div>\n",
       "<style scoped>\n",
       "    .dataframe tbody tr th:only-of-type {\n",
       "        vertical-align: middle;\n",
       "    }\n",
       "\n",
       "    .dataframe tbody tr th {\n",
       "        vertical-align: top;\n",
       "    }\n",
       "\n",
       "    .dataframe thead th {\n",
       "        text-align: right;\n",
       "    }\n",
       "</style>\n",
       "<table border=\"1\" class=\"dataframe\">\n",
       "  <thead>\n",
       "    <tr style=\"text-align: right;\">\n",
       "      <th></th>\n",
       "      <th>student_id</th>\n",
       "      <th>gender</th>\n",
       "      <th>second_perc</th>\n",
       "      <th>high_perc</th>\n",
       "      <th>high_spec</th>\n",
       "      <th>degree_perc</th>\n",
       "      <th>degree_type</th>\n",
       "      <th>work_experience</th>\n",
       "      <th>experience_years</th>\n",
       "      <th>employability_perc</th>\n",
       "      <th>mba_spec</th>\n",
       "      <th>mba_perc</th>\n",
       "      <th>salary</th>\n",
       "      <th>placed</th>\n",
       "      <th>start_date</th>\n",
       "      <th>end_date</th>\n",
       "      <th>duration</th>\n",
       "    </tr>\n",
       "  </thead>\n",
       "  <tbody>\n",
       "    <tr>\n",
       "      <th>13</th>\n",
       "      <td>17265</td>\n",
       "      <td>M</td>\n",
       "      <td>87.254460</td>\n",
       "      <td>33.694489</td>\n",
       "      <td>Science</td>\n",
       "      <td>42.131443</td>\n",
       "      <td>Comm&amp;Mgmt</td>\n",
       "      <td>False</td>\n",
       "      <td>1</td>\n",
       "      <td>72.302120</td>\n",
       "      <td>Mkt&amp;Fin</td>\n",
       "      <td>86.700941</td>\n",
       "      <td>28235.811548</td>\n",
       "      <td>False</td>\n",
       "      <td>NaT</td>\n",
       "      <td>NaT</td>\n",
       "      <td>3.0</td>\n",
       "    </tr>\n",
       "    <tr>\n",
       "      <th>24</th>\n",
       "      <td>17265</td>\n",
       "      <td>F</td>\n",
       "      <td>80.283971</td>\n",
       "      <td>67.391571</td>\n",
       "      <td>Commerce</td>\n",
       "      <td>77.648795</td>\n",
       "      <td>Comm&amp;Mgmt</td>\n",
       "      <td>False</td>\n",
       "      <td>0</td>\n",
       "      <td>97.645427</td>\n",
       "      <td>Mkt&amp;Fin</td>\n",
       "      <td>59.888181</td>\n",
       "      <td>NaN</td>\n",
       "      <td>True</td>\n",
       "      <td>2020-02-25</td>\n",
       "      <td>NaT</td>\n",
       "      <td>12.0</td>\n",
       "    </tr>\n",
       "    <tr>\n",
       "      <th>29</th>\n",
       "      <td>17265</td>\n",
       "      <td>M</td>\n",
       "      <td>80.021210</td>\n",
       "      <td>59.084754</td>\n",
       "      <td>Arts</td>\n",
       "      <td>51.504989</td>\n",
       "      <td>Others</td>\n",
       "      <td>True</td>\n",
       "      <td>1</td>\n",
       "      <td>95.694690</td>\n",
       "      <td>Mkt&amp;Fin</td>\n",
       "      <td>61.276575</td>\n",
       "      <td>44954.172731</td>\n",
       "      <td>True</td>\n",
       "      <td>NaT</td>\n",
       "      <td>2020-06-08</td>\n",
       "      <td>3.0</td>\n",
       "    </tr>\n",
       "    <tr>\n",
       "      <th>55</th>\n",
       "      <td>17265</td>\n",
       "      <td>M</td>\n",
       "      <td>80.342485</td>\n",
       "      <td>61.661367</td>\n",
       "      <td>Commerce</td>\n",
       "      <td>67.139940</td>\n",
       "      <td>Others</td>\n",
       "      <td>False</td>\n",
       "      <td>0</td>\n",
       "      <td>61.113538</td>\n",
       "      <td>Mkt&amp;HR</td>\n",
       "      <td>79.638213</td>\n",
       "      <td>25236.493457</td>\n",
       "      <td>True</td>\n",
       "      <td>2020-03-17</td>\n",
       "      <td>2020-09-13</td>\n",
       "      <td>3.0</td>\n",
       "    </tr>\n",
       "    <tr>\n",
       "      <th>57</th>\n",
       "      <td>17265</td>\n",
       "      <td>F</td>\n",
       "      <td>88.550436</td>\n",
       "      <td>47.771773</td>\n",
       "      <td>Science</td>\n",
       "      <td>72.043179</td>\n",
       "      <td>Others</td>\n",
       "      <td>False</td>\n",
       "      <td>1</td>\n",
       "      <td>89.181410</td>\n",
       "      <td>Mkt&amp;HR</td>\n",
       "      <td>70.278867</td>\n",
       "      <td>23363.912162</td>\n",
       "      <td>True</td>\n",
       "      <td>2020-02-27</td>\n",
       "      <td>NaT</td>\n",
       "      <td>NaN</td>\n",
       "    </tr>\n",
       "    <tr>\n",
       "      <th>62</th>\n",
       "      <td>17265</td>\n",
       "      <td>F</td>\n",
       "      <td>76.006556</td>\n",
       "      <td>90.208357</td>\n",
       "      <td>Commerce</td>\n",
       "      <td>59.547404</td>\n",
       "      <td>Comm&amp;Mgmt</td>\n",
       "      <td>True</td>\n",
       "      <td>1</td>\n",
       "      <td>76.090861</td>\n",
       "      <td>Mkt&amp;HR</td>\n",
       "      <td>54.204421</td>\n",
       "      <td>25154.438018</td>\n",
       "      <td>True</td>\n",
       "      <td>NaT</td>\n",
       "      <td>2020-06-26</td>\n",
       "      <td>NaN</td>\n",
       "    </tr>\n",
       "    <tr>\n",
       "      <th>63</th>\n",
       "      <td>17265</td>\n",
       "      <td>M</td>\n",
       "      <td>79.960440</td>\n",
       "      <td>56.364561</td>\n",
       "      <td>Commerce</td>\n",
       "      <td>55.663433</td>\n",
       "      <td>Comm&amp;Mgmt</td>\n",
       "      <td>False</td>\n",
       "      <td>0</td>\n",
       "      <td>96.076805</td>\n",
       "      <td>Mkt&amp;HR</td>\n",
       "      <td>64.103401</td>\n",
       "      <td>27325.286904</td>\n",
       "      <td>True</td>\n",
       "      <td>NaT</td>\n",
       "      <td>NaT</td>\n",
       "      <td>NaN</td>\n",
       "    </tr>\n",
       "    <tr>\n",
       "      <th>64</th>\n",
       "      <td>17265</td>\n",
       "      <td>M</td>\n",
       "      <td>86.434400</td>\n",
       "      <td>27.764513</td>\n",
       "      <td>Commerce</td>\n",
       "      <td>43.208163</td>\n",
       "      <td>Comm&amp;Mgmt</td>\n",
       "      <td>False</td>\n",
       "      <td>1</td>\n",
       "      <td>54.971218</td>\n",
       "      <td>Mkt&amp;HR</td>\n",
       "      <td>77.591235</td>\n",
       "      <td>27677.813920</td>\n",
       "      <td>False</td>\n",
       "      <td>2020-04-06</td>\n",
       "      <td>2020-01-30</td>\n",
       "      <td>3.0</td>\n",
       "    </tr>\n",
       "    <tr>\n",
       "      <th>85</th>\n",
       "      <td>17265</td>\n",
       "      <td>M</td>\n",
       "      <td>88.693007</td>\n",
       "      <td>66.437373</td>\n",
       "      <td>Commerce</td>\n",
       "      <td>47.313644</td>\n",
       "      <td>Sci&amp;Tech</td>\n",
       "      <td>False</td>\n",
       "      <td>0</td>\n",
       "      <td>74.811023</td>\n",
       "      <td>Mkt&amp;Fin</td>\n",
       "      <td>65.755712</td>\n",
       "      <td>29588.742400</td>\n",
       "      <td>True</td>\n",
       "      <td>2020-03-10</td>\n",
       "      <td>2020-07-18</td>\n",
       "      <td>3.0</td>\n",
       "    </tr>\n",
       "    <tr>\n",
       "      <th>88</th>\n",
       "      <td>17265</td>\n",
       "      <td>M</td>\n",
       "      <td>70.081045</td>\n",
       "      <td>79.707193</td>\n",
       "      <td>Science</td>\n",
       "      <td>60.029720</td>\n",
       "      <td>Comm&amp;Mgmt</td>\n",
       "      <td>False</td>\n",
       "      <td>0</td>\n",
       "      <td>52.193313</td>\n",
       "      <td>Mkt&amp;Fin</td>\n",
       "      <td>60.035304</td>\n",
       "      <td>26798.688665</td>\n",
       "      <td>True</td>\n",
       "      <td>NaT</td>\n",
       "      <td>2020-07-02</td>\n",
       "      <td>3.0</td>\n",
       "    </tr>\n",
       "    <tr>\n",
       "      <th>89</th>\n",
       "      <td>17265</td>\n",
       "      <td>M</td>\n",
       "      <td>71.113811</td>\n",
       "      <td>64.221606</td>\n",
       "      <td>Commerce</td>\n",
       "      <td>52.809503</td>\n",
       "      <td>Comm&amp;Mgmt</td>\n",
       "      <td>False</td>\n",
       "      <td>0</td>\n",
       "      <td>97.802006</td>\n",
       "      <td>Mkt&amp;HR</td>\n",
       "      <td>73.017612</td>\n",
       "      <td>28078.927111</td>\n",
       "      <td>False</td>\n",
       "      <td>NaT</td>\n",
       "      <td>NaT</td>\n",
       "      <td>6.0</td>\n",
       "    </tr>\n",
       "    <tr>\n",
       "      <th>94</th>\n",
       "      <td>17265</td>\n",
       "      <td>M</td>\n",
       "      <td>88.243502</td>\n",
       "      <td>63.425782</td>\n",
       "      <td>Commerce</td>\n",
       "      <td>66.227633</td>\n",
       "      <td>Sci&amp;Tech</td>\n",
       "      <td>False</td>\n",
       "      <td>0</td>\n",
       "      <td>93.976117</td>\n",
       "      <td>Mkt&amp;Fin</td>\n",
       "      <td>79.734722</td>\n",
       "      <td>NaN</td>\n",
       "      <td>True</td>\n",
       "      <td>NaT</td>\n",
       "      <td>NaT</td>\n",
       "      <td>3.0</td>\n",
       "    </tr>\n",
       "    <tr>\n",
       "      <th>99</th>\n",
       "      <td>17265</td>\n",
       "      <td>M</td>\n",
       "      <td>87.116168</td>\n",
       "      <td>74.872256</td>\n",
       "      <td>Commerce</td>\n",
       "      <td>49.866380</td>\n",
       "      <td>Comm&amp;Mgmt</td>\n",
       "      <td>False</td>\n",
       "      <td>0</td>\n",
       "      <td>93.449501</td>\n",
       "      <td>Mkt&amp;Fin</td>\n",
       "      <td>67.708307</td>\n",
       "      <td>28667.544033</td>\n",
       "      <td>False</td>\n",
       "      <td>NaT</td>\n",
       "      <td>2020-07-12</td>\n",
       "      <td>6.0</td>\n",
       "    </tr>\n",
       "    <tr>\n",
       "      <th>125</th>\n",
       "      <td>17265</td>\n",
       "      <td>M</td>\n",
       "      <td>78.061513</td>\n",
       "      <td>67.170515</td>\n",
       "      <td>Commerce</td>\n",
       "      <td>49.561709</td>\n",
       "      <td>Comm&amp;Mgmt</td>\n",
       "      <td>False</td>\n",
       "      <td>1</td>\n",
       "      <td>76.131966</td>\n",
       "      <td>Mkt&amp;Fin</td>\n",
       "      <td>81.124267</td>\n",
       "      <td>22361.277914</td>\n",
       "      <td>True</td>\n",
       "      <td>NaT</td>\n",
       "      <td>2020-03-20</td>\n",
       "      <td>NaN</td>\n",
       "    </tr>\n",
       "    <tr>\n",
       "      <th>153</th>\n",
       "      <td>17265</td>\n",
       "      <td>F</td>\n",
       "      <td>77.371753</td>\n",
       "      <td>64.613283</td>\n",
       "      <td>Commerce</td>\n",
       "      <td>52.958459</td>\n",
       "      <td>Comm&amp;Mgmt</td>\n",
       "      <td>False</td>\n",
       "      <td>0</td>\n",
       "      <td>95.981868</td>\n",
       "      <td>Mkt&amp;Fin</td>\n",
       "      <td>60.221736</td>\n",
       "      <td>29237.027100</td>\n",
       "      <td>True</td>\n",
       "      <td>2020-10-28</td>\n",
       "      <td>2020-08-20</td>\n",
       "      <td>6.0</td>\n",
       "    </tr>\n",
       "    <tr>\n",
       "      <th>166</th>\n",
       "      <td>17265</td>\n",
       "      <td>M</td>\n",
       "      <td>60.514705</td>\n",
       "      <td>54.479374</td>\n",
       "      <td>Science</td>\n",
       "      <td>59.649239</td>\n",
       "      <td>Comm&amp;Mgmt</td>\n",
       "      <td>False</td>\n",
       "      <td>1</td>\n",
       "      <td>83.523689</td>\n",
       "      <td>Mkt&amp;Fin</td>\n",
       "      <td>67.736105</td>\n",
       "      <td>21007.729422</td>\n",
       "      <td>False</td>\n",
       "      <td>NaT</td>\n",
       "      <td>NaT</td>\n",
       "      <td>12.0</td>\n",
       "    </tr>\n",
       "    <tr>\n",
       "      <th>172</th>\n",
       "      <td>17265</td>\n",
       "      <td>F</td>\n",
       "      <td>88.170290</td>\n",
       "      <td>47.696238</td>\n",
       "      <td>Science</td>\n",
       "      <td>58.183866</td>\n",
       "      <td>Sci&amp;Tech</td>\n",
       "      <td>False</td>\n",
       "      <td>0</td>\n",
       "      <td>89.034820</td>\n",
       "      <td>Mkt&amp;Fin</td>\n",
       "      <td>68.025504</td>\n",
       "      <td>22511.628351</td>\n",
       "      <td>False</td>\n",
       "      <td>2020-01-08</td>\n",
       "      <td>NaT</td>\n",
       "      <td>6.0</td>\n",
       "    </tr>\n",
       "    <tr>\n",
       "      <th>179</th>\n",
       "      <td>17265</td>\n",
       "      <td>M</td>\n",
       "      <td>83.331729</td>\n",
       "      <td>66.138641</td>\n",
       "      <td>Science</td>\n",
       "      <td>64.784882</td>\n",
       "      <td>Sci&amp;Tech</td>\n",
       "      <td>False</td>\n",
       "      <td>1</td>\n",
       "      <td>51.458947</td>\n",
       "      <td>Mkt&amp;Fin</td>\n",
       "      <td>59.937669</td>\n",
       "      <td>21658.595235</td>\n",
       "      <td>True</td>\n",
       "      <td>NaT</td>\n",
       "      <td>2020-07-14</td>\n",
       "      <td>NaN</td>\n",
       "    </tr>\n",
       "    <tr>\n",
       "      <th>192</th>\n",
       "      <td>17265</td>\n",
       "      <td>F</td>\n",
       "      <td>89.329847</td>\n",
       "      <td>37.433051</td>\n",
       "      <td>Science</td>\n",
       "      <td>51.911601</td>\n",
       "      <td>Comm&amp;Mgmt</td>\n",
       "      <td>False</td>\n",
       "      <td>0</td>\n",
       "      <td>50.911770</td>\n",
       "      <td>Mkt&amp;Fin</td>\n",
       "      <td>66.526266</td>\n",
       "      <td>33603.842062</td>\n",
       "      <td>True</td>\n",
       "      <td>NaT</td>\n",
       "      <td>2020-09-03</td>\n",
       "      <td>3.0</td>\n",
       "    </tr>\n",
       "  </tbody>\n",
       "</table>\n",
       "</div>"
      ],
      "text/plain": [
       "     student_id gender  second_perc  high_perc high_spec  degree_perc  \\\n",
       "13        17265      M    87.254460  33.694489   Science    42.131443   \n",
       "24        17265      F    80.283971  67.391571  Commerce    77.648795   \n",
       "29        17265      M    80.021210  59.084754      Arts    51.504989   \n",
       "55        17265      M    80.342485  61.661367  Commerce    67.139940   \n",
       "57        17265      F    88.550436  47.771773   Science    72.043179   \n",
       "62        17265      F    76.006556  90.208357  Commerce    59.547404   \n",
       "63        17265      M    79.960440  56.364561  Commerce    55.663433   \n",
       "64        17265      M    86.434400  27.764513  Commerce    43.208163   \n",
       "85        17265      M    88.693007  66.437373  Commerce    47.313644   \n",
       "88        17265      M    70.081045  79.707193   Science    60.029720   \n",
       "89        17265      M    71.113811  64.221606  Commerce    52.809503   \n",
       "94        17265      M    88.243502  63.425782  Commerce    66.227633   \n",
       "99        17265      M    87.116168  74.872256  Commerce    49.866380   \n",
       "125       17265      M    78.061513  67.170515  Commerce    49.561709   \n",
       "153       17265      F    77.371753  64.613283  Commerce    52.958459   \n",
       "166       17265      M    60.514705  54.479374   Science    59.649239   \n",
       "172       17265      F    88.170290  47.696238   Science    58.183866   \n",
       "179       17265      M    83.331729  66.138641   Science    64.784882   \n",
       "192       17265      F    89.329847  37.433051   Science    51.911601   \n",
       "\n",
       "    degree_type  work_experience  experience_years  employability_perc  \\\n",
       "13    Comm&Mgmt            False                 1           72.302120   \n",
       "24    Comm&Mgmt            False                 0           97.645427   \n",
       "29       Others             True                 1           95.694690   \n",
       "55       Others            False                 0           61.113538   \n",
       "57       Others            False                 1           89.181410   \n",
       "62    Comm&Mgmt             True                 1           76.090861   \n",
       "63    Comm&Mgmt            False                 0           96.076805   \n",
       "64    Comm&Mgmt            False                 1           54.971218   \n",
       "85     Sci&Tech            False                 0           74.811023   \n",
       "88    Comm&Mgmt            False                 0           52.193313   \n",
       "89    Comm&Mgmt            False                 0           97.802006   \n",
       "94     Sci&Tech            False                 0           93.976117   \n",
       "99    Comm&Mgmt            False                 0           93.449501   \n",
       "125   Comm&Mgmt            False                 1           76.131966   \n",
       "153   Comm&Mgmt            False                 0           95.981868   \n",
       "166   Comm&Mgmt            False                 1           83.523689   \n",
       "172    Sci&Tech            False                 0           89.034820   \n",
       "179    Sci&Tech            False                 1           51.458947   \n",
       "192   Comm&Mgmt            False                 0           50.911770   \n",
       "\n",
       "    mba_spec   mba_perc        salary  placed start_date   end_date duration  \n",
       "13   Mkt&Fin  86.700941  28235.811548   False        NaT        NaT      3.0  \n",
       "24   Mkt&Fin  59.888181           NaN    True 2020-02-25        NaT     12.0  \n",
       "29   Mkt&Fin  61.276575  44954.172731    True        NaT 2020-06-08      3.0  \n",
       "55    Mkt&HR  79.638213  25236.493457    True 2020-03-17 2020-09-13      3.0  \n",
       "57    Mkt&HR  70.278867  23363.912162    True 2020-02-27        NaT      NaN  \n",
       "62    Mkt&HR  54.204421  25154.438018    True        NaT 2020-06-26      NaN  \n",
       "63    Mkt&HR  64.103401  27325.286904    True        NaT        NaT      NaN  \n",
       "64    Mkt&HR  77.591235  27677.813920   False 2020-04-06 2020-01-30      3.0  \n",
       "85   Mkt&Fin  65.755712  29588.742400    True 2020-03-10 2020-07-18      3.0  \n",
       "88   Mkt&Fin  60.035304  26798.688665    True        NaT 2020-07-02      3.0  \n",
       "89    Mkt&HR  73.017612  28078.927111   False        NaT        NaT      6.0  \n",
       "94   Mkt&Fin  79.734722           NaN    True        NaT        NaT      3.0  \n",
       "99   Mkt&Fin  67.708307  28667.544033   False        NaT 2020-07-12      6.0  \n",
       "125  Mkt&Fin  81.124267  22361.277914    True        NaT 2020-03-20      NaN  \n",
       "153  Mkt&Fin  60.221736  29237.027100    True 2020-10-28 2020-08-20      6.0  \n",
       "166  Mkt&Fin  67.736105  21007.729422   False        NaT        NaT     12.0  \n",
       "172  Mkt&Fin  68.025504  22511.628351   False 2020-01-08        NaT      6.0  \n",
       "179  Mkt&Fin  59.937669  21658.595235    True        NaT 2020-07-14      NaN  \n",
       "192  Mkt&Fin  66.526266  33603.842062    True        NaT 2020-09-03      3.0  "
      ]
     },
     "execution_count": 8,
     "metadata": {},
     "output_type": "execute_result"
    }
   ],
   "source": [
    "new_data[new_data.student_id == new_data.student_id.value_counts().index[0]]"
   ]
  },
  {
   "cell_type": "markdown",
   "metadata": {},
   "source": [
    "This happens because the model was not notified at any point about the\n",
    "fact that the `student_id` had to be unique, so when it generates new\n",
    "data it will provoke collisions sooner or later. In order to solve this,\n",
    "we can pass the argument `primary_key` to our model when we create it,\n",
    "indicating the name of the column that is the index of the table."
   ]
  },
  {
   "cell_type": "code",
   "execution_count": 9,
   "metadata": {
    "attributes": {
     "classes": [
      ""
     ],
     "id": ""
    }
   },
   "outputs": [
    {
     "data": {
      "text/html": [
       "<div>\n",
       "<style scoped>\n",
       "    .dataframe tbody tr th:only-of-type {\n",
       "        vertical-align: middle;\n",
       "    }\n",
       "\n",
       "    .dataframe tbody tr th {\n",
       "        vertical-align: top;\n",
       "    }\n",
       "\n",
       "    .dataframe thead th {\n",
       "        text-align: right;\n",
       "    }\n",
       "</style>\n",
       "<table border=\"1\" class=\"dataframe\">\n",
       "  <thead>\n",
       "    <tr style=\"text-align: right;\">\n",
       "      <th></th>\n",
       "      <th>student_id</th>\n",
       "      <th>gender</th>\n",
       "      <th>second_perc</th>\n",
       "      <th>high_perc</th>\n",
       "      <th>high_spec</th>\n",
       "      <th>degree_perc</th>\n",
       "      <th>degree_type</th>\n",
       "      <th>work_experience</th>\n",
       "      <th>experience_years</th>\n",
       "      <th>employability_perc</th>\n",
       "      <th>mba_spec</th>\n",
       "      <th>mba_perc</th>\n",
       "      <th>salary</th>\n",
       "      <th>placed</th>\n",
       "      <th>start_date</th>\n",
       "      <th>end_date</th>\n",
       "      <th>duration</th>\n",
       "    </tr>\n",
       "  </thead>\n",
       "  <tbody>\n",
       "    <tr>\n",
       "      <th>0</th>\n",
       "      <td>0</td>\n",
       "      <td>M</td>\n",
       "      <td>83.392785</td>\n",
       "      <td>80.503459</td>\n",
       "      <td>Science</td>\n",
       "      <td>47.736667</td>\n",
       "      <td>Comm&amp;Mgmt</td>\n",
       "      <td>False</td>\n",
       "      <td>0</td>\n",
       "      <td>78.623996</td>\n",
       "      <td>Mkt&amp;HR</td>\n",
       "      <td>52.524152</td>\n",
       "      <td>NaN</td>\n",
       "      <td>False</td>\n",
       "      <td>NaT</td>\n",
       "      <td>2020-08-13</td>\n",
       "      <td>NaN</td>\n",
       "    </tr>\n",
       "    <tr>\n",
       "      <th>1</th>\n",
       "      <td>1</td>\n",
       "      <td>M</td>\n",
       "      <td>64.565801</td>\n",
       "      <td>83.886872</td>\n",
       "      <td>Science</td>\n",
       "      <td>59.253685</td>\n",
       "      <td>Comm&amp;Mgmt</td>\n",
       "      <td>False</td>\n",
       "      <td>0</td>\n",
       "      <td>81.629377</td>\n",
       "      <td>Mkt&amp;Fin</td>\n",
       "      <td>61.583415</td>\n",
       "      <td>31885.50264</td>\n",
       "      <td>True</td>\n",
       "      <td>2020-01-17</td>\n",
       "      <td>2020-05-18</td>\n",
       "      <td>NaN</td>\n",
       "    </tr>\n",
       "    <tr>\n",
       "      <th>2</th>\n",
       "      <td>2</td>\n",
       "      <td>F</td>\n",
       "      <td>75.596894</td>\n",
       "      <td>55.504816</td>\n",
       "      <td>Science</td>\n",
       "      <td>59.260898</td>\n",
       "      <td>Comm&amp;Mgmt</td>\n",
       "      <td>False</td>\n",
       "      <td>0</td>\n",
       "      <td>73.051407</td>\n",
       "      <td>Mkt&amp;Fin</td>\n",
       "      <td>55.966564</td>\n",
       "      <td>NaN</td>\n",
       "      <td>True</td>\n",
       "      <td>NaT</td>\n",
       "      <td>2020-09-04</td>\n",
       "      <td>NaN</td>\n",
       "    </tr>\n",
       "    <tr>\n",
       "      <th>3</th>\n",
       "      <td>3</td>\n",
       "      <td>F</td>\n",
       "      <td>83.639597</td>\n",
       "      <td>42.908904</td>\n",
       "      <td>Arts</td>\n",
       "      <td>51.152750</td>\n",
       "      <td>Comm&amp;Mgmt</td>\n",
       "      <td>False</td>\n",
       "      <td>0</td>\n",
       "      <td>97.559012</td>\n",
       "      <td>Mkt&amp;HR</td>\n",
       "      <td>64.197251</td>\n",
       "      <td>NaN</td>\n",
       "      <td>True</td>\n",
       "      <td>NaT</td>\n",
       "      <td>2020-07-08</td>\n",
       "      <td>NaN</td>\n",
       "    </tr>\n",
       "    <tr>\n",
       "      <th>4</th>\n",
       "      <td>4</td>\n",
       "      <td>M</td>\n",
       "      <td>56.737922</td>\n",
       "      <td>67.312153</td>\n",
       "      <td>Commerce</td>\n",
       "      <td>53.071660</td>\n",
       "      <td>Comm&amp;Mgmt</td>\n",
       "      <td>False</td>\n",
       "      <td>0</td>\n",
       "      <td>91.910473</td>\n",
       "      <td>Mkt&amp;Fin</td>\n",
       "      <td>65.711338</td>\n",
       "      <td>NaN</td>\n",
       "      <td>True</td>\n",
       "      <td>2020-01-07</td>\n",
       "      <td>2020-07-17</td>\n",
       "      <td>6.0</td>\n",
       "    </tr>\n",
       "  </tbody>\n",
       "</table>\n",
       "</div>"
      ],
      "text/plain": [
       "   student_id gender  second_perc  high_perc high_spec  degree_perc  \\\n",
       "0           0      M    83.392785  80.503459   Science    47.736667   \n",
       "1           1      M    64.565801  83.886872   Science    59.253685   \n",
       "2           2      F    75.596894  55.504816   Science    59.260898   \n",
       "3           3      F    83.639597  42.908904      Arts    51.152750   \n",
       "4           4      M    56.737922  67.312153  Commerce    53.071660   \n",
       "\n",
       "  degree_type  work_experience  experience_years  employability_perc mba_spec  \\\n",
       "0   Comm&Mgmt            False                 0           78.623996   Mkt&HR   \n",
       "1   Comm&Mgmt            False                 0           81.629377  Mkt&Fin   \n",
       "2   Comm&Mgmt            False                 0           73.051407  Mkt&Fin   \n",
       "3   Comm&Mgmt            False                 0           97.559012   Mkt&HR   \n",
       "4   Comm&Mgmt            False                 0           91.910473  Mkt&Fin   \n",
       "\n",
       "    mba_perc       salary  placed start_date   end_date duration  \n",
       "0  52.524152          NaN   False        NaT 2020-08-13      NaN  \n",
       "1  61.583415  31885.50264    True 2020-01-17 2020-05-18      NaN  \n",
       "2  55.966564          NaN    True        NaT 2020-09-04      NaN  \n",
       "3  64.197251          NaN    True        NaT 2020-07-08      NaN  \n",
       "4  65.711338          NaN    True 2020-01-07 2020-07-17      6.0  "
      ]
     },
     "execution_count": 9,
     "metadata": {},
     "output_type": "execute_result"
    }
   ],
   "source": [
    "model = CopulaGAN(\n",
    "    primary_key='student_id'\n",
    ")\n",
    "model.fit(data)\n",
    "new_data = model.sample(200)\n",
    "new_data.head()"
   ]
  },
  {
   "cell_type": "markdown",
   "metadata": {},
   "source": [
    "As a result, the model will learn that this column must be unique and\n",
    "generate a unique sequence of values for the column:"
   ]
  },
  {
   "cell_type": "code",
   "execution_count": 10,
   "metadata": {
    "attributes": {
     "classes": [
      ""
     ],
     "id": ""
    }
   },
   "outputs": [
    {
     "data": {
      "text/plain": [
       "1"
      ]
     },
     "execution_count": 10,
     "metadata": {},
     "output_type": "execute_result"
    }
   ],
   "source": [
    "new_data.student_id.value_counts().max()"
   ]
  },
  {
   "cell_type": "markdown",
   "metadata": {},
   "source": [
    "### Anonymizing Personally Identifiable Information (PII)\n",
    "\n",
    "There will be many cases where the data will contain Personally\n",
    "Identifiable Information which we cannot disclose. In these cases, we\n",
    "will want our Tabular Models to replace the information within these\n",
    "fields with fake, simulated data that looks similar to the real one but\n",
    "does not contain any of the original values.\n",
    "\n",
    "Let\\'s load a new dataset that contains a PII field, the\n",
    "`student_placements_pii` demo, and try to generate synthetic versions of\n",
    "it that do not contain any of the PII fields.\n",
    "\n",
    "<div class=\"alert alert-info\">\n",
    "\n",
    "**Note**\n",
    "\n",
    "The `student_placements_pii` dataset is a modified version of the\n",
    "`student_placements` dataset with one new field, `address`, which\n",
    "contains PII information about the students. Notice that this additional\n",
    "`address` field has been simulated and does not correspond to data from\n",
    "the real users.\n",
    "\n",
    "</div>"
   ]
  },
  {
   "cell_type": "code",
   "execution_count": 11,
   "metadata": {
    "attributes": {
     "classes": [
      ""
     ],
     "id": ""
    }
   },
   "outputs": [
    {
     "data": {
      "text/html": [
       "<div>\n",
       "<style scoped>\n",
       "    .dataframe tbody tr th:only-of-type {\n",
       "        vertical-align: middle;\n",
       "    }\n",
       "\n",
       "    .dataframe tbody tr th {\n",
       "        vertical-align: top;\n",
       "    }\n",
       "\n",
       "    .dataframe thead th {\n",
       "        text-align: right;\n",
       "    }\n",
       "</style>\n",
       "<table border=\"1\" class=\"dataframe\">\n",
       "  <thead>\n",
       "    <tr style=\"text-align: right;\">\n",
       "      <th></th>\n",
       "      <th>student_id</th>\n",
       "      <th>address</th>\n",
       "      <th>gender</th>\n",
       "      <th>second_perc</th>\n",
       "      <th>high_perc</th>\n",
       "      <th>high_spec</th>\n",
       "      <th>degree_perc</th>\n",
       "      <th>degree_type</th>\n",
       "      <th>work_experience</th>\n",
       "      <th>experience_years</th>\n",
       "      <th>employability_perc</th>\n",
       "      <th>mba_spec</th>\n",
       "      <th>mba_perc</th>\n",
       "      <th>salary</th>\n",
       "      <th>placed</th>\n",
       "      <th>start_date</th>\n",
       "      <th>end_date</th>\n",
       "      <th>duration</th>\n",
       "    </tr>\n",
       "  </thead>\n",
       "  <tbody>\n",
       "    <tr>\n",
       "      <th>0</th>\n",
       "      <td>17264</td>\n",
       "      <td>70304 Baker Turnpike\\nEricborough, MS 15086</td>\n",
       "      <td>M</td>\n",
       "      <td>67.00</td>\n",
       "      <td>91.00</td>\n",
       "      <td>Commerce</td>\n",
       "      <td>58.00</td>\n",
       "      <td>Sci&amp;Tech</td>\n",
       "      <td>False</td>\n",
       "      <td>0</td>\n",
       "      <td>55.0</td>\n",
       "      <td>Mkt&amp;HR</td>\n",
       "      <td>58.80</td>\n",
       "      <td>27000.0</td>\n",
       "      <td>True</td>\n",
       "      <td>2020-07-23</td>\n",
       "      <td>2020-10-12</td>\n",
       "      <td>3.0</td>\n",
       "    </tr>\n",
       "    <tr>\n",
       "      <th>1</th>\n",
       "      <td>17265</td>\n",
       "      <td>805 Herrera Avenue Apt. 134\\nMaryview, NJ 36510</td>\n",
       "      <td>M</td>\n",
       "      <td>79.33</td>\n",
       "      <td>78.33</td>\n",
       "      <td>Science</td>\n",
       "      <td>77.48</td>\n",
       "      <td>Sci&amp;Tech</td>\n",
       "      <td>True</td>\n",
       "      <td>1</td>\n",
       "      <td>86.5</td>\n",
       "      <td>Mkt&amp;Fin</td>\n",
       "      <td>66.28</td>\n",
       "      <td>20000.0</td>\n",
       "      <td>True</td>\n",
       "      <td>2020-01-11</td>\n",
       "      <td>2020-04-09</td>\n",
       "      <td>3.0</td>\n",
       "    </tr>\n",
       "    <tr>\n",
       "      <th>2</th>\n",
       "      <td>17266</td>\n",
       "      <td>3702 Bradley Island\\nNorth Victor, FL 12268</td>\n",
       "      <td>M</td>\n",
       "      <td>65.00</td>\n",
       "      <td>68.00</td>\n",
       "      <td>Arts</td>\n",
       "      <td>64.00</td>\n",
       "      <td>Comm&amp;Mgmt</td>\n",
       "      <td>False</td>\n",
       "      <td>0</td>\n",
       "      <td>75.0</td>\n",
       "      <td>Mkt&amp;Fin</td>\n",
       "      <td>57.80</td>\n",
       "      <td>25000.0</td>\n",
       "      <td>True</td>\n",
       "      <td>2020-01-26</td>\n",
       "      <td>2020-07-13</td>\n",
       "      <td>6.0</td>\n",
       "    </tr>\n",
       "    <tr>\n",
       "      <th>3</th>\n",
       "      <td>17267</td>\n",
       "      <td>Unit 0879 Box 3878\\nDPO AP 42663</td>\n",
       "      <td>M</td>\n",
       "      <td>56.00</td>\n",
       "      <td>52.00</td>\n",
       "      <td>Science</td>\n",
       "      <td>52.00</td>\n",
       "      <td>Sci&amp;Tech</td>\n",
       "      <td>False</td>\n",
       "      <td>0</td>\n",
       "      <td>66.0</td>\n",
       "      <td>Mkt&amp;HR</td>\n",
       "      <td>59.43</td>\n",
       "      <td>NaN</td>\n",
       "      <td>False</td>\n",
       "      <td>NaT</td>\n",
       "      <td>NaT</td>\n",
       "      <td>NaN</td>\n",
       "    </tr>\n",
       "    <tr>\n",
       "      <th>4</th>\n",
       "      <td>17268</td>\n",
       "      <td>96493 Kelly Canyon Apt. 145\\nEast Steven, NC 3...</td>\n",
       "      <td>M</td>\n",
       "      <td>85.80</td>\n",
       "      <td>73.60</td>\n",
       "      <td>Commerce</td>\n",
       "      <td>73.30</td>\n",
       "      <td>Comm&amp;Mgmt</td>\n",
       "      <td>False</td>\n",
       "      <td>0</td>\n",
       "      <td>96.8</td>\n",
       "      <td>Mkt&amp;Fin</td>\n",
       "      <td>55.50</td>\n",
       "      <td>42500.0</td>\n",
       "      <td>True</td>\n",
       "      <td>2020-07-04</td>\n",
       "      <td>2020-09-27</td>\n",
       "      <td>3.0</td>\n",
       "    </tr>\n",
       "  </tbody>\n",
       "</table>\n",
       "</div>"
      ],
      "text/plain": [
       "   student_id                                            address gender  \\\n",
       "0       17264        70304 Baker Turnpike\\nEricborough, MS 15086      M   \n",
       "1       17265    805 Herrera Avenue Apt. 134\\nMaryview, NJ 36510      M   \n",
       "2       17266        3702 Bradley Island\\nNorth Victor, FL 12268      M   \n",
       "3       17267                   Unit 0879 Box 3878\\nDPO AP 42663      M   \n",
       "4       17268  96493 Kelly Canyon Apt. 145\\nEast Steven, NC 3...      M   \n",
       "\n",
       "   second_perc  high_perc high_spec  degree_perc degree_type  work_experience  \\\n",
       "0        67.00      91.00  Commerce        58.00    Sci&Tech            False   \n",
       "1        79.33      78.33   Science        77.48    Sci&Tech             True   \n",
       "2        65.00      68.00      Arts        64.00   Comm&Mgmt            False   \n",
       "3        56.00      52.00   Science        52.00    Sci&Tech            False   \n",
       "4        85.80      73.60  Commerce        73.30   Comm&Mgmt            False   \n",
       "\n",
       "   experience_years  employability_perc mba_spec  mba_perc   salary  placed  \\\n",
       "0                 0                55.0   Mkt&HR     58.80  27000.0    True   \n",
       "1                 1                86.5  Mkt&Fin     66.28  20000.0    True   \n",
       "2                 0                75.0  Mkt&Fin     57.80  25000.0    True   \n",
       "3                 0                66.0   Mkt&HR     59.43      NaN   False   \n",
       "4                 0                96.8  Mkt&Fin     55.50  42500.0    True   \n",
       "\n",
       "  start_date   end_date duration  \n",
       "0 2020-07-23 2020-10-12      3.0  \n",
       "1 2020-01-11 2020-04-09      3.0  \n",
       "2 2020-01-26 2020-07-13      6.0  \n",
       "3        NaT        NaT      NaN  \n",
       "4 2020-07-04 2020-09-27      3.0  "
      ]
     },
     "execution_count": 11,
     "metadata": {},
     "output_type": "execute_result"
    }
   ],
   "source": [
    "data_pii = load_tabular_demo('student_placements_pii')\n",
    "data_pii.head()"
   ]
  },
  {
   "cell_type": "markdown",
   "metadata": {},
   "source": [
    "If we use our tabular model on this new data we will see how the\n",
    "synthetic data that it generates discloses the addresses from the real\n",
    "students:"
   ]
  },
  {
   "cell_type": "code",
   "execution_count": 12,
   "metadata": {
    "attributes": {
     "classes": [
      ""
     ],
     "id": ""
    }
   },
   "outputs": [
    {
     "data": {
      "text/html": [
       "<div>\n",
       "<style scoped>\n",
       "    .dataframe tbody tr th:only-of-type {\n",
       "        vertical-align: middle;\n",
       "    }\n",
       "\n",
       "    .dataframe tbody tr th {\n",
       "        vertical-align: top;\n",
       "    }\n",
       "\n",
       "    .dataframe thead th {\n",
       "        text-align: right;\n",
       "    }\n",
       "</style>\n",
       "<table border=\"1\" class=\"dataframe\">\n",
       "  <thead>\n",
       "    <tr style=\"text-align: right;\">\n",
       "      <th></th>\n",
       "      <th>student_id</th>\n",
       "      <th>address</th>\n",
       "      <th>gender</th>\n",
       "      <th>second_perc</th>\n",
       "      <th>high_perc</th>\n",
       "      <th>high_spec</th>\n",
       "      <th>degree_perc</th>\n",
       "      <th>degree_type</th>\n",
       "      <th>work_experience</th>\n",
       "      <th>experience_years</th>\n",
       "      <th>employability_perc</th>\n",
       "      <th>mba_spec</th>\n",
       "      <th>mba_perc</th>\n",
       "      <th>salary</th>\n",
       "      <th>placed</th>\n",
       "      <th>start_date</th>\n",
       "      <th>end_date</th>\n",
       "      <th>duration</th>\n",
       "    </tr>\n",
       "  </thead>\n",
       "  <tbody>\n",
       "    <tr>\n",
       "      <th>0</th>\n",
       "      <td>0</td>\n",
       "      <td>9518 Goodman Station Suite 019\\nWest Charles, ...</td>\n",
       "      <td>F</td>\n",
       "      <td>68.850290</td>\n",
       "      <td>64.362162</td>\n",
       "      <td>Commerce</td>\n",
       "      <td>74.869191</td>\n",
       "      <td>Comm&amp;Mgmt</td>\n",
       "      <td>False</td>\n",
       "      <td>1</td>\n",
       "      <td>81.201234</td>\n",
       "      <td>Mkt&amp;Fin</td>\n",
       "      <td>59.969581</td>\n",
       "      <td>27555.515312</td>\n",
       "      <td>True</td>\n",
       "      <td>2020-01-23</td>\n",
       "      <td>NaT</td>\n",
       "      <td>NaN</td>\n",
       "    </tr>\n",
       "    <tr>\n",
       "      <th>1</th>\n",
       "      <td>1</td>\n",
       "      <td>9398 Andrea Forks Apt. 413\\nSouth Joshua, RI 4...</td>\n",
       "      <td>M</td>\n",
       "      <td>46.361703</td>\n",
       "      <td>63.275171</td>\n",
       "      <td>Science</td>\n",
       "      <td>57.500102</td>\n",
       "      <td>Sci&amp;Tech</td>\n",
       "      <td>False</td>\n",
       "      <td>0</td>\n",
       "      <td>61.510470</td>\n",
       "      <td>Mkt&amp;Fin</td>\n",
       "      <td>52.507736</td>\n",
       "      <td>30193.161672</td>\n",
       "      <td>True</td>\n",
       "      <td>2020-01-06</td>\n",
       "      <td>2020-12-09</td>\n",
       "      <td>6.0</td>\n",
       "    </tr>\n",
       "    <tr>\n",
       "      <th>2</th>\n",
       "      <td>2</td>\n",
       "      <td>Unit 4181 Box 7016\\nDPO AP 47399</td>\n",
       "      <td>M</td>\n",
       "      <td>48.868695</td>\n",
       "      <td>98.038597</td>\n",
       "      <td>Science</td>\n",
       "      <td>67.069683</td>\n",
       "      <td>Comm&amp;Mgmt</td>\n",
       "      <td>False</td>\n",
       "      <td>3</td>\n",
       "      <td>62.630059</td>\n",
       "      <td>Mkt&amp;Fin</td>\n",
       "      <td>61.214198</td>\n",
       "      <td>26841.889159</td>\n",
       "      <td>True</td>\n",
       "      <td>2020-04-26</td>\n",
       "      <td>2021-04-08</td>\n",
       "      <td>3.0</td>\n",
       "    </tr>\n",
       "    <tr>\n",
       "      <th>3</th>\n",
       "      <td>3</td>\n",
       "      <td>13930 Todd Meadow Suite 105\\nThompsonton, AZ 6...</td>\n",
       "      <td>M</td>\n",
       "      <td>51.279767</td>\n",
       "      <td>67.944420</td>\n",
       "      <td>Commerce</td>\n",
       "      <td>73.292692</td>\n",
       "      <td>Comm&amp;Mgmt</td>\n",
       "      <td>False</td>\n",
       "      <td>0</td>\n",
       "      <td>52.895472</td>\n",
       "      <td>Mkt&amp;HR</td>\n",
       "      <td>57.927267</td>\n",
       "      <td>29092.703235</td>\n",
       "      <td>True</td>\n",
       "      <td>2020-01-08</td>\n",
       "      <td>2020-08-13</td>\n",
       "      <td>3.0</td>\n",
       "    </tr>\n",
       "    <tr>\n",
       "      <th>4</th>\n",
       "      <td>4</td>\n",
       "      <td>8377 Wood Centers\\nScotthaven, AZ 61115</td>\n",
       "      <td>F</td>\n",
       "      <td>55.170407</td>\n",
       "      <td>60.420302</td>\n",
       "      <td>Commerce</td>\n",
       "      <td>60.227225</td>\n",
       "      <td>Comm&amp;Mgmt</td>\n",
       "      <td>False</td>\n",
       "      <td>4</td>\n",
       "      <td>71.728968</td>\n",
       "      <td>Mkt&amp;HR</td>\n",
       "      <td>58.163368</td>\n",
       "      <td>29821.518223</td>\n",
       "      <td>True</td>\n",
       "      <td>2020-01-11</td>\n",
       "      <td>2020-07-13</td>\n",
       "      <td>6.0</td>\n",
       "    </tr>\n",
       "  </tbody>\n",
       "</table>\n",
       "</div>"
      ],
      "text/plain": [
       "   student_id                                            address gender  \\\n",
       "0           0  9518 Goodman Station Suite 019\\nWest Charles, ...      F   \n",
       "1           1  9398 Andrea Forks Apt. 413\\nSouth Joshua, RI 4...      M   \n",
       "2           2                   Unit 4181 Box 7016\\nDPO AP 47399      M   \n",
       "3           3  13930 Todd Meadow Suite 105\\nThompsonton, AZ 6...      M   \n",
       "4           4            8377 Wood Centers\\nScotthaven, AZ 61115      F   \n",
       "\n",
       "   second_perc  high_perc high_spec  degree_perc degree_type  work_experience  \\\n",
       "0    68.850290  64.362162  Commerce    74.869191   Comm&Mgmt            False   \n",
       "1    46.361703  63.275171   Science    57.500102    Sci&Tech            False   \n",
       "2    48.868695  98.038597   Science    67.069683   Comm&Mgmt            False   \n",
       "3    51.279767  67.944420  Commerce    73.292692   Comm&Mgmt            False   \n",
       "4    55.170407  60.420302  Commerce    60.227225   Comm&Mgmt            False   \n",
       "\n",
       "   experience_years  employability_perc mba_spec   mba_perc        salary  \\\n",
       "0                 1           81.201234  Mkt&Fin  59.969581  27555.515312   \n",
       "1                 0           61.510470  Mkt&Fin  52.507736  30193.161672   \n",
       "2                 3           62.630059  Mkt&Fin  61.214198  26841.889159   \n",
       "3                 0           52.895472   Mkt&HR  57.927267  29092.703235   \n",
       "4                 4           71.728968   Mkt&HR  58.163368  29821.518223   \n",
       "\n",
       "   placed start_date   end_date duration  \n",
       "0    True 2020-01-23        NaT      NaN  \n",
       "1    True 2020-01-06 2020-12-09      6.0  \n",
       "2    True 2020-04-26 2021-04-08      3.0  \n",
       "3    True 2020-01-08 2020-08-13      3.0  \n",
       "4    True 2020-01-11 2020-07-13      6.0  "
      ]
     },
     "execution_count": 12,
     "metadata": {},
     "output_type": "execute_result"
    }
   ],
   "source": [
    "model = CopulaGAN(\n",
    "    primary_key='student_id',\n",
    ")\n",
    "model.fit(data_pii)\n",
    "new_data_pii = model.sample(200)\n",
    "new_data_pii.head()"
   ]
  },
  {
   "cell_type": "markdown",
   "metadata": {},
   "source": [
    "More specifically, we can see how all the addresses that have been\n",
    "generated actually come from the original dataset:"
   ]
  },
  {
   "cell_type": "code",
   "execution_count": 13,
   "metadata": {
    "attributes": {
     "classes": [
      ""
     ],
     "id": ""
    }
   },
   "outputs": [
    {
     "data": {
      "text/plain": [
       "200"
      ]
     },
     "execution_count": 13,
     "metadata": {},
     "output_type": "execute_result"
    }
   ],
   "source": [
    "new_data_pii.address.isin(data_pii.address).sum()"
   ]
  },
  {
   "cell_type": "markdown",
   "metadata": {},
   "source": [
    "In order to solve this, we can pass an additional argument\n",
    "`anonymize_fields` to our model when we create the instance. This\n",
    "`anonymize_fields` argument will need to be a dictionary that contains:\n",
    "\n",
    "-   The name of the field that we want to anonymize.\n",
    "-   The category of the field that we want to use when we generate fake\n",
    "    values for it.\n",
    "\n",
    "The list complete list of possible categories can be seen in the [Faker\n",
    "Providers](https://faker.readthedocs.io/en/master/providers.html) page,\n",
    "and it contains a huge list of concepts such as:\n",
    "\n",
    "-   name\n",
    "-   address\n",
    "-   country\n",
    "-   city\n",
    "-   ssn\n",
    "-   credit_card_number\n",
    "-   credit_card_expire\n",
    "-   credit_card_security_code\n",
    "-   email\n",
    "-   telephone\n",
    "-   \\...\n",
    "\n",
    "In this case, since the field is an e-mail address, we will pass a\n",
    "dictionary indicating the category `address`"
   ]
  },
  {
   "cell_type": "code",
   "execution_count": 14,
   "metadata": {
    "attributes": {
     "classes": [
      ""
     ],
     "id": ""
    }
   },
   "outputs": [],
   "source": [
    "model = CopulaGAN(\n",
    "    primary_key='student_id',\n",
    "    anonymize_fields={\n",
    "        'address': 'address'\n",
    "    }\n",
    ")\n",
    "model.fit(data_pii)"
   ]
  },
  {
   "cell_type": "markdown",
   "metadata": {},
   "source": [
    "As a result, we can see how the real `address` values have been replaced\n",
    "by other fake addresses that were not taken from the real data that we\n",
    "learned."
   ]
  },
  {
   "cell_type": "code",
   "execution_count": 15,
   "metadata": {
    "attributes": {
     "classes": [
      ""
     ],
     "id": ""
    }
   },
   "outputs": [
    {
     "data": {
      "text/html": [
       "<div>\n",
       "<style scoped>\n",
       "    .dataframe tbody tr th:only-of-type {\n",
       "        vertical-align: middle;\n",
       "    }\n",
       "\n",
       "    .dataframe tbody tr th {\n",
       "        vertical-align: top;\n",
       "    }\n",
       "\n",
       "    .dataframe thead th {\n",
       "        text-align: right;\n",
       "    }\n",
       "</style>\n",
       "<table border=\"1\" class=\"dataframe\">\n",
       "  <thead>\n",
       "    <tr style=\"text-align: right;\">\n",
       "      <th></th>\n",
       "      <th>student_id</th>\n",
       "      <th>address</th>\n",
       "      <th>gender</th>\n",
       "      <th>second_perc</th>\n",
       "      <th>high_perc</th>\n",
       "      <th>high_spec</th>\n",
       "      <th>degree_perc</th>\n",
       "      <th>degree_type</th>\n",
       "      <th>work_experience</th>\n",
       "      <th>experience_years</th>\n",
       "      <th>employability_perc</th>\n",
       "      <th>mba_spec</th>\n",
       "      <th>mba_perc</th>\n",
       "      <th>salary</th>\n",
       "      <th>placed</th>\n",
       "      <th>start_date</th>\n",
       "      <th>end_date</th>\n",
       "      <th>duration</th>\n",
       "    </tr>\n",
       "  </thead>\n",
       "  <tbody>\n",
       "    <tr>\n",
       "      <th>0</th>\n",
       "      <td>0</td>\n",
       "      <td>8458 Jerry Pine\\nLake Logan, AK 35163</td>\n",
       "      <td>M</td>\n",
       "      <td>75.183396</td>\n",
       "      <td>54.612066</td>\n",
       "      <td>Commerce</td>\n",
       "      <td>64.146521</td>\n",
       "      <td>Comm&amp;Mgmt</td>\n",
       "      <td>False</td>\n",
       "      <td>1</td>\n",
       "      <td>66.883489</td>\n",
       "      <td>Mkt&amp;Fin</td>\n",
       "      <td>59.473564</td>\n",
       "      <td>20596.990907</td>\n",
       "      <td>True</td>\n",
       "      <td>NaT</td>\n",
       "      <td>NaT</td>\n",
       "      <td>NaN</td>\n",
       "    </tr>\n",
       "    <tr>\n",
       "      <th>1</th>\n",
       "      <td>1</td>\n",
       "      <td>874 Jensen Manors\\nLake Markhaven, NC 54923</td>\n",
       "      <td>M</td>\n",
       "      <td>86.859705</td>\n",
       "      <td>37.624291</td>\n",
       "      <td>Science</td>\n",
       "      <td>86.506503</td>\n",
       "      <td>Comm&amp;Mgmt</td>\n",
       "      <td>False</td>\n",
       "      <td>0</td>\n",
       "      <td>87.786482</td>\n",
       "      <td>Mkt&amp;HR</td>\n",
       "      <td>66.031959</td>\n",
       "      <td>NaN</td>\n",
       "      <td>False</td>\n",
       "      <td>2020-01-16</td>\n",
       "      <td>2020-02-28</td>\n",
       "      <td>3.0</td>\n",
       "    </tr>\n",
       "    <tr>\n",
       "      <th>2</th>\n",
       "      <td>2</td>\n",
       "      <td>35619 Green Fork Apt. 482\\nBradleybury, SC 76470</td>\n",
       "      <td>M</td>\n",
       "      <td>84.406287</td>\n",
       "      <td>66.676803</td>\n",
       "      <td>Science</td>\n",
       "      <td>73.183928</td>\n",
       "      <td>Comm&amp;Mgmt</td>\n",
       "      <td>False</td>\n",
       "      <td>0</td>\n",
       "      <td>97.921185</td>\n",
       "      <td>Mkt&amp;HR</td>\n",
       "      <td>63.061658</td>\n",
       "      <td>22485.566676</td>\n",
       "      <td>False</td>\n",
       "      <td>2020-01-10</td>\n",
       "      <td>2020-10-05</td>\n",
       "      <td>3.0</td>\n",
       "    </tr>\n",
       "    <tr>\n",
       "      <th>3</th>\n",
       "      <td>3</td>\n",
       "      <td>1538 Cristian Courts\\nSouth Aaron, VT 47799</td>\n",
       "      <td>F</td>\n",
       "      <td>77.226956</td>\n",
       "      <td>55.243189</td>\n",
       "      <td>Science</td>\n",
       "      <td>45.796405</td>\n",
       "      <td>Sci&amp;Tech</td>\n",
       "      <td>False</td>\n",
       "      <td>0</td>\n",
       "      <td>97.568401</td>\n",
       "      <td>Mkt&amp;Fin</td>\n",
       "      <td>60.015718</td>\n",
       "      <td>NaN</td>\n",
       "      <td>True</td>\n",
       "      <td>2020-03-16</td>\n",
       "      <td>NaT</td>\n",
       "      <td>NaN</td>\n",
       "    </tr>\n",
       "    <tr>\n",
       "      <th>4</th>\n",
       "      <td>4</td>\n",
       "      <td>4071 Wilson Turnpike Suite 117\\nLake Jason, DE...</td>\n",
       "      <td>F</td>\n",
       "      <td>61.294067</td>\n",
       "      <td>59.820284</td>\n",
       "      <td>Commerce</td>\n",
       "      <td>63.309633</td>\n",
       "      <td>Others</td>\n",
       "      <td>False</td>\n",
       "      <td>1</td>\n",
       "      <td>58.972786</td>\n",
       "      <td>Mkt&amp;HR</td>\n",
       "      <td>65.359649</td>\n",
       "      <td>22444.189322</td>\n",
       "      <td>True</td>\n",
       "      <td>2020-01-05</td>\n",
       "      <td>2020-08-25</td>\n",
       "      <td>3.0</td>\n",
       "    </tr>\n",
       "  </tbody>\n",
       "</table>\n",
       "</div>"
      ],
      "text/plain": [
       "   student_id                                            address gender  \\\n",
       "0           0              8458 Jerry Pine\\nLake Logan, AK 35163      M   \n",
       "1           1        874 Jensen Manors\\nLake Markhaven, NC 54923      M   \n",
       "2           2   35619 Green Fork Apt. 482\\nBradleybury, SC 76470      M   \n",
       "3           3        1538 Cristian Courts\\nSouth Aaron, VT 47799      F   \n",
       "4           4  4071 Wilson Turnpike Suite 117\\nLake Jason, DE...      F   \n",
       "\n",
       "   second_perc  high_perc high_spec  degree_perc degree_type  work_experience  \\\n",
       "0    75.183396  54.612066  Commerce    64.146521   Comm&Mgmt            False   \n",
       "1    86.859705  37.624291   Science    86.506503   Comm&Mgmt            False   \n",
       "2    84.406287  66.676803   Science    73.183928   Comm&Mgmt            False   \n",
       "3    77.226956  55.243189   Science    45.796405    Sci&Tech            False   \n",
       "4    61.294067  59.820284  Commerce    63.309633      Others            False   \n",
       "\n",
       "   experience_years  employability_perc mba_spec   mba_perc        salary  \\\n",
       "0                 1           66.883489  Mkt&Fin  59.473564  20596.990907   \n",
       "1                 0           87.786482   Mkt&HR  66.031959           NaN   \n",
       "2                 0           97.921185   Mkt&HR  63.061658  22485.566676   \n",
       "3                 0           97.568401  Mkt&Fin  60.015718           NaN   \n",
       "4                 1           58.972786   Mkt&HR  65.359649  22444.189322   \n",
       "\n",
       "   placed start_date   end_date duration  \n",
       "0    True        NaT        NaT      NaN  \n",
       "1   False 2020-01-16 2020-02-28      3.0  \n",
       "2   False 2020-01-10 2020-10-05      3.0  \n",
       "3    True 2020-03-16        NaT      NaN  \n",
       "4    True 2020-01-05 2020-08-25      3.0  "
      ]
     },
     "execution_count": 15,
     "metadata": {},
     "output_type": "execute_result"
    }
   ],
   "source": [
    "new_data_pii = model.sample(200)\n",
    "new_data_pii.head()"
   ]
  },
  {
   "cell_type": "markdown",
   "metadata": {},
   "source": [
    "Which means that none of the original addresses can be found in the\n",
    "sampled data:"
   ]
  },
  {
   "cell_type": "code",
   "execution_count": 16,
   "metadata": {
    "attributes": {
     "classes": [
      ""
     ],
     "id": ""
    }
   },
   "outputs": [
    {
     "data": {
      "text/plain": [
       "0"
      ]
     },
     "execution_count": 16,
     "metadata": {},
     "output_type": "execute_result"
    }
   ],
   "source": [
    "data_pii.address.isin(new_data_pii.address).sum()"
   ]
  },
  {
   "cell_type": "markdown",
   "metadata": {},
   "source": [
    "Advanced Usage\n",
    "--------------\n",
    "\n",
    "Now that we have discovered the basics, let\\'s go over a few more\n",
    "advanced usage examples and see the different arguments that we can pass\n",
    "to our `CopulaGAN` Model in order to customize it to our needs.\n",
    "\n",
    "### Exploring the Probability Distributions\n",
    "\n",
    "During the previous steps, every time we fitted the `CopulaGAN` it\n",
    "performed the following operations:\n",
    "\n",
    "1.  Learn the format and data types of the passed data\n",
    "2.  Transform the non-numerical and null data using [Reversible Data\n",
    "    Transforms](https://github.com/sdv-dev/RDT) to obtain a fully\n",
    "    numerical representation of the data from which we can learn the\n",
    "    probability distributions.\n",
    "3.  Learn the probability distribution of each column from the table\n",
    "4.  Transform the values of each numerical column by converting them to\n",
    "    their marginal distribution CDF values and then applying an inverse\n",
    "    CDF transformation of a standard normal on them.\n",
    "5.  Fit a CTGAN model on the transformed data, which learns how each\n",
    "    column is correlated to the others.\n",
    "\n",
    "After this, when we used the model to generate new data for our table\n",
    "using the `sample` method, it did:\n",
    "\n",
    "5.  Sample rows from the CTGAN model.\n",
    "6.  Revert the sampled values by computing their standard normal CDF and\n",
    "    then applying the inverse CDF of their marginal distributions.\n",
    "7.  Revert the RDT transformations to go back to the original data\n",
    "    format.\n",
    "\n",
    "As you can see, during these steps the *Marginal Probability\n",
    "Distributions* have a very important role, since the `CopulaGAN` had to\n",
    "learn and reproduce the individual distributions of each column in our\n",
    "table. We can explore the distributions which the `CopulaGAN` used to\n",
    "model each column using its `get_distributions` method:"
   ]
  },
  {
   "cell_type": "code",
   "execution_count": 17,
   "metadata": {
    "attributes": {
     "classes": [
      ""
     ],
     "id": ""
    }
   },
   "outputs": [],
   "source": [
    "model = CopulaGAN(\n",
    "    primary_key='student_id'\n",
    ")\n",
    "model.fit(data)\n",
    "distributions = model.get_distributions()"
   ]
  },
  {
   "cell_type": "markdown",
   "metadata": {},
   "source": [
    "This will return us a `dict` which contains the name of the distribution\n",
    "class used for each column:"
   ]
  },
  {
   "cell_type": "code",
   "execution_count": 18,
   "metadata": {
    "attributes": {
     "classes": [
      ""
     ],
     "id": ""
    }
   },
   "outputs": [
    {
     "data": {
      "text/plain": [
       "{'second_perc': 'copulas.univariate.truncated_gaussian.TruncatedGaussian',\n",
       " 'high_perc': 'copulas.univariate.log_laplace.LogLaplace',\n",
       " 'degree_perc': 'copulas.univariate.student_t.StudentTUnivariate',\n",
       " 'work_experience': 'copulas.univariate.student_t.StudentTUnivariate',\n",
       " 'experience_years': 'copulas.univariate.gaussian.GaussianUnivariate',\n",
       " 'employability_perc': 'copulas.univariate.truncated_gaussian.TruncatedGaussian',\n",
       " 'mba_perc': 'copulas.univariate.gamma.GammaUnivariate',\n",
       " 'salary#0': 'copulas.univariate.gamma.GammaUnivariate',\n",
       " 'salary#1': 'copulas.univariate.gaussian.GaussianUnivariate',\n",
       " 'placed': 'copulas.univariate.gamma.GammaUnivariate',\n",
       " 'start_date#0': 'copulas.univariate.gamma.GammaUnivariate',\n",
       " 'start_date#1': 'copulas.univariate.gaussian.GaussianUnivariate',\n",
       " 'end_date#0': 'copulas.univariate.gamma.GammaUnivariate',\n",
       " 'end_date#1': 'copulas.univariate.gaussian.GaussianUnivariate'}"
      ]
     },
     "execution_count": 18,
     "metadata": {},
     "output_type": "execute_result"
    }
   ],
   "source": [
    "distributions"
   ]
  },
  {
   "cell_type": "markdown",
   "metadata": {},
   "source": [
    "<div class=\"alert alert-info\">\n",
    "\n",
    "**Note**\n",
    "\n",
    "In this list we will see multiple distributions for each one of the\n",
    "columns that we have in our data. This is because the RDT\n",
    "transformations used to encode the data numerically often use more than\n",
    "one column to represent each one of the input variables.\n",
    "\n",
    "</div>\n",
    "\n",
    "Let\\'s explore the individual distribution of one of the columns in our\n",
    "data to better understand how the `CopulaGAN` processed them and see if\n",
    "we can improve the results by manually specifying a different\n",
    "distribution. For example, let\\'s explore the `experience_years` column\n",
    "by looking at the frequency of its values within the original data:"
   ]
  },
  {
   "cell_type": "code",
   "execution_count": 19,
   "metadata": {
    "attributes": {
     "classes": [
      ""
     ],
     "id": ""
    }
   },
   "outputs": [
    {
     "data": {
      "text/plain": [
       "0    141\n",
       "1     65\n",
       "2      8\n",
       "3      1\n",
       "Name: experience_years, dtype: int64"
      ]
     },
     "execution_count": 19,
     "metadata": {},
     "output_type": "execute_result"
    }
   ],
   "source": [
    "data.experience_years.value_counts()"
   ]
  },
  {
   "cell_type": "code",
   "execution_count": 20,
   "metadata": {
    "attributes": {
     "classes": [
      ""
     ],
     "id": ""
    }
   },
   "outputs": [
    {
     "data": {
      "image/png": "[encoded data removed]",
      "text/plain": [
       "<Figure size 432x288 with 1 Axes>"
      ]
     },
     "metadata": {
      "needs_background": "light"
     },
     "output_type": "display_data"
    }
   ],
   "source": [
    "data.experience_years.hist();"
   ]
  },
  {
   "cell_type": "markdown",
   "metadata": {},
   "source": [
    "By observing the data we can see that the behavior of the values in this\n",
    "column is very similar to a Gamma or even some types of Beta\n",
    "distribution, where the majority of the values are 0 and the frequency\n",
    "decreases as the values increase.\n",
    "\n",
    "Was the `CopulaGAN` able to capture this distribution on its own?"
   ]
  },
  {
   "cell_type": "code",
   "execution_count": 21,
   "metadata": {
    "attributes": {
     "classes": [
      ""
     ],
     "id": ""
    }
   },
   "outputs": [
    {
     "data": {
      "text/plain": [
       "'copulas.univariate.gaussian.GaussianUnivariate'"
      ]
     },
     "execution_count": 21,
     "metadata": {},
     "output_type": "execute_result"
    }
   ],
   "source": [
    "distributions['experience_years']"
   ]
  },
  {
   "cell_type": "markdown",
   "metadata": {},
   "source": [
    "It seems that the it was not, as it rather thought that the behavior was\n",
    "closer to a Gaussian distribution. And, as a result, we can see how the\n",
    "generated values now contain negative values which are invalid for this\n",
    "column:"
   ]
  },
  {
   "cell_type": "code",
   "execution_count": 22,
   "metadata": {
    "attributes": {
     "classes": [
      ""
     ],
     "id": ""
    }
   },
   "outputs": [
    {
     "data": {
      "text/plain": [
       "0    153\n",
       "1     45\n",
       "2      2\n",
       "Name: experience_years, dtype: int64"
      ]
     },
     "execution_count": 22,
     "metadata": {},
     "output_type": "execute_result"
    }
   ],
   "source": [
    "new_data.experience_years.value_counts()"
   ]
  },
  {
   "cell_type": "code",
   "execution_count": 23,
   "metadata": {
    "attributes": {
     "classes": [
      ""
     ],
     "id": ""
    }
   },
   "outputs": [
    {
     "data": {
      "image/png": "[encoded data removed]",
      "text/plain": [
       "<Figure size 432x288 with 1 Axes>"
      ]
     },
     "metadata": {
      "needs_background": "light"
     },
     "output_type": "display_data"
    }
   ],
   "source": [
    "new_data.experience_years.hist();"
   ]
  },
  {
   "cell_type": "markdown",
   "metadata": {},
   "source": [
    "Let\\'s see how we can improve this situation by passing the `CopulaGAN`\n",
    "the exact distribution that we want it to use for this column.\n",
    "\n",
    "### Setting distributions for indvidual variables\n",
    "\n",
    "The `CopulaGAN` class offers the possibility to indicate which\n",
    "distribution to use for each one of the columns in the table, in order\n",
    "to solve situations like the one that we just described. In order to do\n",
    "this, we need to pass a `field_distributions` argument with `dict` that\n",
    "indicates, the distribution that we want to use for each column.\n",
    "\n",
    "Possible values for the distribution argument are:\n",
    "\n",
    "-   `univariate`: Let `copulas` select the optimal univariate\n",
    "    distribution. This may result in non-parametric models being used.\n",
    "-   `parametric`: Let `copulas` select the optimal univariate\n",
    "    distribution, but restrict the selection to parametric distributions\n",
    "    only.\n",
    "-   `bounded`: Let `copulas` select the optimal univariate distribution,\n",
    "    but restrict the selection to bounded distributions only. This may\n",
    "    result in non-parametric models being used.\n",
    "-   `semi_bounded`: Let `copulas` select the optimal univariate\n",
    "    distribution, but restrict the selection to semi-bounded\n",
    "    distributions only. This may result in non-parametric models being\n",
    "    used.\n",
    "-   `parametric_bounded`: Let `copulas` select the optimal univariate\n",
    "    distribution, but restrict the selection to parametric and bounded\n",
    "    distributions only.\n",
    "-   `parametric_semi_bounded`: Let `copulas` select the optimal\n",
    "    univariate distribution, but restrict the selection to parametric\n",
    "    and semi-bounded distributions only.\n",
    "-   `gaussian`: Use a Gaussian distribution.\n",
    "-   `gamma`: Use a Gamma distribution.\n",
    "-   `beta`: Use a Beta distribution.\n",
    "-   `student_t`: Use a Student T distribution.\n",
    "-   `gaussian_kde`: Use a GaussianKDE distribution. This model is\n",
    "    non-parametric, so using this will make `get_parameters` unusable.\n",
    "-   `truncated_gaussian`: Use a Truncated Gaussian distribution.\n",
    "\n",
    "Let\\'s see what happens if we make the `CopulaGAN` use the `gamma`\n",
    "distribution for our column."
   ]
  },
  {
   "cell_type": "code",
   "execution_count": 24,
   "metadata": {
    "attributes": {
     "classes": [
      ""
     ],
     "id": ""
    }
   },
   "outputs": [],
   "source": [
    "model = CopulaGAN(\n",
    "    primary_key='student_id',\n",
    "    field_distributions={\n",
    "        'experience_years': 'gamma'\n",
    "    }\n",
    ")\n",
    "model.fit(data)"
   ]
  },
  {
   "cell_type": "markdown",
   "metadata": {},
   "source": [
    "After this, we can see how the `CopulaGAN` used the indicated\n",
    "distribution for the `experience_years` column"
   ]
  },
  {
   "cell_type": "code",
   "execution_count": 25,
   "metadata": {
    "attributes": {
     "classes": [
      ""
     ],
     "id": ""
    }
   },
   "outputs": [
    {
     "data": {
      "text/plain": [
       "'copulas.univariate.gamma.GammaUnivariate'"
      ]
     },
     "execution_count": 25,
     "metadata": {},
     "output_type": "execute_result"
    }
   ],
   "source": [
    "model.get_distributions()['experience_years']"
   ]
  },
  {
   "cell_type": "markdown",
   "metadata": {},
   "source": [
    "And, as a result, now we can see how the generated data now have a\n",
    "behavior which is closer to the original data and always stays within\n",
    "the valid values range."
   ]
  },
  {
   "cell_type": "code",
   "execution_count": 26,
   "metadata": {
    "attributes": {
     "classes": [
      ""
     ],
     "id": ""
    }
   },
   "outputs": [
    {
     "data": {
      "text/plain": [
       "0    130\n",
       "1     32\n",
       "2     28\n",
       "3     15\n",
       "4      7\n",
       "5      3\n",
       "Name: experience_years, dtype: int64"
      ]
     },
     "execution_count": 26,
     "metadata": {},
     "output_type": "execute_result"
    }
   ],
   "source": [
    "new_data = model.sample(len(data))\n",
    "new_data.experience_years.value_counts()"
   ]
  },
  {
   "cell_type": "code",
   "execution_count": 27,
   "metadata": {
    "attributes": {
     "classes": [
      ""
     ],
     "id": ""
    }
   },
   "outputs": [
    {
     "data": {
      "image/png": "[encoded data removed]",
      "text/plain": [
       "<Figure size 432x288 with 1 Axes>"
      ]
     },
     "metadata": {
      "needs_background": "light"
     },
     "output_type": "display_data"
    }
   ],
   "source": [
    "new_data.experience_years.hist();"
   ]
  },
  {
   "cell_type": "markdown",
   "metadata": {},
   "source": [
    "<div class=\"alert alert-info\">\n",
    "\n",
    "**Note**\n",
    "\n",
    "Even though there are situations like the one show above where manually\n",
    "choosing a distribution seems to give better results, in most cases the\n",
    "`CopulaGAN` will be able to find the optimal distribution on its own,\n",
    "making this manual search of the marginal distributions necessary on\n",
    "very little occasions.\n",
    "\n",
    "</div>\n",
    "\n",
    "### How to modify the CopulaGAN Hyperparameters?\n",
    "\n",
    "A part from the arguments explained above, `CopulaGAN` has a number of\n",
    "additional hyperparameters that control its learning behavior and can\n",
    "impact on the performance of the model, both in terms of quality of the\n",
    "generated data and computational time:\n",
    "\n",
    "-   `epochs` and `batch_size`: these arguments control the number of\n",
    "    iterations that the model will perform to optimize its parameters,\n",
    "    as well as the number of samples used in each step. Its default\n",
    "    values are `300` and `500` respectively, and `batch_size` needs to\n",
    "    always be a value which is multiple of `10`. These hyperparameters\n",
    "    have a very direct effect in time the training process lasts but\n",
    "    also on the performance of the data, so for new datasets, you might\n",
    "    want to start by setting a low value on both of them to see how long\n",
    "    the training process takes on your data and later on increase the\n",
    "    number to acceptable values in order to improve the performance.\n",
    "-   `log_frequency`: Whether to use log frequency of categorical levels\n",
    "    in conditional sampling. It defaults to `True`. This argument affects\n",
    "    how the model processes the frequencies of the categorical values that\n",
    "    are used to condition the rest of the values. In some cases, changing\n",
    "    it to `False` could lead to better performance.\n",
    "-   `embedding_dim` (int): Size of the random sample passed to the\n",
    "    Generator. Defaults to 128.\n",
    "-   `generator_dim` (tuple or list of ints): Size of the output samples for\n",
    "    each one of the Residuals. A Resiudal Layer will be created for each\n",
    "    one of the values provided. Defaults to (256, 256).\n",
    "-   `discriminator_dim` (tuple or list of ints): Size of the output samples for\n",
    "    each one of the Discriminator Layers. A Linear Layer will be created\n",
    "    for each one of the values provided. Defaults to (256, 256).\n",
    "-   `generator_lr` (float): Learning rate for the generator. Defaults to 2e-4.\n",
    "-   `generator_decay` (float): Generator weight decay for the Adam Optimizer.\n",
    "    Defaults to 1e-6.\n",
    "-   `discriminator_lr` (float): Learning rate for the discriminator.\n",
    "    Defaults to 2e-4.\n",
    "-   `discriminator_decay` (float): Discriminator weight decay for the Adam\n",
    "    Optimizer. Defaults to 1e-6.\n",
    "-   `discriminator_steps` (int): Number of discriminator updates to do for\n",
    "    each generator update. From the WGAN paper: https://arxiv.org/abs/1701.07875.\n",
    "    WGAN paper default is 5. Default used is 1 to match original CTGAN\n",
    "    implementation.\n",
    "-   `verbose`: Whether to print fit progress on stdout. Defaults to\n",
    "    `False`.\n",
    "\n",
    "<div class=\"alert alert-warning\">\n",
    "\n",
    "**Warning**\n",
    "\n",
    "Notice that the value that you set on the `batch_size` argument must\n",
    "always be a multiple of `10`!\n",
    "\n",
    "</div>\n",
    "\n",
    "As an example, we will try to fit the `CopulaGAN` model slightly\n",
    "increasing the number of epochs, reducing the `batch_size`, adding one\n",
    "additional layer to the models involved and using a smaller wright\n",
    "decay.\n",
    "\n",
    "Before we start, we will evaluate the quality of the previously\n",
    "generated data using the `sdv.evaluation.evaluate` function"
   ]
  },
  {
   "cell_type": "code",
   "execution_count": 28,
   "metadata": {
    "attributes": {
     "classes": [
      ""
     ],
     "id": ""
    }
   },
   "outputs": [
    {
     "data": {
      "text/plain": [
       "0.5016279315052902"
      ]
     },
     "execution_count": 28,
     "metadata": {},
     "output_type": "execute_result"
    }
   ],
   "source": [
    "from sdv.evaluation import evaluate\n",
    "\n",
    "evaluate(new_data, data)"
   ]
  },
  {
   "cell_type": "markdown",
   "metadata": {},
   "source": [
    "Afterwards, we create a new instance of the `CopulaGAN` model with the\n",
    "hyperparameter values that we want to use"
   ]
  },
  {
   "cell_type": "code",
   "execution_count": 29,
   "metadata": {
    "attributes": {
     "classes": [
      ""
     ],
     "id": ""
    }
   },
   "outputs": [],
   "source": [
    "model = CopulaGAN(\n",
    "    primary_key='student_id',\n",
    "    epochs=500,\n",
    "    batch_size=100,\n",
    "    generator_dim=(256, 256, 256),\n",
    "    discriminator_dim=(256, 256, 256)\n",
    ")"
   ]
  },
  {
   "cell_type": "markdown",
   "metadata": {},
   "source": [
    "And fit to our data."
   ]
  },
  {
   "cell_type": "code",
   "execution_count": 30,
   "metadata": {
    "attributes": {
     "classes": [
      ""
     ],
     "id": ""
    }
   },
   "outputs": [],
   "source": [
    "model.fit(data)"
   ]
  },
  {
   "cell_type": "markdown",
   "metadata": {},
   "source": [
    "Finally, we are ready to generate new data and evaluate the results."
   ]
  },
  {
   "cell_type": "code",
   "execution_count": 31,
   "metadata": {
    "attributes": {
     "classes": [
      ""
     ],
     "id": ""
    }
   },
   "outputs": [
    {
     "data": {
      "text/plain": [
       "0.4829470254779246"
      ]
     },
     "execution_count": 31,
     "metadata": {},
     "output_type": "execute_result"
    }
   ],
   "source": [
    "new_data = model.sample(len(data))\n",
    "evaluate(new_data, data)"
   ]
  },
  {
   "cell_type": "markdown",
   "metadata": {},
   "source": [
    "As we can see, in this case these modifications changed the obtained\n",
    "results slightly, but they did neither introduce dramatic changes in the\n",
    "performance.\n",
    "\n",
    "### How do I specify constraints?\n",
    "\n",
    "If you look closely at the data you may notice that some properties were\n",
    "not completely captured by the model. For example, you may have seen\n",
    "that sometimes the model produces an `experience_years` number greater\n",
    "than `0` while also indicating that `work_experience` is `False`. These\n",
    "type of properties are what we call `Constraints` and can also be\n",
    "handled using `SDV`. For further details about them please visit the\n",
    "[Handling Constraints](04_Handling_Constraints.ipynb) guide.\n",
    "\n",
    "### Can I evaluate the Synthetic Data?\n",
    "\n",
    "A very common question when someone starts using **SDV** to generate\n",
    "synthetic data is: *\\\"How good is the data that I just generated?\\\"*\n",
    "\n",
    "In order to answer this question, **SDV** has a collection of metrics\n",
    "and tools that allow you to compare the *real* that you provided and the\n",
    "*synthetic* data that you generated using **SDV** or any other tool.\n",
    "\n",
    "You can read more about this in the [Evaluating Synthetic Data Generators](\n",
    "05_Evaluating_Synthetic_Data_Generators.ipynb) guide."
   ]
  }
 ],
 "metadata": {
  "kernelspec": {
   "display_name": "Python 3",
   "language": "python",
   "name": "python3"
  },
  "language_info": {
   "codemirror_mode": {
    "name": "ipython",
    "version": 3
   },
   "file_extension": ".py",
   "mimetype": "text/x-python",
   "name": "python",
   "nbconvert_exporter": "python",
   "pygments_lexer": "ipython3",
   "version": "3.8.6"
  }
 },
 "nbformat": 4,
 "nbformat_minor": 4
}
