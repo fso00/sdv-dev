{
 "cells": [
  {
   "cell_type": "markdown",
   "metadata": {},
   "source": [
    "CopulaGAN Model\n",
    "===============\n",
    "\n",
    "In this guide we will go through a series of steps that will let you\n",
    "discover functionalities of the `CopulaGAN` model, including how to:\n",
    "\n",
    "-   Create an instance of `CopulaGAN`.\n",
    "-   Fit the instance to your data.\n",
    "-   Generate synthetic versions of your data.\n",
    "-   Use `CopulaGAN` to anonymize PII information.\n",
    "-   Customize the data transformations to improve the learning process.\n",
    "-   Specify the column distributions to improve the output quality.\n",
    "-   Specify hyperparameters to improve the output quality.\n",
    "\n",
    "What is CopulaGAN?\n",
    "------------------\n",
    "\n",
    "The `sdv.tabular.CopulaGAN` model is a variation of the CTGAN model which\n",
    "takes advantage of the CDF based transformation that the GaussianCopulas\n",
    "apply to make the underlying CTGAN model task of learning the data easier.\n",
    "\n",
    "Let\\'s now discover how to learn a dataset and later on generate\n",
    "synthetic data with the same format and statistical properties by using\n",
    "the `CopulaGAN` class from SDV.\n",
    "\n",
    "Quick Usage\n",
    "-----------\n",
    "\n",
    "We will start by loading one of our demo datasets, the\n",
    "`student_placements`, which contains information about MBA students that\n",
    "applied for placements during the year 2020.\n",
    "\n",
    "<div class=\"alert alert-warning\">\n",
    "\n",
    "**Warning**\n",
    "\n",
    "In order to follow this guide you need to have `ctgan` installed on your\n",
    "system. If you have not done it yet, please install `ctgan` now by\n",
    "executing the command `pip install sdv[ctgan]` in a terminal.\n",
    "\n",
    "</div>"
   ]
  },
  {
   "cell_type": "code",
   "execution_count": 1,
   "metadata": {
    "attributes": {
     "classes": [
      ""
     ],
     "id": ""
    }
   },
   "outputs": [
    {
     "data": {
      "text/html": [
       "<div>\n",
       "<style scoped>\n",
       "    .dataframe tbody tr th:only-of-type {\n",
       "        vertical-align: middle;\n",
       "    }\n",
       "\n",
       "    .dataframe tbody tr th {\n",
       "        vertical-align: top;\n",
       "    }\n",
       "\n",
       "    .dataframe thead th {\n",
       "        text-align: right;\n",
       "    }\n",
       "</style>\n",
       "<table border=\"1\" class=\"dataframe\">\n",
       "  <thead>\n",
       "    <tr style=\"text-align: right;\">\n",
       "      <th></th>\n",
       "      <th>0</th>\n",
       "      <th>1</th>\n",
       "      <th>2</th>\n",
       "      <th>3</th>\n",
       "      <th>4</th>\n",
       "    </tr>\n",
       "  </thead>\n",
       "  <tbody>\n",
       "    <tr>\n",
       "      <th>student_id</th>\n",
       "      <td>17264</td>\n",
       "      <td>17265</td>\n",
       "      <td>17266</td>\n",
       "      <td>17267</td>\n",
       "      <td>17268</td>\n",
       "    </tr>\n",
       "    <tr>\n",
       "      <th>gender</th>\n",
       "      <td>M</td>\n",
       "      <td>M</td>\n",
       "      <td>M</td>\n",
       "      <td>M</td>\n",
       "      <td>M</td>\n",
       "    </tr>\n",
       "    <tr>\n",
       "      <th>second_perc</th>\n",
       "      <td>67</td>\n",
       "      <td>79.33</td>\n",
       "      <td>65</td>\n",
       "      <td>56</td>\n",
       "      <td>85.8</td>\n",
       "    </tr>\n",
       "    <tr>\n",
       "      <th>high_perc</th>\n",
       "      <td>91</td>\n",
       "      <td>78.33</td>\n",
       "      <td>68</td>\n",
       "      <td>52</td>\n",
       "      <td>73.6</td>\n",
       "    </tr>\n",
       "    <tr>\n",
       "      <th>high_spec</th>\n",
       "      <td>Commerce</td>\n",
       "      <td>Science</td>\n",
       "      <td>Arts</td>\n",
       "      <td>Science</td>\n",
       "      <td>Commerce</td>\n",
       "    </tr>\n",
       "    <tr>\n",
       "      <th>degree_perc</th>\n",
       "      <td>58</td>\n",
       "      <td>77.48</td>\n",
       "      <td>64</td>\n",
       "      <td>52</td>\n",
       "      <td>73.3</td>\n",
       "    </tr>\n",
       "    <tr>\n",
       "      <th>degree_type</th>\n",
       "      <td>Sci&amp;Tech</td>\n",
       "      <td>Sci&amp;Tech</td>\n",
       "      <td>Comm&amp;Mgmt</td>\n",
       "      <td>Sci&amp;Tech</td>\n",
       "      <td>Comm&amp;Mgmt</td>\n",
       "    </tr>\n",
       "    <tr>\n",
       "      <th>work_experience</th>\n",
       "      <td>False</td>\n",
       "      <td>True</td>\n",
       "      <td>False</td>\n",
       "      <td>False</td>\n",
       "      <td>False</td>\n",
       "    </tr>\n",
       "    <tr>\n",
       "      <th>experience_years</th>\n",
       "      <td>0</td>\n",
       "      <td>1</td>\n",
       "      <td>0</td>\n",
       "      <td>0</td>\n",
       "      <td>0</td>\n",
       "    </tr>\n",
       "    <tr>\n",
       "      <th>employability_perc</th>\n",
       "      <td>55</td>\n",
       "      <td>86.5</td>\n",
       "      <td>75</td>\n",
       "      <td>66</td>\n",
       "      <td>96.8</td>\n",
       "    </tr>\n",
       "    <tr>\n",
       "      <th>mba_spec</th>\n",
       "      <td>Mkt&amp;HR</td>\n",
       "      <td>Mkt&amp;Fin</td>\n",
       "      <td>Mkt&amp;Fin</td>\n",
       "      <td>Mkt&amp;HR</td>\n",
       "      <td>Mkt&amp;Fin</td>\n",
       "    </tr>\n",
       "    <tr>\n",
       "      <th>mba_perc</th>\n",
       "      <td>58.8</td>\n",
       "      <td>66.28</td>\n",
       "      <td>57.8</td>\n",
       "      <td>59.43</td>\n",
       "      <td>55.5</td>\n",
       "    </tr>\n",
       "    <tr>\n",
       "      <th>salary</th>\n",
       "      <td>27000</td>\n",
       "      <td>20000</td>\n",
       "      <td>25000</td>\n",
       "      <td>NaN</td>\n",
       "      <td>42500</td>\n",
       "    </tr>\n",
       "    <tr>\n",
       "      <th>placed</th>\n",
       "      <td>True</td>\n",
       "      <td>True</td>\n",
       "      <td>True</td>\n",
       "      <td>False</td>\n",
       "      <td>True</td>\n",
       "    </tr>\n",
       "    <tr>\n",
       "      <th>start_date</th>\n",
       "      <td>2020-07-23 00:00:00</td>\n",
       "      <td>2020-01-11 00:00:00</td>\n",
       "      <td>2020-01-26 00:00:00</td>\n",
       "      <td>NaT</td>\n",
       "      <td>2020-07-04 00:00:00</td>\n",
       "    </tr>\n",
       "    <tr>\n",
       "      <th>end_date</th>\n",
       "      <td>2020-10-12 00:00:00</td>\n",
       "      <td>2020-04-09 00:00:00</td>\n",
       "      <td>2020-07-13 00:00:00</td>\n",
       "      <td>NaT</td>\n",
       "      <td>2020-09-27 00:00:00</td>\n",
       "    </tr>\n",
       "    <tr>\n",
       "      <th>duration</th>\n",
       "      <td>3.0</td>\n",
       "      <td>3.0</td>\n",
       "      <td>6.0</td>\n",
       "      <td>NaN</td>\n",
       "      <td>3.0</td>\n",
       "    </tr>\n",
       "  </tbody>\n",
       "</table>\n",
       "</div>"
      ],
      "text/plain": [
       "                                      0                    1  \\\n",
       "student_id                        17264                17265   \n",
       "gender                                M                    M   \n",
       "second_perc                          67                79.33   \n",
       "high_perc                            91                78.33   \n",
       "high_spec                      Commerce              Science   \n",
       "degree_perc                          58                77.48   \n",
       "degree_type                    Sci&Tech             Sci&Tech   \n",
       "work_experience                   False                 True   \n",
       "experience_years                      0                    1   \n",
       "employability_perc                   55                 86.5   \n",
       "mba_spec                         Mkt&HR              Mkt&Fin   \n",
       "mba_perc                           58.8                66.28   \n",
       "salary                            27000                20000   \n",
       "placed                             True                 True   \n",
       "start_date          2020-07-23 00:00:00  2020-01-11 00:00:00   \n",
       "end_date            2020-10-12 00:00:00  2020-04-09 00:00:00   \n",
       "duration                            3.0                  3.0   \n",
       "\n",
       "                                      2         3                    4  \n",
       "student_id                        17266     17267                17268  \n",
       "gender                                M         M                    M  \n",
       "second_perc                          65        56                 85.8  \n",
       "high_perc                            68        52                 73.6  \n",
       "high_spec                          Arts   Science             Commerce  \n",
       "degree_perc                          64        52                 73.3  \n",
       "degree_type                   Comm&Mgmt  Sci&Tech            Comm&Mgmt  \n",
       "work_experience                   False     False                False  \n",
       "experience_years                      0         0                    0  \n",
       "employability_perc                   75        66                 96.8  \n",
       "mba_spec                        Mkt&Fin    Mkt&HR              Mkt&Fin  \n",
       "mba_perc                           57.8     59.43                 55.5  \n",
       "salary                            25000       NaN                42500  \n",
       "placed                             True     False                 True  \n",
       "start_date          2020-01-26 00:00:00       NaT  2020-07-04 00:00:00  \n",
       "end_date            2020-07-13 00:00:00       NaT  2020-09-27 00:00:00  \n",
       "duration                            6.0       NaN                  3.0  "
      ]
     },
     "execution_count": 1,
     "metadata": {},
     "output_type": "execute_result"
    }
   ],
   "source": [
    "from sdv.demo import load_tabular_demo\n",
    "\n",
    "data = load_tabular_demo('student_placements')\n",
    "data.head().T"
   ]
  },
  {
   "cell_type": "markdown",
   "metadata": {},
   "source": [
    "As you can see, this table contains information about students which\n",
    "includes, among other things:\n",
    "\n",
    "-   Their id and gender\n",
    "-   Their grades and specializations\n",
    "-   Their work experience\n",
    "-   The salary that they where offered\n",
    "-   The duration and dates of their placement\n",
    "\n",
    "You will notice that there is data with the following characteristics:\n",
    "\n",
    "-   There are float, integer, boolean, categorical and datetime values.\n",
    "-   There are some variables that have missing data. In particular, all\n",
    "    the data related to the placement details is missing in the rows\n",
    "    where the student was not placed.\n",
    "\n",
    "Let us use `CopulaGAN` to learn this data and then sample synthetic data\n",
    "about new students to see how well de model captures the characteristics\n",
    "indicated above. In order to do this you will need to:\n",
    "\n",
    "-   Import the `sdv.tabular.CopulaGAN` class and create an instance of\n",
    "    it.\n",
    "-   Call its `fit` method passing our table.\n",
    "-   Call its `sample` method indicating the number of synthetic rows\n",
    "    that you want to generate."
   ]
  },
  {
   "cell_type": "code",
   "execution_count": 2,
   "metadata": {
    "attributes": {
     "classes": [
      ""
     ],
     "id": ""
    }
   },
   "outputs": [],
   "source": [
    "from sdv.tabular import CopulaGAN\n",
    "\n",
    "model = CopulaGAN()\n",
    "model.fit(data)"
   ]
  },
  {
   "cell_type": "markdown",
   "metadata": {},
   "source": [
    "<div class=\"alert alert-info\">\n",
    "\n",
    "**Note**\n",
    "\n",
    "Notice that the model `fitting` process took care of transforming the\n",
    "different fields using the appropriate [Reversible Data\n",
    "Transforms](http://github.com/sdv-dev/RDT) to ensure that the data has a\n",
    "format that the underlying CTGANSynthesizer class can handle.\n",
    "\n",
    "</div>\n",
    "\n",
    "### Generate synthetic data from the model\n",
    "\n",
    "Once the modeling has finished you are ready to generate new synthetic\n",
    "data by calling the `sample` method from your model passing the number\n",
    "of rows that we want to generate."
   ]
  },
  {
   "cell_type": "code",
   "execution_count": 3,
   "metadata": {
    "attributes": {
     "classes": [
      ""
     ],
     "id": ""
    }
   },
   "outputs": [],
   "source": [
    "new_data = model.sample(200)"
   ]
  },
  {
   "cell_type": "markdown",
   "metadata": {},
   "source": [
    "This will return a table identical to the one which the model was fitted\n",
    "on, but filled with new data which resembles the original one."
   ]
  },
  {
   "cell_type": "code",
   "execution_count": 4,
   "metadata": {
    "attributes": {
     "classes": [
      ""
     ],
     "id": ""
    }
   },
   "outputs": [
    {
     "data": {
      "text/html": [
       "<div>\n",
       "<style scoped>\n",
       "    .dataframe tbody tr th:only-of-type {\n",
       "        vertical-align: middle;\n",
       "    }\n",
       "\n",
       "    .dataframe tbody tr th {\n",
       "        vertical-align: top;\n",
       "    }\n",
       "\n",
       "    .dataframe thead th {\n",
       "        text-align: right;\n",
       "    }\n",
       "</style>\n",
       "<table border=\"1\" class=\"dataframe\">\n",
       "  <thead>\n",
       "    <tr style=\"text-align: right;\">\n",
       "      <th></th>\n",
       "      <th>student_id</th>\n",
       "      <th>gender</th>\n",
       "      <th>second_perc</th>\n",
       "      <th>high_perc</th>\n",
       "      <th>high_spec</th>\n",
       "      <th>degree_perc</th>\n",
       "      <th>degree_type</th>\n",
       "      <th>work_experience</th>\n",
       "      <th>experience_years</th>\n",
       "      <th>employability_perc</th>\n",
       "      <th>mba_spec</th>\n",
       "      <th>mba_perc</th>\n",
       "      <th>salary</th>\n",
       "      <th>placed</th>\n",
       "      <th>start_date</th>\n",
       "      <th>end_date</th>\n",
       "      <th>duration</th>\n",
       "    </tr>\n",
       "  </thead>\n",
       "  <tbody>\n",
       "    <tr>\n",
       "      <th>0</th>\n",
       "      <td>17477</td>\n",
       "      <td>M</td>\n",
       "      <td>85.938635</td>\n",
       "      <td>82.082929</td>\n",
       "      <td>Commerce</td>\n",
       "      <td>57.997274</td>\n",
       "      <td>Comm&amp;Mgmt</td>\n",
       "      <td>False</td>\n",
       "      <td>0</td>\n",
       "      <td>55.000817</td>\n",
       "      <td>Mkt&amp;HR</td>\n",
       "      <td>54.253781</td>\n",
       "      <td>29445.129829</td>\n",
       "      <td>True</td>\n",
       "      <td>2020-01-15</td>\n",
       "      <td>2020-11-27</td>\n",
       "      <td>12.0</td>\n",
       "    </tr>\n",
       "    <tr>\n",
       "      <th>1</th>\n",
       "      <td>17458</td>\n",
       "      <td>M</td>\n",
       "      <td>59.864840</td>\n",
       "      <td>65.326489</td>\n",
       "      <td>Science</td>\n",
       "      <td>52.708187</td>\n",
       "      <td>Comm&amp;Mgmt</td>\n",
       "      <td>False</td>\n",
       "      <td>0</td>\n",
       "      <td>50.727363</td>\n",
       "      <td>Mkt&amp;HR</td>\n",
       "      <td>68.755764</td>\n",
       "      <td>NaN</td>\n",
       "      <td>False</td>\n",
       "      <td>2020-01-05</td>\n",
       "      <td>2020-10-16</td>\n",
       "      <td>NaN</td>\n",
       "    </tr>\n",
       "    <tr>\n",
       "      <th>2</th>\n",
       "      <td>17340</td>\n",
       "      <td>F</td>\n",
       "      <td>46.065520</td>\n",
       "      <td>68.982696</td>\n",
       "      <td>Science</td>\n",
       "      <td>40.999681</td>\n",
       "      <td>Sci&amp;Tech</td>\n",
       "      <td>False</td>\n",
       "      <td>0</td>\n",
       "      <td>52.443927</td>\n",
       "      <td>Mkt&amp;Fin</td>\n",
       "      <td>63.698371</td>\n",
       "      <td>57328.465456</td>\n",
       "      <td>True</td>\n",
       "      <td>2020-07-20</td>\n",
       "      <td>NaT</td>\n",
       "      <td>12.0</td>\n",
       "    </tr>\n",
       "    <tr>\n",
       "      <th>3</th>\n",
       "      <td>17314</td>\n",
       "      <td>M</td>\n",
       "      <td>45.574072</td>\n",
       "      <td>70.638141</td>\n",
       "      <td>Commerce</td>\n",
       "      <td>65.116690</td>\n",
       "      <td>Comm&amp;Mgmt</td>\n",
       "      <td>False</td>\n",
       "      <td>0</td>\n",
       "      <td>51.447235</td>\n",
       "      <td>Mkt&amp;Fin</td>\n",
       "      <td>58.455481</td>\n",
       "      <td>29458.454273</td>\n",
       "      <td>False</td>\n",
       "      <td>2020-03-24</td>\n",
       "      <td>2020-06-26</td>\n",
       "      <td>NaN</td>\n",
       "    </tr>\n",
       "    <tr>\n",
       "      <th>4</th>\n",
       "      <td>17444</td>\n",
       "      <td>F</td>\n",
       "      <td>67.744471</td>\n",
       "      <td>62.479960</td>\n",
       "      <td>Science</td>\n",
       "      <td>52.883013</td>\n",
       "      <td>Comm&amp;Mgmt</td>\n",
       "      <td>False</td>\n",
       "      <td>0</td>\n",
       "      <td>52.275398</td>\n",
       "      <td>Mkt&amp;HR</td>\n",
       "      <td>53.491073</td>\n",
       "      <td>28794.483799</td>\n",
       "      <td>True</td>\n",
       "      <td>2020-03-16</td>\n",
       "      <td>2021-03-11</td>\n",
       "      <td>3.0</td>\n",
       "    </tr>\n",
       "  </tbody>\n",
       "</table>\n",
       "</div>"
      ],
      "text/plain": [
       "   student_id gender  second_perc  high_perc high_spec  degree_perc  \\\n",
       "0       17477      M    85.938635  82.082929  Commerce    57.997274   \n",
       "1       17458      M    59.864840  65.326489   Science    52.708187   \n",
       "2       17340      F    46.065520  68.982696   Science    40.999681   \n",
       "3       17314      M    45.574072  70.638141  Commerce    65.116690   \n",
       "4       17444      F    67.744471  62.479960   Science    52.883013   \n",
       "\n",
       "  degree_type  work_experience  experience_years  employability_perc mba_spec  \\\n",
       "0   Comm&Mgmt            False                 0           55.000817   Mkt&HR   \n",
       "1   Comm&Mgmt            False                 0           50.727363   Mkt&HR   \n",
       "2    Sci&Tech            False                 0           52.443927  Mkt&Fin   \n",
       "3   Comm&Mgmt            False                 0           51.447235  Mkt&Fin   \n",
       "4   Comm&Mgmt            False                 0           52.275398   Mkt&HR   \n",
       "\n",
       "    mba_perc        salary  placed start_date   end_date duration  \n",
       "0  54.253781  29445.129829    True 2020-01-15 2020-11-27     12.0  \n",
       "1  68.755764           NaN   False 2020-01-05 2020-10-16      NaN  \n",
       "2  63.698371  57328.465456    True 2020-07-20        NaT     12.0  \n",
       "3  58.455481  29458.454273   False 2020-03-24 2020-06-26      NaN  \n",
       "4  53.491073  28794.483799    True 2020-03-16 2021-03-11      3.0  "
      ]
     },
     "execution_count": 4,
     "metadata": {},
     "output_type": "execute_result"
    }
   ],
   "source": [
    "new_data.head()"
   ]
  },
  {
   "cell_type": "markdown",
   "metadata": {},
   "source": [
    "<div class=\"alert alert-info\">\n",
    "\n",
    "**Note**\n",
    "\n",
    "You can control the number of rows by specifying the number of `samples`\n",
    "in the `model.sample(<num_rows>)`. To test, try `model.sample(10000)`.\n",
    "Note that the original table only had \\~200 rows.\n",
    "\n",
    "</div>\n",
    "\n",
    "### Save and Load the model\n",
    "\n",
    "In many scenarios it will be convenient to generate synthetic versions\n",
    "of your data directly in systems that do not have access to the original\n",
    "data source. For example, if you may want to generate testing data on\n",
    "the fly inside a testing environment that does not have access to your\n",
    "production database. In these scenarios, fitting the model with real\n",
    "data every time that you need to generate new data is feasible, so you\n",
    "will need to fit a model in your production environment, save the fitted\n",
    "model into a file, send this file to the testing environment and then\n",
    "load it there to be able to `sample` from it.\n",
    "\n",
    "Let\\'s see how this process works.\n",
    "\n",
    "#### Save and share the model\n",
    "\n",
    "Once you have fitted the model, all you need to do is call its `save`\n",
    "method passing the name of the file in which you want to save the model.\n",
    "Note that the extension of the filename is not relevant, but we will be\n",
    "using the `.pkl` extension to highlight that the serialization protocol\n",
    "used is [pickle](https://docs.python.org/3/library/pickle.html)."
   ]
  },
  {
   "cell_type": "code",
   "execution_count": 5,
   "metadata": {
    "attributes": {
     "classes": [
      ""
     ],
     "id": ""
    }
   },
   "outputs": [],
   "source": [
    "model.save('my_model.pkl')"
   ]
  },
  {
   "cell_type": "markdown",
   "metadata": {},
   "source": [
    "This will have created a file called `my_model.pkl` in the same\n",
    "directory in which you are running SDV.\n",
    "\n",
    "<div class=\"alert alert-info\">\n",
    "\n",
    "**Important**\n",
    "\n",
    "If you inspect the generated file you will notice that its size is much\n",
    "smaller than the size of the data that you used to generate it. This is\n",
    "because the serialized model contains **no information about the\n",
    "original data**, other than the parameters it needs to generate\n",
    "synthetic versions of it. This means that you can safely share this\n",
    "`my_model.pkl` file without the risc of disclosing any of your real\n",
    "data!\n",
    "\n",
    "</div>\n",
    "\n",
    "#### Load the model and generate new data\n",
    "\n",
    "The file you just generated can be send over to the system where the\n",
    "synthetic data will be generated. Once it is there, you can load it\n",
    "using the `CopulaGAN.load` method, and then you are ready to sample new\n",
    "data from the loaded instance:"
   ]
  },
  {
   "cell_type": "code",
   "execution_count": 6,
   "metadata": {
    "attributes": {
     "classes": [
      ""
     ],
     "id": ""
    }
   },
   "outputs": [],
   "source": [
    "loaded = CopulaGAN.load('my_model.pkl')\n",
    "new_data = loaded.sample(200)"
   ]
  },
  {
   "cell_type": "markdown",
   "metadata": {},
   "source": [
    "<div class=\"alert alert-warning\">\n",
    "\n",
    "**Warning**\n",
    "\n",
    "Notice that the system where the model is loaded needs to also have\n",
    "`sdv` and `ctgan` installed, otherwise it will not be able to load the\n",
    "model and use it.\n",
    "\n",
    "</div>\n",
    "\n",
    "### Specifying the Primary Key of the table\n",
    "\n",
    "One of the first things that you may have noticed when looking that demo\n",
    "data is that there is a `student_id` column which acts as the primary\n",
    "key of the table, and which is supposed to have unique values. Indeed,\n",
    "if we look at the number of times that each value appears, we see that\n",
    "all of them appear at most once:"
   ]
  },
  {
   "cell_type": "code",
   "execution_count": 7,
   "metadata": {
    "attributes": {
     "classes": [
      ""
     ],
     "id": ""
    }
   },
   "outputs": [
    {
     "data": {
      "text/plain": [
       "1"
      ]
     },
     "execution_count": 7,
     "metadata": {},
     "output_type": "execute_result"
    }
   ],
   "source": [
    "data.student_id.value_counts().max()"
   ]
  },
  {
   "cell_type": "markdown",
   "metadata": {},
   "source": [
    "However, if we look at the synthetic data that we generated, we observe\n",
    "that there are some values that appear more than once:"
   ]
  },
  {
   "cell_type": "code",
   "execution_count": 8,
   "metadata": {
    "attributes": {
     "classes": [
      ""
     ],
     "id": ""
    }
   },
   "outputs": [
    {
     "data": {
      "text/plain": [
       "10"
      ]
     },
     "execution_count": 8,
     "metadata": {},
     "output_type": "execute_result"
    }
   ],
   "source": [
    "new_data.student_id.value_counts().max()"
   ]
  },
  {
   "cell_type": "code",
   "execution_count": 9,
   "metadata": {
    "attributes": {
     "classes": [
      ""
     ],
     "id": ""
    }
   },
   "outputs": [
    {
     "data": {
      "text/html": [
       "<div>\n",
       "<style scoped>\n",
       "    .dataframe tbody tr th:only-of-type {\n",
       "        vertical-align: middle;\n",
       "    }\n",
       "\n",
       "    .dataframe tbody tr th {\n",
       "        vertical-align: top;\n",
       "    }\n",
       "\n",
       "    .dataframe thead th {\n",
       "        text-align: right;\n",
       "    }\n",
       "</style>\n",
       "<table border=\"1\" class=\"dataframe\">\n",
       "  <thead>\n",
       "    <tr style=\"text-align: right;\">\n",
       "      <th></th>\n",
       "      <th>student_id</th>\n",
       "      <th>gender</th>\n",
       "      <th>second_perc</th>\n",
       "      <th>high_perc</th>\n",
       "      <th>high_spec</th>\n",
       "      <th>degree_perc</th>\n",
       "      <th>degree_type</th>\n",
       "      <th>work_experience</th>\n",
       "      <th>experience_years</th>\n",
       "      <th>employability_perc</th>\n",
       "      <th>mba_spec</th>\n",
       "      <th>mba_perc</th>\n",
       "      <th>salary</th>\n",
       "      <th>placed</th>\n",
       "      <th>start_date</th>\n",
       "      <th>end_date</th>\n",
       "      <th>duration</th>\n",
       "    </tr>\n",
       "  </thead>\n",
       "  <tbody>\n",
       "    <tr>\n",
       "      <th>28</th>\n",
       "      <td>17477</td>\n",
       "      <td>F</td>\n",
       "      <td>47.096130</td>\n",
       "      <td>68.346005</td>\n",
       "      <td>Science</td>\n",
       "      <td>49.665906</td>\n",
       "      <td>Sci&amp;Tech</td>\n",
       "      <td>False</td>\n",
       "      <td>0</td>\n",
       "      <td>75.329980</td>\n",
       "      <td>Mkt&amp;Fin</td>\n",
       "      <td>61.462721</td>\n",
       "      <td>26486.979113</td>\n",
       "      <td>True</td>\n",
       "      <td>2020-06-12</td>\n",
       "      <td>2020-10-19</td>\n",
       "      <td>3.0</td>\n",
       "    </tr>\n",
       "    <tr>\n",
       "      <th>30</th>\n",
       "      <td>17477</td>\n",
       "      <td>M</td>\n",
       "      <td>54.534086</td>\n",
       "      <td>58.874042</td>\n",
       "      <td>Commerce</td>\n",
       "      <td>64.054669</td>\n",
       "      <td>Comm&amp;Mgmt</td>\n",
       "      <td>False</td>\n",
       "      <td>1</td>\n",
       "      <td>67.959305</td>\n",
       "      <td>Mkt&amp;HR</td>\n",
       "      <td>70.601591</td>\n",
       "      <td>22159.711671</td>\n",
       "      <td>True</td>\n",
       "      <td>2020-03-07</td>\n",
       "      <td>2020-07-10</td>\n",
       "      <td>NaN</td>\n",
       "    </tr>\n",
       "    <tr>\n",
       "      <th>64</th>\n",
       "      <td>17477</td>\n",
       "      <td>M</td>\n",
       "      <td>58.917128</td>\n",
       "      <td>62.466658</td>\n",
       "      <td>Commerce</td>\n",
       "      <td>67.278553</td>\n",
       "      <td>Comm&amp;Mgmt</td>\n",
       "      <td>False</td>\n",
       "      <td>1</td>\n",
       "      <td>54.564460</td>\n",
       "      <td>Mkt&amp;HR</td>\n",
       "      <td>73.669978</td>\n",
       "      <td>25527.944007</td>\n",
       "      <td>False</td>\n",
       "      <td>2020-10-31</td>\n",
       "      <td>2020-09-03</td>\n",
       "      <td>3.0</td>\n",
       "    </tr>\n",
       "    <tr>\n",
       "      <th>84</th>\n",
       "      <td>17477</td>\n",
       "      <td>F</td>\n",
       "      <td>60.906748</td>\n",
       "      <td>61.417923</td>\n",
       "      <td>Arts</td>\n",
       "      <td>48.439425</td>\n",
       "      <td>Comm&amp;Mgmt</td>\n",
       "      <td>False</td>\n",
       "      <td>0</td>\n",
       "      <td>54.376113</td>\n",
       "      <td>Mkt&amp;HR</td>\n",
       "      <td>66.374565</td>\n",
       "      <td>27431.925978</td>\n",
       "      <td>True</td>\n",
       "      <td>2020-01-02</td>\n",
       "      <td>2020-07-22</td>\n",
       "      <td>12.0</td>\n",
       "    </tr>\n",
       "    <tr>\n",
       "      <th>129</th>\n",
       "      <td>17477</td>\n",
       "      <td>F</td>\n",
       "      <td>41.783755</td>\n",
       "      <td>65.776111</td>\n",
       "      <td>Arts</td>\n",
       "      <td>57.985395</td>\n",
       "      <td>Comm&amp;Mgmt</td>\n",
       "      <td>False</td>\n",
       "      <td>2</td>\n",
       "      <td>55.333599</td>\n",
       "      <td>Mkt&amp;HR</td>\n",
       "      <td>53.224794</td>\n",
       "      <td>25519.079332</td>\n",
       "      <td>False</td>\n",
       "      <td>NaT</td>\n",
       "      <td>NaT</td>\n",
       "      <td>NaN</td>\n",
       "    </tr>\n",
       "    <tr>\n",
       "      <th>140</th>\n",
       "      <td>17477</td>\n",
       "      <td>M</td>\n",
       "      <td>44.777480</td>\n",
       "      <td>66.549514</td>\n",
       "      <td>Commerce</td>\n",
       "      <td>45.248143</td>\n",
       "      <td>Sci&amp;Tech</td>\n",
       "      <td>False</td>\n",
       "      <td>1</td>\n",
       "      <td>52.908273</td>\n",
       "      <td>Mkt&amp;Fin</td>\n",
       "      <td>69.902668</td>\n",
       "      <td>24658.678344</td>\n",
       "      <td>False</td>\n",
       "      <td>2020-03-16</td>\n",
       "      <td>2020-07-20</td>\n",
       "      <td>3.0</td>\n",
       "    </tr>\n",
       "    <tr>\n",
       "      <th>141</th>\n",
       "      <td>17477</td>\n",
       "      <td>M</td>\n",
       "      <td>60.685187</td>\n",
       "      <td>91.386679</td>\n",
       "      <td>Science</td>\n",
       "      <td>45.516299</td>\n",
       "      <td>Comm&amp;Mgmt</td>\n",
       "      <td>False</td>\n",
       "      <td>0</td>\n",
       "      <td>56.920977</td>\n",
       "      <td>Mkt&amp;HR</td>\n",
       "      <td>60.698310</td>\n",
       "      <td>28276.142463</td>\n",
       "      <td>True</td>\n",
       "      <td>2020-05-05</td>\n",
       "      <td>2020-08-27</td>\n",
       "      <td>NaN</td>\n",
       "    </tr>\n",
       "    <tr>\n",
       "      <th>146</th>\n",
       "      <td>17477</td>\n",
       "      <td>M</td>\n",
       "      <td>68.783961</td>\n",
       "      <td>91.844003</td>\n",
       "      <td>Commerce</td>\n",
       "      <td>42.636343</td>\n",
       "      <td>Comm&amp;Mgmt</td>\n",
       "      <td>False</td>\n",
       "      <td>1</td>\n",
       "      <td>51.922565</td>\n",
       "      <td>Mkt&amp;HR</td>\n",
       "      <td>54.458698</td>\n",
       "      <td>28921.364494</td>\n",
       "      <td>False</td>\n",
       "      <td>2020-01-12</td>\n",
       "      <td>2020-09-10</td>\n",
       "      <td>NaN</td>\n",
       "    </tr>\n",
       "    <tr>\n",
       "      <th>165</th>\n",
       "      <td>17477</td>\n",
       "      <td>M</td>\n",
       "      <td>49.406926</td>\n",
       "      <td>72.108790</td>\n",
       "      <td>Science</td>\n",
       "      <td>64.696440</td>\n",
       "      <td>Comm&amp;Mgmt</td>\n",
       "      <td>False</td>\n",
       "      <td>0</td>\n",
       "      <td>52.444560</td>\n",
       "      <td>Mkt&amp;Fin</td>\n",
       "      <td>55.919969</td>\n",
       "      <td>NaN</td>\n",
       "      <td>True</td>\n",
       "      <td>2020-11-03</td>\n",
       "      <td>2020-08-02</td>\n",
       "      <td>3.0</td>\n",
       "    </tr>\n",
       "    <tr>\n",
       "      <th>195</th>\n",
       "      <td>17477</td>\n",
       "      <td>F</td>\n",
       "      <td>81.300566</td>\n",
       "      <td>72.282772</td>\n",
       "      <td>Commerce</td>\n",
       "      <td>55.297324</td>\n",
       "      <td>Comm&amp;Mgmt</td>\n",
       "      <td>False</td>\n",
       "      <td>0</td>\n",
       "      <td>53.419850</td>\n",
       "      <td>Mkt&amp;HR</td>\n",
       "      <td>74.643493</td>\n",
       "      <td>NaN</td>\n",
       "      <td>True</td>\n",
       "      <td>2020-08-09</td>\n",
       "      <td>NaT</td>\n",
       "      <td>3.0</td>\n",
       "    </tr>\n",
       "  </tbody>\n",
       "</table>\n",
       "</div>"
      ],
      "text/plain": [
       "     student_id gender  second_perc  high_perc high_spec  degree_perc  \\\n",
       "28        17477      F    47.096130  68.346005   Science    49.665906   \n",
       "30        17477      M    54.534086  58.874042  Commerce    64.054669   \n",
       "64        17477      M    58.917128  62.466658  Commerce    67.278553   \n",
       "84        17477      F    60.906748  61.417923      Arts    48.439425   \n",
       "129       17477      F    41.783755  65.776111      Arts    57.985395   \n",
       "140       17477      M    44.777480  66.549514  Commerce    45.248143   \n",
       "141       17477      M    60.685187  91.386679   Science    45.516299   \n",
       "146       17477      M    68.783961  91.844003  Commerce    42.636343   \n",
       "165       17477      M    49.406926  72.108790   Science    64.696440   \n",
       "195       17477      F    81.300566  72.282772  Commerce    55.297324   \n",
       "\n",
       "    degree_type  work_experience  experience_years  employability_perc  \\\n",
       "28     Sci&Tech            False                 0           75.329980   \n",
       "30    Comm&Mgmt            False                 1           67.959305   \n",
       "64    Comm&Mgmt            False                 1           54.564460   \n",
       "84    Comm&Mgmt            False                 0           54.376113   \n",
       "129   Comm&Mgmt            False                 2           55.333599   \n",
       "140    Sci&Tech            False                 1           52.908273   \n",
       "141   Comm&Mgmt            False                 0           56.920977   \n",
       "146   Comm&Mgmt            False                 1           51.922565   \n",
       "165   Comm&Mgmt            False                 0           52.444560   \n",
       "195   Comm&Mgmt            False                 0           53.419850   \n",
       "\n",
       "    mba_spec   mba_perc        salary  placed start_date   end_date duration  \n",
       "28   Mkt&Fin  61.462721  26486.979113    True 2020-06-12 2020-10-19      3.0  \n",
       "30    Mkt&HR  70.601591  22159.711671    True 2020-03-07 2020-07-10      NaN  \n",
       "64    Mkt&HR  73.669978  25527.944007   False 2020-10-31 2020-09-03      3.0  \n",
       "84    Mkt&HR  66.374565  27431.925978    True 2020-01-02 2020-07-22     12.0  \n",
       "129   Mkt&HR  53.224794  25519.079332   False        NaT        NaT      NaN  \n",
       "140  Mkt&Fin  69.902668  24658.678344   False 2020-03-16 2020-07-20      3.0  \n",
       "141   Mkt&HR  60.698310  28276.142463    True 2020-05-05 2020-08-27      NaN  \n",
       "146   Mkt&HR  54.458698  28921.364494   False 2020-01-12 2020-09-10      NaN  \n",
       "165  Mkt&Fin  55.919969           NaN    True 2020-11-03 2020-08-02      3.0  \n",
       "195   Mkt&HR  74.643493           NaN    True 2020-08-09        NaT      3.0  "
      ]
     },
     "execution_count": 9,
     "metadata": {},
     "output_type": "execute_result"
    }
   ],
   "source": [
    "new_data[new_data.student_id == new_data.student_id.value_counts().index[0]]"
   ]
  },
  {
   "cell_type": "markdown",
   "metadata": {},
   "source": [
    "This happens because the model was not notified at any point about the\n",
    "fact that the `student_id` had to be unique, so when it generates new\n",
    "data it will provoke collisions sooner or later. In order to solve this,\n",
    "we can pass the argument `primary_key` to our model when we create it,\n",
    "indicating the name of the column that is the index of the table."
   ]
  },
  {
   "cell_type": "code",
   "execution_count": 10,
   "metadata": {
    "attributes": {
     "classes": [
      ""
     ],
     "id": ""
    }
   },
   "outputs": [],
   "source": [
    "model = CopulaGAN(\n",
    "    primary_key='student_id'\n",
    ")\n",
    "model.fit(data)\n",
    "new_data = model.sample(200)"
   ]
  },
  {
   "cell_type": "markdown",
   "metadata": {},
   "source": [
    "As a result, the model will learn that this column must be unique and\n",
    "generate a unique sequence of values for the column:"
   ]
  },
  {
   "cell_type": "code",
   "execution_count": 11,
   "metadata": {
    "attributes": {
     "classes": [
      ""
     ],
     "id": ""
    }
   },
   "outputs": [
    {
     "data": {
      "text/html": [
       "<div>\n",
       "<style scoped>\n",
       "    .dataframe tbody tr th:only-of-type {\n",
       "        vertical-align: middle;\n",
       "    }\n",
       "\n",
       "    .dataframe tbody tr th {\n",
       "        vertical-align: top;\n",
       "    }\n",
       "\n",
       "    .dataframe thead th {\n",
       "        text-align: right;\n",
       "    }\n",
       "</style>\n",
       "<table border=\"1\" class=\"dataframe\">\n",
       "  <thead>\n",
       "    <tr style=\"text-align: right;\">\n",
       "      <th></th>\n",
       "      <th>student_id</th>\n",
       "      <th>gender</th>\n",
       "      <th>second_perc</th>\n",
       "      <th>high_perc</th>\n",
       "      <th>high_spec</th>\n",
       "      <th>degree_perc</th>\n",
       "      <th>degree_type</th>\n",
       "      <th>work_experience</th>\n",
       "      <th>experience_years</th>\n",
       "      <th>employability_perc</th>\n",
       "      <th>mba_spec</th>\n",
       "      <th>mba_perc</th>\n",
       "      <th>salary</th>\n",
       "      <th>placed</th>\n",
       "      <th>start_date</th>\n",
       "      <th>end_date</th>\n",
       "      <th>duration</th>\n",
       "    </tr>\n",
       "  </thead>\n",
       "  <tbody>\n",
       "    <tr>\n",
       "      <th>0</th>\n",
       "      <td>0</td>\n",
       "      <td>M</td>\n",
       "      <td>56.763027</td>\n",
       "      <td>73.663633</td>\n",
       "      <td>Science</td>\n",
       "      <td>51.238921</td>\n",
       "      <td>Comm&amp;Mgmt</td>\n",
       "      <td>False</td>\n",
       "      <td>1</td>\n",
       "      <td>97.301664</td>\n",
       "      <td>Mkt&amp;HR</td>\n",
       "      <td>59.751865</td>\n",
       "      <td>22474.207537</td>\n",
       "      <td>True</td>\n",
       "      <td>NaT</td>\n",
       "      <td>2020-09-10</td>\n",
       "      <td>6.0</td>\n",
       "    </tr>\n",
       "    <tr>\n",
       "      <th>1</th>\n",
       "      <td>1</td>\n",
       "      <td>M</td>\n",
       "      <td>76.175969</td>\n",
       "      <td>110.505488</td>\n",
       "      <td>Science</td>\n",
       "      <td>60.268632</td>\n",
       "      <td>Comm&amp;Mgmt</td>\n",
       "      <td>False</td>\n",
       "      <td>1</td>\n",
       "      <td>61.400012</td>\n",
       "      <td>Mkt&amp;Fin</td>\n",
       "      <td>58.662096</td>\n",
       "      <td>NaN</td>\n",
       "      <td>True</td>\n",
       "      <td>2020-03-11</td>\n",
       "      <td>NaT</td>\n",
       "      <td>6.0</td>\n",
       "    </tr>\n",
       "    <tr>\n",
       "      <th>2</th>\n",
       "      <td>2</td>\n",
       "      <td>F</td>\n",
       "      <td>57.607139</td>\n",
       "      <td>75.150064</td>\n",
       "      <td>Science</td>\n",
       "      <td>61.453033</td>\n",
       "      <td>Sci&amp;Tech</td>\n",
       "      <td>False</td>\n",
       "      <td>0</td>\n",
       "      <td>87.970010</td>\n",
       "      <td>Mkt&amp;HR</td>\n",
       "      <td>64.162018</td>\n",
       "      <td>29636.918959</td>\n",
       "      <td>True</td>\n",
       "      <td>2020-01-06</td>\n",
       "      <td>2020-09-30</td>\n",
       "      <td>3.0</td>\n",
       "    </tr>\n",
       "    <tr>\n",
       "      <th>3</th>\n",
       "      <td>3</td>\n",
       "      <td>F</td>\n",
       "      <td>66.303193</td>\n",
       "      <td>67.098088</td>\n",
       "      <td>Commerce</td>\n",
       "      <td>42.521574</td>\n",
       "      <td>Comm&amp;Mgmt</td>\n",
       "      <td>False</td>\n",
       "      <td>1</td>\n",
       "      <td>57.256106</td>\n",
       "      <td>Mkt&amp;HR</td>\n",
       "      <td>61.571356</td>\n",
       "      <td>28349.582132</td>\n",
       "      <td>False</td>\n",
       "      <td>2020-01-17</td>\n",
       "      <td>2020-08-13</td>\n",
       "      <td>3.0</td>\n",
       "    </tr>\n",
       "    <tr>\n",
       "      <th>4</th>\n",
       "      <td>4</td>\n",
       "      <td>M</td>\n",
       "      <td>56.615107</td>\n",
       "      <td>58.799649</td>\n",
       "      <td>Commerce</td>\n",
       "      <td>41.032304</td>\n",
       "      <td>Comm&amp;Mgmt</td>\n",
       "      <td>False</td>\n",
       "      <td>0</td>\n",
       "      <td>82.440093</td>\n",
       "      <td>Mkt&amp;Fin</td>\n",
       "      <td>70.140611</td>\n",
       "      <td>38512.883059</td>\n",
       "      <td>False</td>\n",
       "      <td>NaT</td>\n",
       "      <td>2020-12-08</td>\n",
       "      <td>NaN</td>\n",
       "    </tr>\n",
       "  </tbody>\n",
       "</table>\n",
       "</div>"
      ],
      "text/plain": [
       "   student_id gender  second_perc   high_perc high_spec  degree_perc  \\\n",
       "0           0      M    56.763027   73.663633   Science    51.238921   \n",
       "1           1      M    76.175969  110.505488   Science    60.268632   \n",
       "2           2      F    57.607139   75.150064   Science    61.453033   \n",
       "3           3      F    66.303193   67.098088  Commerce    42.521574   \n",
       "4           4      M    56.615107   58.799649  Commerce    41.032304   \n",
       "\n",
       "  degree_type  work_experience  experience_years  employability_perc mba_spec  \\\n",
       "0   Comm&Mgmt            False                 1           97.301664   Mkt&HR   \n",
       "1   Comm&Mgmt            False                 1           61.400012  Mkt&Fin   \n",
       "2    Sci&Tech            False                 0           87.970010   Mkt&HR   \n",
       "3   Comm&Mgmt            False                 1           57.256106   Mkt&HR   \n",
       "4   Comm&Mgmt            False                 0           82.440093  Mkt&Fin   \n",
       "\n",
       "    mba_perc        salary  placed start_date   end_date duration  \n",
       "0  59.751865  22474.207537    True        NaT 2020-09-10      6.0  \n",
       "1  58.662096           NaN    True 2020-03-11        NaT      6.0  \n",
       "2  64.162018  29636.918959    True 2020-01-06 2020-09-30      3.0  \n",
       "3  61.571356  28349.582132   False 2020-01-17 2020-08-13      3.0  \n",
       "4  70.140611  38512.883059   False        NaT 2020-12-08      NaN  "
      ]
     },
     "execution_count": 11,
     "metadata": {},
     "output_type": "execute_result"
    }
   ],
   "source": [
    "new_data.head()"
   ]
  },
  {
   "cell_type": "code",
   "execution_count": 12,
   "metadata": {
    "attributes": {
     "classes": [
      ""
     ],
     "id": ""
    }
   },
   "outputs": [
    {
     "data": {
      "text/plain": [
       "1"
      ]
     },
     "execution_count": 12,
     "metadata": {},
     "output_type": "execute_result"
    }
   ],
   "source": [
    "new_data.student_id.value_counts().max()"
   ]
  },
  {
   "cell_type": "markdown",
   "metadata": {},
   "source": [
    "### Anonymizing Personally Identifiable Information (PII)\n",
    "\n",
    "There will be many cases where the data will contain Personally\n",
    "Identifiable Information which we cannot disclose. In these cases, we\n",
    "will want our Tabular Models to replace the information within these\n",
    "fields with fake, simulated data that looks similar to the real one but\n",
    "does not contain any of the original values.\n",
    "\n",
    "Let\\'s load a new dataset that contains a PII field, the\n",
    "`student_placements_pii` demo, and try to generate synthetic versions of\n",
    "it that do not contain any of the PII fields.\n",
    "\n",
    "<div class=\"alert alert-info\">\n",
    "\n",
    "**Note**\n",
    "\n",
    "The `student_placements_pii` dataset is a modified version of the\n",
    "`student_placements` dataset with one new field, `address`, which\n",
    "contains PII information about the students. Notice that this additional\n",
    "`address` field has been simulated and does not correspond to data from\n",
    "the real users.\n",
    "\n",
    "</div>"
   ]
  },
  {
   "cell_type": "code",
   "execution_count": 13,
   "metadata": {
    "attributes": {
     "classes": [
      ""
     ],
     "id": ""
    }
   },
   "outputs": [
    {
     "data": {
      "text/html": [
       "<div>\n",
       "<style scoped>\n",
       "    .dataframe tbody tr th:only-of-type {\n",
       "        vertical-align: middle;\n",
       "    }\n",
       "\n",
       "    .dataframe tbody tr th {\n",
       "        vertical-align: top;\n",
       "    }\n",
       "\n",
       "    .dataframe thead th {\n",
       "        text-align: right;\n",
       "    }\n",
       "</style>\n",
       "<table border=\"1\" class=\"dataframe\">\n",
       "  <thead>\n",
       "    <tr style=\"text-align: right;\">\n",
       "      <th></th>\n",
       "      <th>0</th>\n",
       "      <th>1</th>\n",
       "      <th>2</th>\n",
       "      <th>3</th>\n",
       "      <th>4</th>\n",
       "    </tr>\n",
       "  </thead>\n",
       "  <tbody>\n",
       "    <tr>\n",
       "      <th>student_id</th>\n",
       "      <td>17264</td>\n",
       "      <td>17265</td>\n",
       "      <td>17266</td>\n",
       "      <td>17267</td>\n",
       "      <td>17268</td>\n",
       "    </tr>\n",
       "    <tr>\n",
       "      <th>address</th>\n",
       "      <td>70304 Baker Turnpike\\nEricborough, MS 15086</td>\n",
       "      <td>805 Herrera Avenue Apt. 134\\nMaryview, NJ 36510</td>\n",
       "      <td>3702 Bradley Island\\nNorth Victor, FL 12268</td>\n",
       "      <td>Unit 0879 Box 3878\\nDPO AP 42663</td>\n",
       "      <td>96493 Kelly Canyon Apt. 145\\nEast Steven, NC 3...</td>\n",
       "    </tr>\n",
       "    <tr>\n",
       "      <th>gender</th>\n",
       "      <td>M</td>\n",
       "      <td>M</td>\n",
       "      <td>M</td>\n",
       "      <td>M</td>\n",
       "      <td>M</td>\n",
       "    </tr>\n",
       "    <tr>\n",
       "      <th>second_perc</th>\n",
       "      <td>67</td>\n",
       "      <td>79.33</td>\n",
       "      <td>65</td>\n",
       "      <td>56</td>\n",
       "      <td>85.8</td>\n",
       "    </tr>\n",
       "    <tr>\n",
       "      <th>high_perc</th>\n",
       "      <td>91</td>\n",
       "      <td>78.33</td>\n",
       "      <td>68</td>\n",
       "      <td>52</td>\n",
       "      <td>73.6</td>\n",
       "    </tr>\n",
       "    <tr>\n",
       "      <th>high_spec</th>\n",
       "      <td>Commerce</td>\n",
       "      <td>Science</td>\n",
       "      <td>Arts</td>\n",
       "      <td>Science</td>\n",
       "      <td>Commerce</td>\n",
       "    </tr>\n",
       "    <tr>\n",
       "      <th>degree_perc</th>\n",
       "      <td>58</td>\n",
       "      <td>77.48</td>\n",
       "      <td>64</td>\n",
       "      <td>52</td>\n",
       "      <td>73.3</td>\n",
       "    </tr>\n",
       "    <tr>\n",
       "      <th>degree_type</th>\n",
       "      <td>Sci&amp;Tech</td>\n",
       "      <td>Sci&amp;Tech</td>\n",
       "      <td>Comm&amp;Mgmt</td>\n",
       "      <td>Sci&amp;Tech</td>\n",
       "      <td>Comm&amp;Mgmt</td>\n",
       "    </tr>\n",
       "    <tr>\n",
       "      <th>work_experience</th>\n",
       "      <td>False</td>\n",
       "      <td>True</td>\n",
       "      <td>False</td>\n",
       "      <td>False</td>\n",
       "      <td>False</td>\n",
       "    </tr>\n",
       "    <tr>\n",
       "      <th>experience_years</th>\n",
       "      <td>0</td>\n",
       "      <td>1</td>\n",
       "      <td>0</td>\n",
       "      <td>0</td>\n",
       "      <td>0</td>\n",
       "    </tr>\n",
       "    <tr>\n",
       "      <th>employability_perc</th>\n",
       "      <td>55</td>\n",
       "      <td>86.5</td>\n",
       "      <td>75</td>\n",
       "      <td>66</td>\n",
       "      <td>96.8</td>\n",
       "    </tr>\n",
       "    <tr>\n",
       "      <th>mba_spec</th>\n",
       "      <td>Mkt&amp;HR</td>\n",
       "      <td>Mkt&amp;Fin</td>\n",
       "      <td>Mkt&amp;Fin</td>\n",
       "      <td>Mkt&amp;HR</td>\n",
       "      <td>Mkt&amp;Fin</td>\n",
       "    </tr>\n",
       "    <tr>\n",
       "      <th>mba_perc</th>\n",
       "      <td>58.8</td>\n",
       "      <td>66.28</td>\n",
       "      <td>57.8</td>\n",
       "      <td>59.43</td>\n",
       "      <td>55.5</td>\n",
       "    </tr>\n",
       "    <tr>\n",
       "      <th>salary</th>\n",
       "      <td>27000</td>\n",
       "      <td>20000</td>\n",
       "      <td>25000</td>\n",
       "      <td>NaN</td>\n",
       "      <td>42500</td>\n",
       "    </tr>\n",
       "    <tr>\n",
       "      <th>placed</th>\n",
       "      <td>True</td>\n",
       "      <td>True</td>\n",
       "      <td>True</td>\n",
       "      <td>False</td>\n",
       "      <td>True</td>\n",
       "    </tr>\n",
       "    <tr>\n",
       "      <th>start_date</th>\n",
       "      <td>2020-07-23 00:00:00</td>\n",
       "      <td>2020-01-11 00:00:00</td>\n",
       "      <td>2020-01-26 00:00:00</td>\n",
       "      <td>NaT</td>\n",
       "      <td>2020-07-04 00:00:00</td>\n",
       "    </tr>\n",
       "    <tr>\n",
       "      <th>end_date</th>\n",
       "      <td>2020-10-12 00:00:00</td>\n",
       "      <td>2020-04-09 00:00:00</td>\n",
       "      <td>2020-07-13 00:00:00</td>\n",
       "      <td>NaT</td>\n",
       "      <td>2020-09-27 00:00:00</td>\n",
       "    </tr>\n",
       "    <tr>\n",
       "      <th>duration</th>\n",
       "      <td>3.0</td>\n",
       "      <td>3.0</td>\n",
       "      <td>6.0</td>\n",
       "      <td>NaN</td>\n",
       "      <td>3.0</td>\n",
       "    </tr>\n",
       "  </tbody>\n",
       "</table>\n",
       "</div>"
      ],
      "text/plain": [
       "                                                              0  \\\n",
       "student_id                                                17264   \n",
       "address             70304 Baker Turnpike\\nEricborough, MS 15086   \n",
       "gender                                                        M   \n",
       "second_perc                                                  67   \n",
       "high_perc                                                    91   \n",
       "high_spec                                              Commerce   \n",
       "degree_perc                                                  58   \n",
       "degree_type                                            Sci&Tech   \n",
       "work_experience                                           False   \n",
       "experience_years                                              0   \n",
       "employability_perc                                           55   \n",
       "mba_spec                                                 Mkt&HR   \n",
       "mba_perc                                                   58.8   \n",
       "salary                                                    27000   \n",
       "placed                                                     True   \n",
       "start_date                                  2020-07-23 00:00:00   \n",
       "end_date                                    2020-10-12 00:00:00   \n",
       "duration                                                    3.0   \n",
       "\n",
       "                                                                  1  \\\n",
       "student_id                                                    17265   \n",
       "address             805 Herrera Avenue Apt. 134\\nMaryview, NJ 36510   \n",
       "gender                                                            M   \n",
       "second_perc                                                   79.33   \n",
       "high_perc                                                     78.33   \n",
       "high_spec                                                   Science   \n",
       "degree_perc                                                   77.48   \n",
       "degree_type                                                Sci&Tech   \n",
       "work_experience                                                True   \n",
       "experience_years                                                  1   \n",
       "employability_perc                                             86.5   \n",
       "mba_spec                                                    Mkt&Fin   \n",
       "mba_perc                                                      66.28   \n",
       "salary                                                        20000   \n",
       "placed                                                         True   \n",
       "start_date                                      2020-01-11 00:00:00   \n",
       "end_date                                        2020-04-09 00:00:00   \n",
       "duration                                                        3.0   \n",
       "\n",
       "                                                              2  \\\n",
       "student_id                                                17266   \n",
       "address             3702 Bradley Island\\nNorth Victor, FL 12268   \n",
       "gender                                                        M   \n",
       "second_perc                                                  65   \n",
       "high_perc                                                    68   \n",
       "high_spec                                                  Arts   \n",
       "degree_perc                                                  64   \n",
       "degree_type                                           Comm&Mgmt   \n",
       "work_experience                                           False   \n",
       "experience_years                                              0   \n",
       "employability_perc                                           75   \n",
       "mba_spec                                                Mkt&Fin   \n",
       "mba_perc                                                   57.8   \n",
       "salary                                                    25000   \n",
       "placed                                                     True   \n",
       "start_date                                  2020-01-26 00:00:00   \n",
       "end_date                                    2020-07-13 00:00:00   \n",
       "duration                                                    6.0   \n",
       "\n",
       "                                                   3  \\\n",
       "student_id                                     17267   \n",
       "address             Unit 0879 Box 3878\\nDPO AP 42663   \n",
       "gender                                             M   \n",
       "second_perc                                       56   \n",
       "high_perc                                         52   \n",
       "high_spec                                    Science   \n",
       "degree_perc                                       52   \n",
       "degree_type                                 Sci&Tech   \n",
       "work_experience                                False   \n",
       "experience_years                                   0   \n",
       "employability_perc                                66   \n",
       "mba_spec                                      Mkt&HR   \n",
       "mba_perc                                       59.43   \n",
       "salary                                           NaN   \n",
       "placed                                         False   \n",
       "start_date                                       NaT   \n",
       "end_date                                         NaT   \n",
       "duration                                         NaN   \n",
       "\n",
       "                                                                    4  \n",
       "student_id                                                      17268  \n",
       "address             96493 Kelly Canyon Apt. 145\\nEast Steven, NC 3...  \n",
       "gender                                                              M  \n",
       "second_perc                                                      85.8  \n",
       "high_perc                                                        73.6  \n",
       "high_spec                                                    Commerce  \n",
       "degree_perc                                                      73.3  \n",
       "degree_type                                                 Comm&Mgmt  \n",
       "work_experience                                                 False  \n",
       "experience_years                                                    0  \n",
       "employability_perc                                               96.8  \n",
       "mba_spec                                                      Mkt&Fin  \n",
       "mba_perc                                                         55.5  \n",
       "salary                                                          42500  \n",
       "placed                                                           True  \n",
       "start_date                                        2020-07-04 00:00:00  \n",
       "end_date                                          2020-09-27 00:00:00  \n",
       "duration                                                          3.0  "
      ]
     },
     "execution_count": 13,
     "metadata": {},
     "output_type": "execute_result"
    }
   ],
   "source": [
    "data_pii = load_tabular_demo('student_placements_pii')\n",
    "data_pii.head().T"
   ]
  },
  {
   "cell_type": "markdown",
   "metadata": {},
   "source": [
    "If we use our tabular model on this new data we will see how the\n",
    "synthetic data that it generates discloses the addresses from the real\n",
    "students:"
   ]
  },
  {
   "cell_type": "code",
   "execution_count": 14,
   "metadata": {
    "attributes": {
     "classes": [
      ""
     ],
     "id": ""
    }
   },
   "outputs": [
    {
     "data": {
      "text/html": [
       "<div>\n",
       "<style scoped>\n",
       "    .dataframe tbody tr th:only-of-type {\n",
       "        vertical-align: middle;\n",
       "    }\n",
       "\n",
       "    .dataframe tbody tr th {\n",
       "        vertical-align: top;\n",
       "    }\n",
       "\n",
       "    .dataframe thead th {\n",
       "        text-align: right;\n",
       "    }\n",
       "</style>\n",
       "<table border=\"1\" class=\"dataframe\">\n",
       "  <thead>\n",
       "    <tr style=\"text-align: right;\">\n",
       "      <th></th>\n",
       "      <th>student_id</th>\n",
       "      <th>address</th>\n",
       "      <th>gender</th>\n",
       "      <th>second_perc</th>\n",
       "      <th>high_perc</th>\n",
       "      <th>high_spec</th>\n",
       "      <th>degree_perc</th>\n",
       "      <th>degree_type</th>\n",
       "      <th>work_experience</th>\n",
       "      <th>experience_years</th>\n",
       "      <th>employability_perc</th>\n",
       "      <th>mba_spec</th>\n",
       "      <th>mba_perc</th>\n",
       "      <th>salary</th>\n",
       "      <th>placed</th>\n",
       "      <th>start_date</th>\n",
       "      <th>end_date</th>\n",
       "      <th>duration</th>\n",
       "    </tr>\n",
       "  </thead>\n",
       "  <tbody>\n",
       "    <tr>\n",
       "      <th>0</th>\n",
       "      <td>0</td>\n",
       "      <td>29282 Kelley Orchard\\nMartinezview, CT 78137</td>\n",
       "      <td>F</td>\n",
       "      <td>77.924961</td>\n",
       "      <td>67.694180</td>\n",
       "      <td>Science</td>\n",
       "      <td>68.261123</td>\n",
       "      <td>Comm&amp;Mgmt</td>\n",
       "      <td>True</td>\n",
       "      <td>1</td>\n",
       "      <td>54.298645</td>\n",
       "      <td>Mkt&amp;Fin</td>\n",
       "      <td>52.745363</td>\n",
       "      <td>27399.549676</td>\n",
       "      <td>True</td>\n",
       "      <td>NaT</td>\n",
       "      <td>2020-03-28</td>\n",
       "      <td>NaN</td>\n",
       "    </tr>\n",
       "    <tr>\n",
       "      <th>1</th>\n",
       "      <td>1</td>\n",
       "      <td>01921 Jackson Gardens Apt. 637\\nDanielberg, OH...</td>\n",
       "      <td>M</td>\n",
       "      <td>67.956355</td>\n",
       "      <td>46.350692</td>\n",
       "      <td>Commerce</td>\n",
       "      <td>63.055549</td>\n",
       "      <td>Comm&amp;Mgmt</td>\n",
       "      <td>True</td>\n",
       "      <td>1</td>\n",
       "      <td>53.719100</td>\n",
       "      <td>Mkt&amp;Fin</td>\n",
       "      <td>55.283806</td>\n",
       "      <td>NaN</td>\n",
       "      <td>True</td>\n",
       "      <td>NaT</td>\n",
       "      <td>2020-07-12</td>\n",
       "      <td>NaN</td>\n",
       "    </tr>\n",
       "    <tr>\n",
       "      <th>2</th>\n",
       "      <td>2</td>\n",
       "      <td>21119 Bailey Mall Apt. 215\\nCameronbury, GA 31205</td>\n",
       "      <td>F</td>\n",
       "      <td>86.943728</td>\n",
       "      <td>52.939874</td>\n",
       "      <td>Commerce</td>\n",
       "      <td>85.227027</td>\n",
       "      <td>Sci&amp;Tech</td>\n",
       "      <td>False</td>\n",
       "      <td>1</td>\n",
       "      <td>67.240981</td>\n",
       "      <td>Mkt&amp;Fin</td>\n",
       "      <td>56.283521</td>\n",
       "      <td>29507.538591</td>\n",
       "      <td>True</td>\n",
       "      <td>2020-01-25</td>\n",
       "      <td>2020-08-01</td>\n",
       "      <td>3.0</td>\n",
       "    </tr>\n",
       "    <tr>\n",
       "      <th>3</th>\n",
       "      <td>3</td>\n",
       "      <td>49460 Jeremy Unions Suite 915\\nLake Coryboroug...</td>\n",
       "      <td>M</td>\n",
       "      <td>89.350808</td>\n",
       "      <td>53.769237</td>\n",
       "      <td>Commerce</td>\n",
       "      <td>77.156133</td>\n",
       "      <td>Comm&amp;Mgmt</td>\n",
       "      <td>True</td>\n",
       "      <td>1</td>\n",
       "      <td>78.438931</td>\n",
       "      <td>Mkt&amp;Fin</td>\n",
       "      <td>63.377985</td>\n",
       "      <td>28294.807861</td>\n",
       "      <td>False</td>\n",
       "      <td>2020-03-12</td>\n",
       "      <td>2020-07-09</td>\n",
       "      <td>NaN</td>\n",
       "    </tr>\n",
       "    <tr>\n",
       "      <th>4</th>\n",
       "      <td>4</td>\n",
       "      <td>805 Herrera Avenue Apt. 134\\nMaryview, NJ 36510</td>\n",
       "      <td>M</td>\n",
       "      <td>74.594440</td>\n",
       "      <td>53.586716</td>\n",
       "      <td>Science</td>\n",
       "      <td>66.875530</td>\n",
       "      <td>Sci&amp;Tech</td>\n",
       "      <td>True</td>\n",
       "      <td>1</td>\n",
       "      <td>50.000005</td>\n",
       "      <td>Mkt&amp;Fin</td>\n",
       "      <td>51.932452</td>\n",
       "      <td>NaN</td>\n",
       "      <td>True</td>\n",
       "      <td>NaT</td>\n",
       "      <td>2020-10-22</td>\n",
       "      <td>NaN</td>\n",
       "    </tr>\n",
       "  </tbody>\n",
       "</table>\n",
       "</div>"
      ],
      "text/plain": [
       "   student_id                                            address gender  \\\n",
       "0           0       29282 Kelley Orchard\\nMartinezview, CT 78137      F   \n",
       "1           1  01921 Jackson Gardens Apt. 637\\nDanielberg, OH...      M   \n",
       "2           2  21119 Bailey Mall Apt. 215\\nCameronbury, GA 31205      F   \n",
       "3           3  49460 Jeremy Unions Suite 915\\nLake Coryboroug...      M   \n",
       "4           4    805 Herrera Avenue Apt. 134\\nMaryview, NJ 36510      M   \n",
       "\n",
       "   second_perc  high_perc high_spec  degree_perc degree_type  work_experience  \\\n",
       "0    77.924961  67.694180   Science    68.261123   Comm&Mgmt             True   \n",
       "1    67.956355  46.350692  Commerce    63.055549   Comm&Mgmt             True   \n",
       "2    86.943728  52.939874  Commerce    85.227027    Sci&Tech            False   \n",
       "3    89.350808  53.769237  Commerce    77.156133   Comm&Mgmt             True   \n",
       "4    74.594440  53.586716   Science    66.875530    Sci&Tech             True   \n",
       "\n",
       "   experience_years  employability_perc mba_spec   mba_perc        salary  \\\n",
       "0                 1           54.298645  Mkt&Fin  52.745363  27399.549676   \n",
       "1                 1           53.719100  Mkt&Fin  55.283806           NaN   \n",
       "2                 1           67.240981  Mkt&Fin  56.283521  29507.538591   \n",
       "3                 1           78.438931  Mkt&Fin  63.377985  28294.807861   \n",
       "4                 1           50.000005  Mkt&Fin  51.932452           NaN   \n",
       "\n",
       "   placed start_date   end_date duration  \n",
       "0    True        NaT 2020-03-28      NaN  \n",
       "1    True        NaT 2020-07-12      NaN  \n",
       "2    True 2020-01-25 2020-08-01      3.0  \n",
       "3   False 2020-03-12 2020-07-09      NaN  \n",
       "4    True        NaT 2020-10-22      NaN  "
      ]
     },
     "execution_count": 14,
     "metadata": {},
     "output_type": "execute_result"
    }
   ],
   "source": [
    "model = CopulaGAN(\n",
    "    primary_key='student_id',\n",
    ")\n",
    "model.fit(data_pii)\n",
    "new_data_pii = model.sample(200)\n",
    "new_data_pii.head()"
   ]
  },
  {
   "cell_type": "code",
   "execution_count": 15,
   "metadata": {
    "attributes": {
     "classes": [
      ""
     ],
     "id": ""
    }
   },
   "outputs": [
    {
     "data": {
      "text/plain": [
       "200"
      ]
     },
     "execution_count": 15,
     "metadata": {},
     "output_type": "execute_result"
    }
   ],
   "source": [
    "new_data_pii.address.isin(data_pii.address).sum()"
   ]
  },
  {
   "cell_type": "markdown",
   "metadata": {},
   "source": [
    "In order to solve this, we can pass an additional argument\n",
    "`anonymize_fields` to our model when we create the instance. This\n",
    "`anonymize_fields` argument will need to be a dictionary that contains:\n",
    "\n",
    "-   The name of the field that we want to anonymize.\n",
    "-   The category of the field that we want to use when we generate fake\n",
    "    values for it.\n",
    "\n",
    "The list complete list of possible categories can be seen in the [Faker\n",
    "Providers](https://faker.readthedocs.io/en/master/providers.html) page,\n",
    "and it contains a huge list of concepts such as:\n",
    "\n",
    "-   name\n",
    "-   address\n",
    "-   country\n",
    "-   city\n",
    "-   ssn\n",
    "-   credit_card_number\n",
    "-   credit_card_expire\n",
    "-   credit_card_security_code\n",
    "-   email\n",
    "-   telephone\n",
    "-   \\...\n",
    "\n",
    "In this case, since the field is an e-mail address, we will pass a\n",
    "dictionary indicating the category `address`"
   ]
  },
  {
   "cell_type": "code",
   "execution_count": 16,
   "metadata": {
    "attributes": {
     "classes": [
      ""
     ],
     "id": ""
    }
   },
   "outputs": [],
   "source": [
    "model = CopulaGAN(\n",
    "    primary_key='student_id',\n",
    "    anonymize_fields={\n",
    "        'address': 'address'\n",
    "    }\n",
    ")\n",
    "model.fit(data_pii)"
   ]
  },
  {
   "cell_type": "markdown",
   "metadata": {},
   "source": [
    "As a result, we can see how the real `address` values have been replaced\n",
    "by other fake addresses that were not taken from the real data that we\n",
    "learned."
   ]
  },
  {
   "cell_type": "code",
   "execution_count": 17,
   "metadata": {
    "attributes": {
     "classes": [
      ""
     ],
     "id": ""
    }
   },
   "outputs": [
    {
     "data": {
      "text/html": [
       "<div>\n",
       "<style scoped>\n",
       "    .dataframe tbody tr th:only-of-type {\n",
       "        vertical-align: middle;\n",
       "    }\n",
       "\n",
       "    .dataframe tbody tr th {\n",
       "        vertical-align: top;\n",
       "    }\n",
       "\n",
       "    .dataframe thead th {\n",
       "        text-align: right;\n",
       "    }\n",
       "</style>\n",
       "<table border=\"1\" class=\"dataframe\">\n",
       "  <thead>\n",
       "    <tr style=\"text-align: right;\">\n",
       "      <th></th>\n",
       "      <th>student_id</th>\n",
       "      <th>address</th>\n",
       "      <th>gender</th>\n",
       "      <th>second_perc</th>\n",
       "      <th>high_perc</th>\n",
       "      <th>high_spec</th>\n",
       "      <th>degree_perc</th>\n",
       "      <th>degree_type</th>\n",
       "      <th>work_experience</th>\n",
       "      <th>experience_years</th>\n",
       "      <th>employability_perc</th>\n",
       "      <th>mba_spec</th>\n",
       "      <th>mba_perc</th>\n",
       "      <th>salary</th>\n",
       "      <th>placed</th>\n",
       "      <th>start_date</th>\n",
       "      <th>end_date</th>\n",
       "      <th>duration</th>\n",
       "    </tr>\n",
       "  </thead>\n",
       "  <tbody>\n",
       "    <tr>\n",
       "      <th>0</th>\n",
       "      <td>0</td>\n",
       "      <td>72420 Young Harbors\\nMindytown, AR 47864</td>\n",
       "      <td>F</td>\n",
       "      <td>82.760486</td>\n",
       "      <td>67.522540</td>\n",
       "      <td>Science</td>\n",
       "      <td>89.224137</td>\n",
       "      <td>Sci&amp;Tech</td>\n",
       "      <td>False</td>\n",
       "      <td>0</td>\n",
       "      <td>95.031579</td>\n",
       "      <td>Mkt&amp;Fin</td>\n",
       "      <td>57.404488</td>\n",
       "      <td>27149.891018</td>\n",
       "      <td>True</td>\n",
       "      <td>2020-01-06</td>\n",
       "      <td>2020-08-06</td>\n",
       "      <td>NaN</td>\n",
       "    </tr>\n",
       "    <tr>\n",
       "      <th>1</th>\n",
       "      <td>1</td>\n",
       "      <td>3960 Charles Mall\\nJakeberg, UT 38181</td>\n",
       "      <td>M</td>\n",
       "      <td>84.287892</td>\n",
       "      <td>108.770426</td>\n",
       "      <td>Science</td>\n",
       "      <td>81.130661</td>\n",
       "      <td>Comm&amp;Mgmt</td>\n",
       "      <td>False</td>\n",
       "      <td>0</td>\n",
       "      <td>85.890752</td>\n",
       "      <td>Mkt&amp;HR</td>\n",
       "      <td>65.781837</td>\n",
       "      <td>25263.183979</td>\n",
       "      <td>True</td>\n",
       "      <td>NaT</td>\n",
       "      <td>2020-05-29</td>\n",
       "      <td>12.0</td>\n",
       "    </tr>\n",
       "    <tr>\n",
       "      <th>2</th>\n",
       "      <td>2</td>\n",
       "      <td>80147 Swanson Gardens\\nSouth Amy, HI 20694</td>\n",
       "      <td>M</td>\n",
       "      <td>74.513392</td>\n",
       "      <td>54.657711</td>\n",
       "      <td>Commerce</td>\n",
       "      <td>68.336272</td>\n",
       "      <td>Comm&amp;Mgmt</td>\n",
       "      <td>False</td>\n",
       "      <td>1</td>\n",
       "      <td>95.773423</td>\n",
       "      <td>Mkt&amp;HR</td>\n",
       "      <td>65.938696</td>\n",
       "      <td>27842.865711</td>\n",
       "      <td>True</td>\n",
       "      <td>NaT</td>\n",
       "      <td>NaT</td>\n",
       "      <td>6.0</td>\n",
       "    </tr>\n",
       "    <tr>\n",
       "      <th>3</th>\n",
       "      <td>3</td>\n",
       "      <td>PSC 5534, Box 4875\\nAPO AP 89535</td>\n",
       "      <td>F</td>\n",
       "      <td>79.288119</td>\n",
       "      <td>84.967353</td>\n",
       "      <td>Commerce</td>\n",
       "      <td>80.278466</td>\n",
       "      <td>Sci&amp;Tech</td>\n",
       "      <td>True</td>\n",
       "      <td>0</td>\n",
       "      <td>68.618822</td>\n",
       "      <td>Mkt&amp;HR</td>\n",
       "      <td>68.618693</td>\n",
       "      <td>29168.131458</td>\n",
       "      <td>True</td>\n",
       "      <td>2020-01-07</td>\n",
       "      <td>2020-07-14</td>\n",
       "      <td>12.0</td>\n",
       "    </tr>\n",
       "    <tr>\n",
       "      <th>4</th>\n",
       "      <td>4</td>\n",
       "      <td>56173 Cain Route Suite 217\\nWest Jonathanville...</td>\n",
       "      <td>M</td>\n",
       "      <td>79.238836</td>\n",
       "      <td>50.911524</td>\n",
       "      <td>Commerce</td>\n",
       "      <td>78.521594</td>\n",
       "      <td>Sci&amp;Tech</td>\n",
       "      <td>False</td>\n",
       "      <td>0</td>\n",
       "      <td>71.915096</td>\n",
       "      <td>Mkt&amp;Fin</td>\n",
       "      <td>81.935551</td>\n",
       "      <td>22329.419505</td>\n",
       "      <td>True</td>\n",
       "      <td>NaT</td>\n",
       "      <td>2020-07-01</td>\n",
       "      <td>12.0</td>\n",
       "    </tr>\n",
       "  </tbody>\n",
       "</table>\n",
       "</div>"
      ],
      "text/plain": [
       "   student_id                                            address gender  \\\n",
       "0           0           72420 Young Harbors\\nMindytown, AR 47864      F   \n",
       "1           1              3960 Charles Mall\\nJakeberg, UT 38181      M   \n",
       "2           2         80147 Swanson Gardens\\nSouth Amy, HI 20694      M   \n",
       "3           3                   PSC 5534, Box 4875\\nAPO AP 89535      F   \n",
       "4           4  56173 Cain Route Suite 217\\nWest Jonathanville...      M   \n",
       "\n",
       "   second_perc   high_perc high_spec  degree_perc degree_type  \\\n",
       "0    82.760486   67.522540   Science    89.224137    Sci&Tech   \n",
       "1    84.287892  108.770426   Science    81.130661   Comm&Mgmt   \n",
       "2    74.513392   54.657711  Commerce    68.336272   Comm&Mgmt   \n",
       "3    79.288119   84.967353  Commerce    80.278466    Sci&Tech   \n",
       "4    79.238836   50.911524  Commerce    78.521594    Sci&Tech   \n",
       "\n",
       "   work_experience  experience_years  employability_perc mba_spec   mba_perc  \\\n",
       "0            False                 0           95.031579  Mkt&Fin  57.404488   \n",
       "1            False                 0           85.890752   Mkt&HR  65.781837   \n",
       "2            False                 1           95.773423   Mkt&HR  65.938696   \n",
       "3             True                 0           68.618822   Mkt&HR  68.618693   \n",
       "4            False                 0           71.915096  Mkt&Fin  81.935551   \n",
       "\n",
       "         salary  placed start_date   end_date duration  \n",
       "0  27149.891018    True 2020-01-06 2020-08-06      NaN  \n",
       "1  25263.183979    True        NaT 2020-05-29     12.0  \n",
       "2  27842.865711    True        NaT        NaT      6.0  \n",
       "3  29168.131458    True 2020-01-07 2020-07-14     12.0  \n",
       "4  22329.419505    True        NaT 2020-07-01     12.0  "
      ]
     },
     "execution_count": 17,
     "metadata": {},
     "output_type": "execute_result"
    }
   ],
   "source": [
    "new_data_pii = model.sample(200)\n",
    "new_data_pii.head()"
   ]
  },
  {
   "cell_type": "code",
   "execution_count": 18,
   "metadata": {
    "attributes": {
     "classes": [
      ""
     ],
     "id": ""
    }
   },
   "outputs": [
    {
     "data": {
      "text/plain": [
       "0"
      ]
     },
     "execution_count": 18,
     "metadata": {},
     "output_type": "execute_result"
    }
   ],
   "source": [
    "new_data_pii.address.isin(data_pii.address).sum()"
   ]
  },
  {
   "cell_type": "markdown",
   "metadata": {},
   "source": [
    "Advanced Usage\n",
    "--------------\n",
    "\n",
    "Now that we have discovered the basics, let\\'s go over a few more\n",
    "advanced usage examples and see the different arguments that we can pass\n",
    "to our `CopulaGAN` Model in order to customize it to our needs.\n",
    "\n",
    "### Exploring the Probability Distributions\n",
    "\n",
    "During the previous steps, every time we fitted the `CopulaGAN` it\n",
    "performed the following operations:\n",
    "\n",
    "1.  Learn the format and data types of the passed data\n",
    "2.  Transform the non-numerical and null data using [Reversible Data\n",
    "    Transforms](https://github.com/sdv-dev/RDT) to obtain a fully\n",
    "    numerical representation of the data from which we can learn the\n",
    "    probability distributions.\n",
    "3.  Learn the probability distribution of each column from the table\n",
    "4.  Learn the correlation between the marginal probabilities using a\n",
    "    Gaussian Copula.\n",
    "\n",
    "After this, when we used the model to generate new data for our table\n",
    "using the `sample` method, it did:\n",
    "\n",
    "5.  Sample from a Multivariate Standard Normal distribution with the\n",
    "    learned correlations.\n",
    "6.  Reverse the sampled probabilities using the marginal distributions.\n",
    "7.  Reverse the RDT transformations to go back to the original data\n",
    "    format.\n",
    "\n",
    "As you can see, during these steps the *Marginal Probability\n",
    "Distributions* have a very important role, since the `CopulaGAN` had to\n",
    "learn and reproduce the individual distributions of each column in our\n",
    "table. We can explore the distributions which the `CopulaGAN` used to\n",
    "model each column using its `get_distributions` method:"
   ]
  },
  {
   "cell_type": "code",
   "execution_count": 19,
   "metadata": {
    "attributes": {
     "classes": [
      ""
     ],
     "id": ""
    }
   },
   "outputs": [],
   "source": [
    "model = CopulaGAN(\n",
    "    primary_key='student_id'\n",
    ")\n",
    "model.fit(data)\n",
    "distributions = model.get_distributions()"
   ]
  },
  {
   "cell_type": "markdown",
   "metadata": {},
   "source": [
    "This will return us a `dict` which contains the name of the distribution\n",
    "class used for each column:"
   ]
  },
  {
   "cell_type": "code",
   "execution_count": 20,
   "metadata": {
    "attributes": {
     "classes": [
      ""
     ],
     "id": ""
    }
   },
   "outputs": [
    {
     "data": {
      "text/plain": [
       "{'second_perc': 'copulas.univariate.truncated_gaussian.TruncatedGaussian',\n",
       " 'high_perc': 'copulas.univariate.log_laplace.LogLaplace',\n",
       " 'degree_perc': 'copulas.univariate.student_t.StudentTUnivariate',\n",
       " 'work_experience': 'copulas.univariate.student_t.StudentTUnivariate',\n",
       " 'experience_years': 'copulas.univariate.gaussian.GaussianUnivariate',\n",
       " 'employability_perc': 'copulas.univariate.truncated_gaussian.TruncatedGaussian',\n",
       " 'mba_perc': 'copulas.univariate.gamma.GammaUnivariate',\n",
       " 'salary#0': 'copulas.univariate.gamma.GammaUnivariate',\n",
       " 'salary#1': 'copulas.univariate.gaussian.GaussianUnivariate',\n",
       " 'placed': 'copulas.univariate.gamma.GammaUnivariate',\n",
       " 'start_date#0': 'copulas.univariate.gamma.GammaUnivariate',\n",
       " 'start_date#1': 'copulas.univariate.gaussian.GaussianUnivariate',\n",
       " 'end_date#0': 'copulas.univariate.gamma.GammaUnivariate',\n",
       " 'end_date#1': 'copulas.univariate.gaussian.GaussianUnivariate'}"
      ]
     },
     "execution_count": 20,
     "metadata": {},
     "output_type": "execute_result"
    }
   ],
   "source": [
    "distributions"
   ]
  },
  {
   "cell_type": "markdown",
   "metadata": {},
   "source": [
    "<div class=\"alert alert-info\">\n",
    "\n",
    "**Note**\n",
    "\n",
    "In this list we will see multiple distributions for each one of the\n",
    "columns that we have in our data. This is because the RDT\n",
    "transformations used to encode the data numerically often use more than\n",
    "one column to represent each one of the input variables.\n",
    "\n",
    "</div>\n",
    "\n",
    "Let\\'s explore the individual distribution of one of the columns in our\n",
    "data to better understand how the `CopulaGAN` processed them and see if\n",
    "we can improve the results by manually specifying a different\n",
    "distribution. For example, let\\'s explore the `experience_years` column\n",
    "by looking at the frequency of its values within the original data:"
   ]
  },
  {
   "cell_type": "code",
   "execution_count": 21,
   "metadata": {
    "attributes": {
     "classes": [
      ""
     ],
     "id": ""
    }
   },
   "outputs": [
    {
     "data": {
      "text/plain": [
       "0    141\n",
       "1     65\n",
       "2      8\n",
       "3      1\n",
       "Name: experience_years, dtype: int64"
      ]
     },
     "execution_count": 21,
     "metadata": {},
     "output_type": "execute_result"
    }
   ],
   "source": [
    "data.experience_years.value_counts()"
   ]
  },
  {
   "cell_type": "code",
   "execution_count": 22,
   "metadata": {
    "attributes": {
     "classes": [
      ""
     ],
     "id": ""
    }
   },
   "outputs": [
    {
     "data": {
      "image/png": "[encoded data removed]",
      "text/plain": [
       "<Figure size 432x288 with 1 Axes>"
      ]
     },
     "metadata": {
      "needs_background": "light"
     },
     "output_type": "display_data"
    }
   ],
   "source": [
    "data.experience_years.hist();"
   ]
  },
  {
   "cell_type": "markdown",
   "metadata": {},
   "source": [
    "By observing the data we can see that the behavior of the values in this\n",
    "column is very similar to a Gamma or even some types of Beta\n",
    "distribution, where the majority of the values are 0 and the frequency\n",
    "decreases as the values increase.\n",
    "\n",
    "Was the `CopulaGAN` able to capture this distribution on its own?"
   ]
  },
  {
   "cell_type": "code",
   "execution_count": 23,
   "metadata": {
    "attributes": {
     "classes": [
      ""
     ],
     "id": ""
    }
   },
   "outputs": [
    {
     "data": {
      "text/plain": [
       "'copulas.univariate.gaussian.GaussianUnivariate'"
      ]
     },
     "execution_count": 23,
     "metadata": {},
     "output_type": "execute_result"
    }
   ],
   "source": [
    "distributions['experience_years']"
   ]
  },
  {
   "cell_type": "markdown",
   "metadata": {},
   "source": [
    "It seems that the it was not, as it rather thought that the behavior was\n",
    "closer to a Gaussian distribution. And, as a result, we can see how the\n",
    "generated values now may contain negative values which are invalid for this\n",
    "column:"
   ]
  },
  {
   "cell_type": "code",
   "execution_count": 24,
   "metadata": {
    "attributes": {
     "classes": [
      ""
     ],
     "id": ""
    }
   },
   "outputs": [
    {
     "data": {
      "text/plain": [
       "0    138\n",
       "1     61\n",
       "3      1\n",
       "Name: experience_years, dtype: int64"
      ]
     },
     "execution_count": 24,
     "metadata": {},
     "output_type": "execute_result"
    }
   ],
   "source": [
    "new_data.experience_years.value_counts()"
   ]
  },
  {
   "cell_type": "code",
   "execution_count": 25,
   "metadata": {
    "attributes": {
     "classes": [
      ""
     ],
     "id": ""
    }
   },
   "outputs": [
    {
     "data": {
      "image/png": "[encoded data removed]",
      "text/plain": [
       "<Figure size 432x288 with 1 Axes>"
      ]
     },
     "metadata": {
      "needs_background": "light"
     },
     "output_type": "display_data"
    }
   ],
   "source": [
    "new_data.experience_years.hist();"
   ]
  },
  {
   "cell_type": "markdown",
   "metadata": {},
   "source": [
    "Let\\'s see how we can improve this situation by passing the `CopulaGAN`\n",
    "the exact distribution that we want it to use for this column.\n",
    "\n",
    "### Setting distributions for indvidual variables\n",
    "\n",
    "The `CopulaGAN` class offers the possibility to indicate which\n",
    "distribution to use for each one of the columns in the table, in order\n",
    "to solve situations like the one that we just described. In order to do\n",
    "this, we need to pass a `distributions` argument with `dict` that\n",
    "indicates, the distribution that we want to use for each column.\n",
    "\n",
    "Possible values for the distribution argument are:\n",
    "\n",
    "-   `univariate`: Let `copulas` select the optimal univariate\n",
    "    distribution. This may result in non-parametric models being used.\n",
    "-   `parametric`: Let `copulas` select the optimal univariate\n",
    "    distribution, but restrict the selection to parametric distributions\n",
    "    only.\n",
    "-   `bounded`: Let `copulas` select the optimal univariate distribution,\n",
    "    but restrict the selection to bounded distributions only. This may\n",
    "    result in non-parametric models being used.\n",
    "-   `semi_bounded`: Let `copulas` select the optimal univariate\n",
    "    distribution, but restrict the selection to semi-bounded\n",
    "    distributions only. This may result in non-parametric models being\n",
    "    used.\n",
    "-   `parametric_bounded`: Let `copulas` select the optimal univariate\n",
    "    distribution, but restrict the selection to parametric and bounded\n",
    "    distributions only.\n",
    "-   `parametric_semi_bounded`: Let `copulas` select the optimal\n",
    "    univariate distribution, but restrict the selection to parametric\n",
    "    and semi-bounded distributions only.\n",
    "-   `gaussian`: Use a Gaussian distribution.\n",
    "-   `gamma`: Use a Gamma distribution.\n",
    "-   `beta`: Use a Beta distribution.\n",
    "-   `student_t`: Use a Student T distribution.\n",
    "-   `gussian_kde`: Use a GaussianKDE distribution. This model is\n",
    "    non-parametric, so using this will make `get_parameters` unusable.\n",
    "-   `truncated_gaussian`: Use a Truncated Gaussian distribution.\n",
    "\n",
    "Let\\'s see what happens if we make the `CopulaGAN` use the `beta`\n",
    "distribution for our column."
   ]
  },
  {
   "cell_type": "code",
   "execution_count": 26,
   "metadata": {
    "attributes": {
     "classes": [
      ""
     ],
     "id": ""
    }
   },
   "outputs": [],
   "source": [
    "model = CopulaGAN(\n",
    "    primary_key='student_id',\n",
    "    field_distributions={\n",
    "        'experience_years': 'gamma'\n",
    "    }\n",
    ")\n",
    "model.fit(data)"
   ]
  },
  {
   "cell_type": "markdown",
   "metadata": {},
   "source": [
    "After this, we can see how the `CopulaGAN` used the indicated\n",
    "distribution for the `experience_years` column"
   ]
  },
  {
   "cell_type": "code",
   "execution_count": 27,
   "metadata": {
    "attributes": {
     "classes": [
      ""
     ],
     "id": ""
    }
   },
   "outputs": [
    {
     "data": {
      "text/plain": [
       "'copulas.univariate.gamma.GammaUnivariate'"
      ]
     },
     "execution_count": 27,
     "metadata": {},
     "output_type": "execute_result"
    }
   ],
   "source": [
    "model.get_distributions()['experience_years']"
   ]
  },
  {
   "cell_type": "markdown",
   "metadata": {},
   "source": [
    "And, as a result, now we can see how the generated data now have a\n",
    "behavior which is closer to the original data and always stays within\n",
    "the valid values range."
   ]
  },
  {
   "cell_type": "code",
   "execution_count": 28,
   "metadata": {
    "attributes": {
     "classes": [
      ""
     ],
     "id": ""
    }
   },
   "outputs": [
    {
     "data": {
      "text/plain": [
       "0    177\n",
       "1     26\n",
       "2      9\n",
       "3      3\n",
       "Name: experience_years, dtype: int64"
      ]
     },
     "execution_count": 28,
     "metadata": {},
     "output_type": "execute_result"
    }
   ],
   "source": [
    "new_data = model.sample(len(data))\n",
    "new_data.experience_years.value_counts()"
   ]
  },
  {
   "cell_type": "code",
   "execution_count": 29,
   "metadata": {
    "attributes": {
     "classes": [
      ""
     ],
     "id": ""
    }
   },
   "outputs": [
    {
     "data": {
      "image/png": "[encoded data removed]",
      "text/plain": [
       "<Figure size 432x288 with 1 Axes>"
      ]
     },
     "metadata": {
      "needs_background": "light"
     },
     "output_type": "display_data"
    }
   ],
   "source": [
    "new_data.experience_years.hist();"
   ]
  },
  {
   "cell_type": "markdown",
   "metadata": {},
   "source": [
    "<div class=\"alert alert-info\">\n",
    "\n",
    "**Note**\n",
    "\n",
    "Even though there are situations like the one show above where manually\n",
    "choosing a distribution seems to give better results, in most cases the\n",
    "`CopulaGAN` will be able to find the optimal distribution on its own,\n",
    "making this manual search of the marginal distributions necessary on\n",
    "very little occasions.\n",
    "\n",
    "</div>\n",
    "\n",
    "### How to modify the CopulaGAN Hyperparameters?\n",
    "\n",
    "A part from the common Tabular Model arguments, `CopulaGAN` has a number\n",
    "of additional hyperparameters that control its learning behavior and can\n",
    "impact on the performance of the model, both in terms of quality of the\n",
    "generated data and computational time.\n",
    "\n",
    "-   `epochs` and `batch_size`: these arguments control the number of\n",
    "    iterations that the model will perform to optimize its parameters,\n",
    "    as well as the number of samples used in each step. Its default\n",
    "    values are `300` and `500` respectively, and `batch_size` needs to\n",
    "    always be a value which is multiple of `10`."
   ]
  },
  {
   "cell_type": "markdown",
   "metadata": {},
   "source": [
    "These hyperparameters have a very direct effect in time the training\n",
    "process lasts but also on the performance of the data, so for new\n",
    "datasets, you might want to start by setting a low value on both of\n",
    "them to see how long the training process takes on your data and\n",
    "later on increase the number to acceptable values in order to\n",
    "improve the performance."
   ]
  },
  {
   "cell_type": "markdown",
   "metadata": {},
   "source": [
    "-   `log_frequency`: Whether to use log frequency of categorical levels\n",
    "    in conditional sampling. It defaults to `True`."
   ]
  },
  {
   "cell_type": "markdown",
   "metadata": {},
   "source": [
    "This argument affects how the model processes the frequencies of the\n",
    "categorical values that are used to condition the rest of the\n",
    "values. In some cases, changing it to `False` could lead to better\n",
    "performance."
   ]
  },
  {
   "cell_type": "markdown",
   "metadata": {},
   "source": [
    "-   `embedding_dim` (int): Size of the random sample passed to the\n",
    "    Generator. Defaults to 128.\n",
    "\n",
    "-   `gen_dim` (tuple or list of ints): Size of the output samples for\n",
    "    each one of the Residuals. A Resiudal Layer will be created for each\n",
    "    one of the values provided. Defaults to (256, 256).\n",
    "\n",
    "-   `dis_dim` (tuple or list of ints): Size of the output samples for\n",
    "    each one of the Discriminator Layers. A Linear Layer will be created\n",
    "    for each one of the values provided. Defaults to (256, 256).\n",
    "\n",
    "-   `l2scale`: Weight Decay of the Adam Optimizer used to optimize the\n",
    "    Neural Networks. Defaults to `1e-6`.\n",
    "\n",
    "-   `verbose`: Whether to print fit progress on stdout. Defaults to\n",
    "    `False`.\n",
    "\n",
    "<div class=\"alert alert-warning\">\n",
    "\n",
    "**Warning**\n",
    "\n",
    "Notice that the value that you set on the `batch_size` argument must\n",
    "always be a multiple of `10`!\n",
    "\n",
    "</div>\n",
    "\n",
    "As an example, we will try to fit the `CopulaGAN` model slightly\n",
    "increasing the number of epochs, reducing the `batch_size`, adding one\n",
    "additional layer to the models involved and using a smaller wright\n",
    "decay.\n",
    "\n",
    "Before we start, we will evaluate the quality of the previously\n",
    "generated data using the `sdv.evaluation.evaluate` function"
   ]
  },
  {
   "cell_type": "code",
   "execution_count": 30,
   "metadata": {
    "attributes": {
     "classes": [
      ""
     ],
     "id": ""
    }
   },
   "outputs": [
    {
     "data": {
      "text/plain": [
       "0.7190309587817438"
      ]
     },
     "execution_count": 30,
     "metadata": {},
     "output_type": "execute_result"
    }
   ],
   "source": [
    "from sdv.evaluation import evaluate\n",
    "\n",
    "evaluate(new_data, data)"
   ]
  },
  {
   "cell_type": "markdown",
   "metadata": {},
   "source": [
    "Afterwards, we create a new instance of the `CopulaGAN` model with the\n",
    "hyperparameter values that we want to use"
   ]
  },
  {
   "cell_type": "code",
   "execution_count": 31,
   "metadata": {
    "attributes": {
     "classes": [
      ""
     ],
     "id": ""
    }
   },
   "outputs": [],
   "source": [
    "model = CopulaGAN(\n",
    "    primary_key='student_id',\n",
    "    epochs=500,\n",
    "    batch_size=100,\n",
    "    gen_dim=(256, 256, 256),\n",
    "    dis_dim=(256, 256, 256),\n",
    "    l2scale=1e-07\n",
    ")"
   ]
  },
  {
   "cell_type": "markdown",
   "metadata": {},
   "source": [
    "And fit to our data."
   ]
  },
  {
   "cell_type": "code",
   "execution_count": 32,
   "metadata": {
    "attributes": {
     "classes": [
      ""
     ],
     "id": ""
    }
   },
   "outputs": [],
   "source": [
    "model.fit(data)"
   ]
  },
  {
   "cell_type": "markdown",
   "metadata": {},
   "source": [
    "Finally, we are ready to generate new data and evaluate the results."
   ]
  },
  {
   "cell_type": "code",
   "execution_count": 33,
   "metadata": {
    "attributes": {
     "classes": [
      ""
     ],
     "id": ""
    }
   },
   "outputs": [
    {
     "data": {
      "text/plain": [
       "0.742124332735246"
      ]
     },
     "execution_count": 33,
     "metadata": {},
     "output_type": "execute_result"
    }
   ],
   "source": [
    "new_data = model.sample(len(data))\n",
    "new_data.head().T\n",
    "evaluate(new_data, data)"
   ]
  },
  {
   "cell_type": "markdown",
   "metadata": {},
   "source": [
    "As we can see, in this case these modifications changed the obtained\n",
    "results slightly, but they did neither introduce dramatic changes in the\n",
    "performance.\n",
    "\n",
    "### How do I specify constraints?\n",
    "\n",
    "If you look closely at the data you may notice that some properties were\n",
    "not completely captured by the model. For example, you may have seen\n",
    "that sometimes the model produces an `experience_years` number greater\n",
    "than `0` while also indicating that `work_experience` is `False`. These\n",
    "type of properties are what we call `Constraints` and can also be\n",
    "handled using `SDV`. For further details about them please visit the\n",
    "[Handling Constraints](04_Handling_Constraints.ipynb) tutorial.\n",
    "\n",
    "### Can I evaluate the Synthetic Data?\n",
    "\n",
    "A very common question when someone starts using **SDV** to generate\n",
    "synthetic data is: *\\\"How good is the data that I just generated?\\\"*\n",
    "\n",
    "In order to answer this question, **SDV** has a collection of metrics\n",
    "and tools that allow you to compare the *real* that you provided and the\n",
    "*synthetic* data that you generated using **SDV** or any other tool.\n",
    "\n",
    "You can read more about this in the [Evaluating Synthetic Data Generators](05_Evaluating_Synthetic_Data_Generators.ipynb) tutorial."
   ]
  }
 ],
 "metadata": {
  "kernelspec": {
   "display_name": "Python 3",
   "language": "python",
   "name": "python3"
  },
  "language_info": {
   "codemirror_mode": {
    "name": "ipython",
    "version": 3
   },
   "file_extension": ".py",
   "mimetype": "text/x-python",
   "name": "python",
   "nbconvert_exporter": "python",
   "pygments_lexer": "ipython3",
   "version": "3.6.9"
  }
 },
 "nbformat": 4,
 "nbformat_minor": 4
}
