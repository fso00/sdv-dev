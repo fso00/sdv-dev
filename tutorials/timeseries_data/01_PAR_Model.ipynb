{
 "cells": [
  {
   "cell_type": "code",
   "execution_count": 23,
   "metadata": {},
   "outputs": [],
   "source": [
    "from sdv.timeseries import PAR\n",
    "from sdv.demo import load_timeseries_demo\n",
    "\n",
    "data = load_timeseries_demo()\n",
    "entity_columns = ['Symbol']\n",
    "context_columns = ['MarketCap', 'Sector', 'Industry']\n",
    "sequence_index = 'Date'\n",
    "field_types = {\n",
    "    'Symbol': {\n",
    "        'type': 'id',\n",
    "        'subtype': 'string',\n",
    "        'regex': '[A-Z]{2,4}'\n",
    "    }\n",
    "}\n",
    "model = PAR(\n",
    "    entity_columns=entity_columns,\n",
    "    context_columns=context_columns,\n",
    "    sequence_index=sequence_index,\n",
    "    field_types=field_types\n",
    ")\n",
    "model.fit(data)"
   ]
  },
  {
   "cell_type": "code",
   "execution_count": null,
   "metadata": {},
   "outputs": [],
   "source": []
  }
 ],
 "metadata": {
  "kernelspec": {
   "display_name": "Python 3",
   "language": "python",
   "name": "python3"
  },
  "language_info": {
   "codemirror_mode": {
    "name": "ipython",
    "version": 3
   },
   "file_extension": ".py",
   "mimetype": "text/x-python",
   "name": "python",
   "nbconvert_exporter": "python",
   "pygments_lexer": "ipython3",
   "version": "3.6.13"
  }
 },
 "nbformat": 4,
 "nbformat_minor": 4
}
