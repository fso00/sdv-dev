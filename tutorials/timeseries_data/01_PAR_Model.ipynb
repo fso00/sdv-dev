{
 "cells": [
  {
   "cell_type": "markdown",
   "metadata": {},
   "source": [
    "PAR Model\n",
    "=========\n",
    "\n",
    "In this guide we will go through a series of steps that will let you\n",
    "discover functionalities of the `PAR` model for timeseries data.\n",
    "\n",
    "What is PAR?\n",
    "------------\n",
    "\n",
    "The `PAR` class is an implementation of a Probabilistic AutoRegressive\n",
    "model that allows learning **multi-type, multivariate timeseries data**\n",
    "and later on generate new synthetic data that has the same format and\n",
    "properties as the learned one.\n",
    "\n",
    "Additionally, the `PAR` model has the ability to generate new synthetic\n",
    "timeseries conditioned on the properties of the entity to which this\n",
    "timeseries data would be associated.\n",
    "\n",
    "<div class=\"alert alert-info\">\n",
    "\n",
    "**Note**\n",
    "\n",
    "The PAR model is under active development. Please use it, try it on your\n",
    "data and give us feedback on a [github\n",
    "issue](https://github.com/sdv-dev/SDV/issues) or our [Slack\n",
    "workspace](https://join.slack.com/t/sdv-space/shared_invite/zt-gdsfcb5w-0QQpFMVoyB2Yd6SRiMplcw)\n",
    "\n",
    "</div>\n",
    "\n",
    "Quick Usage\n",
    "-----------\n",
    "\n",
    "We will start by loading one of our demo datasets, the `nasdaq100_2019`,\n",
    "which contains daily stock marked data from the NASDAQ 100 companies\n",
    "during the year 2019."
   ]
  },
  {
   "cell_type": "code",
   "execution_count": 1,
   "metadata": {
    "attributes": {
     "classes": [
      ""
     ],
     "id": ""
    }
   },
   "outputs": [
    {
     "data": {
      "text/html": [
       "<div>\n",
       "<style scoped>\n",
       "    .dataframe tbody tr th:only-of-type {\n",
       "        vertical-align: middle;\n",
       "    }\n",
       "\n",
       "    .dataframe tbody tr th {\n",
       "        vertical-align: top;\n",
       "    }\n",
       "\n",
       "    .dataframe thead th {\n",
       "        text-align: right;\n",
       "    }\n",
       "</style>\n",
       "<table border=\"1\" class=\"dataframe\">\n",
       "  <thead>\n",
       "    <tr style=\"text-align: right;\">\n",
       "      <th></th>\n",
       "      <th>Symbol</th>\n",
       "      <th>Date</th>\n",
       "      <th>Open</th>\n",
       "      <th>Close</th>\n",
       "      <th>Volume</th>\n",
       "      <th>MarketCap</th>\n",
       "      <th>Sector</th>\n",
       "      <th>Industry</th>\n",
       "    </tr>\n",
       "  </thead>\n",
       "  <tbody>\n",
       "    <tr>\n",
       "      <th>0</th>\n",
       "      <td>AAPL</td>\n",
       "      <td>2018-12-31</td>\n",
       "      <td>39.632500</td>\n",
       "      <td>39.435001</td>\n",
       "      <td>140014000</td>\n",
       "      <td>7.378734e+11</td>\n",
       "      <td>Technology</td>\n",
       "      <td>Computer Manufacturing</td>\n",
       "    </tr>\n",
       "    <tr>\n",
       "      <th>1</th>\n",
       "      <td>AAPL</td>\n",
       "      <td>2019-01-02</td>\n",
       "      <td>38.722500</td>\n",
       "      <td>39.480000</td>\n",
       "      <td>148158800</td>\n",
       "      <td>7.378734e+11</td>\n",
       "      <td>Technology</td>\n",
       "      <td>Computer Manufacturing</td>\n",
       "    </tr>\n",
       "    <tr>\n",
       "      <th>2</th>\n",
       "      <td>AAPL</td>\n",
       "      <td>2019-01-03</td>\n",
       "      <td>35.994999</td>\n",
       "      <td>35.547501</td>\n",
       "      <td>365248800</td>\n",
       "      <td>7.378734e+11</td>\n",
       "      <td>Technology</td>\n",
       "      <td>Computer Manufacturing</td>\n",
       "    </tr>\n",
       "    <tr>\n",
       "      <th>3</th>\n",
       "      <td>AAPL</td>\n",
       "      <td>2019-01-04</td>\n",
       "      <td>36.132500</td>\n",
       "      <td>37.064999</td>\n",
       "      <td>234428400</td>\n",
       "      <td>7.378734e+11</td>\n",
       "      <td>Technology</td>\n",
       "      <td>Computer Manufacturing</td>\n",
       "    </tr>\n",
       "    <tr>\n",
       "      <th>4</th>\n",
       "      <td>AAPL</td>\n",
       "      <td>2019-01-07</td>\n",
       "      <td>37.174999</td>\n",
       "      <td>36.982498</td>\n",
       "      <td>219111200</td>\n",
       "      <td>7.378734e+11</td>\n",
       "      <td>Technology</td>\n",
       "      <td>Computer Manufacturing</td>\n",
       "    </tr>\n",
       "  </tbody>\n",
       "</table>\n",
       "</div>"
      ],
      "text/plain": [
       "  Symbol       Date       Open      Close     Volume     MarketCap  \\\n",
       "0   AAPL 2018-12-31  39.632500  39.435001  140014000  7.378734e+11   \n",
       "1   AAPL 2019-01-02  38.722500  39.480000  148158800  7.378734e+11   \n",
       "2   AAPL 2019-01-03  35.994999  35.547501  365248800  7.378734e+11   \n",
       "3   AAPL 2019-01-04  36.132500  37.064999  234428400  7.378734e+11   \n",
       "4   AAPL 2019-01-07  37.174999  36.982498  219111200  7.378734e+11   \n",
       "\n",
       "       Sector                Industry  \n",
       "0  Technology  Computer Manufacturing  \n",
       "1  Technology  Computer Manufacturing  \n",
       "2  Technology  Computer Manufacturing  \n",
       "3  Technology  Computer Manufacturing  \n",
       "4  Technology  Computer Manufacturing  "
      ]
     },
     "execution_count": 1,
     "metadata": {},
     "output_type": "execute_result"
    }
   ],
   "source": [
    "from sdv.demo import load_timeseries_demo\n",
    "\n",
    "data = load_timeseries_demo()\n",
    "data.head()"
   ]
  },
  {
   "cell_type": "markdown",
   "metadata": {},
   "source": [
    "As you can see, this table contains information about multiple Tickers,\n",
    "including:\n",
    "\n",
    "-   Symbol of the Ticker.\n",
    "-   Date associated with the stock market values.\n",
    "-   The opening and closing prices for the day.\n",
    "-   The Volume of transactions of the day.\n",
    "-   The MarketCap of the company\n",
    "-   The Sector and the Industry in which the company operates.\n",
    "\n",
    "This data format is a very common an well known format for timeseries\n",
    "data which includes 4 types of columns:\n",
    "\n",
    "### Entity Columns\n",
    "\n",
    "These are columns that indicate how the rows are associated with\n",
    "external, abstract, `entities`. The group of rows associated with each\n",
    "`entity_id` form a time series sequence, where order of the rows matters\n",
    "and where inter-row dependencies exist. However, the rows of different\n",
    "`entities` are completely independent from each other.\n",
    "\n",
    "In this case, the external `entity` is the company, and the identifier\n",
    "of the company within our data is the `Symbol` column."
   ]
  },
  {
   "cell_type": "code",
   "execution_count": 2,
   "metadata": {
    "attributes": {
     "classes": [
      ""
     ],
     "id": ""
    }
   },
   "outputs": [],
   "source": [
    "entity_columns = ['Symbol']"
   ]
  },
  {
   "cell_type": "markdown",
   "metadata": {},
   "source": [
    "<div class=\"alert alert-info\">\n",
    "\n",
    "**Note**\n",
    "\n",
    "In some case, the datsets do not contain any `entity_columns` because\n",
    "the rows are not associated with any external entity. In these cases,\n",
    "the `entity_columns` specification can be omitted and the complete\n",
    "dataset will be interpreted as a single timeseries sequence.\n",
    "\n",
    "</div>\n",
    "\n",
    "### Context\n",
    "\n",
    "The timeseries datasets may have one or more `context_columns`.\n",
    "`context_columns` are variables that provide information about the\n",
    "entities associated with the timeseries in the form of attributes and\n",
    "which may condition how the timeseries variables evolve.\n",
    "\n",
    "For example, in our stock market case, the `MarketCap`, the `Sector` and\n",
    "the `Industry` variables are all contextual attributes associated with\n",
    "each company and which have a great impact on what each timeseries look\n",
    "like."
   ]
  },
  {
   "cell_type": "code",
   "execution_count": 3,
   "metadata": {
    "attributes": {
     "classes": [
      ""
     ],
     "id": ""
    }
   },
   "outputs": [],
   "source": [
    "context_columns = ['MarketCap', 'Sector', 'Industry']"
   ]
  },
  {
   "cell_type": "markdown",
   "metadata": {},
   "source": [
    "<div class=\"alert alert-info\">\n",
    "\n",
    "**Note**\n",
    "\n",
    "The `context_columns` are attributes that are associated with the\n",
    "entities, and which do not change over time. For this reason, since each\n",
    "timeseries sequence has a single entity associated, the values of the\n",
    "`context_columns` are expected to remain constant alongside each\n",
    "combination of `entity_columns` values.\n",
    "\n",
    "</div>\n",
    "\n",
    "### Sequence Index\n",
    "\n",
    "By definition, the timeseries datasets have inter-row dependencies for\n",
    "which the order of the rows matter. In most cases, this order will be\n",
    "indicted by a `sequence_index` column that will contain sortable values\n",
    "such as integers, floats or datetimes. In some other cases there may be\n",
    "no `sequence_index`, which means that the rows are assumed to be already\n",
    "given in the right order.\n",
    "\n",
    "In this case, the column that indicates us the order of the rows within\n",
    "each sequence is the `Date` column:"
   ]
  },
  {
   "cell_type": "code",
   "execution_count": 4,
   "metadata": {
    "attributes": {
     "classes": [
      ""
     ],
     "id": ""
    }
   },
   "outputs": [],
   "source": [
    "sequence_index = 'Date'"
   ]
  },
  {
   "cell_type": "markdown",
   "metadata": {},
   "source": [
    "### Data Columns\n",
    "\n",
    "Finally, the rest of the columns of the dataset are what we call the\n",
    "`data_columns`, and they are the columns that our `PAR` model will learn\n",
    "to generated synthetically conditioned on the values of the\n",
    "`context_columns`.\n",
    "\n",
    "Let now see how to use the `PAR` class to learn this timeseries dataset\n",
    "and generate new synthetic timeseries that replicate its properties.\n",
    "\n",
    "For this, you will need to:\n",
    "\n",
    "-   Import the `sdv.timeseries.PAR` class and create an instance of it\n",
    "    passing the variables that we just created.\n",
    "-   Call its `fit` method passing the timeseries data.\n",
    "-   Call its `sample` method indicating the number of sequences that we\n",
    "    want to generate."
   ]
  },
  {
   "cell_type": "code",
   "execution_count": 5,
   "metadata": {
    "attributes": {
     "classes": [
      ""
     ],
     "id": ""
    }
   },
   "outputs": [],
   "source": [
    "from sdv.timeseries import PAR\n",
    "\n",
    "model = PAR(\n",
    "    entity_columns=entity_columns,\n",
    "    context_columns=context_columns,\n",
    "    sequence_index=sequence_index,\n",
    ")\n",
    "model.fit(data)"
   ]
  },
  {
   "cell_type": "markdown",
   "metadata": {},
   "source": [
    "<div class=\"alert alert-info\">\n",
    "\n",
    "**Note**\n",
    "\n",
    "Notice that the model `fitting` process took care of transforming the\n",
    "different fields using the appropriate [Reversible Data\n",
    "Transforms](http://github.com/sdv-dev/RDT) to ensure that the data has a\n",
    "format that the underlying models can handle.\n",
    "\n",
    "</div>\n",
    "\n",
    "### Generate synthetic data from the model\n",
    "\n",
    "Once the modeling has finished you are ready to generate new synthetic\n",
    "data by calling the `sample` method from your model passing the number\n",
    "of the sequences that we want to generated.\n",
    "\n",
    "Let's start by generating a single sequence."
   ]
  },
  {
   "cell_type": "code",
   "execution_count": 6,
   "metadata": {
    "attributes": {
     "classes": [
      ""
     ],
     "id": ""
    }
   },
   "outputs": [],
   "source": [
    "new_data = model.sample(1)"
   ]
  },
  {
   "cell_type": "markdown",
   "metadata": {},
   "source": [
    "This will return a table identical to the one which the model was fitted\n",
    "on, but filled with new synthetic data which resembles the original one."
   ]
  },
  {
   "cell_type": "code",
   "execution_count": 7,
   "metadata": {
    "attributes": {
     "classes": [
      ""
     ],
     "id": ""
    }
   },
   "outputs": [
    {
     "data": {
      "text/html": [
       "<div>\n",
       "<style scoped>\n",
       "    .dataframe tbody tr th:only-of-type {\n",
       "        vertical-align: middle;\n",
       "    }\n",
       "\n",
       "    .dataframe tbody tr th {\n",
       "        vertical-align: top;\n",
       "    }\n",
       "\n",
       "    .dataframe thead th {\n",
       "        text-align: right;\n",
       "    }\n",
       "</style>\n",
       "<table border=\"1\" class=\"dataframe\">\n",
       "  <thead>\n",
       "    <tr style=\"text-align: right;\">\n",
       "      <th></th>\n",
       "      <th>Symbol</th>\n",
       "      <th>Date</th>\n",
       "      <th>Open</th>\n",
       "      <th>Close</th>\n",
       "      <th>Volume</th>\n",
       "      <th>MarketCap</th>\n",
       "      <th>Sector</th>\n",
       "      <th>Industry</th>\n",
       "    </tr>\n",
       "  </thead>\n",
       "  <tbody>\n",
       "    <tr>\n",
       "      <th>0</th>\n",
       "      <td>aIWZWCGPVU</td>\n",
       "      <td>2019-01-02</td>\n",
       "      <td>183.437196</td>\n",
       "      <td>183.531971</td>\n",
       "      <td>8583004</td>\n",
       "      <td>4.583441e+10</td>\n",
       "      <td>Technology</td>\n",
       "      <td>Semiconductors</td>\n",
       "    </tr>\n",
       "    <tr>\n",
       "      <th>1</th>\n",
       "      <td>aIWZWCGPVU</td>\n",
       "      <td>2019-01-05</td>\n",
       "      <td>183.437196</td>\n",
       "      <td>137.288708</td>\n",
       "      <td>18137034</td>\n",
       "      <td>4.583441e+10</td>\n",
       "      <td>Technology</td>\n",
       "      <td>Semiconductors</td>\n",
       "    </tr>\n",
       "    <tr>\n",
       "      <th>2</th>\n",
       "      <td>aIWZWCGPVU</td>\n",
       "      <td>2019-01-04</td>\n",
       "      <td>119.467777</td>\n",
       "      <td>117.415616</td>\n",
       "      <td>18499391</td>\n",
       "      <td>4.583441e+10</td>\n",
       "      <td>Technology</td>\n",
       "      <td>Semiconductors</td>\n",
       "    </tr>\n",
       "    <tr>\n",
       "      <th>3</th>\n",
       "      <td>aIWZWCGPVU</td>\n",
       "      <td>2019-01-05</td>\n",
       "      <td>117.547403</td>\n",
       "      <td>116.944213</td>\n",
       "      <td>12249561</td>\n",
       "      <td>4.583441e+10</td>\n",
       "      <td>Technology</td>\n",
       "      <td>Semiconductors</td>\n",
       "    </tr>\n",
       "    <tr>\n",
       "      <th>4</th>\n",
       "      <td>aIWZWCGPVU</td>\n",
       "      <td>2019-01-06</td>\n",
       "      <td>111.969057</td>\n",
       "      <td>123.915607</td>\n",
       "      <td>12068214</td>\n",
       "      <td>4.583441e+10</td>\n",
       "      <td>Technology</td>\n",
       "      <td>Semiconductors</td>\n",
       "    </tr>\n",
       "  </tbody>\n",
       "</table>\n",
       "</div>"
      ],
      "text/plain": [
       "       Symbol       Date        Open       Close    Volume     MarketCap  \\\n",
       "0  aIWZWCGPVU 2019-01-02  183.437196  183.531971   8583004  4.583441e+10   \n",
       "1  aIWZWCGPVU 2019-01-05  183.437196  137.288708  18137034  4.583441e+10   \n",
       "2  aIWZWCGPVU 2019-01-04  119.467777  117.415616  18499391  4.583441e+10   \n",
       "3  aIWZWCGPVU 2019-01-05  117.547403  116.944213  12249561  4.583441e+10   \n",
       "4  aIWZWCGPVU 2019-01-06  111.969057  123.915607  12068214  4.583441e+10   \n",
       "\n",
       "       Sector        Industry  \n",
       "0  Technology  Semiconductors  \n",
       "1  Technology  Semiconductors  \n",
       "2  Technology  Semiconductors  \n",
       "3  Technology  Semiconductors  \n",
       "4  Technology  Semiconductors  "
      ]
     },
     "execution_count": 7,
     "metadata": {},
     "output_type": "execute_result"
    }
   ],
   "source": [
    "new_data.head()"
   ]
  },
  {
   "cell_type": "markdown",
   "metadata": {},
   "source": [
    "<div class=\"alert alert-info\">\n",
    "\n",
    "**Note**\n",
    "\n",
    "**Note**\n",
    "\n",
    "Notice how the model generated a random string for the `Symbol`\n",
    "identifier which does not look like the regular Ticker symbols that we\n",
    "saw in the original data. This is because the model needs you to tell it\n",
    "how these symbols need to be generated by providing a regular expression\n",
    "that it can use. We will see how to do this in a later section.\n",
    "\n",
    "</div>\n",
    "\n",
    "### Save and Load the model\n",
    "\n",
    "In many scenarios it will be convenient to generate synthetic versions\n",
    "of your data directly in systems that do not have access to the original\n",
    "data source. For example, if you may want to generate testing data on\n",
    "the fly inside a testing environment that does not have access to your\n",
    "production database. In these scenarios, fitting the model with real\n",
    "data every time that you need to generate new data is feasible, so you\n",
    "will need to fit a model in your production environment, save the fitted\n",
    "model into a file, send this file to the testing environment and then\n",
    "load it there to be able to `sample` from it.\n",
    "\n",
    "Let's see how this process works.\n",
    "\n",
    "#### Save and share the model\n",
    "\n",
    "Once you have fitted the model, all you need to do is call its `save`\n",
    "method passing the name of the file in which you want to save the model.\n",
    "Note that the extension of the filename is not relevant, but we will be\n",
    "using the `.pkl` extension to highlight that the serialization protocol\n",
    "used is [pickle](https://docs.python.org/3/library/pickle.html)."
   ]
  },
  {
   "cell_type": "code",
   "execution_count": 8,
   "metadata": {
    "attributes": {
     "classes": [
      ""
     ],
     "id": ""
    }
   },
   "outputs": [],
   "source": [
    "model.save('my_model.pkl')"
   ]
  },
  {
   "cell_type": "markdown",
   "metadata": {},
   "source": [
    "This will have created a file called `my_model.pkl` in the same\n",
    "directory in which you are running SDV.\n",
    "\n",
    "<div class=\"alert alert-info\">\n",
    "\n",
    "**Note**\n",
    "\n",
    "If you inspect the generated file you will notice that its size is much\n",
    "smaller than the size of the data that you used to generate it. This is\n",
    "because the serialized model contains **no information about the\n",
    "original data**, other than the parameters it needs to generate\n",
    "synthetic versions of it. This means that you can safely share this\n",
    "`my_model.pkl` file without the risc of disclosing any of your real\n",
    "data!\n",
    "\n",
    "</div>\n",
    "\n",
    "#### Load the model and generate new data\n",
    "\n",
    "The file you just generated can be send over to the system where the\n",
    "synthetic data will be generated. Once it is there, you can load it\n",
    "using the `PAR.load` method, and then you are ready to sample new data\n",
    "from the loaded instance:"
   ]
  },
  {
   "cell_type": "code",
   "execution_count": 9,
   "metadata": {
    "attributes": {
     "classes": [
      ""
     ],
     "id": ""
    }
   },
   "outputs": [
    {
     "data": {
      "text/html": [
       "<div>\n",
       "<style scoped>\n",
       "    .dataframe tbody tr th:only-of-type {\n",
       "        vertical-align: middle;\n",
       "    }\n",
       "\n",
       "    .dataframe tbody tr th {\n",
       "        vertical-align: top;\n",
       "    }\n",
       "\n",
       "    .dataframe thead th {\n",
       "        text-align: right;\n",
       "    }\n",
       "</style>\n",
       "<table border=\"1\" class=\"dataframe\">\n",
       "  <thead>\n",
       "    <tr style=\"text-align: right;\">\n",
       "      <th></th>\n",
       "      <th>Symbol</th>\n",
       "      <th>Date</th>\n",
       "      <th>Open</th>\n",
       "      <th>Close</th>\n",
       "      <th>Volume</th>\n",
       "      <th>MarketCap</th>\n",
       "      <th>Sector</th>\n",
       "      <th>Industry</th>\n",
       "    </tr>\n",
       "  </thead>\n",
       "  <tbody>\n",
       "    <tr>\n",
       "      <th>0</th>\n",
       "      <td>hO</td>\n",
       "      <td>2019-01-01</td>\n",
       "      <td>183.437196</td>\n",
       "      <td>227.279329</td>\n",
       "      <td>6569659</td>\n",
       "      <td>8.916715e+08</td>\n",
       "      <td>Consumer Services</td>\n",
       "      <td>Industrial Machinery/Components</td>\n",
       "    </tr>\n",
       "    <tr>\n",
       "      <th>1</th>\n",
       "      <td>hO</td>\n",
       "      <td>2019-01-01</td>\n",
       "      <td>165.890654</td>\n",
       "      <td>172.680317</td>\n",
       "      <td>-12948192</td>\n",
       "      <td>8.916715e+08</td>\n",
       "      <td>Consumer Services</td>\n",
       "      <td>Industrial Machinery/Components</td>\n",
       "    </tr>\n",
       "    <tr>\n",
       "      <th>2</th>\n",
       "      <td>hO</td>\n",
       "      <td>2019-01-02</td>\n",
       "      <td>280.426422</td>\n",
       "      <td>230.925929</td>\n",
       "      <td>3216414</td>\n",
       "      <td>8.916715e+08</td>\n",
       "      <td>Consumer Services</td>\n",
       "      <td>Industrial Machinery/Components</td>\n",
       "    </tr>\n",
       "    <tr>\n",
       "      <th>3</th>\n",
       "      <td>hO</td>\n",
       "      <td>2019-01-07</td>\n",
       "      <td>283.994792</td>\n",
       "      <td>279.855631</td>\n",
       "      <td>1215530</td>\n",
       "      <td>8.916715e+08</td>\n",
       "      <td>Consumer Services</td>\n",
       "      <td>Industrial Machinery/Components</td>\n",
       "    </tr>\n",
       "    <tr>\n",
       "      <th>4</th>\n",
       "      <td>hO</td>\n",
       "      <td>2019-01-07</td>\n",
       "      <td>303.788616</td>\n",
       "      <td>276.491937</td>\n",
       "      <td>485251</td>\n",
       "      <td>8.916715e+08</td>\n",
       "      <td>Consumer Services</td>\n",
       "      <td>Industrial Machinery/Components</td>\n",
       "    </tr>\n",
       "  </tbody>\n",
       "</table>\n",
       "</div>"
      ],
      "text/plain": [
       "  Symbol       Date        Open       Close    Volume     MarketCap  \\\n",
       "0     hO 2019-01-01  183.437196  227.279329   6569659  8.916715e+08   \n",
       "1     hO 2019-01-01  165.890654  172.680317 -12948192  8.916715e+08   \n",
       "2     hO 2019-01-02  280.426422  230.925929   3216414  8.916715e+08   \n",
       "3     hO 2019-01-07  283.994792  279.855631   1215530  8.916715e+08   \n",
       "4     hO 2019-01-07  303.788616  276.491937    485251  8.916715e+08   \n",
       "\n",
       "              Sector                         Industry  \n",
       "0  Consumer Services  Industrial Machinery/Components  \n",
       "1  Consumer Services  Industrial Machinery/Components  \n",
       "2  Consumer Services  Industrial Machinery/Components  \n",
       "3  Consumer Services  Industrial Machinery/Components  \n",
       "4  Consumer Services  Industrial Machinery/Components  "
      ]
     },
     "execution_count": 9,
     "metadata": {},
     "output_type": "execute_result"
    }
   ],
   "source": [
    "loaded = PAR.load('my_model.pkl')\n",
    "loaded.sample(num_sequences=1).head()"
   ]
  },
  {
   "cell_type": "markdown",
   "metadata": {},
   "source": [
    "<div class=\"alert alert-warning\">\n",
    "\n",
    "**Warning**\n",
    "\n",
    "Notice that the system where the model is loaded needs to also have\n",
    "`sdv` installed, otherwise it will not be able to load the model and use\n",
    "it.\n",
    "\n",
    "</div>\n",
    "\n",
    "### Conditional Sampling\n",
    "\n",
    "On the previous examples we had the model generate random values for use\n",
    "to populate the `context_columns` and the `entity_columns`. In order to\n",
    "do this, the model learned the context and entity values using a\n",
    "`GaussianCopula`, which later on used to sample new realistic values for\n",
    "them. This is fine for cases in which we do not have any constraints\n",
    "regarding the type of data that we generate, but in some cases we might\n",
    "want to control the values of the contextual columns to force the model\n",
    "into generating data of certain type.\n",
    "\n",
    "In order to achieve this, we will first have to create a\n",
    "`pandas.DataFrame` with the expected values.\n",
    "\n",
    "As an example, let's generate values for two companies in the Technology\n",
    "and Health Care sectors."
   ]
  },
  {
   "cell_type": "code",
   "execution_count": 10,
   "metadata": {
    "attributes": {
     "classes": [
      ""
     ],
     "id": ""
    }
   },
   "outputs": [
    {
     "data": {
      "text/html": [
       "<div>\n",
       "<style scoped>\n",
       "    .dataframe tbody tr th:only-of-type {\n",
       "        vertical-align: middle;\n",
       "    }\n",
       "\n",
       "    .dataframe tbody tr th {\n",
       "        vertical-align: top;\n",
       "    }\n",
       "\n",
       "    .dataframe thead th {\n",
       "        text-align: right;\n",
       "    }\n",
       "</style>\n",
       "<table border=\"1\" class=\"dataframe\">\n",
       "  <thead>\n",
       "    <tr style=\"text-align: right;\">\n",
       "      <th></th>\n",
       "      <th>Symbol</th>\n",
       "      <th>MarketCap</th>\n",
       "      <th>Sector</th>\n",
       "      <th>Industry</th>\n",
       "    </tr>\n",
       "  </thead>\n",
       "  <tbody>\n",
       "    <tr>\n",
       "      <th>0</th>\n",
       "      <td>AAAA</td>\n",
       "      <td>1.234500e+11</td>\n",
       "      <td>Technology</td>\n",
       "      <td>Electronic Components</td>\n",
       "    </tr>\n",
       "    <tr>\n",
       "      <th>1</th>\n",
       "      <td>BBBB</td>\n",
       "      <td>4.567800e+10</td>\n",
       "      <td>Health Care</td>\n",
       "      <td>Medical/Nursing Services</td>\n",
       "    </tr>\n",
       "  </tbody>\n",
       "</table>\n",
       "</div>"
      ],
      "text/plain": [
       "  Symbol     MarketCap       Sector                  Industry\n",
       "0   AAAA  1.234500e+11   Technology     Electronic Components\n",
       "1   BBBB  4.567800e+10  Health Care  Medical/Nursing Services"
      ]
     },
     "execution_count": 10,
     "metadata": {},
     "output_type": "execute_result"
    }
   ],
   "source": [
    "import pandas as pd\n",
    "\n",
    "context = pd.DataFrame([\n",
    "    {\n",
    "        'Symbol': 'AAAA',\n",
    "        'MarketCap': 1.2345e+11,\n",
    "        'Sector': 'Technology',\n",
    "        'Industry': 'Electronic Components'\n",
    "    },\n",
    "    {\n",
    "        'Symbol': 'BBBB',\n",
    "        'MarketCap': 4.5678e+10,\n",
    "        'Sector': 'Health Care',\n",
    "        'Industry': 'Medical/Nursing Services'\n",
    "    },\n",
    "])\n",
    "context"
   ]
  },
  {
   "cell_type": "markdown",
   "metadata": {},
   "source": [
    "Once you have created this, you can simply pass the dataframe as the\n",
    "`context` argument to the `sample` method."
   ]
  },
  {
   "cell_type": "code",
   "execution_count": 11,
   "metadata": {
    "attributes": {
     "classes": [
      ""
     ],
     "id": ""
    }
   },
   "outputs": [],
   "source": [
    "new_data = model.sample(context=context)"
   ]
  },
  {
   "cell_type": "markdown",
   "metadata": {},
   "source": [
    "And we can now see the data generated for the two companies:"
   ]
  },
  {
   "cell_type": "code",
   "execution_count": 12,
   "metadata": {
    "attributes": {
     "classes": [
      ""
     ],
     "id": ""
    }
   },
   "outputs": [
    {
     "data": {
      "text/html": [
       "<div>\n",
       "<style scoped>\n",
       "    .dataframe tbody tr th:only-of-type {\n",
       "        vertical-align: middle;\n",
       "    }\n",
       "\n",
       "    .dataframe tbody tr th {\n",
       "        vertical-align: top;\n",
       "    }\n",
       "\n",
       "    .dataframe thead th {\n",
       "        text-align: right;\n",
       "    }\n",
       "</style>\n",
       "<table border=\"1\" class=\"dataframe\">\n",
       "  <thead>\n",
       "    <tr style=\"text-align: right;\">\n",
       "      <th></th>\n",
       "      <th>Symbol</th>\n",
       "      <th>Date</th>\n",
       "      <th>Open</th>\n",
       "      <th>Close</th>\n",
       "      <th>Volume</th>\n",
       "      <th>MarketCap</th>\n",
       "      <th>Sector</th>\n",
       "      <th>Industry</th>\n",
       "    </tr>\n",
       "  </thead>\n",
       "  <tbody>\n",
       "    <tr>\n",
       "      <th>0</th>\n",
       "      <td>AAAA</td>\n",
       "      <td>2019-01-02</td>\n",
       "      <td>56.788037</td>\n",
       "      <td>183.531971</td>\n",
       "      <td>467831</td>\n",
       "      <td>1.234500e+11</td>\n",
       "      <td>Technology</td>\n",
       "      <td>Electronic Components</td>\n",
       "    </tr>\n",
       "    <tr>\n",
       "      <th>1</th>\n",
       "      <td>AAAA</td>\n",
       "      <td>2019-01-01</td>\n",
       "      <td>183.437196</td>\n",
       "      <td>109.853322</td>\n",
       "      <td>12287392</td>\n",
       "      <td>1.234500e+11</td>\n",
       "      <td>Technology</td>\n",
       "      <td>Electronic Components</td>\n",
       "    </tr>\n",
       "    <tr>\n",
       "      <th>2</th>\n",
       "      <td>AAAA</td>\n",
       "      <td>2019-01-03</td>\n",
       "      <td>99.706027</td>\n",
       "      <td>125.668329</td>\n",
       "      <td>10803297</td>\n",
       "      <td>1.234500e+11</td>\n",
       "      <td>Technology</td>\n",
       "      <td>Electronic Components</td>\n",
       "    </tr>\n",
       "    <tr>\n",
       "      <th>3</th>\n",
       "      <td>AAAA</td>\n",
       "      <td>2019-01-05</td>\n",
       "      <td>107.323586</td>\n",
       "      <td>183.531971</td>\n",
       "      <td>7367826</td>\n",
       "      <td>1.234500e+11</td>\n",
       "      <td>Technology</td>\n",
       "      <td>Electronic Components</td>\n",
       "    </tr>\n",
       "    <tr>\n",
       "      <th>4</th>\n",
       "      <td>AAAA</td>\n",
       "      <td>2019-01-08</td>\n",
       "      <td>125.369102</td>\n",
       "      <td>114.973890</td>\n",
       "      <td>6569659</td>\n",
       "      <td>1.234500e+11</td>\n",
       "      <td>Technology</td>\n",
       "      <td>Electronic Components</td>\n",
       "    </tr>\n",
       "  </tbody>\n",
       "</table>\n",
       "</div>"
      ],
      "text/plain": [
       "  Symbol       Date        Open       Close    Volume     MarketCap  \\\n",
       "0   AAAA 2019-01-02   56.788037  183.531971    467831  1.234500e+11   \n",
       "1   AAAA 2019-01-01  183.437196  109.853322  12287392  1.234500e+11   \n",
       "2   AAAA 2019-01-03   99.706027  125.668329  10803297  1.234500e+11   \n",
       "3   AAAA 2019-01-05  107.323586  183.531971   7367826  1.234500e+11   \n",
       "4   AAAA 2019-01-08  125.369102  114.973890   6569659  1.234500e+11   \n",
       "\n",
       "       Sector               Industry  \n",
       "0  Technology  Electronic Components  \n",
       "1  Technology  Electronic Components  \n",
       "2  Technology  Electronic Components  \n",
       "3  Technology  Electronic Components  \n",
       "4  Technology  Electronic Components  "
      ]
     },
     "execution_count": 12,
     "metadata": {},
     "output_type": "execute_result"
    }
   ],
   "source": [
    "new_data[new_data.Symbol == 'AAAA'].head()"
   ]
  },
  {
   "cell_type": "code",
   "execution_count": 13,
   "metadata": {
    "attributes": {
     "classes": [
      ""
     ],
     "id": ""
    }
   },
   "outputs": [
    {
     "data": {
      "text/html": [
       "<div>\n",
       "<style scoped>\n",
       "    .dataframe tbody tr th:only-of-type {\n",
       "        vertical-align: middle;\n",
       "    }\n",
       "\n",
       "    .dataframe tbody tr th {\n",
       "        vertical-align: top;\n",
       "    }\n",
       "\n",
       "    .dataframe thead th {\n",
       "        text-align: right;\n",
       "    }\n",
       "</style>\n",
       "<table border=\"1\" class=\"dataframe\">\n",
       "  <thead>\n",
       "    <tr style=\"text-align: right;\">\n",
       "      <th></th>\n",
       "      <th>Symbol</th>\n",
       "      <th>Date</th>\n",
       "      <th>Open</th>\n",
       "      <th>Close</th>\n",
       "      <th>Volume</th>\n",
       "      <th>MarketCap</th>\n",
       "      <th>Sector</th>\n",
       "      <th>Industry</th>\n",
       "    </tr>\n",
       "  </thead>\n",
       "  <tbody>\n",
       "    <tr>\n",
       "      <th>215</th>\n",
       "      <td>BBBB</td>\n",
       "      <td>2018-12-27</td>\n",
       "      <td>183.437196</td>\n",
       "      <td>183.531971</td>\n",
       "      <td>6569659</td>\n",
       "      <td>4.567800e+10</td>\n",
       "      <td>Health Care</td>\n",
       "      <td>Medical/Nursing Services</td>\n",
       "    </tr>\n",
       "    <tr>\n",
       "      <th>216</th>\n",
       "      <td>BBBB</td>\n",
       "      <td>2018-12-31</td>\n",
       "      <td>140.279261</td>\n",
       "      <td>160.459861</td>\n",
       "      <td>-338301</td>\n",
       "      <td>4.567800e+10</td>\n",
       "      <td>Health Care</td>\n",
       "      <td>Medical/Nursing Services</td>\n",
       "    </tr>\n",
       "    <tr>\n",
       "      <th>217</th>\n",
       "      <td>BBBB</td>\n",
       "      <td>2019-01-03</td>\n",
       "      <td>132.545216</td>\n",
       "      <td>125.508325</td>\n",
       "      <td>5575496</td>\n",
       "      <td>4.567800e+10</td>\n",
       "      <td>Health Care</td>\n",
       "      <td>Medical/Nursing Services</td>\n",
       "    </tr>\n",
       "    <tr>\n",
       "      <th>218</th>\n",
       "      <td>BBBB</td>\n",
       "      <td>2019-01-05</td>\n",
       "      <td>113.432206</td>\n",
       "      <td>97.730619</td>\n",
       "      <td>2774735</td>\n",
       "      <td>4.567800e+10</td>\n",
       "      <td>Health Care</td>\n",
       "      <td>Medical/Nursing Services</td>\n",
       "    </tr>\n",
       "    <tr>\n",
       "      <th>219</th>\n",
       "      <td>BBBB</td>\n",
       "      <td>2019-01-07</td>\n",
       "      <td>109.552246</td>\n",
       "      <td>102.639291</td>\n",
       "      <td>3950797</td>\n",
       "      <td>4.567800e+10</td>\n",
       "      <td>Health Care</td>\n",
       "      <td>Medical/Nursing Services</td>\n",
       "    </tr>\n",
       "  </tbody>\n",
       "</table>\n",
       "</div>"
      ],
      "text/plain": [
       "    Symbol       Date        Open       Close   Volume     MarketCap  \\\n",
       "215   BBBB 2018-12-27  183.437196  183.531971  6569659  4.567800e+10   \n",
       "216   BBBB 2018-12-31  140.279261  160.459861  -338301  4.567800e+10   \n",
       "217   BBBB 2019-01-03  132.545216  125.508325  5575496  4.567800e+10   \n",
       "218   BBBB 2019-01-05  113.432206   97.730619  2774735  4.567800e+10   \n",
       "219   BBBB 2019-01-07  109.552246  102.639291  3950797  4.567800e+10   \n",
       "\n",
       "          Sector                  Industry  \n",
       "215  Health Care  Medical/Nursing Services  \n",
       "216  Health Care  Medical/Nursing Services  \n",
       "217  Health Care  Medical/Nursing Services  \n",
       "218  Health Care  Medical/Nursing Services  \n",
       "219  Health Care  Medical/Nursing Services  "
      ]
     },
     "execution_count": 13,
     "metadata": {},
     "output_type": "execute_result"
    }
   ],
   "source": [
    "new_data[new_data.Symbol == 'BBBB'].head()"
   ]
  },
  {
   "cell_type": "markdown",
   "metadata": {},
   "source": [
    "Advanced Usage\n",
    "--------------\n",
    "\n",
    "Now that we have discovered the basics, let's go over a few more\n",
    "advanced usage examples and see the different arguments that we can pass\n",
    "to our `PAR` Model in order to customize it to our needs.\n",
    "\n",
    "### How to customize the generated IDs?\n",
    "\n",
    "In the previous examples we saw how the `Symbol` values were generated\n",
    "as random strings that do not look like that ones typically seen for\n",
    "Tickers, which usually are strings made of between 2 and 4 uppercase\n",
    "letters.\n",
    "\n",
    "In order to fix this and force the model to generate values that are\n",
    "valid for the field, we can use the `field_types` argument to indicate\n",
    "the characteristics of each field by passing a dictionary that follows\n",
    "the `Metadata` field specification.\n",
    "\n",
    "For this case in particular, we will indicate that the `Symbol` field\n",
    "needs to be generated using the regular expression `[A-Z]{2,4}`."
   ]
  },
  {
   "cell_type": "code",
   "execution_count": 14,
   "metadata": {
    "attributes": {
     "classes": [
      ""
     ],
     "id": ""
    }
   },
   "outputs": [],
   "source": [
    "field_types = {\n",
    "    'Symbol': {\n",
    "        'type': 'id',\n",
    "        'subtype': 'string',\n",
    "        'regex': '[A-Z]{2,4}'\n",
    "    }\n",
    "}\n",
    "model = PAR(\n",
    "    entity_columns=entity_columns,\n",
    "    context_columns=context_columns,\n",
    "    sequence_index=sequence_index,\n",
    "    field_types=field_types\n",
    ")\n",
    "model.fit(data)"
   ]
  },
  {
   "cell_type": "markdown",
   "metadata": {},
   "source": [
    "After this, we can observe how the new `Symbols` are generated as\n",
    "indicated."
   ]
  },
  {
   "cell_type": "code",
   "execution_count": 15,
   "metadata": {
    "attributes": {
     "classes": [
      ""
     ],
     "id": ""
    }
   },
   "outputs": [
    {
     "data": {
      "text/html": [
       "<div>\n",
       "<style scoped>\n",
       "    .dataframe tbody tr th:only-of-type {\n",
       "        vertical-align: middle;\n",
       "    }\n",
       "\n",
       "    .dataframe tbody tr th {\n",
       "        vertical-align: top;\n",
       "    }\n",
       "\n",
       "    .dataframe thead th {\n",
       "        text-align: right;\n",
       "    }\n",
       "</style>\n",
       "<table border=\"1\" class=\"dataframe\">\n",
       "  <thead>\n",
       "    <tr style=\"text-align: right;\">\n",
       "      <th></th>\n",
       "      <th>Symbol</th>\n",
       "      <th>Date</th>\n",
       "      <th>Open</th>\n",
       "      <th>Close</th>\n",
       "      <th>Volume</th>\n",
       "      <th>MarketCap</th>\n",
       "      <th>Sector</th>\n",
       "      <th>Industry</th>\n",
       "    </tr>\n",
       "  </thead>\n",
       "  <tbody>\n",
       "    <tr>\n",
       "      <th>0</th>\n",
       "      <td>GW</td>\n",
       "      <td>2018-12-31</td>\n",
       "      <td>303.324670</td>\n",
       "      <td>200.678131</td>\n",
       "      <td>8322448</td>\n",
       "      <td>2.541048e+10</td>\n",
       "      <td>Technology</td>\n",
       "      <td>Electronic Components</td>\n",
       "    </tr>\n",
       "    <tr>\n",
       "      <th>1</th>\n",
       "      <td>GW</td>\n",
       "      <td>2019-01-02</td>\n",
       "      <td>177.960162</td>\n",
       "      <td>190.637568</td>\n",
       "      <td>5428279</td>\n",
       "      <td>2.541048e+10</td>\n",
       "      <td>Technology</td>\n",
       "      <td>Electronic Components</td>\n",
       "    </tr>\n",
       "    <tr>\n",
       "      <th>2</th>\n",
       "      <td>GW</td>\n",
       "      <td>2019-01-05</td>\n",
       "      <td>133.421485</td>\n",
       "      <td>209.447492</td>\n",
       "      <td>6569659</td>\n",
       "      <td>2.541048e+10</td>\n",
       "      <td>Technology</td>\n",
       "      <td>Electronic Components</td>\n",
       "    </tr>\n",
       "    <tr>\n",
       "      <th>3</th>\n",
       "      <td>GW</td>\n",
       "      <td>2019-01-07</td>\n",
       "      <td>197.513859</td>\n",
       "      <td>183.961058</td>\n",
       "      <td>2979529</td>\n",
       "      <td>2.541048e+10</td>\n",
       "      <td>Technology</td>\n",
       "      <td>Electronic Components</td>\n",
       "    </tr>\n",
       "    <tr>\n",
       "      <th>4</th>\n",
       "      <td>GW</td>\n",
       "      <td>2019-01-07</td>\n",
       "      <td>169.781218</td>\n",
       "      <td>183.846672</td>\n",
       "      <td>6989041</td>\n",
       "      <td>2.541048e+10</td>\n",
       "      <td>Technology</td>\n",
       "      <td>Electronic Components</td>\n",
       "    </tr>\n",
       "  </tbody>\n",
       "</table>\n",
       "</div>"
      ],
      "text/plain": [
       "  Symbol       Date        Open       Close   Volume     MarketCap  \\\n",
       "0     GW 2018-12-31  303.324670  200.678131  8322448  2.541048e+10   \n",
       "1     GW 2019-01-02  177.960162  190.637568  5428279  2.541048e+10   \n",
       "2     GW 2019-01-05  133.421485  209.447492  6569659  2.541048e+10   \n",
       "3     GW 2019-01-07  197.513859  183.961058  2979529  2.541048e+10   \n",
       "4     GW 2019-01-07  169.781218  183.846672  6989041  2.541048e+10   \n",
       "\n",
       "       Sector               Industry  \n",
       "0  Technology  Electronic Components  \n",
       "1  Technology  Electronic Components  \n",
       "2  Technology  Electronic Components  \n",
       "3  Technology  Electronic Components  \n",
       "4  Technology  Electronic Components  "
      ]
     },
     "execution_count": 15,
     "metadata": {},
     "output_type": "execute_result"
    }
   ],
   "source": [
    "model.sample(num_sequences=1).head()"
   ]
  },
  {
   "cell_type": "markdown",
   "metadata": {},
   "source": [
    "<div class=\"alert alert-info\">\n",
    "\n",
    "**Note**\n",
    "\n",
    "Notice how in this case we only specified the properties of the `Symbol`\n",
    "field and the PAR model was able to handle the other fields\n",
    "appropriately without needing any indication from us.\n",
    "\n",
    "</div>\n",
    "\n",
    "### Can I control the length of the sequences?\n",
    "\n",
    "When learning the data, the PAR model also learned the distribution of\n",
    "the lengths of the sequences, so each generated sequence may have a\n",
    "different length:"
   ]
  },
  {
   "cell_type": "code",
   "execution_count": 16,
   "metadata": {
    "attributes": {
     "classes": [
      ""
     ],
     "id": ""
    }
   },
   "outputs": [
    {
     "data": {
      "text/plain": [
       "Symbol\n",
       "EIZG    185\n",
       "EJU     252\n",
       "EM      252\n",
       "HZV     252\n",
       "ZGUY    246\n",
       "dtype: int64"
      ]
     },
     "execution_count": 16,
     "metadata": {},
     "output_type": "execute_result"
    }
   ],
   "source": [
    "model.sample(num_sequences=5).groupby('Symbol').size()"
   ]
  },
  {
   "cell_type": "markdown",
   "metadata": {},
   "source": [
    "If we want to force a specific length to the generated sequences we can\n",
    "pass the `sequence_length` argument to the `sample` method:"
   ]
  },
  {
   "cell_type": "code",
   "execution_count": 17,
   "metadata": {
    "attributes": {
     "classes": [
      ""
     ],
     "id": ""
    }
   },
   "outputs": [
    {
     "data": {
      "text/plain": [
       "Symbol\n",
       "FOO     100\n",
       "OQXN    100\n",
       "TIU     100\n",
       "XTKV    100\n",
       "ZVER    100\n",
       "dtype: int64"
      ]
     },
     "execution_count": 17,
     "metadata": {},
     "output_type": "execute_result"
    }
   ],
   "source": [
    "model.sample(num_sequences=5, sequence_length=100).groupby('Symbol').size()"
   ]
  },
  {
   "cell_type": "markdown",
   "metadata": {},
   "source": [
    "### Can I use timeseries without context?\n",
    "\n",
    "Sometimes the timeseries datasets do not provide any additional\n",
    "properties from the entities associated with each sequence, other than\n",
    "the unique identifier of the entity.\n",
    "\n",
    "Let's simulate this situation by dropping the context columns from our\n",
    "data."
   ]
  },
  {
   "cell_type": "code",
   "execution_count": 18,
   "metadata": {
    "attributes": {
     "classes": [
      ""
     ],
     "id": ""
    }
   },
   "outputs": [
    {
     "data": {
      "text/html": [
       "<div>\n",
       "<style scoped>\n",
       "    .dataframe tbody tr th:only-of-type {\n",
       "        vertical-align: middle;\n",
       "    }\n",
       "\n",
       "    .dataframe tbody tr th {\n",
       "        vertical-align: top;\n",
       "    }\n",
       "\n",
       "    .dataframe thead th {\n",
       "        text-align: right;\n",
       "    }\n",
       "</style>\n",
       "<table border=\"1\" class=\"dataframe\">\n",
       "  <thead>\n",
       "    <tr style=\"text-align: right;\">\n",
       "      <th></th>\n",
       "      <th>Symbol</th>\n",
       "      <th>Date</th>\n",
       "      <th>Open</th>\n",
       "      <th>Close</th>\n",
       "      <th>Volume</th>\n",
       "    </tr>\n",
       "  </thead>\n",
       "  <tbody>\n",
       "    <tr>\n",
       "      <th>0</th>\n",
       "      <td>AAPL</td>\n",
       "      <td>2018-12-31</td>\n",
       "      <td>39.632500</td>\n",
       "      <td>39.435001</td>\n",
       "      <td>140014000</td>\n",
       "    </tr>\n",
       "    <tr>\n",
       "      <th>1</th>\n",
       "      <td>AAPL</td>\n",
       "      <td>2019-01-02</td>\n",
       "      <td>38.722500</td>\n",
       "      <td>39.480000</td>\n",
       "      <td>148158800</td>\n",
       "    </tr>\n",
       "    <tr>\n",
       "      <th>2</th>\n",
       "      <td>AAPL</td>\n",
       "      <td>2019-01-03</td>\n",
       "      <td>35.994999</td>\n",
       "      <td>35.547501</td>\n",
       "      <td>365248800</td>\n",
       "    </tr>\n",
       "    <tr>\n",
       "      <th>3</th>\n",
       "      <td>AAPL</td>\n",
       "      <td>2019-01-04</td>\n",
       "      <td>36.132500</td>\n",
       "      <td>37.064999</td>\n",
       "      <td>234428400</td>\n",
       "    </tr>\n",
       "    <tr>\n",
       "      <th>4</th>\n",
       "      <td>AAPL</td>\n",
       "      <td>2019-01-07</td>\n",
       "      <td>37.174999</td>\n",
       "      <td>36.982498</td>\n",
       "      <td>219111200</td>\n",
       "    </tr>\n",
       "  </tbody>\n",
       "</table>\n",
       "</div>"
      ],
      "text/plain": [
       "  Symbol       Date       Open      Close     Volume\n",
       "0   AAPL 2018-12-31  39.632500  39.435001  140014000\n",
       "1   AAPL 2019-01-02  38.722500  39.480000  148158800\n",
       "2   AAPL 2019-01-03  35.994999  35.547501  365248800\n",
       "3   AAPL 2019-01-04  36.132500  37.064999  234428400\n",
       "4   AAPL 2019-01-07  37.174999  36.982498  219111200"
      ]
     },
     "execution_count": 18,
     "metadata": {},
     "output_type": "execute_result"
    }
   ],
   "source": [
    "no_context = data[['Symbol', 'Date', 'Open', 'Close', 'Volume']].copy()\n",
    "no_context.head()"
   ]
  },
  {
   "cell_type": "markdown",
   "metadata": {},
   "source": [
    "In this cases, we can simply skip the context columns when creating the\n",
    "model, and PAR will be able to learn the timeseries without imposing any\n",
    "conditions to them."
   ]
  },
  {
   "cell_type": "code",
   "execution_count": 19,
   "metadata": {
    "attributes": {
     "classes": [
      ""
     ],
     "id": ""
    }
   },
   "outputs": [
    {
     "data": {
      "text/html": [
       "<div>\n",
       "<style scoped>\n",
       "    .dataframe tbody tr th:only-of-type {\n",
       "        vertical-align: middle;\n",
       "    }\n",
       "\n",
       "    .dataframe tbody tr th {\n",
       "        vertical-align: top;\n",
       "    }\n",
       "\n",
       "    .dataframe thead th {\n",
       "        text-align: right;\n",
       "    }\n",
       "</style>\n",
       "<table border=\"1\" class=\"dataframe\">\n",
       "  <thead>\n",
       "    <tr style=\"text-align: right;\">\n",
       "      <th></th>\n",
       "      <th>Symbol</th>\n",
       "      <th>Date</th>\n",
       "      <th>Open</th>\n",
       "      <th>Close</th>\n",
       "      <th>Volume</th>\n",
       "    </tr>\n",
       "  </thead>\n",
       "  <tbody>\n",
       "    <tr>\n",
       "      <th>0</th>\n",
       "      <td>NZJ</td>\n",
       "      <td>2019-01-03</td>\n",
       "      <td>283.358468</td>\n",
       "      <td>320.417504</td>\n",
       "      <td>6569659</td>\n",
       "    </tr>\n",
       "    <tr>\n",
       "      <th>1</th>\n",
       "      <td>NZJ</td>\n",
       "      <td>2018-12-28</td>\n",
       "      <td>267.504874</td>\n",
       "      <td>183.531971</td>\n",
       "      <td>26998765</td>\n",
       "    </tr>\n",
       "    <tr>\n",
       "      <th>2</th>\n",
       "      <td>NZJ</td>\n",
       "      <td>2019-01-03</td>\n",
       "      <td>183.437196</td>\n",
       "      <td>350.709475</td>\n",
       "      <td>4440035</td>\n",
       "    </tr>\n",
       "    <tr>\n",
       "      <th>3</th>\n",
       "      <td>NZJ</td>\n",
       "      <td>2019-01-03</td>\n",
       "      <td>302.683090</td>\n",
       "      <td>325.844561</td>\n",
       "      <td>10384659</td>\n",
       "    </tr>\n",
       "    <tr>\n",
       "      <th>4</th>\n",
       "      <td>NZJ</td>\n",
       "      <td>2019-01-04</td>\n",
       "      <td>310.520610</td>\n",
       "      <td>360.810723</td>\n",
       "      <td>6569659</td>\n",
       "    </tr>\n",
       "  </tbody>\n",
       "</table>\n",
       "</div>"
      ],
      "text/plain": [
       "  Symbol       Date        Open       Close    Volume\n",
       "0    NZJ 2019-01-03  283.358468  320.417504   6569659\n",
       "1    NZJ 2018-12-28  267.504874  183.531971  26998765\n",
       "2    NZJ 2019-01-03  183.437196  350.709475   4440035\n",
       "3    NZJ 2019-01-03  302.683090  325.844561  10384659\n",
       "4    NZJ 2019-01-04  310.520610  360.810723   6569659"
      ]
     },
     "execution_count": 19,
     "metadata": {},
     "output_type": "execute_result"
    }
   ],
   "source": [
    "model = PAR(\n",
    "    entity_columns=entity_columns,\n",
    "    sequence_index=sequence_index,\n",
    "    field_types=field_types,\n",
    ")\n",
    "model.fit(no_context)\n",
    "model.sample(num_sequences=1).head()"
   ]
  },
  {
   "cell_type": "markdown",
   "metadata": {},
   "source": [
    "In this case, of course, we are not able to sample new sequences\n",
    "conditioned on any value, but we are still able to force the symbols\n",
    "that we want on the generated data by passing them in a\n",
    "`pandas.DataFrame`"
   ]
  },
  {
   "cell_type": "code",
   "execution_count": 20,
   "metadata": {
    "attributes": {
     "classes": [
      ""
     ],
     "id": ""
    }
   },
   "outputs": [
    {
     "data": {
      "text/html": [
       "<div>\n",
       "<style scoped>\n",
       "    .dataframe tbody tr th:only-of-type {\n",
       "        vertical-align: middle;\n",
       "    }\n",
       "\n",
       "    .dataframe tbody tr th {\n",
       "        vertical-align: top;\n",
       "    }\n",
       "\n",
       "    .dataframe thead th {\n",
       "        text-align: right;\n",
       "    }\n",
       "</style>\n",
       "<table border=\"1\" class=\"dataframe\">\n",
       "  <thead>\n",
       "    <tr style=\"text-align: right;\">\n",
       "      <th></th>\n",
       "      <th>Symbol</th>\n",
       "      <th>Date</th>\n",
       "      <th>Open</th>\n",
       "      <th>Close</th>\n",
       "      <th>Volume</th>\n",
       "    </tr>\n",
       "  </thead>\n",
       "  <tbody>\n",
       "    <tr>\n",
       "      <th>0</th>\n",
       "      <td>TSLA</td>\n",
       "      <td>2019-01-02</td>\n",
       "      <td>183.437196</td>\n",
       "      <td>238.092983</td>\n",
       "      <td>6569659</td>\n",
       "    </tr>\n",
       "    <tr>\n",
       "      <th>1</th>\n",
       "      <td>TSLA</td>\n",
       "      <td>2019-01-04</td>\n",
       "      <td>295.915921</td>\n",
       "      <td>287.785729</td>\n",
       "      <td>9121682</td>\n",
       "    </tr>\n",
       "    <tr>\n",
       "      <th>2</th>\n",
       "      <td>TSLA</td>\n",
       "      <td>2019-01-04</td>\n",
       "      <td>339.393268</td>\n",
       "      <td>259.817190</td>\n",
       "      <td>9797831</td>\n",
       "    </tr>\n",
       "    <tr>\n",
       "      <th>3</th>\n",
       "      <td>TSLA</td>\n",
       "      <td>2019-01-06</td>\n",
       "      <td>269.608546</td>\n",
       "      <td>271.854816</td>\n",
       "      <td>-142704</td>\n",
       "    </tr>\n",
       "    <tr>\n",
       "      <th>4</th>\n",
       "      <td>TSLA</td>\n",
       "      <td>2019-01-08</td>\n",
       "      <td>316.254510</td>\n",
       "      <td>267.436525</td>\n",
       "      <td>9561240</td>\n",
       "    </tr>\n",
       "  </tbody>\n",
       "</table>\n",
       "</div>"
      ],
      "text/plain": [
       "  Symbol       Date        Open       Close   Volume\n",
       "0   TSLA 2019-01-02  183.437196  238.092983  6569659\n",
       "1   TSLA 2019-01-04  295.915921  287.785729  9121682\n",
       "2   TSLA 2019-01-04  339.393268  259.817190  9797831\n",
       "3   TSLA 2019-01-06  269.608546  271.854816  -142704\n",
       "4   TSLA 2019-01-08  316.254510  267.436525  9561240"
      ]
     },
     "execution_count": 20,
     "metadata": {},
     "output_type": "execute_result"
    }
   ],
   "source": [
    "symbols = pd.DataFrame({\n",
    "    'Symbol': ['TSLA']\n",
    "})\n",
    "model.sample(context=symbols).head()"
   ]
  },
  {
   "cell_type": "markdown",
   "metadata": {},
   "source": [
    "### What happens if there are no `entity_columns` either?\n",
    "\n",
    "In some cases the timeseries datasets are made of a single timeseries\n",
    "sequence with no identifiers of external entities. For example, suppose\n",
    "we only had the data from one company:"
   ]
  },
  {
   "cell_type": "code",
   "execution_count": 21,
   "metadata": {
    "attributes": {
     "classes": [
      ""
     ],
     "id": ""
    }
   },
   "outputs": [
    {
     "data": {
      "text/html": [
       "<div>\n",
       "<style scoped>\n",
       "    .dataframe tbody tr th:only-of-type {\n",
       "        vertical-align: middle;\n",
       "    }\n",
       "\n",
       "    .dataframe tbody tr th {\n",
       "        vertical-align: top;\n",
       "    }\n",
       "\n",
       "    .dataframe thead th {\n",
       "        text-align: right;\n",
       "    }\n",
       "</style>\n",
       "<table border=\"1\" class=\"dataframe\">\n",
       "  <thead>\n",
       "    <tr style=\"text-align: right;\">\n",
       "      <th></th>\n",
       "      <th>Date</th>\n",
       "      <th>Open</th>\n",
       "      <th>Close</th>\n",
       "      <th>Volume</th>\n",
       "    </tr>\n",
       "  </thead>\n",
       "  <tbody>\n",
       "    <tr>\n",
       "      <th>1008</th>\n",
       "      <td>2018-12-31</td>\n",
       "      <td>67.557999</td>\n",
       "      <td>66.559998</td>\n",
       "      <td>31511500</td>\n",
       "    </tr>\n",
       "    <tr>\n",
       "      <th>1009</th>\n",
       "      <td>2019-01-02</td>\n",
       "      <td>61.220001</td>\n",
       "      <td>62.023998</td>\n",
       "      <td>58293000</td>\n",
       "    </tr>\n",
       "    <tr>\n",
       "      <th>1010</th>\n",
       "      <td>2019-01-03</td>\n",
       "      <td>61.400002</td>\n",
       "      <td>60.071999</td>\n",
       "      <td>34826000</td>\n",
       "    </tr>\n",
       "    <tr>\n",
       "      <th>1011</th>\n",
       "      <td>2019-01-04</td>\n",
       "      <td>61.200001</td>\n",
       "      <td>63.537998</td>\n",
       "      <td>36970500</td>\n",
       "    </tr>\n",
       "    <tr>\n",
       "      <th>1012</th>\n",
       "      <td>2019-01-07</td>\n",
       "      <td>64.344002</td>\n",
       "      <td>66.991997</td>\n",
       "      <td>37756000</td>\n",
       "    </tr>\n",
       "  </tbody>\n",
       "</table>\n",
       "</div>"
      ],
      "text/plain": [
       "           Date       Open      Close    Volume\n",
       "1008 2018-12-31  67.557999  66.559998  31511500\n",
       "1009 2019-01-02  61.220001  62.023998  58293000\n",
       "1010 2019-01-03  61.400002  60.071999  34826000\n",
       "1011 2019-01-04  61.200001  63.537998  36970500\n",
       "1012 2019-01-07  64.344002  66.991997  37756000"
      ]
     },
     "execution_count": 21,
     "metadata": {},
     "output_type": "execute_result"
    }
   ],
   "source": [
    "tsla = no_context[no_context.Symbol == 'TSLA'].copy()\n",
    "del tsla['Symbol']\n",
    "tsla.head()"
   ]
  },
  {
   "cell_type": "markdown",
   "metadata": {},
   "source": [
    "In this case, we can simply omit the `entity_columns` argument when\n",
    "creating our PAR instance:"
   ]
  },
  {
   "cell_type": "code",
   "execution_count": 22,
   "metadata": {
    "attributes": {
     "classes": [
      ""
     ],
     "id": ""
    }
   },
   "outputs": [
    {
     "data": {
      "text/html": [
       "<div>\n",
       "<style scoped>\n",
       "    .dataframe tbody tr th:only-of-type {\n",
       "        vertical-align: middle;\n",
       "    }\n",
       "\n",
       "    .dataframe tbody tr th {\n",
       "        vertical-align: top;\n",
       "    }\n",
       "\n",
       "    .dataframe thead th {\n",
       "        text-align: right;\n",
       "    }\n",
       "</style>\n",
       "<table border=\"1\" class=\"dataframe\">\n",
       "  <thead>\n",
       "    <tr style=\"text-align: right;\">\n",
       "      <th></th>\n",
       "      <th>Date</th>\n",
       "      <th>Open</th>\n",
       "      <th>Close</th>\n",
       "      <th>Volume</th>\n",
       "    </tr>\n",
       "  </thead>\n",
       "  <tbody>\n",
       "    <tr>\n",
       "      <th>0</th>\n",
       "      <td>2018-12-31</td>\n",
       "      <td>58.323193</td>\n",
       "      <td>54.638159</td>\n",
       "      <td>14633613</td>\n",
       "    </tr>\n",
       "    <tr>\n",
       "      <th>1</th>\n",
       "      <td>2019-01-02</td>\n",
       "      <td>64.963547</td>\n",
       "      <td>54.638159</td>\n",
       "      <td>27377623</td>\n",
       "    </tr>\n",
       "    <tr>\n",
       "      <th>2</th>\n",
       "      <td>2019-01-02</td>\n",
       "      <td>66.218629</td>\n",
       "      <td>68.069365</td>\n",
       "      <td>36860547</td>\n",
       "    </tr>\n",
       "    <tr>\n",
       "      <th>3</th>\n",
       "      <td>2019-01-05</td>\n",
       "      <td>68.713604</td>\n",
       "      <td>70.431854</td>\n",
       "      <td>45715575</td>\n",
       "    </tr>\n",
       "    <tr>\n",
       "      <th>4</th>\n",
       "      <td>2019-01-06</td>\n",
       "      <td>68.018849</td>\n",
       "      <td>70.771949</td>\n",
       "      <td>-2642317</td>\n",
       "    </tr>\n",
       "    <tr>\n",
       "      <th>...</th>\n",
       "      <td>...</td>\n",
       "      <td>...</td>\n",
       "      <td>...</td>\n",
       "      <td>...</td>\n",
       "    </tr>\n",
       "    <tr>\n",
       "      <th>247</th>\n",
       "      <td>2020-01-05</td>\n",
       "      <td>53.544431</td>\n",
       "      <td>56.569719</td>\n",
       "      <td>70254877</td>\n",
       "    </tr>\n",
       "    <tr>\n",
       "      <th>248</th>\n",
       "      <td>2020-01-07</td>\n",
       "      <td>55.006984</td>\n",
       "      <td>51.746359</td>\n",
       "      <td>46508664</td>\n",
       "    </tr>\n",
       "    <tr>\n",
       "      <th>249</th>\n",
       "      <td>2020-01-08</td>\n",
       "      <td>54.552286</td>\n",
       "      <td>53.639119</td>\n",
       "      <td>17514409</td>\n",
       "    </tr>\n",
       "    <tr>\n",
       "      <th>250</th>\n",
       "      <td>2020-01-09</td>\n",
       "      <td>52.936391</td>\n",
       "      <td>51.917528</td>\n",
       "      <td>44074317</td>\n",
       "    </tr>\n",
       "    <tr>\n",
       "      <th>251</th>\n",
       "      <td>2020-01-10</td>\n",
       "      <td>52.907626</td>\n",
       "      <td>52.701343</td>\n",
       "      <td>34516618</td>\n",
       "    </tr>\n",
       "  </tbody>\n",
       "</table>\n",
       "<p>252 rows × 4 columns</p>\n",
       "</div>"
      ],
      "text/plain": [
       "          Date       Open      Close    Volume\n",
       "0   2018-12-31  58.323193  54.638159  14633613\n",
       "1   2019-01-02  64.963547  54.638159  27377623\n",
       "2   2019-01-02  66.218629  68.069365  36860547\n",
       "3   2019-01-05  68.713604  70.431854  45715575\n",
       "4   2019-01-06  68.018849  70.771949  -2642317\n",
       "..         ...        ...        ...       ...\n",
       "247 2020-01-05  53.544431  56.569719  70254877\n",
       "248 2020-01-07  55.006984  51.746359  46508664\n",
       "249 2020-01-08  54.552286  53.639119  17514409\n",
       "250 2020-01-09  52.936391  51.917528  44074317\n",
       "251 2020-01-10  52.907626  52.701343  34516618\n",
       "\n",
       "[252 rows x 4 columns]"
      ]
     },
     "execution_count": 22,
     "metadata": {},
     "output_type": "execute_result"
    }
   ],
   "source": [
    "model = PAR(\n",
    "    sequence_index=sequence_index,\n",
    ")\n",
    "model.fit(tsla)\n",
    "model.sample()"
   ]
  }
 ],
 "metadata": {
  "kernelspec": {
   "display_name": "Python 3",
   "language": "python",
   "name": "python3"
  },
  "language_info": {
   "codemirror_mode": {
    "name": "ipython",
    "version": 3
   },
   "file_extension": ".py",
   "mimetype": "text/x-python",
   "name": "python",
   "nbconvert_exporter": "python",
   "pygments_lexer": "ipython3",
   "version": "3.8.6"
  }
 },
 "nbformat": 4,
 "nbformat_minor": 4
}
