{
 "cells": [
  {
   "cell_type": "markdown",
   "metadata": {},
   "source": [
    "Relational Metadata\n",
    "===================\n",
    "\n",
    "In order to work with complex dataset structures you will need to pass\n",
    "additional information about you data to SDV using `Metadata`.\n",
    "\n",
    "Let\\'s go over an example to see how to use it.\n",
    "\n",
    "Load the demo data\n",
    "------------------\n",
    "\n",
    "In order to follow this tutorial you will need to load one of the demo\n",
    "datasets included in SDV by calling the `sdv.load_demo` function."
   ]
  },
  {
   "cell_type": "code",
   "execution_count": 1,
   "metadata": {
    "attributes": {
     "classes": [
      ""
     ],
     "id": ""
    }
   },
   "outputs": [],
   "source": [
    "from sdv import load_demo\n",
    "\n",
    "tables = load_demo()"
   ]
  },
  {
   "cell_type": "markdown",
   "metadata": {},
   "source": [
    "The output of this function will be a dict that contains several tables\n",
    "as `pandas.DataFarmes`."
   ]
  },
  {
   "cell_type": "code",
   "execution_count": 2,
   "metadata": {
    "attributes": {
     "classes": [
      ""
     ],
     "id": ""
    }
   },
   "outputs": [
    {
     "data": {
      "text/plain": [
       "{'users':    user_id country gender  age\n",
       " 0        0      US      M   34\n",
       " 1        1      UK      F   23\n",
       " 2        2      ES   None   44\n",
       " 3        3      UK      M   22\n",
       " 4        4      US      F   54\n",
       " 5        5      DE      M   57\n",
       " 6        6      BG      F   45\n",
       " 7        7      ES   None   41\n",
       " 8        8      FR      F   23\n",
       " 9        9      UK   None   30,\n",
       " 'sessions':    session_id  user_id  device       os\n",
       " 0           0        0  mobile  android\n",
       " 1           1        1  tablet      ios\n",
       " 2           2        1  tablet  android\n",
       " 3           3        2  mobile  android\n",
       " 4           4        4  mobile      ios\n",
       " 5           5        5  mobile  android\n",
       " 6           6        6  mobile      ios\n",
       " 7           7        6  tablet      ios\n",
       " 8           8        6  mobile      ios\n",
       " 9           9        8  tablet      ios,\n",
       " 'transactions':    transaction_id  session_id           timestamp  amount  approved\n",
       " 0               0           0 2019-01-01 12:34:32   100.0      True\n",
       " 1               1           0 2019-01-01 12:42:21    55.3      True\n",
       " 2               2           1 2019-01-07 17:23:11    79.5      True\n",
       " 3               3           3 2019-01-10 11:08:57   112.1     False\n",
       " 4               4           5 2019-01-10 21:54:08   110.0     False\n",
       " 5               5           5 2019-01-11 11:21:20    76.3      True\n",
       " 6               6           7 2019-01-22 14:44:10    89.5      True\n",
       " 7               7           8 2019-01-23 10:14:09   132.1     False\n",
       " 8               8           9 2019-01-27 16:09:17    68.0      True\n",
       " 9               9           9 2019-01-29 12:10:48    99.9      True}"
      ]
     },
     "execution_count": 2,
     "metadata": {},
     "output_type": "execute_result"
    }
   ],
   "source": [
    "tables"
   ]
  },
  {
   "cell_type": "markdown",
   "metadata": {},
   "source": [
    "You can observe that this dataset has the following structure:\n",
    "\n",
    "-   A `users` table with:\n",
    "    -   A `user_id` field with acts as the table primary key.\n",
    "    -   Two categorical fields, `country` and `gender`, and an integer\n",
    "        column `age`.\n",
    "-   A `sessions` table with:\n",
    "    -   A `session_id` field with acts as the table primary key.\n",
    "    -   A `user_id` field which is a foreign key to the `users` table\n",
    "        and defines a One-to-Many relationship with it (one `user` can\n",
    "        have many `sessions`).\n",
    "    -   Two categorical fields `device` and `os`.\n",
    "-   A `transactions` table with:\n",
    "    -   A `transaction_id` field with acts as the table primary key.\n",
    "    -   A `session_id` field which is a foreign key to the `sessions`\n",
    "        table and defines a One-to-Many relationship with it (one `user`\n",
    "        can make many `transactions` within a single `session`).\n",
    "    -   A datetime field, `timestamp`.\n",
    "    -   A float field, `amount`.\n",
    "    -   A boolean field, `approved`.\n",
    "\n",
    "Let us now see how to build a `Metadata` object that represents this\n",
    "dataset.\n",
    "\n",
    "The Metadata class\n",
    "------------------\n",
    "\n",
    "In SDV, the structure of a dataset is represented using the class\n",
    "`sdv.Metadata`, which contains all the information that SDV needs in\n",
    "order to optimally learn the dataset and generate synthetic versions of\n",
    "it.\n",
    "\n",
    "In order to create a `Metadata` for our dataset, you will first need to\n",
    "import the class and create an empty instance:"
   ]
  },
  {
   "cell_type": "code",
   "execution_count": 3,
   "metadata": {
    "attributes": {
     "classes": [
      ""
     ],
     "id": ""
    }
   },
   "outputs": [
    {
     "data": {
      "text/plain": [
       "Metadata\n",
       "  root_path: .\n",
       "  tables: []\n",
       "  relationships:"
      ]
     },
     "execution_count": 3,
     "metadata": {},
     "output_type": "execute_result"
    }
   ],
   "source": [
    "from sdv import Metadata\n",
    "\n",
    "metadata = Metadata()\n",
    "metadata"
   ]
  },
  {
   "cell_type": "markdown",
   "metadata": {},
   "source": [
    "Add a Table\n",
    "-----------\n",
    "\n",
    "Once you have your `Metadata` instance ready you can start adding\n",
    "tables.\n",
    "\n",
    "In this example, you will add the table `users`, which is the parent\n",
    "table of your dataset, indicating which is its Primary Key field,\n",
    "`user_id`.\n",
    "\n",
    "Note that indicating the Primary Key is optional and can be skipped if\n",
    "your table has none, but if a table does not have one, you will not be\n",
    "able to add any child tables to it."
   ]
  },
  {
   "cell_type": "code",
   "execution_count": 4,
   "metadata": {
    "attributes": {
     "classes": [
      ""
     ],
     "id": ""
    }
   },
   "outputs": [],
   "source": [
    "metadata.add_table(\n",
    "    name='users',\n",
    "    data=tables['users'],\n",
    "    primary_key='user_id'\n",
    ")"
   ]
  },
  {
   "cell_type": "markdown",
   "metadata": {},
   "source": [
    "At this point, our metadata only contains one table and, of course, no\n",
    "relationships:"
   ]
  },
  {
   "cell_type": "code",
   "execution_count": 5,
   "metadata": {
    "attributes": {
     "classes": [
      ""
     ],
     "id": ""
    }
   },
   "outputs": [
    {
     "data": {
      "text/plain": [
       "Metadata\n",
       "  root_path: .\n",
       "  tables: ['users']\n",
       "  relationships:"
      ]
     },
     "execution_count": 5,
     "metadata": {},
     "output_type": "execute_result"
    }
   ],
   "source": [
    "metadata"
   ]
  },
  {
   "cell_type": "markdown",
   "metadata": {},
   "source": [
    "However, the `Metadata` instance will have already analyze all the\n",
    "columns in the passed table and identified the different data types and\n",
    "subtypes, and will properly indicate that the `user_id` column is the\n",
    "table primary key.\n",
    "\n",
    "You can see so by calling the `visualize` method of your `metadata`\n",
    "instance:"
   ]
  },
  {
   "cell_type": "code",
   "execution_count": 6,
   "metadata": {
    "attributes": {
     "classes": [
      ""
     ],
     "id": ""
    }
   },
   "outputs": [
    {
     "data": {
      "image/svg+xml": [
       "<?xml version=\"1.0\" encoding=\"UTF-8\" standalone=\"no\"?>\n",
       "<!DOCTYPE svg PUBLIC \"-//W3C//DTD SVG 1.1//EN\"\n",
       " \"http://www.w3.org/Graphics/SVG/1.1/DTD/svg11.dtd\">\n",
       "<!-- Generated by graphviz version 2.40.1 (20161225.0304)\n",
       " -->\n",
       "<!-- Title: Metadata Pages: 1 -->\n",
       "<svg width=\"159pt\" height=\"123pt\"\n",
       " viewBox=\"0.00 0.00 159.00 123.00\" xmlns=\"http://www.w3.org/2000/svg\" xmlns:xlink=\"http://www.w3.org/1999/xlink\">\n",
       "<g id=\"graph0\" class=\"graph\" transform=\"scale(1 1) rotate(0) translate(4 119)\">\n",
       "<title>Metadata</title>\n",
       "<polygon fill=\"#ffffff\" stroke=\"transparent\" points=\"-4,4 -4,-119 155,-119 155,4 -4,4\"/>\n",
       "<!-- users -->\n",
       "<g id=\"node1\" class=\"node\">\n",
       "<title>users</title>\n",
       "<path fill=\"#ffec8b\" stroke=\"#000000\" d=\"M12,-.5C12,-.5 139,-.5 139,-.5 145,-.5 151,-6.5 151,-12.5 151,-12.5 151,-102.5 151,-102.5 151,-108.5 145,-114.5 139,-114.5 139,-114.5 12,-114.5 12,-114.5 6,-114.5 0,-108.5 0,-102.5 0,-102.5 0,-12.5 0,-12.5 0,-6.5 6,-.5 12,-.5\"/>\n",
       "<text text-anchor=\"middle\" x=\"75.5\" y=\"-99.3\" font-family=\"Times,serif\" font-size=\"14.00\" fill=\"#000000\">users</text>\n",
       "<polyline fill=\"none\" stroke=\"#000000\" points=\"0,-91.5 151,-91.5 \"/>\n",
       "<text text-anchor=\"start\" x=\"8\" y=\"-76.3\" font-family=\"Times,serif\" font-size=\"14.00\" fill=\"#000000\">country : categorical</text>\n",
       "<text text-anchor=\"start\" x=\"8\" y=\"-61.3\" font-family=\"Times,serif\" font-size=\"14.00\" fill=\"#000000\">gender : categorical</text>\n",
       "<text text-anchor=\"start\" x=\"8\" y=\"-46.3\" font-family=\"Times,serif\" font-size=\"14.00\" fill=\"#000000\">age : numerical &#45; integer</text>\n",
       "<text text-anchor=\"start\" x=\"8\" y=\"-31.3\" font-family=\"Times,serif\" font-size=\"14.00\" fill=\"#000000\">user_id : id &#45; integer</text>\n",
       "<polyline fill=\"none\" stroke=\"#000000\" points=\"0,-23.5 151,-23.5 \"/>\n",
       "<text text-anchor=\"start\" x=\"8\" y=\"-8.3\" font-family=\"Times,serif\" font-size=\"14.00\" fill=\"#000000\">Primary key: user_id</text>\n",
       "</g>\n",
       "</g>\n",
       "</svg>\n"
      ],
      "text/plain": [
       "<graphviz.dot.Digraph at 0x7f091ffdf850>"
      ]
     },
     "execution_count": 6,
     "metadata": {},
     "output_type": "execute_result"
    }
   ],
   "source": [
    "metadata.visualize()"
   ]
  },
  {
   "cell_type": "markdown",
   "metadata": {},
   "source": [
    "Or you can obtain this information in a machine-readable format by\n",
    "calling the `get_table_meta` method:"
   ]
  },
  {
   "cell_type": "code",
   "execution_count": 7,
   "metadata": {
    "attributes": {
     "classes": [
      ""
     ],
     "id": ""
    }
   },
   "outputs": [
    {
     "data": {
      "text/plain": [
       "{'fields': {'country': {'type': 'categorical'},\n",
       "  'gender': {'type': 'categorical'},\n",
       "  'age': {'type': 'numerical', 'subtype': 'integer'},\n",
       "  'user_id': {'type': 'id', 'subtype': 'integer'}},\n",
       " 'primary_key': 'user_id'}"
      ]
     },
     "execution_count": 7,
     "metadata": {},
     "output_type": "execute_result"
    }
   ],
   "source": [
    "metadata.get_table_meta('users')"
   ]
  },
  {
   "cell_type": "markdown",
   "metadata": {},
   "source": [
    "Add a Child Table\n",
    "-----------------\n",
    "\n",
    "Now that you have one parent table, you will add its child table\n",
    "`sessions`, which is related to the `users` table in a parent-child\n",
    "relationship where each `user` can have multiple `sessions`, and each\n",
    "`session` belongs to one and only one `user`.\n",
    "\n",
    "In order to specify this, while creating the `sessions` table you have\n",
    "to indicate the name of the parent table, `users`, and the field from\n",
    "the `sessions` table that acts as the foreign key, which in this case is\n",
    "called `user_id`.\n",
    "\n",
    "With this, apart from analyzing all the columns and indicating the\n",
    "primary key like in the previous step, the `Metadata` instance will\n",
    "specify a relationship between the two tables by adding a property to\n",
    "the `user_id` field that indicates that it is related to the `user_id`\n",
    "field in the `users` table."
   ]
  },
  {
   "cell_type": "code",
   "execution_count": 8,
   "metadata": {
    "attributes": {
     "classes": [
      ""
     ],
     "id": ""
    }
   },
   "outputs": [],
   "source": [
    "metadata.add_table(\n",
    "    name='sessions',\n",
    "    data=tables['sessions'],\n",
    "    primary_key='session_id',\n",
    "    parent='users',\n",
    "    foreign_key='user_id'\n",
    ")"
   ]
  },
  {
   "cell_type": "markdown",
   "metadata": {},
   "source": [
    "Now we can see how the table and the relationship have been registered:"
   ]
  },
  {
   "cell_type": "code",
   "execution_count": 9,
   "metadata": {
    "attributes": {
     "classes": [
      ""
     ],
     "id": ""
    }
   },
   "outputs": [
    {
     "data": {
      "text/plain": [
       "Metadata\n",
       "  root_path: .\n",
       "  tables: ['users', 'sessions']\n",
       "  relationships:\n",
       "    sessions.user_id -> users.user_id"
      ]
     },
     "execution_count": 9,
     "metadata": {},
     "output_type": "execute_result"
    }
   ],
   "source": [
    "metadata"
   ]
  },
  {
   "cell_type": "markdown",
   "metadata": {},
   "source": [
    "### Add a table specifying field properties\n",
    "\n",
    "There are situations where the `Metadata` analysis is not able to figure\n",
    "out some data types or subtypes, or to deduce some properties of the\n",
    "field such as the datetime format.\n",
    "\n",
    "In these situations, you can pass a dictionary with the exact metadata\n",
    "of those fields, which will overwrite the deductions from the analysis\n",
    "process.\n",
    "\n",
    "In this next example, you will be adding a `transactions` table, which\n",
    "is related to the previous `sessions` table, and contains a `datetime`\n",
    "field which needs to have the datetime format specified."
   ]
  },
  {
   "cell_type": "code",
   "execution_count": 10,
   "metadata": {
    "attributes": {
     "classes": [
      ""
     ],
     "id": ""
    }
   },
   "outputs": [],
   "source": [
    "transactions_fields = {\n",
    "    'timestamp': {\n",
    "        'type': 'datetime',\n",
    "        'format': '%Y-%m-%d'\n",
    "    }\n",
    "}\n",
    "\n",
    "metadata.add_table(\n",
    "    name='transactions',\n",
    "    data=tables['transactions'],\n",
    "    fields_metadata=transactions_fields,\n",
    "    primary_key='transaction_id',\n",
    "    parent='sessions'\n",
    ")"
   ]
  },
  {
   "cell_type": "markdown",
   "metadata": {},
   "source": [
    "Let\\'s see what our Metadata looks like right now:"
   ]
  },
  {
   "cell_type": "code",
   "execution_count": 11,
   "metadata": {
    "attributes": {
     "classes": [
      ""
     ],
     "id": ""
    }
   },
   "outputs": [
    {
     "data": {
      "text/plain": [
       "{'tables': {'users': {'fields': {'country': {'type': 'categorical'},\n",
       "    'gender': {'type': 'categorical'},\n",
       "    'age': {'type': 'numerical', 'subtype': 'integer'},\n",
       "    'user_id': {'type': 'id', 'subtype': 'integer'}},\n",
       "   'primary_key': 'user_id'},\n",
       "  'sessions': {'fields': {'device': {'type': 'categorical'},\n",
       "    'session_id': {'type': 'id', 'subtype': 'integer'},\n",
       "    'os': {'type': 'categorical'},\n",
       "    'user_id': {'type': 'id',\n",
       "     'subtype': 'integer',\n",
       "     'ref': {'table': 'users', 'field': 'user_id'}}},\n",
       "   'primary_key': 'session_id'},\n",
       "  'transactions': {'fields': {'timestamp': {'type': 'datetime',\n",
       "     'format': '%Y-%m-%d'},\n",
       "    'session_id': {'type': 'id',\n",
       "     'subtype': 'integer',\n",
       "     'ref': {'table': 'sessions', 'field': 'session_id'}},\n",
       "    'approved': {'type': 'boolean'},\n",
       "    'amount': {'type': 'numerical', 'subtype': 'float'},\n",
       "    'transaction_id': {'type': 'id', 'subtype': 'integer'}},\n",
       "   'primary_key': 'transaction_id'}}}"
      ]
     },
     "execution_count": 11,
     "metadata": {},
     "output_type": "execute_result"
    }
   ],
   "source": [
    "metadata\n",
    "metadata.to_dict()"
   ]
  },
  {
   "cell_type": "code",
   "execution_count": 12,
   "metadata": {
    "attributes": {
     "classes": [
      ""
     ],
     "id": ""
    }
   },
   "outputs": [
    {
     "data": {
      "image/svg+xml": [
       "<?xml version=\"1.0\" encoding=\"UTF-8\" standalone=\"no\"?>\n",
       "<!DOCTYPE svg PUBLIC \"-//W3C//DTD SVG 1.1//EN\"\n",
       " \"http://www.w3.org/Graphics/SVG/1.1/DTD/svg11.dtd\">\n",
       "<!-- Generated by graphviz version 2.40.1 (20161225.0304)\n",
       " -->\n",
       "<!-- Title: Metadata Pages: 1 -->\n",
       "<svg width=\"371pt\" height=\"500pt\"\n",
       " viewBox=\"0.00 0.00 370.50 500.00\" xmlns=\"http://www.w3.org/2000/svg\" xmlns:xlink=\"http://www.w3.org/1999/xlink\">\n",
       "<g id=\"graph0\" class=\"graph\" transform=\"scale(1 1) rotate(0) translate(4 496)\">\n",
       "<title>Metadata</title>\n",
       "<polygon fill=\"#ffffff\" stroke=\"transparent\" points=\"-4,4 -4,-496 366.5,-496 366.5,4 -4,4\"/>\n",
       "<!-- users -->\n",
       "<g id=\"node1\" class=\"node\">\n",
       "<title>users</title>\n",
       "<path fill=\"#ffec8b\" stroke=\"#000000\" d=\"M38,-377.5C38,-377.5 165,-377.5 165,-377.5 171,-377.5 177,-383.5 177,-389.5 177,-389.5 177,-479.5 177,-479.5 177,-485.5 171,-491.5 165,-491.5 165,-491.5 38,-491.5 38,-491.5 32,-491.5 26,-485.5 26,-479.5 26,-479.5 26,-389.5 26,-389.5 26,-383.5 32,-377.5 38,-377.5\"/>\n",
       "<text text-anchor=\"middle\" x=\"101.5\" y=\"-476.3\" font-family=\"Times,serif\" font-size=\"14.00\" fill=\"#000000\">users</text>\n",
       "<polyline fill=\"none\" stroke=\"#000000\" points=\"26,-468.5 177,-468.5 \"/>\n",
       "<text text-anchor=\"start\" x=\"34\" y=\"-453.3\" font-family=\"Times,serif\" font-size=\"14.00\" fill=\"#000000\">country : categorical</text>\n",
       "<text text-anchor=\"start\" x=\"34\" y=\"-438.3\" font-family=\"Times,serif\" font-size=\"14.00\" fill=\"#000000\">gender : categorical</text>\n",
       "<text text-anchor=\"start\" x=\"34\" y=\"-423.3\" font-family=\"Times,serif\" font-size=\"14.00\" fill=\"#000000\">age : numerical &#45; integer</text>\n",
       "<text text-anchor=\"start\" x=\"34\" y=\"-408.3\" font-family=\"Times,serif\" font-size=\"14.00\" fill=\"#000000\">user_id : id &#45; integer</text>\n",
       "<polyline fill=\"none\" stroke=\"#000000\" points=\"26,-400.5 177,-400.5 \"/>\n",
       "<text text-anchor=\"start\" x=\"34\" y=\"-385.3\" font-family=\"Times,serif\" font-size=\"14.00\" fill=\"#000000\">Primary key: user_id</text>\n",
       "</g>\n",
       "<!-- sessions -->\n",
       "<g id=\"node2\" class=\"node\">\n",
       "<title>sessions</title>\n",
       "<path fill=\"#ffec8b\" stroke=\"#000000\" d=\"M28.5,-196.5C28.5,-196.5 174.5,-196.5 174.5,-196.5 180.5,-196.5 186.5,-202.5 186.5,-208.5 186.5,-208.5 186.5,-313.5 186.5,-313.5 186.5,-319.5 180.5,-325.5 174.5,-325.5 174.5,-325.5 28.5,-325.5 28.5,-325.5 22.5,-325.5 16.5,-319.5 16.5,-313.5 16.5,-313.5 16.5,-208.5 16.5,-208.5 16.5,-202.5 22.5,-196.5 28.5,-196.5\"/>\n",
       "<text text-anchor=\"middle\" x=\"101.5\" y=\"-310.3\" font-family=\"Times,serif\" font-size=\"14.00\" fill=\"#000000\">sessions</text>\n",
       "<polyline fill=\"none\" stroke=\"#000000\" points=\"16.5,-302.5 186.5,-302.5 \"/>\n",
       "<text text-anchor=\"start\" x=\"24.5\" y=\"-287.3\" font-family=\"Times,serif\" font-size=\"14.00\" fill=\"#000000\">device : categorical</text>\n",
       "<text text-anchor=\"start\" x=\"24.5\" y=\"-272.3\" font-family=\"Times,serif\" font-size=\"14.00\" fill=\"#000000\">session_id : id &#45; integer</text>\n",
       "<text text-anchor=\"start\" x=\"24.5\" y=\"-257.3\" font-family=\"Times,serif\" font-size=\"14.00\" fill=\"#000000\">os : categorical</text>\n",
       "<text text-anchor=\"start\" x=\"24.5\" y=\"-242.3\" font-family=\"Times,serif\" font-size=\"14.00\" fill=\"#000000\">user_id : id &#45; integer</text>\n",
       "<polyline fill=\"none\" stroke=\"#000000\" points=\"16.5,-234.5 186.5,-234.5 \"/>\n",
       "<text text-anchor=\"start\" x=\"24.5\" y=\"-219.3\" font-family=\"Times,serif\" font-size=\"14.00\" fill=\"#000000\">Primary key: session_id</text>\n",
       "<text text-anchor=\"start\" x=\"24.5\" y=\"-204.3\" font-family=\"Times,serif\" font-size=\"14.00\" fill=\"#000000\">Foreign key (users): user_id</text>\n",
       "</g>\n",
       "<!-- users&#45;&gt;sessions -->\n",
       "<g id=\"edge1\" class=\"edge\">\n",
       "<title>users&#45;&gt;sessions</title>\n",
       "<path fill=\"none\" stroke=\"#000000\" d=\"M101.5,-377.2088C101.5,-363.9446 101.5,-349.6377 101.5,-335.7493\"/>\n",
       "<polygon fill=\"none\" stroke=\"#000000\" points=\"105,-325.7312 101.5001,-335.7312 98,-325.7313 105,-325.7312\"/>\n",
       "<text text-anchor=\"middle\" x=\"197\" y=\"-347.8\" font-family=\"Times,serif\" font-size=\"14.00\" fill=\"#000000\"> &#160;&#160;sessions.user_id &#45;&gt; users.user_id</text>\n",
       "</g>\n",
       "<!-- transactions -->\n",
       "<g id=\"node3\" class=\"node\">\n",
       "<title>transactions</title>\n",
       "<path fill=\"#ffec8b\" stroke=\"#000000\" d=\"M12,-.5C12,-.5 191,-.5 191,-.5 197,-.5 203,-6.5 203,-12.5 203,-12.5 203,-132.5 203,-132.5 203,-138.5 197,-144.5 191,-144.5 191,-144.5 12,-144.5 12,-144.5 6,-144.5 0,-138.5 0,-132.5 0,-132.5 0,-12.5 0,-12.5 0,-6.5 6,-.5 12,-.5\"/>\n",
       "<text text-anchor=\"middle\" x=\"101.5\" y=\"-129.3\" font-family=\"Times,serif\" font-size=\"14.00\" fill=\"#000000\">transactions</text>\n",
       "<polyline fill=\"none\" stroke=\"#000000\" points=\"0,-121.5 203,-121.5 \"/>\n",
       "<text text-anchor=\"start\" x=\"8\" y=\"-106.3\" font-family=\"Times,serif\" font-size=\"14.00\" fill=\"#000000\">timestamp : datetime</text>\n",
       "<text text-anchor=\"start\" x=\"8\" y=\"-91.3\" font-family=\"Times,serif\" font-size=\"14.00\" fill=\"#000000\">session_id : id &#45; integer</text>\n",
       "<text text-anchor=\"start\" x=\"8\" y=\"-76.3\" font-family=\"Times,serif\" font-size=\"14.00\" fill=\"#000000\">approved : boolean</text>\n",
       "<text text-anchor=\"start\" x=\"8\" y=\"-61.3\" font-family=\"Times,serif\" font-size=\"14.00\" fill=\"#000000\">amount : numerical &#45; float</text>\n",
       "<text text-anchor=\"start\" x=\"8\" y=\"-46.3\" font-family=\"Times,serif\" font-size=\"14.00\" fill=\"#000000\">transaction_id : id &#45; integer</text>\n",
       "<polyline fill=\"none\" stroke=\"#000000\" points=\"0,-38.5 203,-38.5 \"/>\n",
       "<text text-anchor=\"start\" x=\"8\" y=\"-23.3\" font-family=\"Times,serif\" font-size=\"14.00\" fill=\"#000000\">Primary key: transaction_id</text>\n",
       "<text text-anchor=\"start\" x=\"8\" y=\"-8.3\" font-family=\"Times,serif\" font-size=\"14.00\" fill=\"#000000\">Foreign key (sessions): session_id</text>\n",
       "</g>\n",
       "<!-- sessions&#45;&gt;transactions -->\n",
       "<g id=\"edge2\" class=\"edge\">\n",
       "<title>sessions&#45;&gt;transactions</title>\n",
       "<path fill=\"none\" stroke=\"#000000\" d=\"M101.5,-196.3927C101.5,-183.0141 101.5,-168.7483 101.5,-154.8345\"/>\n",
       "<polygon fill=\"none\" stroke=\"#000000\" points=\"105,-144.7831 101.5001,-154.7831 98,-144.7831 105,-144.7831\"/>\n",
       "<text text-anchor=\"middle\" x=\"232\" y=\"-166.8\" font-family=\"Times,serif\" font-size=\"14.00\" fill=\"#000000\"> &#160;&#160;transactions.session_id &#45;&gt; sessions.session_id</text>\n",
       "</g>\n",
       "</g>\n",
       "</svg>\n"
      ],
      "text/plain": [
       "<graphviz.dot.Digraph at 0x7f096fdad700>"
      ]
     },
     "execution_count": 12,
     "metadata": {},
     "output_type": "execute_result"
    }
   ],
   "source": [
    "metadata.visualize()"
   ]
  },
  {
   "cell_type": "markdown",
   "metadata": {},
   "source": [
    "Metadata JSON format\n",
    "--------------------\n",
    "\n",
    "The `Metadata` objects can also be saved as a JSON file and later on\n",
    "loaded from them.\n",
    "\n",
    "In order to save the current `metadata` as a JSON file, all you need to\n",
    "do is call the `to_json` method passing the path to the JSON file that\n",
    "you want to create."
   ]
  },
  {
   "cell_type": "code",
   "execution_count": 13,
   "metadata": {
    "attributes": {
     "classes": [
      ""
     ],
     "id": ""
    }
   },
   "outputs": [],
   "source": [
    "metadata.to_json('demo_metadata.json')"
   ]
  },
  {
   "cell_type": "markdown",
   "metadata": {},
   "source": [
    "You can see that the contents of the created file are very similar to\n",
    "the `dict` representation of the metadata:"
   ]
  },
  {
   "cell_type": "code",
   "execution_count": 14,
   "metadata": {
    "attributes": {
     "classes": [
      ""
     ],
     "id": ""
    }
   },
   "outputs": [
    {
     "name": "stdout",
     "output_type": "stream",
     "text": [
      "{\n",
      "    \"tables\": {\n",
      "        \"users\": {\n",
      "            \"fields\": {\n",
      "                \"country\": {\n",
      "                    \"type\": \"categorical\"\n",
      "                },\n",
      "                \"gender\": {\n",
      "                    \"type\": \"categorical\"\n",
      "                },\n",
      "                \"age\": {\n",
      "                    \"type\": \"numerical\",\n",
      "                    \"subtype\": \"integer\"\n",
      "                },\n",
      "                \"user_id\": {\n",
      "                    \"type\": \"id\",\n",
      "                    \"subtype\": \"integer\"\n",
      "                }\n",
      "            },\n",
      "            \"primary_key\": \"user_id\"\n",
      "        },\n",
      "        \"sessions\": {\n",
      "            \"fields\": {\n",
      "                \"device\": {\n",
      "                    \"type\": \"categorical\"\n",
      "                },\n",
      "                \"session_id\": {\n",
      "                    \"type\": \"id\",\n",
      "                    \"subtype\": \"integer\"\n",
      "                },\n",
      "                \"os\": {\n",
      "                    \"type\": \"categorical\"\n",
      "                },\n",
      "                \"user_id\": {\n",
      "                    \"type\": \"id\",\n",
      "                    \"subtype\": \"integer\",\n",
      "                    \"ref\": {\n",
      "                        \"table\": \"users\",\n",
      "                        \"field\": \"user_id\"\n",
      "                    }\n",
      "                }\n",
      "            },\n",
      "            \"primary_key\": \"session_id\"\n",
      "        },\n",
      "        \"transactions\": {\n",
      "            \"fields\": {\n",
      "                \"timestamp\": {\n",
      "                    \"type\": \"datetime\",\n",
      "                    \"format\": \"%Y-%m-%d\"\n",
      "                },\n",
      "                \"session_id\": {\n",
      "                    \"type\": \"id\",\n",
      "                    \"subtype\": \"integer\",\n",
      "                    \"ref\": {\n",
      "                        \"table\": \"sessions\",\n",
      "                        \"field\": \"session_id\"\n",
      "                    }\n",
      "                },\n",
      "                \"approved\": {\n",
      "                    \"type\": \"boolean\"\n",
      "                },\n",
      "                \"amount\": {\n",
      "                    \"type\": \"numerical\",\n",
      "                    \"subtype\": \"float\"\n",
      "                },\n",
      "                \"transaction_id\": {\n",
      "                    \"type\": \"id\",\n",
      "                    \"subtype\": \"integer\"\n",
      "                }\n",
      "            },\n",
      "            \"primary_key\": \"transaction_id\"\n",
      "        }\n",
      "    }\n",
      "}\n"
     ]
    }
   ],
   "source": [
    "with open('demo_metadata.json') as meta_file:\n",
    "    print(meta_file.read())"
   ]
  },
  {
   "cell_type": "markdown",
   "metadata": {},
   "source": [
    "After creating the JSON file, loading it back as a `metadata` object is\n",
    "as simple as passing it to the `Metadata` constructor:"
   ]
  },
  {
   "cell_type": "code",
   "execution_count": 15,
   "metadata": {
    "attributes": {
     "classes": [
      ""
     ],
     "id": ""
    }
   },
   "outputs": [
    {
     "data": {
      "text/plain": [
       "Metadata\n",
       "  root_path: \n",
       "  tables: ['users', 'sessions', 'transactions']\n",
       "  relationships:\n",
       "    sessions.user_id -> users.user_id\n",
       "    transactions.session_id -> sessions.session_id"
      ]
     },
     "execution_count": 15,
     "metadata": {},
     "output_type": "execute_result"
    }
   ],
   "source": [
    "loaded = Metadata('demo_metadata.json')\n",
    "loaded"
   ]
  }
 ],
 "metadata": {
  "kernelspec": {
   "display_name": "Python 3",
   "language": "python",
   "name": "python3"
  },
  "language_info": {
   "codemirror_mode": {
    "name": "ipython",
    "version": 3
   },
   "file_extension": ".py",
   "mimetype": "text/x-python",
   "name": "python",
   "nbconvert_exporter": "python",
   "pygments_lexer": "ipython3",
   "version": "3.8.6"
  }
 },
 "nbformat": 4,
 "nbformat_minor": 4
}
